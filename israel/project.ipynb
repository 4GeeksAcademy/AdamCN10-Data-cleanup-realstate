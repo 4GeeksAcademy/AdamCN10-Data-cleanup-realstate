{
 "cells": [
  {
   "attachments": {},
   "cell_type": "markdown",
   "id": "c4e52ee5",
   "metadata": {},
   "source": [
    "## The dataset\n",
    "\n",
    "This is a real dataset and it was downloaded using web scraping techniques. The data contains registers from fotocasa which is one of the most popular websites of real estate in Spain. Please, do not do this (web scraping) unless it is for academic purposes.\n",
    "\n",
    "The dataset was downloaded a few years ago by Henry Navarro and In no case were economic returns obtained from it.\n",
    "\n",
    "It contains thousands of data from real homes published on the web www.fotocasa.com. Your goal is to extract as much information as possible with the knowledge you have so far about data science, for example what is the most expensive home in the entire dataset?\n",
    "\n",
    "Let's start with precisely that question... Good luck!\n"
   ]
  },
  {
   "attachments": {},
   "cell_type": "markdown",
   "id": "dd97255d",
   "metadata": {},
   "source": [
    "#### Read the dataset assets/real_estate.csv and try to visualize the table (★☆☆)"
   ]
  },
  {
   "cell_type": "code",
   "execution_count": 4,
   "id": "4b93d9c8",
   "metadata": {},
   "outputs": [],
   "source": [
    "import pandas as pd\n",
    "import matplotlib.pyplot as plt\n",
    "import numpy as np\n",
    "# this CSV file contains semicolons instead of comas as separator\n",
    "ds = pd.read_csv('/workspaces/realestate-datacleanup-exercise-ds-2023/assets/real_estate.csv', sep=';')\n"
   ]
  },
  {
   "attachments": {},
   "cell_type": "markdown",
   "id": "40631cd6",
   "metadata": {},
   "source": [
    "#### What is the most expensive home in the dataset? (★☆☆)"
   ]
  },
  {
   "cell_type": "code",
   "execution_count": 6,
   "id": "8a758bcf",
   "metadata": {},
   "outputs": [
    {
     "name": "stdout",
     "output_type": "stream",
     "text": [
      "The house located at El Escorial is the most expensive, with a cost of 8,500,000.\n"
     ]
    }
   ],
   "source": [
    "# print the max price value\n",
    "highest_price = ds.loc[ds['price'].idxmax()]\n",
    "address = highest_price['address']\n",
    "price = f'{highest_price[\"price\"]:,}'\n",
    "\n",
    "print(f'The house located at {address} is the most expensive, with a cost of {price}.')"
   ]
  },
  {
   "attachments": {},
   "cell_type": "markdown",
   "id": "0a708990",
   "metadata": {},
   "source": [
    "#### What is cheapest home in the dataset? (★☆☆)"
   ]
  },
  {
   "cell_type": "code",
   "execution_count": 8,
   "id": "477e01f4",
   "metadata": {},
   "outputs": [
    {
     "name": "stdout",
     "output_type": "stream",
     "text": [
      "The house located at Berlin, Coslada is the least expensive, with a cost of 600.\n"
     ]
    }
   ],
   "source": [
    "# disregarding values of \"0\" as possibly anomalous \n",
    "filtered_ds = ds.query('price != 0')\n",
    "cheapest_home = filtered_ds.loc[filtered_ds['price'].idxmin()]\n",
    "address = cheapest_home['address']\n",
    "lowest_price = f'{cheapest_home[\"price\"]:,}'\n",
    "\n",
    "print(f'The house located at {address} is the least expensive, with a cost of {lowest_price}.')"
   ]
  },
  {
   "attachments": {},
   "cell_type": "markdown",
   "id": "0b16cd77",
   "metadata": {},
   "source": [
    "#### What is the biggest and the smallest home in the dataset? (★☆☆)"
   ]
  },
  {
   "cell_type": "code",
   "execution_count": 11,
   "id": "4d9b5975",
   "metadata": {},
   "outputs": [
    {
     "name": "stdout",
     "output_type": "stream",
     "text": [
      "The house located at Sevilla la Nueva is the largest home, with a size of 249,000.0 sq meters.\n",
      "The house located at Calle Amparo,  Madrid Capital is the smallest home, with a size of 15.0 sq meters.\n"
     ]
    }
   ],
   "source": [
    "# print the largest and smallest value in the surface area column\n",
    "\n",
    "largest_home = ds.loc[ds['surface'].idxmax()]\n",
    "address_max = largest_home['address']\n",
    "smallest_home = ds.loc[ds['surface'].idxmin()]\n",
    "address_min = smallest_home['address']\n",
    "\n",
    "print(f'The house located at {address_max} is the largest home, with a size of 'f'{largest_home[\"surface\"]:,} sq meters.')\n",
    "print(f'The house located at {address_min} is the smallest home, with a size of 'f'{smallest_home[\"surface\"]:,} sq meters.')\n"
   ]
  },
  {
   "attachments": {},
   "cell_type": "markdown",
   "id": "782d4c77",
   "metadata": {},
   "source": [
    "#### How many populations (level5) the dataset contains? (★☆☆)"
   ]
  },
  {
   "cell_type": "code",
   "execution_count": 23,
   "id": "5dbe1a08",
   "metadata": {},
   "outputs": [
    {
     "name": "stdout",
     "output_type": "stream",
     "text": [
      "There are 168 different populatons in this dataset.\n"
     ]
    }
   ],
   "source": [
    "# print the number of values in the \"level5\" column\n",
    "\n",
    "pop_occurance = len(pd.unique(ds['level5']))\n",
    "\n",
    "print(f'There are {pop_occurance} different populations in this dataset.')\n"
   ]
  },
  {
   "attachments": {},
   "cell_type": "markdown",
   "id": "48d48f01",
   "metadata": {},
   "source": [
    "#### Does the dataset contain NAs? (★☆☆)\n"
   ]
  },
  {
   "cell_type": "code",
   "execution_count": 27,
   "id": "3ed233e7",
   "metadata": {},
   "outputs": [
    {
     "name": "stdout",
     "output_type": "stream",
     "text": [
      "Unnamed: 0              0\n",
      "id_realEstates          0\n",
      "isNew                   0\n",
      "realEstate_name        10\n",
      "phone_realEstate      794\n",
      "url_inmueble            0\n",
      "rooms                 353\n",
      "bathrooms             345\n",
      "surface              1250\n",
      "price                   0\n",
      "date                    0\n",
      "description           142\n",
      "address                 0\n",
      "country                 0\n",
      "level1                  0\n",
      "level2                  0\n",
      "level3                  0\n",
      "level4               6643\n",
      "level5                  0\n",
      "level6              14627\n",
      "level7               2277\n",
      "level8               8579\n",
      "upperLevel              0\n",
      "countryId               0\n",
      "level1Id                0\n",
      "level2Id                0\n",
      "level3Id                0\n",
      "level4Id                0\n",
      "level5Id                0\n",
      "level6Id                0\n",
      "level7Id                0\n",
      "level8Id                0\n",
      "accuracy                0\n",
      "latitude                0\n",
      "longitude               0\n",
      "zipCode             15335\n",
      "customZone          15335\n",
      "dtype: int64\n"
     ]
    }
   ],
   "source": [
    "# show that there are NaN values in the data set\n",
    "print(ds.isna().sum())"
   ]
  },
  {
   "attachments": {},
   "cell_type": "markdown",
   "id": "4fa39382",
   "metadata": {},
   "source": [
    "#### Delete the NAs of the dataset, if applicable (★★☆)"
   ]
  },
  {
   "cell_type": "code",
   "execution_count": 39,
   "id": "c97757ec",
   "metadata": {},
   "outputs": [
    {
     "data": {
      "text/html": [
       "<div>\n",
       "<style scoped>\n",
       "    .dataframe tbody tr th:only-of-type {\n",
       "        vertical-align: middle;\n",
       "    }\n",
       "\n",
       "    .dataframe tbody tr th {\n",
       "        vertical-align: top;\n",
       "    }\n",
       "\n",
       "    .dataframe thead th {\n",
       "        text-align: right;\n",
       "    }\n",
       "</style>\n",
       "<table border=\"1\" class=\"dataframe\">\n",
       "  <thead>\n",
       "    <tr style=\"text-align: right;\">\n",
       "      <th></th>\n",
       "      <th>Unnamed: 0</th>\n",
       "      <th>id_realEstates</th>\n",
       "      <th>isNew</th>\n",
       "      <th>realEstate_name</th>\n",
       "      <th>phone_realEstate</th>\n",
       "      <th>url_inmueble</th>\n",
       "      <th>rooms</th>\n",
       "      <th>bathrooms</th>\n",
       "      <th>surface</th>\n",
       "      <th>price</th>\n",
       "      <th>...</th>\n",
       "      <th>level4Id</th>\n",
       "      <th>level5Id</th>\n",
       "      <th>level6Id</th>\n",
       "      <th>level7Id</th>\n",
       "      <th>level8Id</th>\n",
       "      <th>accuracy</th>\n",
       "      <th>latitude</th>\n",
       "      <th>longitude</th>\n",
       "      <th>zipCode</th>\n",
       "      <th>customZone</th>\n",
       "    </tr>\n",
       "  </thead>\n",
       "  <tbody>\n",
       "    <tr>\n",
       "      <th>0</th>\n",
       "      <td>1</td>\n",
       "      <td>153771986</td>\n",
       "      <td>False</td>\n",
       "      <td>ferrari 57 inmobiliaria</td>\n",
       "      <td>912177526.0</td>\n",
       "      <td>https://www.fotocasa.es/es/comprar/vivienda/ma...</td>\n",
       "      <td>3.0</td>\n",
       "      <td>2.0</td>\n",
       "      <td>103.0</td>\n",
       "      <td>195000</td>\n",
       "      <td>...</td>\n",
       "      <td>0</td>\n",
       "      <td>0</td>\n",
       "      <td>0</td>\n",
       "      <td>0</td>\n",
       "      <td>0</td>\n",
       "      <td>0</td>\n",
       "      <td>40,2948276786438</td>\n",
       "      <td>-3,44402412135624</td>\n",
       "      <td>NaN</td>\n",
       "      <td>NaN</td>\n",
       "    </tr>\n",
       "    <tr>\n",
       "      <th>1</th>\n",
       "      <td>2</td>\n",
       "      <td>153867863</td>\n",
       "      <td>False</td>\n",
       "      <td>tecnocasa fuenlabrada ferrocarril</td>\n",
       "      <td>916358736.0</td>\n",
       "      <td>https://www.fotocasa.es/es/comprar/vivienda/ma...</td>\n",
       "      <td>3.0</td>\n",
       "      <td>1.0</td>\n",
       "      <td>NaN</td>\n",
       "      <td>89000</td>\n",
       "      <td>...</td>\n",
       "      <td>0</td>\n",
       "      <td>0</td>\n",
       "      <td>0</td>\n",
       "      <td>0</td>\n",
       "      <td>0</td>\n",
       "      <td>1</td>\n",
       "      <td>40,28674</td>\n",
       "      <td>-3,79351</td>\n",
       "      <td>NaN</td>\n",
       "      <td>NaN</td>\n",
       "    </tr>\n",
       "    <tr>\n",
       "      <th>2</th>\n",
       "      <td>3</td>\n",
       "      <td>153430440</td>\n",
       "      <td>False</td>\n",
       "      <td>look find boadilla</td>\n",
       "      <td>916350408.0</td>\n",
       "      <td>https://www.fotocasa.es/es/comprar/vivienda/ma...</td>\n",
       "      <td>2.0</td>\n",
       "      <td>2.0</td>\n",
       "      <td>99.0</td>\n",
       "      <td>390000</td>\n",
       "      <td>...</td>\n",
       "      <td>0</td>\n",
       "      <td>0</td>\n",
       "      <td>0</td>\n",
       "      <td>0</td>\n",
       "      <td>0</td>\n",
       "      <td>0</td>\n",
       "      <td>40,4115646786438</td>\n",
       "      <td>-3,90662252135624</td>\n",
       "      <td>NaN</td>\n",
       "      <td>NaN</td>\n",
       "    </tr>\n",
       "    <tr>\n",
       "      <th>3</th>\n",
       "      <td>4</td>\n",
       "      <td>152776331</td>\n",
       "      <td>False</td>\n",
       "      <td>tecnocasa fuenlabrada ferrocarril</td>\n",
       "      <td>916358736.0</td>\n",
       "      <td>https://www.fotocasa.es/es/comprar/vivienda/ma...</td>\n",
       "      <td>3.0</td>\n",
       "      <td>1.0</td>\n",
       "      <td>86.0</td>\n",
       "      <td>89000</td>\n",
       "      <td>...</td>\n",
       "      <td>0</td>\n",
       "      <td>0</td>\n",
       "      <td>0</td>\n",
       "      <td>0</td>\n",
       "      <td>0</td>\n",
       "      <td>0</td>\n",
       "      <td>40,2853785786438</td>\n",
       "      <td>-3,79508142135624</td>\n",
       "      <td>NaN</td>\n",
       "      <td>NaN</td>\n",
       "    </tr>\n",
       "    <tr>\n",
       "      <th>4</th>\n",
       "      <td>5</td>\n",
       "      <td>153180188</td>\n",
       "      <td>False</td>\n",
       "      <td>ferrari 57 inmobiliaria</td>\n",
       "      <td>912177526.0</td>\n",
       "      <td>https://www.fotocasa.es/es/comprar/vivienda/ma...</td>\n",
       "      <td>2.0</td>\n",
       "      <td>2.0</td>\n",
       "      <td>106.0</td>\n",
       "      <td>172000</td>\n",
       "      <td>...</td>\n",
       "      <td>0</td>\n",
       "      <td>0</td>\n",
       "      <td>0</td>\n",
       "      <td>0</td>\n",
       "      <td>0</td>\n",
       "      <td>0</td>\n",
       "      <td>40,2998774864376</td>\n",
       "      <td>-3,45226301356237</td>\n",
       "      <td>NaN</td>\n",
       "      <td>NaN</td>\n",
       "    </tr>\n",
       "    <tr>\n",
       "      <th>...</th>\n",
       "      <td>...</td>\n",
       "      <td>...</td>\n",
       "      <td>...</td>\n",
       "      <td>...</td>\n",
       "      <td>...</td>\n",
       "      <td>...</td>\n",
       "      <td>...</td>\n",
       "      <td>...</td>\n",
       "      <td>...</td>\n",
       "      <td>...</td>\n",
       "      <td>...</td>\n",
       "      <td>...</td>\n",
       "      <td>...</td>\n",
       "      <td>...</td>\n",
       "      <td>...</td>\n",
       "      <td>...</td>\n",
       "      <td>...</td>\n",
       "      <td>...</td>\n",
       "      <td>...</td>\n",
       "      <td>...</td>\n",
       "      <td>...</td>\n",
       "    </tr>\n",
       "    <tr>\n",
       "      <th>15330</th>\n",
       "      <td>15331</td>\n",
       "      <td>153901377</td>\n",
       "      <td>False</td>\n",
       "      <td>infocasa consulting</td>\n",
       "      <td>911360461.0</td>\n",
       "      <td>https://www.fotocasa.es/es/comprar/vivienda/ma...</td>\n",
       "      <td>2.0</td>\n",
       "      <td>1.0</td>\n",
       "      <td>96.0</td>\n",
       "      <td>259470</td>\n",
       "      <td>...</td>\n",
       "      <td>0</td>\n",
       "      <td>0</td>\n",
       "      <td>0</td>\n",
       "      <td>0</td>\n",
       "      <td>0</td>\n",
       "      <td>0</td>\n",
       "      <td>40,45416</td>\n",
       "      <td>-3,70286</td>\n",
       "      <td>NaN</td>\n",
       "      <td>NaN</td>\n",
       "    </tr>\n",
       "    <tr>\n",
       "      <th>15331</th>\n",
       "      <td>15332</td>\n",
       "      <td>150394373</td>\n",
       "      <td>False</td>\n",
       "      <td>inmobiliaria pulpon</td>\n",
       "      <td>912788039.0</td>\n",
       "      <td>https://www.fotocasa.es/es/comprar/vivienda/ma...</td>\n",
       "      <td>3.0</td>\n",
       "      <td>1.0</td>\n",
       "      <td>150.0</td>\n",
       "      <td>165000</td>\n",
       "      <td>...</td>\n",
       "      <td>0</td>\n",
       "      <td>0</td>\n",
       "      <td>0</td>\n",
       "      <td>0</td>\n",
       "      <td>0</td>\n",
       "      <td>0</td>\n",
       "      <td>40,36652</td>\n",
       "      <td>-3,48951</td>\n",
       "      <td>NaN</td>\n",
       "      <td>NaN</td>\n",
       "    </tr>\n",
       "    <tr>\n",
       "      <th>15332</th>\n",
       "      <td>15333</td>\n",
       "      <td>153901397</td>\n",
       "      <td>False</td>\n",
       "      <td>tecnocasa torrelodones</td>\n",
       "      <td>912780348.0</td>\n",
       "      <td>https://www.fotocasa.es/es/comprar/vivienda/ma...</td>\n",
       "      <td>4.0</td>\n",
       "      <td>2.0</td>\n",
       "      <td>175.0</td>\n",
       "      <td>495000</td>\n",
       "      <td>...</td>\n",
       "      <td>0</td>\n",
       "      <td>0</td>\n",
       "      <td>0</td>\n",
       "      <td>0</td>\n",
       "      <td>0</td>\n",
       "      <td>0</td>\n",
       "      <td>40,57444</td>\n",
       "      <td>-3,92124</td>\n",
       "      <td>NaN</td>\n",
       "      <td>NaN</td>\n",
       "    </tr>\n",
       "    <tr>\n",
       "      <th>15333</th>\n",
       "      <td>15334</td>\n",
       "      <td>152607440</td>\n",
       "      <td>False</td>\n",
       "      <td>inmobiliaria pulpon</td>\n",
       "      <td>912788039.0</td>\n",
       "      <td>https://www.fotocasa.es/es/comprar/vivienda/ma...</td>\n",
       "      <td>3.0</td>\n",
       "      <td>2.0</td>\n",
       "      <td>101.0</td>\n",
       "      <td>195000</td>\n",
       "      <td>...</td>\n",
       "      <td>0</td>\n",
       "      <td>0</td>\n",
       "      <td>0</td>\n",
       "      <td>0</td>\n",
       "      <td>0</td>\n",
       "      <td>0</td>\n",
       "      <td>40,36967</td>\n",
       "      <td>-3,48105</td>\n",
       "      <td>NaN</td>\n",
       "      <td>NaN</td>\n",
       "    </tr>\n",
       "    <tr>\n",
       "      <th>15334</th>\n",
       "      <td>15335</td>\n",
       "      <td>153901356</td>\n",
       "      <td>False</td>\n",
       "      <td>infocasa consulting</td>\n",
       "      <td>911360461.0</td>\n",
       "      <td>https://www.fotocasa.es/es/comprar/vivienda/ma...</td>\n",
       "      <td>3.0</td>\n",
       "      <td>2.0</td>\n",
       "      <td>152.0</td>\n",
       "      <td>765000</td>\n",
       "      <td>...</td>\n",
       "      <td>0</td>\n",
       "      <td>0</td>\n",
       "      <td>0</td>\n",
       "      <td>0</td>\n",
       "      <td>0</td>\n",
       "      <td>0</td>\n",
       "      <td>40,45773</td>\n",
       "      <td>-3,69068</td>\n",
       "      <td>NaN</td>\n",
       "      <td>NaN</td>\n",
       "    </tr>\n",
       "  </tbody>\n",
       "</table>\n",
       "<p>15335 rows × 37 columns</p>\n",
       "</div>"
      ],
      "text/plain": [
       "       Unnamed: 0  id_realEstates  isNew                    realEstate_name  \\\n",
       "0               1       153771986  False            ferrari 57 inmobiliaria   \n",
       "1               2       153867863  False  tecnocasa fuenlabrada ferrocarril   \n",
       "2               3       153430440  False                 look find boadilla   \n",
       "3               4       152776331  False  tecnocasa fuenlabrada ferrocarril   \n",
       "4               5       153180188  False            ferrari 57 inmobiliaria   \n",
       "...           ...             ...    ...                                ...   \n",
       "15330       15331       153901377  False                infocasa consulting   \n",
       "15331       15332       150394373  False                inmobiliaria pulpon   \n",
       "15332       15333       153901397  False             tecnocasa torrelodones   \n",
       "15333       15334       152607440  False                inmobiliaria pulpon   \n",
       "15334       15335       153901356  False                infocasa consulting   \n",
       "\n",
       "       phone_realEstate                                       url_inmueble  \\\n",
       "0           912177526.0  https://www.fotocasa.es/es/comprar/vivienda/ma...   \n",
       "1           916358736.0  https://www.fotocasa.es/es/comprar/vivienda/ma...   \n",
       "2           916350408.0  https://www.fotocasa.es/es/comprar/vivienda/ma...   \n",
       "3           916358736.0  https://www.fotocasa.es/es/comprar/vivienda/ma...   \n",
       "4           912177526.0  https://www.fotocasa.es/es/comprar/vivienda/ma...   \n",
       "...                 ...                                                ...   \n",
       "15330       911360461.0  https://www.fotocasa.es/es/comprar/vivienda/ma...   \n",
       "15331       912788039.0  https://www.fotocasa.es/es/comprar/vivienda/ma...   \n",
       "15332       912780348.0  https://www.fotocasa.es/es/comprar/vivienda/ma...   \n",
       "15333       912788039.0  https://www.fotocasa.es/es/comprar/vivienda/ma...   \n",
       "15334       911360461.0  https://www.fotocasa.es/es/comprar/vivienda/ma...   \n",
       "\n",
       "       rooms  bathrooms  surface   price  ... level4Id level5Id level6Id  \\\n",
       "0        3.0        2.0    103.0  195000  ...        0        0        0   \n",
       "1        3.0        1.0      NaN   89000  ...        0        0        0   \n",
       "2        2.0        2.0     99.0  390000  ...        0        0        0   \n",
       "3        3.0        1.0     86.0   89000  ...        0        0        0   \n",
       "4        2.0        2.0    106.0  172000  ...        0        0        0   \n",
       "...      ...        ...      ...     ...  ...      ...      ...      ...   \n",
       "15330    2.0        1.0     96.0  259470  ...        0        0        0   \n",
       "15331    3.0        1.0    150.0  165000  ...        0        0        0   \n",
       "15332    4.0        2.0    175.0  495000  ...        0        0        0   \n",
       "15333    3.0        2.0    101.0  195000  ...        0        0        0   \n",
       "15334    3.0        2.0    152.0  765000  ...        0        0        0   \n",
       "\n",
       "      level7Id level8Id accuracy          latitude          longitude zipCode  \\\n",
       "0            0        0        0  40,2948276786438  -3,44402412135624     NaN   \n",
       "1            0        0        1          40,28674           -3,79351     NaN   \n",
       "2            0        0        0  40,4115646786438  -3,90662252135624     NaN   \n",
       "3            0        0        0  40,2853785786438  -3,79508142135624     NaN   \n",
       "4            0        0        0  40,2998774864376  -3,45226301356237     NaN   \n",
       "...        ...      ...      ...               ...                ...     ...   \n",
       "15330        0        0        0          40,45416           -3,70286     NaN   \n",
       "15331        0        0        0          40,36652           -3,48951     NaN   \n",
       "15332        0        0        0          40,57444           -3,92124     NaN   \n",
       "15333        0        0        0          40,36967           -3,48105     NaN   \n",
       "15334        0        0        0          40,45773           -3,69068     NaN   \n",
       "\n",
       "      customZone  \n",
       "0            NaN  \n",
       "1            NaN  \n",
       "2            NaN  \n",
       "3            NaN  \n",
       "4            NaN  \n",
       "...          ...  \n",
       "15330        NaN  \n",
       "15331        NaN  \n",
       "15332        NaN  \n",
       "15333        NaN  \n",
       "15334        NaN  \n",
       "\n",
       "[15335 rows x 37 columns]"
      ]
     },
     "execution_count": 39,
     "metadata": {},
     "output_type": "execute_result"
    }
   ],
   "source": [
    "# delete rows containing only NaN values \n",
    "ds.dropna(how=\"all\")\n"
   ]
  },
  {
   "attachments": {},
   "cell_type": "markdown",
   "id": "0e5f76de",
   "metadata": {},
   "source": [
    "#### What is the mean of prices in the population (level5) of \"Arroyomolinos (Madrid)\"? (★★☆)"
   ]
  },
  {
   "cell_type": "code",
   "execution_count": 31,
   "id": "327f7adb",
   "metadata": {},
   "outputs": [
    {
     "name": "stdout",
     "output_type": "stream",
     "text": [
      "The mean price of houses in Arroyomolinos (Madrid) is 294,541.6.\n"
     ]
    }
   ],
   "source": [
    "# create a new data frame with only properties from \"Arroyomolinos (Madrid)\"\n",
    "location = \"Arroyomolinos (Madrid)\"\n",
    "madrid_ds = ds[ds[\"level5\"] == location]\n",
    "\n",
    "# find and print the mean price of those properties\n",
    "mean_price = float(\"{:.2f}\".format(madrid_ds['price'].mean()))\n",
    "print(f'The mean price of houses in {location} is 'f'{mean_price:,}.')\n"
   ]
  },
  {
   "attachments": {},
   "cell_type": "markdown",
   "id": "89b548e3",
   "metadata": {},
   "source": [
    "#### Plot the histogram of prices for the population (level5) of \"Arroyomolinos (Madrid)\" and explain what you observe (★★☆)"
   ]
  },
  {
   "cell_type": "code",
   "execution_count": 37,
   "id": "2ba51bf7",
   "metadata": {},
   "outputs": [
    {
     "data": {
      "image/png": "[encoded data removed]",
      "text/plain": [
       "<Figure size 640x480 with 1 Axes>"
      ]
     },
     "metadata": {},
     "output_type": "display_data"
    }
   ],
   "source": [
    "# taking the subset of houses from the given location\n",
    "location = \"Arroyomolinos (Madrid)\"\n",
    "madrid_ds = ds[ds[\"level5\"] == location]\n",
    "\n",
    "# using the price to create and format a histogram\n",
    "prices_to_plot = madrid_ds['price']\n",
    "plt.hist(prices_to_plot)\n",
    "plt.xlabel(\"House price\")\n",
    "plt.ylabel(\"Number of houses\")\n",
    "plt.title(\"Histogram of prices in Arroyomolinos Madrid\")\n",
    "plt.tight_layout\n",
    "plt.text(360000,30,'Most of the houses are clustered\\n in a price range between 200,000\\n and 400,000', fontsize = 8)\n",
    "\n",
    "# Show the histogram\n",
    "plt.show()\n"
   ]
  },
  {
   "attachments": {},
   "cell_type": "markdown",
   "id": "c86dc493",
   "metadata": {},
   "source": [
    "#### Now let's work with the \"south belt\" of madrid. Make a subsetting that contains the following populations (level5): \"Fuenlabrada\",\"Leganés\",\"Getafe\",\"Alcorcón\" (★★☆) "
   ]
  },
  {
   "cell_type": "code",
   "execution_count": 14,
   "id": "5280d0cb",
   "metadata": {},
   "outputs": [],
   "source": [
    "# Taking the subset of houses from the given location\n",
    "location_south = [\"Fuenlabrada\",\"Leganés\",\"Getafe\",\"Alcorcón\"]\n",
    "south_belt_ds = ds[ds[\"level5\"].isin(location_south)]\n",
    "\n",
    "# Calculate the median price for each location\n",
    "median_prices = south_belt_ds.groupby(\"level5\")[\"price\"].median().reset_index()\n",
    "\n"
   ]
  },
  {
   "attachments": {},
   "cell_type": "markdown",
   "id": "090a6a3e",
   "metadata": {},
   "source": [
    "#### Make a bar plot of the median of prices (★★★) "
   ]
  },
  {
   "cell_type": "code",
   "execution_count": 15,
   "id": "68aec11c",
   "metadata": {},
   "outputs": [
    {
     "data": {
      "image/png": "[encoded data removed]",
      "text/plain": [
       "<Figure size 1000x600 with 1 Axes>"
      ]
     },
     "metadata": {},
     "output_type": "display_data"
    }
   ],
   "source": [
    "# Create a bar plot\n",
    "plt.figure(figsize=(10, 6))  \n",
    "plt.bar(median_prices[\"level5\"], median_prices[\"price\"], color='blue')\n",
    "plt.xlabel('Location')\n",
    "plt.ylabel('Median Price')\n",
    "plt.title('Median Price by Location')\n",
    "plt.xticks(rotation=45) \n",
    "plt.tight_layout()\n",
    "\n",
    "# Display the graph\n",
    "plt.show()"
   ]
  },
  {
   "attachments": {},
   "cell_type": "markdown",
   "id": "18f67373",
   "metadata": {},
   "source": [
    "#### Calculate the sample mean and variance of the variables: price, rooms, surface area and bathrooms (★★★) "
   ]
  },
  {
   "cell_type": "code",
   "execution_count": 8,
   "id": "8d068061",
   "metadata": {},
   "outputs": [
    {
     "name": "stdout",
     "output_type": "stream",
     "text": [
      "price:\n",
      "Sample Mean: 223094.48070562293\n",
      "Sample Variance: 14921367508.04902\n",
      "\n",
      "rooms:\n",
      "Sample Mean: 3.0177383592017737\n",
      "Sample Variance: 0.7188858892927542\n",
      "\n",
      "surface:\n",
      "Sample Mean: 111.75222363405337\n",
      "Sample Variance: 4263.051760316337\n",
      "\n",
      "bathrooms:\n",
      "Sample Mean: 1.633221850613155\n",
      "Sample Variance: 0.5717968625577321\n",
      "\n"
     ]
    }
   ],
   "source": [
    "# Subsetting the south belt again\n",
    "location_south = [\"Fuenlabrada\",\"Leganés\",\"Getafe\",\"Alcorcón\"]\n",
    "south_belt_ds = ds[ds[\"level5\"].isin(location_south)]\n",
    "\n",
    "# List of variables to run calculations on\n",
    "variables = ['price', 'rooms', 'surface', 'bathrooms']\n",
    "\n",
    "# Calculate and print the sample mean and variance for each variable\n",
    "for var in variables:\n",
    "    mean_value = south_belt_ds[var].mean()\n",
    "    variance_value = south_belt_ds[var].var()\n",
    "    print(f\"{var}:\")\n",
    "    print(\"Sample Mean:\", mean_value)\n",
    "    print(\"Sample Variance:\", variance_value)\n",
    "    print()\n",
    "    "
   ]
  },
  {
   "attachments": {},
   "cell_type": "markdown",
   "id": "95cfde61",
   "metadata": {},
   "source": [
    "#### What is the most expensive home of each population? (★★☆) "
   ]
  },
  {
   "cell_type": "code",
   "execution_count": 40,
   "id": "1c29f78c",
   "metadata": {},
   "outputs": [
    {
     "name": "stdout",
     "output_type": "stream",
     "text": [
      "The most expensive home in Fuenlabrada is 490,000.\n",
      "\n",
      "The most expensive home in Leganés is 650,000.\n",
      "\n",
      "The most expensive home in Getafe is 1,050,000.\n",
      "\n",
      "The most expensive home in Alcorcón is 950,000.\n",
      "\n"
     ]
    }
   ],
   "source": [
    "# Taking the subset of houses from the given location\n",
    "location_south = [\"Fuenlabrada\",\"Leganés\",\"Getafe\",\"Alcorcón\"]\n",
    "south_belt_ds = ds[ds[\"level5\"].isin(location_south)]\n",
    "\n",
    "# Calculate the most expensive home in each location\n",
    "for loc in location_south:\n",
    "    max_price = south_belt_ds[south_belt_ds[\"level5\"] == loc][\"price\"].max()\n",
    "    print(f\"The most expensive home in {loc} is {max_price:,}.\")\n",
    "    print()"
   ]
  },
  {
   "attachments": {},
   "cell_type": "markdown",
   "id": "ea67579b",
   "metadata": {},
   "source": [
    "#### Normalize the variable of prices for each population and plot the 4 histograms in the same plot (★★★) "
   ]
  },
  {
   "cell_type": "code",
   "execution_count": 23,
   "id": "385ad99c",
   "metadata": {},
   "outputs": [
    {
     "name": "stderr",
     "output_type": "stream",
     "text": [
      "/tmp/ipykernel_709/240028752.py:38: UserWarning: The figure layout has changed to tight\n",
      "  plt.tight_layout()\n"
     ]
    },
    {
     "data": {
      "image/png": "[encoded data removed]",
      "text/plain": [
       "<Figure size 640x480 with 4 Axes>"
      ]
     },
     "metadata": {},
     "output_type": "display_data"
    }
   ],
   "source": [
    "# Taking the subset of houses from the given location\n",
    "location_south = [\"Fuenlabrada\",\"Leganés\",\"Getafe\",\"Alcorcón\"]\n",
    "south_belt_ds = ds[ds[\"level5\"].isin(location_south)]\n",
    "\n",
    "# Create an empty list to store DataFrames \n",
    "normalized_location_dfs = []\n",
    "\n",
    "# Normalize the \"price\" variable for each location separately\n",
    "for loc in location_south:\n",
    "    # Filter the data for the current location\n",
    "    location_data = south_belt_ds[south_belt_ds[\"level5\"] == loc]\n",
    "    \n",
    "    # Extract the \"price\" column\n",
    "    prices = location_data[\"price\"]\n",
    "    \n",
    "    # Calculate the minimum and maximum values for normalizing\n",
    "    min_price = prices.min()\n",
    "    max_price = prices.max()\n",
    "    \n",
    "    # Normalize the \"price\" values \n",
    "    normalized_prices = (prices - min_price) / (max_price - min_price)\n",
    "    \n",
    "    # Create a new DataFrame with the normalized prices and location\n",
    "    normalized_location_ds = pd.DataFrame({\n",
    "        \"Location\": [loc] * len(normalized_prices),\n",
    "        \"Normalized_Price\": normalized_prices\n",
    "    })\n",
    "    # Append the normalized DataFrame to the empty list\n",
    "    normalized_location_dfs.append(normalized_location_ds)\n",
    "\n",
    "# Take the normalized price data and sub-plot a histogram for each location\n",
    "fig, axes = plt.subplots(2, 2, sharey = True)\n",
    "for i, loc in enumerate(location_south):\n",
    "    axes[i// 2, i % 2].hist(normalized_location_dfs[i][\"Normalized_Price\"])\n",
    "    axes[i // 2, i % 2].set_title(loc)\n",
    "    axes[i // 2, i % 2].set_xlabel(\"Normalized Price\")\n",
    "    axes[i // 2, i % 2].set_ylabel(\"Frequency\")\n",
    "    plt.tight_layout()\n",
    "\n",
    "# Show the histogram\n",
    "plt.show()\n"
   ]
  },
  {
   "attachments": {},
   "cell_type": "markdown",
   "id": "2ec1bd5c",
   "metadata": {},
   "source": [
    "#### Make a plot of the coordinates (lat and long) of the south belt of Madrid by color of each population (★★★★) \n",
    "This is a extremely hard exercise and we highly recommend to do it at the end of everything"
   ]
  },
  {
   "cell_type": "code",
   "execution_count": 41,
   "id": "312aac99",
   "metadata": {},
   "outputs": [
    {
     "data": {
      "application/vnd.jupyter.widget-view+json": {
       "model_id": "fc9e4e974e4c44c196cd9af2e0c2e760",
       "version_major": 2,
       "version_minor": 0
      },
      "text/plain": [
       "Map(center=[40.317715, -3.784103393554688], controls=(ZoomControl(options=['position', 'zoom_in_text', 'zoom_i…"
      ]
     },
     "execution_count": 41,
     "metadata": {},
     "output_type": "execute_result"
    }
   ],
   "source": [
    "# Run in console the following command before run the rest of code:\n",
    "# jupyter nbextension enable --py --sys-prefix ipyleaflet\n",
    "\n",
    "from ipyleaflet import Map, basemaps, CircleMarker\n",
    "\n",
    "# Map centred on (60 degrees latitude et -2.2 degrees longitude)\n",
    "# Latitude, longitude\n",
    "map = Map(center = (40.317715, -3.784103393554688), zoom = 12, min_zoom = 1, max_zoom = 20, \n",
    "    basemap=basemaps.Stamen.Terrain)\n",
    "map"
   ]
  },
  {
   "cell_type": "code",
   "execution_count": 42,
   "id": "f7931ec0",
   "metadata": {},
   "outputs": [
    {
     "name": "stderr",
     "output_type": "stream",
     "text": [
      "/tmp/ipykernel_3710/3321457637.py:5: SettingWithCopyWarning: \n",
      "A value is trying to be set on a copy of a slice from a DataFrame.\n",
      "Try using .loc[row_indexer,col_indexer] = value instead\n",
      "\n",
      "See the caveats in the documentation: https://pandas.pydata.org/pandas-docs/stable/user_guide/indexing.html#returning-a-view-versus-a-copy\n",
      "  south_belt_ds[\"latitude\"] = south_belt_ds[\"latitude\"].str.replace(',', '.').astype(float)\n",
      "/tmp/ipykernel_3710/3321457637.py:6: SettingWithCopyWarning: \n",
      "A value is trying to be set on a copy of a slice from a DataFrame.\n",
      "Try using .loc[row_indexer,col_indexer] = value instead\n",
      "\n",
      "See the caveats in the documentation: https://pandas.pydata.org/pandas-docs/stable/user_guide/indexing.html#returning-a-view-versus-a-copy\n",
      "  south_belt_ds[\"longitude\"] = south_belt_ds[\"longitude\"].str.replace(',', '.').astype(float)\n"
     ]
    },
    {
     "data": {
      "application/vnd.jupyter.widget-view+json": {
       "model_id": "fc9e4e974e4c44c196cd9af2e0c2e760",
       "version_major": 2,
       "version_minor": 0
      },
      "text/plain": [
       "Map(bottom=395958.0, center=[40.317715, -3.784103393554688], controls=(ZoomControl(options=['position', 'zoom_…"
      ]
     },
     "execution_count": 42,
     "metadata": {},
     "output_type": "execute_result"
    }
   ],
   "source": [
    "\n",
    "## HERE: plot the coordinates of the estates\n",
    "south_belt_locations = [\"Fuenlabrada\",\"Leganés\",\"Getafe\",\"Alcorcón\"]\n",
    "south_belt_ds = ds[ds[\"level5\"].isin(south_belt_locations)]\n",
    "\n",
    "south_belt_ds[\"latitude\"] = south_belt_ds[\"latitude\"].str.replace(',', '.').astype(float)\n",
    "south_belt_ds[\"longitude\"] = south_belt_ds[\"longitude\"].str.replace(',', '.').astype(float)\n",
    "\n",
    "## PUT HERE YOUR CODE:\n",
    "# Iterate through the DataFrame\n",
    "for index, row in south_belt_ds.iterrows():\n",
    "    latitude = row[\"latitude\"]\n",
    "    longitude = row[\"longitude\"]\n",
    "    \n",
    "    # Create a CircleMarker for each location\n",
    "    marker = CircleMarker(\n",
    "        location=(latitude, longitude),\n",
    "        radius=5,  \n",
    "        color=\"blue\",  \n",
    "        fill_color=\"blue\",  \n",
    "        fill_opacity=0.3,   \n",
    "    )\n",
    "\n",
    "    # Add the marker to the map\n",
    "    map.add_layer(marker)\n",
    "\n",
    "# Display the map\n",
    "map\n",
    "\n",
    "\n",
    "\n"
   ]
  },
  {
   "attachments": {},
   "cell_type": "markdown",
   "id": "b22874b7",
   "metadata": {},
   "source": [
    "#### What can you say about the price per square meter between the towns of Getafe and Alcorcón?"
   ]
  },
  {
   "cell_type": "code",
   "execution_count": 47,
   "id": "e0ef506b",
   "metadata": {},
   "outputs": [
    {
     "name": "stdout",
     "output_type": "stream",
     "text": [
      "The price per sq meter is higher in Alcorcón than in Getafe.\n",
      "\n",
      "Getafe price per square meter: 2088.64\n",
      "\n",
      "Alcorcón price per square meter: 2172.26\n",
      "\n"
     ]
    }
   ],
   "source": [
    "\n",
    "# Assign the locations to be compared\n",
    "locations_ppsm = [\"Getafe\",\"Alcorcón\"]\n",
    "ppsm_compare = ds[ds[\"level5\"].isin(locations_ppsm)]\n",
    "\n",
    "# for each location: calculate price per square meter, store it and print so it can be compared\n",
    "print(\"The price per sq meter is higher in Alcorcón than in Getafe.\\n\") \n",
    "for loc in locations_ppsm:\n",
    "    price_per_squaremeter = (ppsm_compare[ppsm_compare[\"level5\"] == loc][\"price\"].mean() / ppsm_compare[ppsm_compare[\"level5\"] == loc][\"surface\"].mean())\n",
    "    print(f\"{loc} price per square meter:\",float(\"{:.2f}\".format(price_per_squaremeter)))\n",
    "    print()\n"
   ]
  },
  {
   "attachments": {},
   "cell_type": "markdown",
   "id": "a4376b3f",
   "metadata": {},
   "source": [
    "#### Reload the data, is the average of \"Valdemorillo\" and \"Galapagar\" prices the same?"
   ]
  },
  {
   "cell_type": "code",
   "execution_count": 54,
   "id": "37dbaf65",
   "metadata": {},
   "outputs": [
    {
     "name": "stdout",
     "output_type": "stream",
     "text": [
      "The average price in Valdemorillo is higher than in Galapagar\n",
      "\n",
      "The average property price in Valdemorillo is: 363,860.29.\n",
      "\n",
      "The average property price in Galapagar is: 360,063.2.\n",
      "\n"
     ]
    }
   ],
   "source": [
    "# Assign the locations to be compared\n",
    "locations_price = [\"Valdemorillo\",\"Galapagar\"]\n",
    "price_compare = ds[ds[\"level5\"].isin(locations_price)]\n",
    "\n",
    "# for each location: calculate average price and print so it can be compared\n",
    "print(\"The average price in Valdemorillo is higher than in Galapagar\\n\") \n",
    "for loc in locations_price:\n",
    "    average_price = float(\"{:.2f}\".format(price_compare[price_compare[\"level5\"] == loc][\"price\"].mean())) \n",
    "    print(f\"The average property price in {loc} is: \"f\"{average_price:,}.\")\n",
    "    print()\n"
   ]
  },
  {
   "attachments": {},
   "cell_type": "markdown",
   "id": "b6af45ec",
   "metadata": {},
   "source": [
    "#### What happens if we do the same analysis for price/m2 (★★☆) "
   ]
  },
  {
   "cell_type": "code",
   "execution_count": 56,
   "id": "8231d73e",
   "metadata": {},
   "outputs": [
    {
     "name": "stdout",
     "output_type": "stream",
     "text": [
      "The price per sq meter is higher in Galapagar than in Valdemorillo.\n",
      "\n",
      "The average price per square meter in Valdemorillo is: 1,039.54.\n",
      "\n",
      "The average price per square meter in Galapagar is: 1,178.53.\n",
      "\n"
     ]
    }
   ],
   "source": [
    "# Assign the locations to be compared\n",
    "locations_price = [\"Valdemorillo\",\"Galapagar\"]\n",
    "price_compare = ds[ds[\"level5\"].isin(locations_price)]\n",
    "\n",
    "# for each location: calculate average price and divide it by average surface area and print so it can be compared \n",
    "print(\"The price per sq meter is higher in Galapagar than in Valdemorillo.\\n\") \n",
    "for loc in locations_price:\n",
    "    average_price = float(\"{:.2f}\".format(price_compare[price_compare[\"level5\"] == loc][\"price\"].mean() / price_compare[price_compare[\"level5\"] == loc][\"surface\"].mean()))\n",
    "    print(f\"The average price per square meter in {loc} is: \"f\"{average_price:,}.\")\n",
    "    print()\n",
    "\n",
    "# There is still a difference in average price between the two locations\n",
    "\n"
   ]
  },
  {
   "attachments": {},
   "cell_type": "markdown",
   "id": "2d40e202",
   "metadata": {},
   "source": [
    "#### Could you say there is a relation between surface and price? (★★☆) \n",
    "Hint: make a scatter plot."
   ]
  },
  {
   "cell_type": "code",
   "execution_count": 61,
   "id": "405462e1",
   "metadata": {},
   "outputs": [
    {
     "data": {
      "image/png": "[encoded data removed]",
      "text/plain": [
       "<Figure size 1000x500 with 1 Axes>"
      ]
     },
     "metadata": {},
     "output_type": "display_data"
    }
   ],
   "source": [
    "# Assign the locations to be compared\n",
    "locations_price = [\"Valdemorillo\",\"Galapagar\"]\n",
    "price_compare = ds[ds[\"level5\"].isin(locations_price)]\n",
    "\n",
    "# Assign values to the two axis to be plotted\n",
    "x = price_compare['surface']\n",
    "y = price_compare['price']\n",
    "\n",
    "# Initializing plot dimensions and attributes\n",
    "plt.figure(figsize = (10, 5))\n",
    "plt.scatter(x, y, label = \"Home price\")\n",
    "plt.title(\"Surface Area vs. Price\")\n",
    "plt.xlabel(\"Surface Area\")\n",
    "plt.ylabel(\"Price\")\n",
    "plt.legend()\n",
    "plt.text(1000,1000000,'The data show there is a strong correlation between surface area and price, aside from a few outliers.\\nIn addition, properties in these two areas seem to be in the lower ranges for both price and size.', fontsize = 8)\n",
    "\n",
    "# Displaying the scatter plot\n",
    "plt.show()\n",
    "\n",
    "#"
   ]
  },
  {
   "attachments": {},
   "cell_type": "markdown",
   "id": "3275db77",
   "metadata": {},
   "source": [
    "#### Make the same plot for 4 different populations (level5) and rearrange them on the same graph? (★★☆) \n",
    "Hint: make a scatter plot of each population using subplots."
   ]
  },
  {
   "cell_type": "code",
   "execution_count": 19,
   "id": "e08292ff",
   "metadata": {},
   "outputs": [
    {
     "name": "stderr",
     "output_type": "stream",
     "text": [
      "/tmp/ipykernel_687/1160426414.py:16: UserWarning: The figure layout has changed to tight\n",
      "  plt.tight_layout()\n"
     ]
    },
    {
     "data": {
      "image/png": "[encoded data removed]",
      "text/plain": [
       "<Figure size 640x480 with 4 Axes>"
      ]
     },
     "metadata": {},
     "output_type": "display_data"
    }
   ],
   "source": [
    "# Taking the subset of houses from the given locations\n",
    "location_south = [\"Fuenlabrada\",\"Leganés\",\"Getafe\",\"Alcorcón\"]\n",
    "south_belt_ds = ds[ds[\"level5\"].isin(location_south)]\n",
    "\n",
    "# Assign values to the two axis to be plotted\n",
    "x = south_belt_ds['surface']\n",
    "y = south_belt_ds['price']\n",
    "\n",
    "# Initializes a 2x2 grid of subplots\n",
    "fig, axes = plt.subplots(2, 2, sharey = True)\n",
    "# For loop that iterates through each location, subplotting each locations data\n",
    "for i, loc in enumerate(location_south):\n",
    "    axes[i// 2, i % 2].scatter(x[south_belt_ds[\"level5\"] == loc], y[south_belt_ds[\"level5\"] == loc])\n",
    "    axes[i // 2, i % 2].set_title(loc)\n",
    "    axes[i // 2, i % 2].set_xlabel(\"Surface Area\")\n",
    "    axes[i // 2, i % 2].set_ylabel(\"Price\")\n",
    "    plt.tight_layout()\n",
    "\n",
    "plt.show()"
   ]
  },
  {
   "attachments": {},
   "cell_type": "markdown",
   "id": "522c6bd9",
   "metadata": {},
   "source": [
    "#### How many  real estate agencies the dataset contains? (★★☆) "
   ]
  },
  {
   "cell_type": "code",
   "execution_count": 23,
   "id": "014ec6c8",
   "metadata": {},
   "outputs": [
    {
     "name": "stdout",
     "output_type": "stream",
     "text": [
      "Number of unique agencies: 1821\n"
     ]
    }
   ],
   "source": [
    "# Assigns all values in the Real Estate Agency name column to the agencies variable\n",
    "agencies = ds[\"realEstate_name\"]\n",
    "# Creates a new variable and assigns it the number of unique Real Estate agency names\n",
    "num_unique_agencies = agencies.nunique()\n",
    "# Prints the number of unique real estate agency names\n",
    "print(\"Number of unique agencies:\", num_unique_agencies)"
   ]
  },
  {
   "attachments": {},
   "cell_type": "markdown",
   "id": "899a101e",
   "metadata": {},
   "source": [
    "#### What is the population (level 5) that contains the most houses? (★★☆) "
   ]
  },
  {
   "cell_type": "code",
   "execution_count": 69,
   "id": "9e8b34ba",
   "metadata": {},
   "outputs": [
    {
     "name": "stdout",
     "output_type": "stream",
     "text": [
      "The highest concentration of houses occurs in Madrid Capital with 6643.\n"
     ]
    },
    {
     "name": "stderr",
     "output_type": "stream",
     "text": [
      "/tmp/ipykernel_3710/2097613235.py:6: FutureWarning: Series.__getitem__ treating keys as positions is deprecated. In a future version, integer keys will always be treated as labels (consistent with DataFrame behavior). To access a value by position, use `ser.iloc[pos]`\n",
      "  print(f\"The highest concentration of houses occurs in{house_count.index[0]} with {house_count[0]}.\")\n"
     ]
    }
   ],
   "source": [
    "# Assigns all values in the \"level5\" population column to variable \"population\"\n",
    "population = ds[\"level5\"]\n",
    "# Assigns number of unique values to variable \"house_count\"\n",
    "house_count = population.value_counts()\n",
    "# Prints the location and the number of houses associated with that location\n",
    "print(f\"The highest concentration of houses occurs in{house_count.index[0]} with {house_count[0]}.\")\n"
   ]
  }
 ],
 "metadata": {
  "kernelspec": {
   "display_name": "Python 3",
   "language": "python",
   "name": "python3"
  },
  "language_info": {
   "codemirror_mode": {
    "name": "ipython",
    "version": 3
   },
   "file_extension": ".py",
   "mimetype": "text/x-python",
   "name": "python",
   "nbconvert_exporter": "python",
   "pygments_lexer": "ipython3",
   "version": "3.11.4"
  }
 },
 "nbformat": 4,
 "nbformat_minor": 5
}
