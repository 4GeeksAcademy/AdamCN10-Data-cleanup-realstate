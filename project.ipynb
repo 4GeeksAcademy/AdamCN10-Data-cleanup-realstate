{
 "cells": [
  {
   "cell_type": "markdown",
   "id": "c4e52ee5",
   "metadata": {},
   "source": [
    "## The dataset\n",
    "\n",
    "This is a real dataset and it was downloaded using web scraping techniques. The data contains registers from fotocasa which is one of the most popular websites of real estate in Spain. Please, do not do this (web scraping) unless it is for academic purposes.\n",
    "\n",
    "The dataset was downloaded a few years ago by Henry Navarro and In no case were economic returns obtained from it.\n",
    "\n",
    "It contains thousands of data from real homes published on the web www.fotocasa.com. Your goal is to extract as much information as possible with the knowledge you have so far about data science, for example what is the most expensive home in the entire dataset?\n",
    "\n",
    "Let's start with precisely that question... Good luck!\n"
   ]
  },
  {
   "cell_type": "markdown",
   "id": "dd97255d",
   "metadata": {},
   "source": [
    "#### Read the dataset assets/real_estate.csv and try to visualize the table (★☆☆)\n"
   ]
  },
  {
   "cell_type": "code",
   "execution_count": 167,
   "id": "4b93d9c8",
   "metadata": {},
   "outputs": [],
   "source": [
    "import pandas as pd\n",
    "import numpy as numpy\n",
    "import matplotlib.pyplot as plt"
   ]
  },
  {
   "cell_type": "code",
   "execution_count": 168,
   "id": "da11db80",
   "metadata": {},
   "outputs": [
    {
     "data": {
      "text/html": [
       "<div>\n",
       "<style scoped>\n",
       "    .dataframe tbody tr th:only-of-type {\n",
       "        vertical-align: middle;\n",
       "    }\n",
       "\n",
       "    .dataframe tbody tr th {\n",
       "        vertical-align: top;\n",
       "    }\n",
       "\n",
       "    .dataframe thead th {\n",
       "        text-align: right;\n",
       "    }\n",
       "</style>\n",
       "<table border=\"1\" class=\"dataframe\">\n",
       "  <thead>\n",
       "    <tr style=\"text-align: right;\">\n",
       "      <th></th>\n",
       "      <th>Unnamed: 0</th>\n",
       "      <th>id_realEstates</th>\n",
       "      <th>isNew</th>\n",
       "      <th>realEstate_name</th>\n",
       "      <th>phone_realEstate</th>\n",
       "      <th>url_inmueble</th>\n",
       "      <th>rooms</th>\n",
       "      <th>bathrooms</th>\n",
       "      <th>surface</th>\n",
       "      <th>price</th>\n",
       "      <th>...</th>\n",
       "      <th>level4Id</th>\n",
       "      <th>level5Id</th>\n",
       "      <th>level6Id</th>\n",
       "      <th>level7Id</th>\n",
       "      <th>level8Id</th>\n",
       "      <th>accuracy</th>\n",
       "      <th>latitude</th>\n",
       "      <th>longitude</th>\n",
       "      <th>zipCode</th>\n",
       "      <th>customZone</th>\n",
       "    </tr>\n",
       "  </thead>\n",
       "  <tbody>\n",
       "    <tr>\n",
       "      <th>0</th>\n",
       "      <td>1</td>\n",
       "      <td>153771986</td>\n",
       "      <td>False</td>\n",
       "      <td>ferrari 57 inmobiliaria</td>\n",
       "      <td>912177526.0</td>\n",
       "      <td>https://www.fotocasa.es/es/comprar/vivienda/ma...</td>\n",
       "      <td>3.0</td>\n",
       "      <td>2.0</td>\n",
       "      <td>103.0</td>\n",
       "      <td>195000</td>\n",
       "      <td>...</td>\n",
       "      <td>0</td>\n",
       "      <td>0</td>\n",
       "      <td>0</td>\n",
       "      <td>0</td>\n",
       "      <td>0</td>\n",
       "      <td>0</td>\n",
       "      <td>40,2948276786438</td>\n",
       "      <td>-3,44402412135624</td>\n",
       "      <td>NaN</td>\n",
       "      <td>NaN</td>\n",
       "    </tr>\n",
       "    <tr>\n",
       "      <th>1</th>\n",
       "      <td>2</td>\n",
       "      <td>153867863</td>\n",
       "      <td>False</td>\n",
       "      <td>tecnocasa fuenlabrada ferrocarril</td>\n",
       "      <td>916358736.0</td>\n",
       "      <td>https://www.fotocasa.es/es/comprar/vivienda/ma...</td>\n",
       "      <td>3.0</td>\n",
       "      <td>1.0</td>\n",
       "      <td>NaN</td>\n",
       "      <td>89000</td>\n",
       "      <td>...</td>\n",
       "      <td>0</td>\n",
       "      <td>0</td>\n",
       "      <td>0</td>\n",
       "      <td>0</td>\n",
       "      <td>0</td>\n",
       "      <td>1</td>\n",
       "      <td>40,28674</td>\n",
       "      <td>-3,79351</td>\n",
       "      <td>NaN</td>\n",
       "      <td>NaN</td>\n",
       "    </tr>\n",
       "    <tr>\n",
       "      <th>2</th>\n",
       "      <td>3</td>\n",
       "      <td>153430440</td>\n",
       "      <td>False</td>\n",
       "      <td>look find boadilla</td>\n",
       "      <td>916350408.0</td>\n",
       "      <td>https://www.fotocasa.es/es/comprar/vivienda/ma...</td>\n",
       "      <td>2.0</td>\n",
       "      <td>2.0</td>\n",
       "      <td>99.0</td>\n",
       "      <td>390000</td>\n",
       "      <td>...</td>\n",
       "      <td>0</td>\n",
       "      <td>0</td>\n",
       "      <td>0</td>\n",
       "      <td>0</td>\n",
       "      <td>0</td>\n",
       "      <td>0</td>\n",
       "      <td>40,4115646786438</td>\n",
       "      <td>-3,90662252135624</td>\n",
       "      <td>NaN</td>\n",
       "      <td>NaN</td>\n",
       "    </tr>\n",
       "    <tr>\n",
       "      <th>3</th>\n",
       "      <td>4</td>\n",
       "      <td>152776331</td>\n",
       "      <td>False</td>\n",
       "      <td>tecnocasa fuenlabrada ferrocarril</td>\n",
       "      <td>916358736.0</td>\n",
       "      <td>https://www.fotocasa.es/es/comprar/vivienda/ma...</td>\n",
       "      <td>3.0</td>\n",
       "      <td>1.0</td>\n",
       "      <td>86.0</td>\n",
       "      <td>89000</td>\n",
       "      <td>...</td>\n",
       "      <td>0</td>\n",
       "      <td>0</td>\n",
       "      <td>0</td>\n",
       "      <td>0</td>\n",
       "      <td>0</td>\n",
       "      <td>0</td>\n",
       "      <td>40,2853785786438</td>\n",
       "      <td>-3,79508142135624</td>\n",
       "      <td>NaN</td>\n",
       "      <td>NaN</td>\n",
       "    </tr>\n",
       "    <tr>\n",
       "      <th>4</th>\n",
       "      <td>5</td>\n",
       "      <td>153180188</td>\n",
       "      <td>False</td>\n",
       "      <td>ferrari 57 inmobiliaria</td>\n",
       "      <td>912177526.0</td>\n",
       "      <td>https://www.fotocasa.es/es/comprar/vivienda/ma...</td>\n",
       "      <td>2.0</td>\n",
       "      <td>2.0</td>\n",
       "      <td>106.0</td>\n",
       "      <td>172000</td>\n",
       "      <td>...</td>\n",
       "      <td>0</td>\n",
       "      <td>0</td>\n",
       "      <td>0</td>\n",
       "      <td>0</td>\n",
       "      <td>0</td>\n",
       "      <td>0</td>\n",
       "      <td>40,2998774864376</td>\n",
       "      <td>-3,45226301356237</td>\n",
       "      <td>NaN</td>\n",
       "      <td>NaN</td>\n",
       "    </tr>\n",
       "  </tbody>\n",
       "</table>\n",
       "<p>5 rows × 37 columns</p>\n",
       "</div>"
      ],
      "text/plain": [
       "   Unnamed: 0  id_realEstates  isNew                    realEstate_name  \\\n",
       "0           1       153771986  False            ferrari 57 inmobiliaria   \n",
       "1           2       153867863  False  tecnocasa fuenlabrada ferrocarril   \n",
       "2           3       153430440  False                 look find boadilla   \n",
       "3           4       152776331  False  tecnocasa fuenlabrada ferrocarril   \n",
       "4           5       153180188  False            ferrari 57 inmobiliaria   \n",
       "\n",
       "   phone_realEstate                                       url_inmueble  rooms  \\\n",
       "0       912177526.0  https://www.fotocasa.es/es/comprar/vivienda/ma...    3.0   \n",
       "1       916358736.0  https://www.fotocasa.es/es/comprar/vivienda/ma...    3.0   \n",
       "2       916350408.0  https://www.fotocasa.es/es/comprar/vivienda/ma...    2.0   \n",
       "3       916358736.0  https://www.fotocasa.es/es/comprar/vivienda/ma...    3.0   \n",
       "4       912177526.0  https://www.fotocasa.es/es/comprar/vivienda/ma...    2.0   \n",
       "\n",
       "   bathrooms  surface   price  ... level4Id level5Id level6Id level7Id  \\\n",
       "0        2.0    103.0  195000  ...        0        0        0        0   \n",
       "1        1.0      NaN   89000  ...        0        0        0        0   \n",
       "2        2.0     99.0  390000  ...        0        0        0        0   \n",
       "3        1.0     86.0   89000  ...        0        0        0        0   \n",
       "4        2.0    106.0  172000  ...        0        0        0        0   \n",
       "\n",
       "  level8Id accuracy          latitude          longitude zipCode customZone  \n",
       "0        0        0  40,2948276786438  -3,44402412135624     NaN        NaN  \n",
       "1        0        1          40,28674           -3,79351     NaN        NaN  \n",
       "2        0        0  40,4115646786438  -3,90662252135624     NaN        NaN  \n",
       "3        0        0  40,2853785786438  -3,79508142135624     NaN        NaN  \n",
       "4        0        0  40,2998774864376  -3,45226301356237     NaN        NaN  \n",
       "\n",
       "[5 rows x 37 columns]"
      ]
     },
     "execution_count": 168,
     "metadata": {},
     "output_type": "execute_result"
    }
   ],
   "source": [
    "df = pd.read_csv ('assets/real_estate.csv', sep=';')\n",
    "df.head()"
   ]
  },
  {
   "cell_type": "code",
   "execution_count": 169,
   "id": "e4418650",
   "metadata": {},
   "outputs": [
    {
     "data": {
      "text/plain": [
       "Unnamed: 0            int64\n",
       "id_realEstates        int64\n",
       "isNew                  bool\n",
       "realEstate_name      object\n",
       "phone_realEstate    float64\n",
       "url_inmueble         object\n",
       "rooms               float64\n",
       "bathrooms           float64\n",
       "surface             float64\n",
       "price                 int64\n",
       "date                 object\n",
       "description          object\n",
       "address              object\n",
       "country              object\n",
       "level1               object\n",
       "level2               object\n",
       "level3               object\n",
       "level4               object\n",
       "level5               object\n",
       "level6               object\n",
       "level7               object\n",
       "level8               object\n",
       "upperLevel           object\n",
       "countryId             int64\n",
       "level1Id              int64\n",
       "level2Id              int64\n",
       "level3Id              int64\n",
       "level4Id              int64\n",
       "level5Id              int64\n",
       "level6Id              int64\n",
       "level7Id              int64\n",
       "level8Id              int64\n",
       "accuracy              int64\n",
       "latitude             object\n",
       "longitude            object\n",
       "zipCode             float64\n",
       "customZone          float64\n",
       "dtype: object"
      ]
     },
     "execution_count": 169,
     "metadata": {},
     "output_type": "execute_result"
    }
   ],
   "source": [
    "df.dtypes"
   ]
  },
  {
   "cell_type": "code",
   "execution_count": 170,
   "id": "5f17725b",
   "metadata": {},
   "outputs": [
    {
     "name": "stdout",
     "output_type": "stream",
     "text": [
      "<class 'pandas.core.frame.DataFrame'>\n",
      "RangeIndex: 15335 entries, 0 to 15334\n",
      "Data columns (total 37 columns):\n",
      " #   Column            Non-Null Count  Dtype  \n",
      "---  ------            --------------  -----  \n",
      " 0   Unnamed: 0        15335 non-null  int64  \n",
      " 1   id_realEstates    15335 non-null  int64  \n",
      " 2   isNew             15335 non-null  bool   \n",
      " 3   realEstate_name   15325 non-null  object \n",
      " 4   phone_realEstate  14541 non-null  float64\n",
      " 5   url_inmueble      15335 non-null  object \n",
      " 6   rooms             14982 non-null  float64\n",
      " 7   bathrooms         14990 non-null  float64\n",
      " 8   surface           14085 non-null  float64\n",
      " 9   price             15335 non-null  int64  \n",
      " 10  date              15335 non-null  object \n",
      " 11  description       15193 non-null  object \n",
      " 12  address           15335 non-null  object \n",
      " 13  country           15335 non-null  object \n",
      " 14  level1            15335 non-null  object \n",
      " 15  level2            15335 non-null  object \n",
      " 16  level3            15335 non-null  object \n",
      " 17  level4            8692 non-null   object \n",
      " 18  level5            15335 non-null  object \n",
      " 19  level6            708 non-null    object \n",
      " 20  level7            13058 non-null  object \n",
      " 21  level8            6756 non-null   object \n",
      " 22  upperLevel        15335 non-null  object \n",
      " 23  countryId         15335 non-null  int64  \n",
      " 24  level1Id          15335 non-null  int64  \n",
      " 25  level2Id          15335 non-null  int64  \n",
      " 26  level3Id          15335 non-null  int64  \n",
      " 27  level4Id          15335 non-null  int64  \n",
      " 28  level5Id          15335 non-null  int64  \n",
      " 29  level6Id          15335 non-null  int64  \n",
      " 30  level7Id          15335 non-null  int64  \n",
      " 31  level8Id          15335 non-null  int64  \n",
      " 32  accuracy          15335 non-null  int64  \n",
      " 33  latitude          15335 non-null  object \n",
      " 34  longitude         15335 non-null  object \n",
      " 35  zipCode           0 non-null      float64\n",
      " 36  customZone        0 non-null      float64\n",
      "dtypes: bool(1), float64(6), int64(13), object(17)\n",
      "memory usage: 4.2+ MB\n"
     ]
    }
   ],
   "source": [
    "df.info()"
   ]
  },
  {
   "cell_type": "code",
   "execution_count": 171,
   "id": "55d9f8c9",
   "metadata": {},
   "outputs": [
    {
     "data": {
      "text/plain": [
       "array(['Arganda del Rey', 'Fuenlabrada', 'Boadilla del Monte',\n",
       "       'Las Rozas de Madrid', ' Madrid Capital', 'Villaviciosa de Odón',\n",
       "       'Pinto', 'Valdemoro', 'Navalcarnero', 'Pozuelo de Alarcón',\n",
       "       'Torrejón de Ardoz', 'Navalagamella', 'San Sebastián de los Reyes',\n",
       "       'Rivas-vaciamadrid', 'Alpedrete', 'Móstoles',\n",
       "       'San Fernando de Henares', 'Coslada', 'Becerril de la Sierra',\n",
       "       'Alcalá de Henares', 'Chinchón', 'Parla', 'Alcorcón',\n",
       "       'El Escorial', 'Leganés', 'Pedrezuela', 'Majadahonda',\n",
       "       'Villanueva de la Cañada', 'Villanueva del Pardillo',\n",
       "       'Torrelodones', 'Moralzarzal', 'Mejorada del Campo', 'Aranjuez',\n",
       "       'Corpa', 'Getafe', 'Velilla de San Antonio', 'Sevilla la Nueva',\n",
       "       'San Martín de la Vega', 'Villalbilla', 'Collado Villalba',\n",
       "       'Alcobendas', 'El Molar (Madrid)', 'Moraleja de Enmedio', 'Algete',\n",
       "       'Campo Real', 'Torrejón de la Calzada', 'Colmenar Viejo',\n",
       "       'Valdemorillo', 'Fuente El Saz de Jarama', 'Tres Cantos',\n",
       "       'Arroyomolinos (Madrid)', 'Griñón', 'Paracuellos de Jarama',\n",
       "       'Guadarrama', 'Titulcia', 'Galapagar', 'Collado Mediano',\n",
       "       'Los Molinos', 'San Lorenzo de El Escorial', 'Loeches',\n",
       "       'San Martín de Valdeiglesias', 'Navas del Rey', 'Bustarviejo',\n",
       "       'Manzanares El Real', 'Carabaña', 'Casarrubuelos', 'Cercedilla',\n",
       "       'Fresnedillas de la Oliva', 'Valdemaqueda', 'Robledo de Chavela',\n",
       "       'Miraflores de la Sierra', 'Humanes de Madrid',\n",
       "       'Valdetorres de Jarama', 'San Agustín del Guadalix',\n",
       "       'Ciempozuelos', 'Camarma de Esteruelas', 'Torres de la Alameda',\n",
       "       'Talamanca de Jarama', 'El Atazar', 'Hoyo de Manzanares',\n",
       "       'El Boalo - Cerceda – Mataelpino', 'El Álamo', 'Valdilecha',\n",
       "       'Valdeolmos-Alalpardo', 'Guadalix de la Sierra',\n",
       "       'Belmonte de Tajo', 'El Vellón', 'Brunete', 'Redueña',\n",
       "       'Morata de Tajuña', 'Tielmes', 'Gargantilla del Lozoya', 'Meco',\n",
       "       'Venturada', 'Quijorna', 'Cenicientos', 'Torrejón de Velasco',\n",
       "       'Navacerrada', 'Santa María de la Alameda', 'Orusco de Tajuña',\n",
       "       'Daganzo de Arriba', 'Villamanta', 'Anchuelo', 'Valdaracete',\n",
       "       'Ajalvir', 'Los Santos de la Humosa', 'Villamanrique de Tajo',\n",
       "       'Colmenar de Oreja', 'Villa del Prado', 'Fuentidueña de Tajo',\n",
       "       'Colmenar del Arroyo', 'Valdelaguna', 'Cubas de la Sagra',\n",
       "       'Valdeavero', 'Aldea del Fresno', 'Ribatejada', 'Torrelaguna',\n",
       "       'Batres', 'Pezuela de las Torres', 'Colmenarejo',\n",
       "       'Serranillos del Valle', 'Cobeña', 'Soto del Real', 'El Berrueco',\n",
       "       'Villanueva de Perales', 'Fresno de Torote - Serracines',\n",
       "       'Pozuelo del Rey', 'Pelayos de la Presa', 'La Cabrera',\n",
       "       'Nuevo Baztán', 'Perales de Tajuña', 'Villaconejos',\n",
       "       'Villarejo de Salvanés', 'Cadalso de los Vidrios', 'Santorcaz',\n",
       "       'Madarcos', 'Garganta de los Montes', 'Puentes Viejas',\n",
       "       'Torremocha de Jarama', 'Valdemanco', 'Braojos',\n",
       "       'Lozoyuela-navas-sieteiglesias', 'Piñuécar-gandullas',\n",
       "       'Valdepiélagos', 'Valverde de Alcalá', 'Villar del Olmo',\n",
       "       'Villamantilla', 'Horcajo de la Sierra', 'Gascones', 'Zarzalejo',\n",
       "       'Villavieja del Lozoya', 'Brea de Tajo', 'Estremera', 'Chapinería',\n",
       "       'Navarredonda', 'Patones', 'Ambite', 'Navalafuente', 'Lozoya',\n",
       "       'Canencia', 'Cabanillas de la Sierra', 'Buitrago del Lozoya',\n",
       "       'Fresno de Torote', 'Robregordo', 'Pinilla del Valle', 'Rascafría',\n",
       "       'La Hiruela', 'Montejo de la Sierra'], dtype=object)"
      ]
     },
     "execution_count": 171,
     "metadata": {},
     "output_type": "execute_result"
    }
   ],
   "source": [
    "df['level5'].unique()"
   ]
  },
  {
   "cell_type": "code",
   "execution_count": 172,
   "id": "1de611b7",
   "metadata": {},
   "outputs": [
    {
     "data": {
      "text/plain": [
       "168"
      ]
     },
     "execution_count": 172,
     "metadata": {},
     "output_type": "execute_result"
    }
   ],
   "source": [
    "len(df['level5'].unique())"
   ]
  },
  {
   "cell_type": "markdown",
   "id": "40631cd6",
   "metadata": {},
   "source": [
    "#### What is the most expensive home in the dataset? (★☆☆)"
   ]
  },
  {
   "cell_type": "code",
   "execution_count": 173,
   "id": "8a758bcf",
   "metadata": {},
   "outputs": [
    {
     "data": {
      "text/plain": [
       "8500000"
      ]
     },
     "execution_count": 173,
     "metadata": {},
     "output_type": "execute_result"
    }
   ],
   "source": [
    "df['price'].max()"
   ]
  },
  {
   "cell_type": "markdown",
   "id": "0a708990",
   "metadata": {},
   "source": [
    "#### What is cheapest home in the dataset? (★☆☆)"
   ]
  },
  {
   "cell_type": "code",
   "execution_count": 174,
   "id": "477e01f4",
   "metadata": {},
   "outputs": [
    {
     "data": {
      "text/plain": [
       "0"
      ]
     },
     "execution_count": 174,
     "metadata": {},
     "output_type": "execute_result"
    }
   ],
   "source": [
    "df['price'].min()"
   ]
  },
  {
   "cell_type": "markdown",
   "id": "0b16cd77",
   "metadata": {},
   "source": [
    "#### What is the biggest and the smallest home in the dataset? (★☆☆)"
   ]
  },
  {
   "cell_type": "code",
   "execution_count": 175,
   "id": "4d9b5975",
   "metadata": {},
   "outputs": [
    {
     "name": "stdout",
     "output_type": "stream",
     "text": [
      "La casa mas grande es:  249000.0\n",
      "La casa mas chica es:  15.0\n"
     ]
    }
   ],
   "source": [
    "min = df['surface'].min()\n",
    "max = df['surface'].max()\n",
    "print('La casa mas grande es: ', max)\n",
    "print ('La casa mas chica es: ', min)"
   ]
  },
  {
   "cell_type": "markdown",
   "id": "782d4c77",
   "metadata": {},
   "source": [
    "#### How many populations (level5) the dataset contains? (★☆☆)"
   ]
  },
  {
   "cell_type": "code",
   "execution_count": 176,
   "id": "5dbe1a08",
   "metadata": {},
   "outputs": [
    {
     "data": {
      "text/plain": [
       "15335"
      ]
     },
     "execution_count": 176,
     "metadata": {},
     "output_type": "execute_result"
    }
   ],
   "source": [
    "df['level5Id'].count()"
   ]
  },
  {
   "cell_type": "markdown",
   "id": "48d48f01",
   "metadata": {},
   "source": [
    "#### Does the dataset contain NAs? (★☆☆)\n"
   ]
  },
  {
   "cell_type": "code",
   "execution_count": 177,
   "id": "3ed233e7",
   "metadata": {},
   "outputs": [
    {
     "data": {
      "text/plain": [
       "Unnamed: 0              0\n",
       "id_realEstates          0\n",
       "isNew                   0\n",
       "realEstate_name        10\n",
       "phone_realEstate      794\n",
       "url_inmueble            0\n",
       "rooms                 353\n",
       "bathrooms             345\n",
       "surface              1250\n",
       "price                   0\n",
       "date                    0\n",
       "description           142\n",
       "address                 0\n",
       "country                 0\n",
       "level1                  0\n",
       "level2                  0\n",
       "level3                  0\n",
       "level4               6643\n",
       "level5                  0\n",
       "level6              14627\n",
       "level7               2277\n",
       "level8               8579\n",
       "upperLevel              0\n",
       "countryId               0\n",
       "level1Id                0\n",
       "level2Id                0\n",
       "level3Id                0\n",
       "level4Id                0\n",
       "level5Id                0\n",
       "level6Id                0\n",
       "level7Id                0\n",
       "level8Id                0\n",
       "accuracy                0\n",
       "latitude                0\n",
       "longitude               0\n",
       "zipCode             15335\n",
       "customZone          15335\n",
       "dtype: int64"
      ]
     },
     "execution_count": 177,
     "metadata": {},
     "output_type": "execute_result"
    }
   ],
   "source": [
    "df.isnull().sum()"
   ]
  },
  {
   "cell_type": "markdown",
   "id": "4fa39382",
   "metadata": {},
   "source": [
    "#### Delete the NAs of the dataset, if applicable (★★☆)"
   ]
  },
  {
   "cell_type": "code",
   "execution_count": 178,
   "id": "c97757ec",
   "metadata": {},
   "outputs": [
    {
     "data": {
      "text/html": [
       "<div>\n",
       "<style scoped>\n",
       "    .dataframe tbody tr th:only-of-type {\n",
       "        vertical-align: middle;\n",
       "    }\n",
       "\n",
       "    .dataframe tbody tr th {\n",
       "        vertical-align: top;\n",
       "    }\n",
       "\n",
       "    .dataframe thead th {\n",
       "        text-align: right;\n",
       "    }\n",
       "</style>\n",
       "<table border=\"1\" class=\"dataframe\">\n",
       "  <thead>\n",
       "    <tr style=\"text-align: right;\">\n",
       "      <th></th>\n",
       "      <th>Unnamed: 0</th>\n",
       "      <th>id_realEstates</th>\n",
       "      <th>isNew</th>\n",
       "      <th>realEstate_name</th>\n",
       "      <th>phone_realEstate</th>\n",
       "      <th>url_inmueble</th>\n",
       "      <th>rooms</th>\n",
       "      <th>bathrooms</th>\n",
       "      <th>surface</th>\n",
       "      <th>price</th>\n",
       "      <th>...</th>\n",
       "      <th>level4Id</th>\n",
       "      <th>level5Id</th>\n",
       "      <th>level6Id</th>\n",
       "      <th>level7Id</th>\n",
       "      <th>level8Id</th>\n",
       "      <th>accuracy</th>\n",
       "      <th>latitude</th>\n",
       "      <th>longitude</th>\n",
       "      <th>zipCode</th>\n",
       "      <th>customZone</th>\n",
       "    </tr>\n",
       "  </thead>\n",
       "  <tbody>\n",
       "  </tbody>\n",
       "</table>\n",
       "<p>0 rows × 37 columns</p>\n",
       "</div>"
      ],
      "text/plain": [
       "Empty DataFrame\n",
       "Columns: [Unnamed: 0, id_realEstates, isNew, realEstate_name, phone_realEstate, url_inmueble, rooms, bathrooms, surface, price, date, description, address, country, level1, level2, level3, level4, level5, level6, level7, level8, upperLevel, countryId, level1Id, level2Id, level3Id, level4Id, level5Id, level6Id, level7Id, level8Id, accuracy, latitude, longitude, zipCode, customZone]\n",
       "Index: []\n",
       "\n",
       "[0 rows x 37 columns]"
      ]
     },
     "execution_count": 178,
     "metadata": {},
     "output_type": "execute_result"
    }
   ],
   "source": [
    "df.dropna()"
   ]
  },
  {
   "cell_type": "markdown",
   "id": "0e5f76de",
   "metadata": {},
   "source": [
    "#### What is the mean of prices in the population (level5) of \"Arroyomolinos (Madrid)\"? (★★☆)"
   ]
  },
  {
   "cell_type": "code",
   "execution_count": 179,
   "id": "1f8fb91f",
   "metadata": {},
   "outputs": [
    {
     "name": "stdout",
     "output_type": "stream",
     "text": [
      "El precio promedio es de 294541.60\n"
     ]
    }
   ],
   "source": [
    "df2= df[df['level5'] == 'Arroyomolinos (Madrid)']\n",
    "promedio= df2['price'].mean()\n",
    "print('El precio promedio es de {:.2f}'.format(promedio))\n"
   ]
  },
  {
   "cell_type": "markdown",
   "id": "89b548e3",
   "metadata": {},
   "source": [
    "#### Plot the histogram of prices for the population (level5) of \"Arroyomolinos (Madrid)\" and explain what you observe (★★☆)"
   ]
  },
  {
   "cell_type": "code",
   "execution_count": 180,
   "id": "2ba51bf7",
   "metadata": {},
   "outputs": [
    {
     "data": {
      "image/png": "[encoded data removed]",
      "text/plain": [
       "<Figure size 432x288 with 1 Axes>"
      ]
     },
     "metadata": {
      "needs_background": "light"
     },
     "output_type": "display_data"
    },
    {
     "name": "stdout",
     "output_type": "stream",
     "text": [
      "\n",
      "El gráfico sigue una distribución gaussiana al establecer una gran cantidad de propiedades en el rango de precio de 200000 y 400000\n"
     ]
    }
   ],
   "source": [
    "df2= df2[df2['level5'] == 'Arroyomolinos (Madrid)']\n",
    "plt.hist(df2['price'])\n",
    "plt.show()\n",
    "print()\n",
    "print(\"El gráfico sigue una distribución gaussiana al establecer una gran cantidad de propiedades en el rango de precio de 200000 y 400000\")"
   ]
  },
  {
   "cell_type": "markdown",
   "id": "c86dc493",
   "metadata": {},
   "source": [
    "#### Now let's work with the \"south belt\" of madrid. Make a subsetting that contains the following populations (level5): \"Fuenlabrada\",\"Leganés\",\"Getafe\",\"Alcorcón\" (★★☆) "
   ]
  },
  {
   "cell_type": "code",
   "execution_count": 181,
   "id": "5280d0cb",
   "metadata": {},
   "outputs": [
    {
     "data": {
      "text/plain": [
       "0        False\n",
       "1         True\n",
       "2        False\n",
       "3         True\n",
       "4        False\n",
       "         ...  \n",
       "15330    False\n",
       "15331    False\n",
       "15332    False\n",
       "15333    False\n",
       "15334    False\n",
       "Name: level5, Length: 15335, dtype: bool"
      ]
     },
     "execution_count": 181,
     "metadata": {},
     "output_type": "execute_result"
    }
   ],
   "source": [
    "df3 = df['level5'].isin(('Fuenlabrada', 'Leganés', 'Getafe', 'Alcorcón'))\n",
    "df3"
   ]
  },
  {
   "cell_type": "markdown",
   "id": "090a6a3e",
   "metadata": {},
   "source": [
    "#### Make a bar plot of the median of prices (★★★) "
   ]
  },
  {
   "cell_type": "code",
   "execution_count": 182,
   "id": "151a745b",
   "metadata": {},
   "outputs": [
    {
     "data": {
      "image/png": "[encoded data removed]",
      "text/plain": [
       "<Figure size 432x288 with 1 Axes>"
      ]
     },
     "metadata": {
      "needs_background": "light"
     },
     "output_type": "display_data"
    }
   ],
   "source": [
    "df3 = df[df['level5'].isin(('Fuenlabrada', 'Leganés', 'Getafe', 'Alcorcón'))]\n",
    "df3 = df3[['level5', 'price']]\n",
    "df4 = df3.groupby('level5').median()\n",
    "lista = df4.index.values.tolist()\n",
    "valores = df4['price'].tolist()\n",
    "plt.bar(lista, valores, color='green', width=0.4)\n",
    "plt.show()"
   ]
  },
  {
   "cell_type": "markdown",
   "id": "18f67373",
   "metadata": {},
   "source": [
    "#### Calculate the sample mean and variance of the variables: price, rooms, surface area and bathrooms (★★★) "
   ]
  },
  {
   "cell_type": "code",
   "execution_count": 183,
   "id": "8d068061",
   "metadata": {},
   "outputs": [
    {
     "data": {
      "text/html": [
       "<h2>Media de las variables</h2>"
      ],
      "text/plain": [
       "<IPython.core.display.HTML object>"
      ]
     },
     "metadata": {},
     "output_type": "display_data"
    },
    {
     "data": {
      "text/html": [
       "<div>\n",
       "<style scoped>\n",
       "    .dataframe tbody tr th:only-of-type {\n",
       "        vertical-align: middle;\n",
       "    }\n",
       "\n",
       "    .dataframe tbody tr th {\n",
       "        vertical-align: top;\n",
       "    }\n",
       "\n",
       "    .dataframe thead th {\n",
       "        text-align: right;\n",
       "    }\n",
       "</style>\n",
       "<table border=\"1\" class=\"dataframe\">\n",
       "  <thead>\n",
       "    <tr style=\"text-align: right;\">\n",
       "      <th></th>\n",
       "      <th>price</th>\n",
       "      <th>rooms</th>\n",
       "      <th>surface</th>\n",
       "      <th>bathrooms</th>\n",
       "    </tr>\n",
       "    <tr>\n",
       "      <th>level5</th>\n",
       "      <th></th>\n",
       "      <th></th>\n",
       "      <th></th>\n",
       "      <th></th>\n",
       "    </tr>\n",
       "  </thead>\n",
       "  <tbody>\n",
       "    <tr>\n",
       "      <th>Alcorcón</th>\n",
       "      <td>230071.052632</td>\n",
       "      <td>2.914894</td>\n",
       "      <td>105.913295</td>\n",
       "      <td>1.623656</td>\n",
       "    </tr>\n",
       "    <tr>\n",
       "      <th>Fuenlabrada</th>\n",
       "      <td>177198.021459</td>\n",
       "      <td>3.025974</td>\n",
       "      <td>103.624365</td>\n",
       "      <td>1.445415</td>\n",
       "    </tr>\n",
       "    <tr>\n",
       "      <th>Getafe</th>\n",
       "      <td>265040.500000</td>\n",
       "      <td>3.151724</td>\n",
       "      <td>126.896266</td>\n",
       "      <td>1.865052</td>\n",
       "    </tr>\n",
       "    <tr>\n",
       "      <th>Leganés</th>\n",
       "      <td>208682.010309</td>\n",
       "      <td>2.906736</td>\n",
       "      <td>105.852273</td>\n",
       "      <td>1.518135</td>\n",
       "    </tr>\n",
       "  </tbody>\n",
       "</table>\n",
       "</div>"
      ]
     },
     "metadata": {},
     "output_type": "display_data"
    },
    {
     "name": "stdout",
     "output_type": "stream",
     "text": [
      "\n"
     ]
    },
    {
     "data": {
      "text/html": [
       "<h2>Varianza de las variables</h2>"
      ],
      "text/plain": [
       "<IPython.core.display.HTML object>"
      ]
     },
     "metadata": {},
     "output_type": "display_data"
    },
    {
     "data": {
      "text/html": [
       "<div>\n",
       "<style scoped>\n",
       "    .dataframe tbody tr th:only-of-type {\n",
       "        vertical-align: middle;\n",
       "    }\n",
       "\n",
       "    .dataframe tbody tr th {\n",
       "        vertical-align: top;\n",
       "    }\n",
       "\n",
       "    .dataframe thead th {\n",
       "        text-align: right;\n",
       "    }\n",
       "</style>\n",
       "<table border=\"1\" class=\"dataframe\">\n",
       "  <thead>\n",
       "    <tr style=\"text-align: right;\">\n",
       "      <th></th>\n",
       "      <th>price</th>\n",
       "      <th>rooms</th>\n",
       "      <th>surface</th>\n",
       "      <th>bathrooms</th>\n",
       "    </tr>\n",
       "    <tr>\n",
       "      <th>level5</th>\n",
       "      <th></th>\n",
       "      <th></th>\n",
       "      <th></th>\n",
       "      <th></th>\n",
       "    </tr>\n",
       "  </thead>\n",
       "  <tbody>\n",
       "    <tr>\n",
       "      <th>Alcorcón</th>\n",
       "      <td>1.594783e+10</td>\n",
       "      <td>0.933895</td>\n",
       "      <td>4244.323834</td>\n",
       "      <td>0.592735</td>\n",
       "    </tr>\n",
       "    <tr>\n",
       "      <th>Fuenlabrada</th>\n",
       "      <td>4.701021e+09</td>\n",
       "      <td>0.355844</td>\n",
       "      <td>2264.643893</td>\n",
       "      <td>0.353367</td>\n",
       "    </tr>\n",
       "    <tr>\n",
       "      <th>Getafe</th>\n",
       "      <td>2.098267e+10</td>\n",
       "      <td>0.772748</td>\n",
       "      <td>5828.110028</td>\n",
       "      <td>0.658809</td>\n",
       "    </tr>\n",
       "    <tr>\n",
       "      <th>Leganés</th>\n",
       "      <td>1.191394e+10</td>\n",
       "      <td>0.824590</td>\n",
       "      <td>3987.475195</td>\n",
       "      <td>0.553055</td>\n",
       "    </tr>\n",
       "  </tbody>\n",
       "</table>\n",
       "</div>"
      ]
     },
     "metadata": {},
     "output_type": "display_data"
    }
   ],
   "source": [
    "df3 = df[df['level5'].isin(('Fuenlabrada', 'Leganés', 'Getafe', 'Alcorcón'))]\n",
    "df3 = df3[['level5', 'price', 'rooms', 'surface', 'bathrooms']].sort_values(by='price', ascending=False)\n",
    "\n",
    "df5 = df3.groupby('level5')\n",
    "df5 = pd.DataFrame(df5.mean())\n",
    "from IPython.display import HTML, display_html, display\n",
    "display(HTML('<h2>Media de las variables</h2>'))\n",
    "display_html(df5)\n",
    "print()\n",
    "\n",
    "#print(\"Variance of the requested variables\")\n",
    "df6 = df3.groupby('level5')\n",
    "df6 = pd.DataFrame(df6.var())\n",
    "from IPython.display import HTML, display_html, display\n",
    "display(HTML('<h2>Varianza de las variables</h2>'))\n",
    "display_html(df6)\n"
   ]
  },
  {
   "cell_type": "markdown",
   "id": "95cfde61",
   "metadata": {},
   "source": [
    "#### What is the most expensive home of each population? (★★☆) "
   ]
  },
  {
   "cell_type": "code",
   "execution_count": 184,
   "id": "1c29f78c",
   "metadata": {},
   "outputs": [
    {
     "data": {
      "text/html": [
       "<div>\n",
       "<style scoped>\n",
       "    .dataframe tbody tr th:only-of-type {\n",
       "        vertical-align: middle;\n",
       "    }\n",
       "\n",
       "    .dataframe tbody tr th {\n",
       "        vertical-align: top;\n",
       "    }\n",
       "\n",
       "    .dataframe thead th {\n",
       "        text-align: right;\n",
       "    }\n",
       "</style>\n",
       "<table border=\"1\" class=\"dataframe\">\n",
       "  <thead>\n",
       "    <tr style=\"text-align: right;\">\n",
       "      <th></th>\n",
       "      <th>level5</th>\n",
       "      <th>price</th>\n",
       "    </tr>\n",
       "  </thead>\n",
       "  <tbody>\n",
       "    <tr>\n",
       "      <th>2881</th>\n",
       "      <td>Getafe</td>\n",
       "      <td>1050000</td>\n",
       "    </tr>\n",
       "    <tr>\n",
       "      <th>5585</th>\n",
       "      <td>Alcorcón</td>\n",
       "      <td>950000</td>\n",
       "    </tr>\n",
       "    <tr>\n",
       "      <th>12204</th>\n",
       "      <td>Getafe</td>\n",
       "      <td>775000</td>\n",
       "    </tr>\n",
       "    <tr>\n",
       "      <th>4900</th>\n",
       "      <td>Getafe</td>\n",
       "      <td>759500</td>\n",
       "    </tr>\n",
       "    <tr>\n",
       "      <th>10412</th>\n",
       "      <td>Leganés</td>\n",
       "      <td>650000</td>\n",
       "    </tr>\n",
       "    <tr>\n",
       "      <th>...</th>\n",
       "      <td>...</td>\n",
       "      <td>...</td>\n",
       "    </tr>\n",
       "    <tr>\n",
       "      <th>4019</th>\n",
       "      <td>Getafe</td>\n",
       "      <td>0</td>\n",
       "    </tr>\n",
       "    <tr>\n",
       "      <th>3989</th>\n",
       "      <td>Getafe</td>\n",
       "      <td>0</td>\n",
       "    </tr>\n",
       "    <tr>\n",
       "      <th>1003</th>\n",
       "      <td>Getafe</td>\n",
       "      <td>0</td>\n",
       "    </tr>\n",
       "    <tr>\n",
       "      <th>3959</th>\n",
       "      <td>Getafe</td>\n",
       "      <td>0</td>\n",
       "    </tr>\n",
       "    <tr>\n",
       "      <th>7356</th>\n",
       "      <td>Getafe</td>\n",
       "      <td>0</td>\n",
       "    </tr>\n",
       "  </tbody>\n",
       "</table>\n",
       "<p>907 rows × 2 columns</p>\n",
       "</div>"
      ],
      "text/plain": [
       "         level5    price\n",
       "2881     Getafe  1050000\n",
       "5585   Alcorcón   950000\n",
       "12204    Getafe   775000\n",
       "4900     Getafe   759500\n",
       "10412   Leganés   650000\n",
       "...         ...      ...\n",
       "4019     Getafe        0\n",
       "3989     Getafe        0\n",
       "1003     Getafe        0\n",
       "3959     Getafe        0\n",
       "7356     Getafe        0\n",
       "\n",
       "[907 rows x 2 columns]"
      ]
     },
     "execution_count": 184,
     "metadata": {},
     "output_type": "execute_result"
    }
   ],
   "source": [
    "df7 = df[df['level5'].isin(('Fuenlabrada', 'Leganés', 'Getafe', 'Alcorcón'))]\n",
    "df7 = df7[['level5', 'price']].sort_values(by='price', ascending=False)\n",
    "df7"
   ]
  },
  {
   "cell_type": "markdown",
   "id": "ea67579b",
   "metadata": {},
   "source": [
    "#### Normalize the variable of prices for each population and plot the 4 histograms in the same plot (★★★) "
   ]
  },
  {
   "cell_type": "code",
   "execution_count": 185,
   "id": "12af7462",
   "metadata": {},
   "outputs": [
    {
     "data": {
      "image/png": "[encoded data removed]",
      "text/plain": [
       "<Figure size 720x720 with 4 Axes>"
      ]
     },
     "metadata": {
      "needs_background": "light"
     },
     "output_type": "display_data"
    }
   ],
   "source": [
    "plt.figure(figsize= (10,10))\n",
    "id_figura=1\n",
    "\n",
    "for nombre_poblacion in ['Fuenlabrada', 'Leganés', 'Getafe', 'Alcorcón']:\n",
    "    \n",
    "    level5 = df['price'][df['level5'] == nombre_poblacion]\n",
    "    max= level5.max()\n",
    "    min= level5.min()\n",
    "    price_normalize = level5 - min\n",
    "    price_normalize = price_normalize / (max-min)\n",
    "    \n",
    "\n",
    "    plt.subplot(2,2,id_figura)\n",
    "    plt.hist(price_normalize, color='g')\n",
    "    id_figura=id_figura+1\n",
    "    plt.title(nombre_poblacion)"
   ]
  },
  {
   "cell_type": "markdown",
   "id": "2ec1bd5c",
   "metadata": {},
   "source": [
    "#### Make a plot of the coordinates (lat and long) of the south belt of Madrid by color of each population (★★★★) \n",
    "This is a extremely hard exercise and we highly recommend to do it at the end of everything"
   ]
  },
  {
   "cell_type": "code",
   "execution_count": 186,
   "id": "312aac99",
   "metadata": {},
   "outputs": [
    {
     "data": {
      "application/vnd.jupyter.widget-view+json": {
       "model_id": "88937f13f3b345f8842a418346c434c0",
       "version_major": 2,
       "version_minor": 0
      },
      "text/plain": [
       "Map(center=[60, -2.2], controls=(ZoomControl(options=['position', 'zoom_in_text', 'zoom_in_title', 'zoom_out_t…"
      ]
     },
     "metadata": {},
     "output_type": "display_data"
    }
   ],
   "source": [
    "# Run in console the following command before run the rest of code:\n",
    "# jupyter nbextension enable --py --sys-prefix ipyleaflet\n",
    "\n",
    "from ipyleaflet import Map, basemaps\n",
    "\n",
    "# Map centred on (60 degrees latitude et -2.2 degrees longitude)\n",
    "# Latitude, longitude\n",
    "map = Map(center = (60, -2.2), zoom = 2, min_zoom = 1, max_zoom = 20, \n",
    "    basemap=basemaps.Stamen.Terrain)\n",
    "map"
   ]
  },
  {
   "cell_type": "code",
   "execution_count": 187,
   "id": "f7931ec0",
   "metadata": {},
   "outputs": [],
   "source": [
    "## HERE: plot the coordinates of the estates\n",
    "\n",
    "## PUT HERE YOUR CODE:\n"
   ]
  },
  {
   "cell_type": "markdown",
   "id": "b22874b7",
   "metadata": {},
   "source": [
    "#### What can you say about the price per square meter between the towns of Getafe and Alcorcón?"
   ]
  },
  {
   "cell_type": "code",
   "execution_count": 188,
   "metadata": {},
   "outputs": [
    {
     "data": {
      "text/html": [
       "<div>\n",
       "<style scoped>\n",
       "    .dataframe tbody tr th:only-of-type {\n",
       "        vertical-align: middle;\n",
       "    }\n",
       "\n",
       "    .dataframe tbody tr th {\n",
       "        vertical-align: top;\n",
       "    }\n",
       "\n",
       "    .dataframe thead th {\n",
       "        text-align: right;\n",
       "    }\n",
       "</style>\n",
       "<table border=\"1\" class=\"dataframe\">\n",
       "  <thead>\n",
       "    <tr style=\"text-align: right;\">\n",
       "      <th></th>\n",
       "      <th>price</th>\n",
       "      <th>surface</th>\n",
       "    </tr>\n",
       "  </thead>\n",
       "  <tbody>\n",
       "    <tr>\n",
       "      <th>count</th>\n",
       "      <td>4.800000e+02</td>\n",
       "      <td>414.000000</td>\n",
       "    </tr>\n",
       "    <tr>\n",
       "      <th>mean</th>\n",
       "      <td>2.511984e+05</td>\n",
       "      <td>118.128019</td>\n",
       "    </tr>\n",
       "    <tr>\n",
       "      <th>std</th>\n",
       "      <td>1.387275e+05</td>\n",
       "      <td>72.538046</td>\n",
       "    </tr>\n",
       "    <tr>\n",
       "      <th>min</th>\n",
       "      <td>0.000000e+00</td>\n",
       "      <td>45.000000</td>\n",
       "    </tr>\n",
       "    <tr>\n",
       "      <th>25%</th>\n",
       "      <td>1.358750e+05</td>\n",
       "      <td>70.000000</td>\n",
       "    </tr>\n",
       "    <tr>\n",
       "      <th>50%</th>\n",
       "      <td>2.360000e+05</td>\n",
       "      <td>99.500000</td>\n",
       "    </tr>\n",
       "    <tr>\n",
       "      <th>75%</th>\n",
       "      <td>3.600000e+05</td>\n",
       "      <td>140.000000</td>\n",
       "    </tr>\n",
       "    <tr>\n",
       "      <th>max</th>\n",
       "      <td>1.050000e+06</td>\n",
       "      <td>722.000000</td>\n",
       "    </tr>\n",
       "  </tbody>\n",
       "</table>\n",
       "</div>"
      ],
      "text/plain": [
       "              price     surface\n",
       "count  4.800000e+02  414.000000\n",
       "mean   2.511984e+05  118.128019\n",
       "std    1.387275e+05   72.538046\n",
       "min    0.000000e+00   45.000000\n",
       "25%    1.358750e+05   70.000000\n",
       "50%    2.360000e+05   99.500000\n",
       "75%    3.600000e+05  140.000000\n",
       "max    1.050000e+06  722.000000"
      ]
     },
     "execution_count": 188,
     "metadata": {},
     "output_type": "execute_result"
    }
   ],
   "source": [
    "filtro_ciudades = df[df['level5'].isin(('Getafe', 'Alcorcón'))]\n",
    "filtro_ciudades[[ 'price', 'surface']].describe()"
   ]
  },
  {
   "cell_type": "markdown",
   "id": "aa5eca1b",
   "metadata": {},
   "source": [
    "Encontramos un valor inconsistente dado que el mínimo es \"min\t0.000000e+00\t45.000000\"\n",
    "Entre el primer y tercer cuartil, si bien hay una diferencia de la mitad del área pero el precio no sigue la misma linealidad. Tampoco se ve reflejado la linealidad hacia el cuarto cuadril."
   ]
  },
  {
   "cell_type": "markdown",
   "id": "a4376b3f",
   "metadata": {},
   "source": [
    "#### Reload the data, is the average of \"Valdemorillo\" and \"Galapagar\" prices the same?"
   ]
  },
  {
   "cell_type": "code",
   "execution_count": 189,
   "id": "db34e593",
   "metadata": {},
   "outputs": [
    {
     "data": {
      "text/html": [
       "<div>\n",
       "<style scoped>\n",
       "    .dataframe tbody tr th:only-of-type {\n",
       "        vertical-align: middle;\n",
       "    }\n",
       "\n",
       "    .dataframe tbody tr th {\n",
       "        vertical-align: top;\n",
       "    }\n",
       "\n",
       "    .dataframe thead th {\n",
       "        text-align: right;\n",
       "    }\n",
       "</style>\n",
       "<table border=\"1\" class=\"dataframe\">\n",
       "  <thead>\n",
       "    <tr style=\"text-align: right;\">\n",
       "      <th></th>\n",
       "      <th>level5</th>\n",
       "      <th>price</th>\n",
       "    </tr>\n",
       "  </thead>\n",
       "  <tbody>\n",
       "    <tr>\n",
       "      <th>7545</th>\n",
       "      <td>Valdemorillo</td>\n",
       "      <td>1350000</td>\n",
       "    </tr>\n",
       "    <tr>\n",
       "      <th>10138</th>\n",
       "      <td>Galapagar</td>\n",
       "      <td>995000</td>\n",
       "    </tr>\n",
       "    <tr>\n",
       "      <th>10108</th>\n",
       "      <td>Galapagar</td>\n",
       "      <td>995000</td>\n",
       "    </tr>\n",
       "    <tr>\n",
       "      <th>10902</th>\n",
       "      <td>Galapagar</td>\n",
       "      <td>950000</td>\n",
       "    </tr>\n",
       "    <tr>\n",
       "      <th>1198</th>\n",
       "      <td>Galapagar</td>\n",
       "      <td>825000</td>\n",
       "    </tr>\n",
       "    <tr>\n",
       "      <th>...</th>\n",
       "      <td>...</td>\n",
       "      <td>...</td>\n",
       "    </tr>\n",
       "    <tr>\n",
       "      <th>8447</th>\n",
       "      <td>Galapagar</td>\n",
       "      <td>120000</td>\n",
       "    </tr>\n",
       "    <tr>\n",
       "      <th>6889</th>\n",
       "      <td>Galapagar</td>\n",
       "      <td>117800</td>\n",
       "    </tr>\n",
       "    <tr>\n",
       "      <th>15059</th>\n",
       "      <td>Valdemorillo</td>\n",
       "      <td>103000</td>\n",
       "    </tr>\n",
       "    <tr>\n",
       "      <th>4375</th>\n",
       "      <td>Galapagar</td>\n",
       "      <td>102600</td>\n",
       "    </tr>\n",
       "    <tr>\n",
       "      <th>5417</th>\n",
       "      <td>Galapagar</td>\n",
       "      <td>79900</td>\n",
       "    </tr>\n",
       "  </tbody>\n",
       "</table>\n",
       "<p>142 rows × 2 columns</p>\n",
       "</div>"
      ],
      "text/plain": [
       "             level5    price\n",
       "7545   Valdemorillo  1350000\n",
       "10138     Galapagar   995000\n",
       "10108     Galapagar   995000\n",
       "10902     Galapagar   950000\n",
       "1198      Galapagar   825000\n",
       "...             ...      ...\n",
       "8447      Galapagar   120000\n",
       "6889      Galapagar   117800\n",
       "15059  Valdemorillo   103000\n",
       "4375      Galapagar   102600\n",
       "5417      Galapagar    79900\n",
       "\n",
       "[142 rows x 2 columns]"
      ]
     },
     "execution_count": 189,
     "metadata": {},
     "output_type": "execute_result"
    }
   ],
   "source": [
    "prueba3= df[df['level5'] == 'Valdemorillo']\n",
    "prueba4= df[df['level5'] == 'Galapagar']\n",
    "prueba3 = pd.DataFrame(prueba3)\n",
    "prueba4 = pd.DataFrame(prueba4)\n",
    "prueba5= pd.concat([prueba3, prueba4])\n",
    "prueba6= prueba5[['level5', 'price']].sort_values(by='price', ascending=False)\n",
    "prueba6"
   ]
  },
  {
   "cell_type": "code",
   "execution_count": 201,
   "id": "b2f237cd",
   "metadata": {},
   "outputs": [
    {
     "name": "stdout",
     "output_type": "stream",
     "text": [
      "Precio promedio de Valdemorillo es: $  price    363860.293103\n",
      "dtype: float64\n",
      "Precio promedio de Galapagar es: $  price    360063.202381\n",
      "dtype: float64\n",
      "\n",
      "No tienen el mismo precio\n"
     ]
    },
    {
     "name": "stderr",
     "output_type": "stream",
     "text": [
      "/tmp/ipykernel_1566/1936755503.py:1: FutureWarning: Dropping of nuisance columns in DataFrame reductions (with 'numeric_only=None') is deprecated; in a future version this will raise TypeError.  Select only valid columns before calling the reduction.\n",
      "  print(\"Precio promedio de Valdemorillo es: $ \", prueba6[prueba6['level5'] == 'Valdemorillo'].mean())\n",
      "/tmp/ipykernel_1566/1936755503.py:2: FutureWarning: Dropping of nuisance columns in DataFrame reductions (with 'numeric_only=None') is deprecated; in a future version this will raise TypeError.  Select only valid columns before calling the reduction.\n",
      "  print(\"Precio promedio de Galapagar es: $ \", prueba6[prueba6['level5'] == 'Galapagar'].mean())\n"
     ]
    }
   ],
   "source": [
    "print(\"Precio promedio de Valdemorillo es: $ \", prueba6[prueba6['level5'] == 'Valdemorillo'].mean())\n",
    "print(\"Precio promedio de Galapagar es: $ \", prueba6[prueba6['level5'] == 'Galapagar'].mean())\n",
    "print()\n",
    "print(\"No tienen el mismo precio\")"
   ]
  },
  {
   "cell_type": "markdown",
   "id": "b6af45ec",
   "metadata": {},
   "source": [
    "#### What happens if we do the same analysis for price/m2 (★★☆) "
   ]
  },
  {
   "cell_type": "code",
   "execution_count": 223,
   "id": "a91aeabe",
   "metadata": {},
   "outputs": [
    {
     "data": {
      "text/html": [
       "<div>\n",
       "<style scoped>\n",
       "    .dataframe tbody tr th:only-of-type {\n",
       "        vertical-align: middle;\n",
       "    }\n",
       "\n",
       "    .dataframe tbody tr th {\n",
       "        vertical-align: top;\n",
       "    }\n",
       "\n",
       "    .dataframe thead th {\n",
       "        text-align: right;\n",
       "    }\n",
       "</style>\n",
       "<table border=\"1\" class=\"dataframe\">\n",
       "  <thead>\n",
       "    <tr style=\"text-align: right;\">\n",
       "      <th></th>\n",
       "      <th>level5</th>\n",
       "      <th>price</th>\n",
       "      <th>surface</th>\n",
       "      <th>precio_m2</th>\n",
       "    </tr>\n",
       "  </thead>\n",
       "  <tbody>\n",
       "    <tr>\n",
       "      <th>7545</th>\n",
       "      <td>Valdemorillo</td>\n",
       "      <td>1350000</td>\n",
       "      <td>500.0</td>\n",
       "      <td>2700.000000</td>\n",
       "    </tr>\n",
       "    <tr>\n",
       "      <th>10138</th>\n",
       "      <td>Galapagar</td>\n",
       "      <td>995000</td>\n",
       "      <td>367.0</td>\n",
       "      <td>2711.171662</td>\n",
       "    </tr>\n",
       "    <tr>\n",
       "      <th>10108</th>\n",
       "      <td>Galapagar</td>\n",
       "      <td>995000</td>\n",
       "      <td>367.0</td>\n",
       "      <td>2711.171662</td>\n",
       "    </tr>\n",
       "    <tr>\n",
       "      <th>10902</th>\n",
       "      <td>Galapagar</td>\n",
       "      <td>950000</td>\n",
       "      <td>412.0</td>\n",
       "      <td>2305.825243</td>\n",
       "    </tr>\n",
       "    <tr>\n",
       "      <th>1198</th>\n",
       "      <td>Galapagar</td>\n",
       "      <td>825000</td>\n",
       "      <td>5083.0</td>\n",
       "      <td>162.305725</td>\n",
       "    </tr>\n",
       "    <tr>\n",
       "      <th>...</th>\n",
       "      <td>...</td>\n",
       "      <td>...</td>\n",
       "      <td>...</td>\n",
       "      <td>...</td>\n",
       "    </tr>\n",
       "    <tr>\n",
       "      <th>8477</th>\n",
       "      <td>Galapagar</td>\n",
       "      <td>120000</td>\n",
       "      <td>43.0</td>\n",
       "      <td>2790.697674</td>\n",
       "    </tr>\n",
       "    <tr>\n",
       "      <th>8447</th>\n",
       "      <td>Galapagar</td>\n",
       "      <td>120000</td>\n",
       "      <td>43.0</td>\n",
       "      <td>2790.697674</td>\n",
       "    </tr>\n",
       "    <tr>\n",
       "      <th>6889</th>\n",
       "      <td>Galapagar</td>\n",
       "      <td>117800</td>\n",
       "      <td>80.0</td>\n",
       "      <td>1472.500000</td>\n",
       "    </tr>\n",
       "    <tr>\n",
       "      <th>15059</th>\n",
       "      <td>Valdemorillo</td>\n",
       "      <td>103000</td>\n",
       "      <td>55.0</td>\n",
       "      <td>1872.727273</td>\n",
       "    </tr>\n",
       "    <tr>\n",
       "      <th>4375</th>\n",
       "      <td>Galapagar</td>\n",
       "      <td>102600</td>\n",
       "      <td>68.0</td>\n",
       "      <td>1508.823529</td>\n",
       "    </tr>\n",
       "  </tbody>\n",
       "</table>\n",
       "<p>128 rows × 4 columns</p>\n",
       "</div>"
      ],
      "text/plain": [
       "             level5    price  surface    precio_m2\n",
       "7545   Valdemorillo  1350000    500.0  2700.000000\n",
       "10138     Galapagar   995000    367.0  2711.171662\n",
       "10108     Galapagar   995000    367.0  2711.171662\n",
       "10902     Galapagar   950000    412.0  2305.825243\n",
       "1198      Galapagar   825000   5083.0   162.305725\n",
       "...             ...      ...      ...          ...\n",
       "8477      Galapagar   120000     43.0  2790.697674\n",
       "8447      Galapagar   120000     43.0  2790.697674\n",
       "6889      Galapagar   117800     80.0  1472.500000\n",
       "15059  Valdemorillo   103000     55.0  1872.727273\n",
       "4375      Galapagar   102600     68.0  1508.823529\n",
       "\n",
       "[128 rows x 4 columns]"
      ]
     },
     "execution_count": 223,
     "metadata": {},
     "output_type": "execute_result"
    }
   ],
   "source": [
    "prueba8= df[df['level5'] == 'Valdemorillo']\n",
    "prueba9= df[df['level5'] == 'Galapagar']\n",
    "prueba8 = pd.DataFrame(prueba8)\n",
    "prueba9 = pd.DataFrame(prueba9)\n",
    "prueba10= pd.concat([prueba8, prueba9])\n",
    "prueba10= prueba10[['level5', 'price', 'surface']].sort_values(by='price', ascending=False)\n",
    "prueba10['precio_m2'] = prueba10['price'] / prueba10['surface']\n",
    "prueba10.dropna()\n"
   ]
  },
  {
   "cell_type": "code",
   "execution_count": 281,
   "id": "50cb410c",
   "metadata": {},
   "outputs": [
    {
     "name": "stdout",
     "output_type": "stream",
     "text": [
      "Precio promedio de Valdemorillo es: $ 1317.95\n",
      "Precio promedio de Galapagar es: $ 1606.32\n",
      "No tienen el mismo precio\n"
     ]
    }
   ],
   "source": [
    "df_p7 =prueba10.loc[:, 'level5'] == 'Valdemorillo'\n",
    "df_p7 = prueba10.loc[df_p7]\n",
    "a= df_p7['precio_m2'].mean()\n",
    "df_p8 =prueba10.loc[:, 'level5'] == 'Galapagar'\n",
    "df_p8 = prueba10.loc[df_p8]\n",
    "b= df_p8['precio_m2'].mean()\n",
    "print(\"Precio promedio de Valdemorillo es: $ {:.2f}\".format(a) )\n",
    "print(\"Precio promedio de Galapagar es: $ {:.2f}\".format(b) )\n",
    "if a == b:\n",
    "    print('Ambos tienen el mismo precio')\n",
    "else:\n",
    "    print('No tienen el mismo precio')"
   ]
  },
  {
   "cell_type": "markdown",
   "id": "655a21e5",
   "metadata": {},
   "source": [
    "#### Could you say there is a relation between surface and price? (★★☆) \n",
    "Hint: make a scatter plot."
   ]
  },
  {
   "cell_type": "code",
   "execution_count": 203,
   "id": "8aadd6f7",
   "metadata": {},
   "outputs": [
    {
     "data": {
      "text/html": [
       "<div>\n",
       "<style scoped>\n",
       "    .dataframe tbody tr th:only-of-type {\n",
       "        vertical-align: middle;\n",
       "    }\n",
       "\n",
       "    .dataframe tbody tr th {\n",
       "        vertical-align: top;\n",
       "    }\n",
       "\n",
       "    .dataframe thead th {\n",
       "        text-align: right;\n",
       "    }\n",
       "</style>\n",
       "<table border=\"1\" class=\"dataframe\">\n",
       "  <thead>\n",
       "    <tr style=\"text-align: right;\">\n",
       "      <th></th>\n",
       "      <th>level5</th>\n",
       "      <th>price</th>\n",
       "      <th>surface</th>\n",
       "    </tr>\n",
       "  </thead>\n",
       "  <tbody>\n",
       "    <tr>\n",
       "      <th>7545</th>\n",
       "      <td>Valdemorillo</td>\n",
       "      <td>1350000</td>\n",
       "      <td>500.0</td>\n",
       "    </tr>\n",
       "    <tr>\n",
       "      <th>10138</th>\n",
       "      <td>Galapagar</td>\n",
       "      <td>995000</td>\n",
       "      <td>367.0</td>\n",
       "    </tr>\n",
       "    <tr>\n",
       "      <th>10108</th>\n",
       "      <td>Galapagar</td>\n",
       "      <td>995000</td>\n",
       "      <td>367.0</td>\n",
       "    </tr>\n",
       "    <tr>\n",
       "      <th>10902</th>\n",
       "      <td>Galapagar</td>\n",
       "      <td>950000</td>\n",
       "      <td>412.0</td>\n",
       "    </tr>\n",
       "    <tr>\n",
       "      <th>1198</th>\n",
       "      <td>Galapagar</td>\n",
       "      <td>825000</td>\n",
       "      <td>5083.0</td>\n",
       "    </tr>\n",
       "    <tr>\n",
       "      <th>...</th>\n",
       "      <td>...</td>\n",
       "      <td>...</td>\n",
       "      <td>...</td>\n",
       "    </tr>\n",
       "    <tr>\n",
       "      <th>8447</th>\n",
       "      <td>Galapagar</td>\n",
       "      <td>120000</td>\n",
       "      <td>43.0</td>\n",
       "    </tr>\n",
       "    <tr>\n",
       "      <th>6889</th>\n",
       "      <td>Galapagar</td>\n",
       "      <td>117800</td>\n",
       "      <td>80.0</td>\n",
       "    </tr>\n",
       "    <tr>\n",
       "      <th>15059</th>\n",
       "      <td>Valdemorillo</td>\n",
       "      <td>103000</td>\n",
       "      <td>55.0</td>\n",
       "    </tr>\n",
       "    <tr>\n",
       "      <th>4375</th>\n",
       "      <td>Galapagar</td>\n",
       "      <td>102600</td>\n",
       "      <td>68.0</td>\n",
       "    </tr>\n",
       "    <tr>\n",
       "      <th>5417</th>\n",
       "      <td>Galapagar</td>\n",
       "      <td>79900</td>\n",
       "      <td>NaN</td>\n",
       "    </tr>\n",
       "  </tbody>\n",
       "</table>\n",
       "<p>142 rows × 3 columns</p>\n",
       "</div>"
      ],
      "text/plain": [
       "             level5    price  surface\n",
       "7545   Valdemorillo  1350000    500.0\n",
       "10138     Galapagar   995000    367.0\n",
       "10108     Galapagar   995000    367.0\n",
       "10902     Galapagar   950000    412.0\n",
       "1198      Galapagar   825000   5083.0\n",
       "...             ...      ...      ...\n",
       "8447      Galapagar   120000     43.0\n",
       "6889      Galapagar   117800     80.0\n",
       "15059  Valdemorillo   103000     55.0\n",
       "4375      Galapagar   102600     68.0\n",
       "5417      Galapagar    79900      NaN\n",
       "\n",
       "[142 rows x 3 columns]"
      ]
     },
     "execution_count": 203,
     "metadata": {},
     "output_type": "execute_result"
    }
   ],
   "source": [
    "prueba3= df[df['level5'] == 'Valdemorillo']\n",
    "prueba4= df[df['level5'] == 'Galapagar']\n",
    "prueba3 = pd.DataFrame(prueba3)\n",
    "prueba4 = pd.DataFrame(prueba4)\n",
    "prueba5= pd.concat([prueba3, prueba4])\n",
    "prueba6= prueba5[['level5', 'price', 'surface']].sort_values(by='price', ascending=False)\n",
    "prueba6\n"
   ]
  },
  {
   "cell_type": "code",
   "execution_count": 212,
   "id": "c26d3745",
   "metadata": {},
   "outputs": [
    {
     "data": {
      "text/html": [
       "<div>\n",
       "<style scoped>\n",
       "    .dataframe tbody tr th:only-of-type {\n",
       "        vertical-align: middle;\n",
       "    }\n",
       "\n",
       "    .dataframe tbody tr th {\n",
       "        vertical-align: top;\n",
       "    }\n",
       "\n",
       "    .dataframe thead th {\n",
       "        text-align: right;\n",
       "    }\n",
       "</style>\n",
       "<table border=\"1\" class=\"dataframe\">\n",
       "  <thead>\n",
       "    <tr style=\"text-align: right;\">\n",
       "      <th></th>\n",
       "      <th>level5</th>\n",
       "      <th>price</th>\n",
       "      <th>surface</th>\n",
       "    </tr>\n",
       "  </thead>\n",
       "  <tbody>\n",
       "    <tr>\n",
       "      <th>7545</th>\n",
       "      <td>Valdemorillo</td>\n",
       "      <td>1350000</td>\n",
       "      <td>500.0</td>\n",
       "    </tr>\n",
       "    <tr>\n",
       "      <th>545</th>\n",
       "      <td>Valdemorillo</td>\n",
       "      <td>749000</td>\n",
       "      <td>426.0</td>\n",
       "    </tr>\n",
       "    <tr>\n",
       "      <th>6967</th>\n",
       "      <td>Valdemorillo</td>\n",
       "      <td>675000</td>\n",
       "      <td>400.0</td>\n",
       "    </tr>\n",
       "    <tr>\n",
       "      <th>6937</th>\n",
       "      <td>Valdemorillo</td>\n",
       "      <td>675000</td>\n",
       "      <td>400.0</td>\n",
       "    </tr>\n",
       "    <tr>\n",
       "      <th>14911</th>\n",
       "      <td>Valdemorillo</td>\n",
       "      <td>530000</td>\n",
       "      <td>NaN</td>\n",
       "    </tr>\n",
       "  </tbody>\n",
       "</table>\n",
       "</div>"
      ],
      "text/plain": [
       "             level5    price  surface\n",
       "7545   Valdemorillo  1350000    500.0\n",
       "545    Valdemorillo   749000    426.0\n",
       "6967   Valdemorillo   675000    400.0\n",
       "6937   Valdemorillo   675000    400.0\n",
       "14911  Valdemorillo   530000      NaN"
      ]
     },
     "execution_count": 212,
     "metadata": {},
     "output_type": "execute_result"
    }
   ],
   "source": [
    "df_p6 =prueba6.loc[:, 'level5'] == 'Valdemorillo'\n",
    "df_p6 = prueba6.loc[df_p6]\n",
    "df_p6.head()"
   ]
  },
  {
   "cell_type": "code",
   "execution_count": 214,
   "id": "b400a119",
   "metadata": {},
   "outputs": [
    {
     "data": {
      "text/html": [
       "<div>\n",
       "<style scoped>\n",
       "    .dataframe tbody tr th:only-of-type {\n",
       "        vertical-align: middle;\n",
       "    }\n",
       "\n",
       "    .dataframe tbody tr th {\n",
       "        vertical-align: top;\n",
       "    }\n",
       "\n",
       "    .dataframe thead th {\n",
       "        text-align: right;\n",
       "    }\n",
       "</style>\n",
       "<table border=\"1\" class=\"dataframe\">\n",
       "  <thead>\n",
       "    <tr style=\"text-align: right;\">\n",
       "      <th></th>\n",
       "      <th>level5</th>\n",
       "      <th>price</th>\n",
       "      <th>surface</th>\n",
       "    </tr>\n",
       "  </thead>\n",
       "  <tbody>\n",
       "    <tr>\n",
       "      <th>10138</th>\n",
       "      <td>Galapagar</td>\n",
       "      <td>995000</td>\n",
       "      <td>367.0</td>\n",
       "    </tr>\n",
       "    <tr>\n",
       "      <th>10108</th>\n",
       "      <td>Galapagar</td>\n",
       "      <td>995000</td>\n",
       "      <td>367.0</td>\n",
       "    </tr>\n",
       "    <tr>\n",
       "      <th>10902</th>\n",
       "      <td>Galapagar</td>\n",
       "      <td>950000</td>\n",
       "      <td>412.0</td>\n",
       "    </tr>\n",
       "    <tr>\n",
       "      <th>1198</th>\n",
       "      <td>Galapagar</td>\n",
       "      <td>825000</td>\n",
       "      <td>5083.0</td>\n",
       "    </tr>\n",
       "    <tr>\n",
       "      <th>576</th>\n",
       "      <td>Galapagar</td>\n",
       "      <td>798500</td>\n",
       "      <td>575.0</td>\n",
       "    </tr>\n",
       "  </tbody>\n",
       "</table>\n",
       "</div>"
      ],
      "text/plain": [
       "          level5   price  surface\n",
       "10138  Galapagar  995000    367.0\n",
       "10108  Galapagar  995000    367.0\n",
       "10902  Galapagar  950000    412.0\n",
       "1198   Galapagar  825000   5083.0\n",
       "576    Galapagar  798500    575.0"
      ]
     },
     "execution_count": 214,
     "metadata": {},
     "output_type": "execute_result"
    }
   ],
   "source": [
    "df_p7 =prueba6.loc[:, 'level5'] == 'Galapagar'\n",
    "df_p7 = prueba6.loc[df_p7]\n",
    "df_p7.head()"
   ]
  },
  {
   "cell_type": "code",
   "execution_count": 220,
   "id": "35bf22a4",
   "metadata": {},
   "outputs": [
    {
     "data": {
      "image/png": "[encoded data removed]",
      "text/plain": [
       "<Figure size 720x360 with 1 Axes>"
      ]
     },
     "metadata": {
      "needs_background": "light"
     },
     "output_type": "display_data"
    }
   ],
   "source": [
    "plt.figure(figsize=(10, 5))\n",
    "plt.scatter(df_p6['price'], df_p6['surface'], alpha=0.7, label= 'Valdemorillo')\n",
    "plt.scatter(df_p7['price'], df_p7['surface'], alpha=0.7, label= 'Galapagar')\n",
    "plt.legend(loc= 1)\n",
    "plt.show()\n"
   ]
  },
  {
   "cell_type": "markdown",
   "id": "3275db77",
   "metadata": {},
   "source": [
    "#### Make the same plot for 4 different populations (level5) and rearrange them on the same graph? (★★☆) \n",
    "Hint: make a scatter plot of each population using subplots."
   ]
  },
  {
   "cell_type": "code",
   "execution_count": 194,
   "id": "e08292ff",
   "metadata": {},
   "outputs": [
    {
     "data": {
      "image/png": "[encoded data removed]",
      "text/plain": [
       "<Figure size 1800x504 with 4 Axes>"
      ]
     },
     "metadata": {
      "needs_background": "light"
     },
     "output_type": "display_data"
    }
   ],
   "source": [
    "df8 = df[['level5', 'price', 'surface']]\n",
    "filtro_poblacion = ('Los Molinos', 'San Lorenzo de El Escorial', 'Loeches', 'Alcorcón')\n",
    "poblacion_df8 = {poblacion: df8[df8['level5'] == poblacion].dropna()\n",
    "    for poblacion in filtro_poblacion}\n",
    "plt.figure(figsize=(25, 7))\n",
    "\n",
    "for index, poblacion in enumerate(filtro_poblacion):\n",
    "\n",
    "    plt.subplot(1, 5, index + 1)\n",
    "    plt.scatter(poblacion_df8[filtro_poblacion[index]]['price'], poblacion_df8[filtro_poblacion[index]]['surface'], label=filtro_poblacion[index])\n",
    "    plt.legend(loc='upper center')\n",
    "    plt.xlabel('Precio')\n",
    "    plt.ylabel('Poblacion')\n",
    "\n",
    "plt.show()"
   ]
  },
  {
   "cell_type": "markdown",
   "id": "522c6bd9",
   "metadata": {},
   "source": [
    "#### How many  real estate agencies the dataset contains? (★★☆) "
   ]
  },
  {
   "cell_type": "code",
   "execution_count": 195,
   "id": "014ec6c8",
   "metadata": {},
   "outputs": [
    {
     "name": "stdout",
     "output_type": "stream",
     "text": [
      "14217\n"
     ]
    }
   ],
   "source": [
    "filtro_columna = df.groupby(['id_realEstates'])\n",
    "filtro_df = filtro_columna['id_realEstates']\n",
    "print(len(filtro_columna.size()))"
   ]
  },
  {
   "cell_type": "markdown",
   "id": "899a101e",
   "metadata": {},
   "source": [
    "#### What is the population (level 5) that contains the most houses? (★★☆) "
   ]
  },
  {
   "cell_type": "code",
   "execution_count": 196,
   "id": "9e8b34ba",
   "metadata": {},
   "outputs": [
    {
     "name": "stdout",
     "output_type": "stream",
     "text": [
      " Madrid Capital\n"
     ]
    }
   ],
   "source": [
    "filtro_columna = df.groupby(['level5'])\n",
    "cantidad_casas = filtro_columna['level5'].count()\n",
    "print(cantidad_casas.idxmax())"
   ]
  }
 ],
 "metadata": {
  "kernelspec": {
   "display_name": "Python 3.8.13 64-bit ('3.8.13')",
   "language": "python",
   "name": "python3"
  },
  "language_info": {
   "codemirror_mode": {
    "name": "ipython",
    "version": 3
   },
   "file_extension": ".py",
   "mimetype": "text/x-python",
   "name": "python",
   "nbconvert_exporter": "python",
   "pygments_lexer": "ipython3",
   "version": "3.8.13"
  },
  "vscode": {
   "interpreter": {
    "hash": "110cc1dee26208153f2972f08a2ad52b6a56238dc66d48e87fb757ef2996db56"
   }
  }
 },
 "nbformat": 4,
 "nbformat_minor": 5
}
