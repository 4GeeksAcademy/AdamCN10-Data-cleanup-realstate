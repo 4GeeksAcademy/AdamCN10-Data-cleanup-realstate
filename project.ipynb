{
 "cells": [
  {
   "attachments": {},
   "cell_type": "markdown",
   "id": "innocent-university",
   "metadata": {},
   "source": [
    "# Real Estate Clean up\n",
    "\n",
    "This is a real dataset and it was downloaded using web scraping techniques. The data contains registers from fotocasa which is one of the most popular websites of real estate in Spain. Please, do not do this (web scraping) unless it is for academic purposes.\n",
    "\n",
    "The dataset was downloaded a few years ago by Henry Navarro and In no case were economic returns obtained from it.\n",
    "\n",
    "It contains thousands of data from real houses published on the web www.fotocasa.com. Your goal is to extract as much information as possible with the knowledge you have so far about data science, for example what is the most expensive house in the entire dataset?\n",
    "\n",
    "Let's start with precisely that question... Good luck!"
   ]
  },
  {
   "attachments": {},
   "cell_type": "markdown",
   "id": "multiple-glass",
   "metadata": {},
   "source": [
    "#### Exercise 00. Read the dataset assets/real_estate.csv and try to visualize the table (★☆☆)"
   ]
  },
  {
   "cell_type": "code",
   "execution_count": null,
   "id": "frank-heath",
   "metadata": {},
   "outputs": [
    {
     "data": {
      "text/html": [
       "<div>\n",
       "<style scoped>\n",
       "    .dataframe tbody tr th:only-of-type {\n",
       "        vertical-align: middle;\n",
       "    }\n",
       "\n",
       "    .dataframe tbody tr th {\n",
       "        vertical-align: top;\n",
       "    }\n",
       "\n",
       "    .dataframe thead th {\n",
       "        text-align: right;\n",
       "    }\n",
       "</style>\n",
       "<table border=\"1\" class=\"dataframe\">\n",
       "  <thead>\n",
       "    <tr style=\"text-align: right;\">\n",
       "      <th></th>\n",
       "      <th>Unnamed: 0</th>\n",
       "      <th>id_realEstates</th>\n",
       "      <th>isNew</th>\n",
       "      <th>realEstate_name</th>\n",
       "      <th>phone_realEstate</th>\n",
       "      <th>url_inmueble</th>\n",
       "      <th>rooms</th>\n",
       "      <th>bathrooms</th>\n",
       "      <th>surface</th>\n",
       "      <th>price</th>\n",
       "      <th>...</th>\n",
       "      <th>level4Id</th>\n",
       "      <th>level5Id</th>\n",
       "      <th>level6Id</th>\n",
       "      <th>level7Id</th>\n",
       "      <th>level8Id</th>\n",
       "      <th>accuracy</th>\n",
       "      <th>latitude</th>\n",
       "      <th>longitude</th>\n",
       "      <th>zipCode</th>\n",
       "      <th>customZone</th>\n",
       "    </tr>\n",
       "  </thead>\n",
       "  <tbody>\n",
       "    <tr>\n",
       "      <th>0</th>\n",
       "      <td>1</td>\n",
       "      <td>153771986</td>\n",
       "      <td>False</td>\n",
       "      <td>ferrari 57 inmobiliaria</td>\n",
       "      <td>912177526.0</td>\n",
       "      <td>https://www.fotocasa.es/es/comprar/vivienda/ma...</td>\n",
       "      <td>3.0</td>\n",
       "      <td>2.0</td>\n",
       "      <td>103.0</td>\n",
       "      <td>195000</td>\n",
       "      <td>...</td>\n",
       "      <td>0</td>\n",
       "      <td>0</td>\n",
       "      <td>0</td>\n",
       "      <td>0</td>\n",
       "      <td>0</td>\n",
       "      <td>0</td>\n",
       "      <td>40,2948276786438</td>\n",
       "      <td>-3,44402412135624</td>\n",
       "      <td>NaN</td>\n",
       "      <td>NaN</td>\n",
       "    </tr>\n",
       "    <tr>\n",
       "      <th>1</th>\n",
       "      <td>2</td>\n",
       "      <td>153867863</td>\n",
       "      <td>False</td>\n",
       "      <td>tecnocasa fuenlabrada ferrocarril</td>\n",
       "      <td>916358736.0</td>\n",
       "      <td>https://www.fotocasa.es/es/comprar/vivienda/ma...</td>\n",
       "      <td>3.0</td>\n",
       "      <td>1.0</td>\n",
       "      <td>NaN</td>\n",
       "      <td>89000</td>\n",
       "      <td>...</td>\n",
       "      <td>0</td>\n",
       "      <td>0</td>\n",
       "      <td>0</td>\n",
       "      <td>0</td>\n",
       "      <td>0</td>\n",
       "      <td>1</td>\n",
       "      <td>40,28674</td>\n",
       "      <td>-3,79351</td>\n",
       "      <td>NaN</td>\n",
       "      <td>NaN</td>\n",
       "    </tr>\n",
       "    <tr>\n",
       "      <th>2</th>\n",
       "      <td>3</td>\n",
       "      <td>153430440</td>\n",
       "      <td>False</td>\n",
       "      <td>look find boadilla</td>\n",
       "      <td>916350408.0</td>\n",
       "      <td>https://www.fotocasa.es/es/comprar/vivienda/ma...</td>\n",
       "      <td>2.0</td>\n",
       "      <td>2.0</td>\n",
       "      <td>99.0</td>\n",
       "      <td>390000</td>\n",
       "      <td>...</td>\n",
       "      <td>0</td>\n",
       "      <td>0</td>\n",
       "      <td>0</td>\n",
       "      <td>0</td>\n",
       "      <td>0</td>\n",
       "      <td>0</td>\n",
       "      <td>40,4115646786438</td>\n",
       "      <td>-3,90662252135624</td>\n",
       "      <td>NaN</td>\n",
       "      <td>NaN</td>\n",
       "    </tr>\n",
       "    <tr>\n",
       "      <th>3</th>\n",
       "      <td>4</td>\n",
       "      <td>152776331</td>\n",
       "      <td>False</td>\n",
       "      <td>tecnocasa fuenlabrada ferrocarril</td>\n",
       "      <td>916358736.0</td>\n",
       "      <td>https://www.fotocasa.es/es/comprar/vivienda/ma...</td>\n",
       "      <td>3.0</td>\n",
       "      <td>1.0</td>\n",
       "      <td>86.0</td>\n",
       "      <td>89000</td>\n",
       "      <td>...</td>\n",
       "      <td>0</td>\n",
       "      <td>0</td>\n",
       "      <td>0</td>\n",
       "      <td>0</td>\n",
       "      <td>0</td>\n",
       "      <td>0</td>\n",
       "      <td>40,2853785786438</td>\n",
       "      <td>-3,79508142135624</td>\n",
       "      <td>NaN</td>\n",
       "      <td>NaN</td>\n",
       "    </tr>\n",
       "    <tr>\n",
       "      <th>4</th>\n",
       "      <td>5</td>\n",
       "      <td>153180188</td>\n",
       "      <td>False</td>\n",
       "      <td>ferrari 57 inmobiliaria</td>\n",
       "      <td>912177526.0</td>\n",
       "      <td>https://www.fotocasa.es/es/comprar/vivienda/ma...</td>\n",
       "      <td>2.0</td>\n",
       "      <td>2.0</td>\n",
       "      <td>106.0</td>\n",
       "      <td>172000</td>\n",
       "      <td>...</td>\n",
       "      <td>0</td>\n",
       "      <td>0</td>\n",
       "      <td>0</td>\n",
       "      <td>0</td>\n",
       "      <td>0</td>\n",
       "      <td>0</td>\n",
       "      <td>40,2998774864376</td>\n",
       "      <td>-3,45226301356237</td>\n",
       "      <td>NaN</td>\n",
       "      <td>NaN</td>\n",
       "    </tr>\n",
       "    <tr>\n",
       "      <th>...</th>\n",
       "      <td>...</td>\n",
       "      <td>...</td>\n",
       "      <td>...</td>\n",
       "      <td>...</td>\n",
       "      <td>...</td>\n",
       "      <td>...</td>\n",
       "      <td>...</td>\n",
       "      <td>...</td>\n",
       "      <td>...</td>\n",
       "      <td>...</td>\n",
       "      <td>...</td>\n",
       "      <td>...</td>\n",
       "      <td>...</td>\n",
       "      <td>...</td>\n",
       "      <td>...</td>\n",
       "      <td>...</td>\n",
       "      <td>...</td>\n",
       "      <td>...</td>\n",
       "      <td>...</td>\n",
       "      <td>...</td>\n",
       "      <td>...</td>\n",
       "    </tr>\n",
       "    <tr>\n",
       "      <th>15330</th>\n",
       "      <td>15331</td>\n",
       "      <td>153901377</td>\n",
       "      <td>False</td>\n",
       "      <td>infocasa consulting</td>\n",
       "      <td>911360461.0</td>\n",
       "      <td>https://www.fotocasa.es/es/comprar/vivienda/ma...</td>\n",
       "      <td>2.0</td>\n",
       "      <td>1.0</td>\n",
       "      <td>96.0</td>\n",
       "      <td>259470</td>\n",
       "      <td>...</td>\n",
       "      <td>0</td>\n",
       "      <td>0</td>\n",
       "      <td>0</td>\n",
       "      <td>0</td>\n",
       "      <td>0</td>\n",
       "      <td>0</td>\n",
       "      <td>40,45416</td>\n",
       "      <td>-3,70286</td>\n",
       "      <td>NaN</td>\n",
       "      <td>NaN</td>\n",
       "    </tr>\n",
       "    <tr>\n",
       "      <th>15331</th>\n",
       "      <td>15332</td>\n",
       "      <td>150394373</td>\n",
       "      <td>False</td>\n",
       "      <td>inmobiliaria pulpon</td>\n",
       "      <td>912788039.0</td>\n",
       "      <td>https://www.fotocasa.es/es/comprar/vivienda/ma...</td>\n",
       "      <td>3.0</td>\n",
       "      <td>1.0</td>\n",
       "      <td>150.0</td>\n",
       "      <td>165000</td>\n",
       "      <td>...</td>\n",
       "      <td>0</td>\n",
       "      <td>0</td>\n",
       "      <td>0</td>\n",
       "      <td>0</td>\n",
       "      <td>0</td>\n",
       "      <td>0</td>\n",
       "      <td>40,36652</td>\n",
       "      <td>-3,48951</td>\n",
       "      <td>NaN</td>\n",
       "      <td>NaN</td>\n",
       "    </tr>\n",
       "    <tr>\n",
       "      <th>15332</th>\n",
       "      <td>15333</td>\n",
       "      <td>153901397</td>\n",
       "      <td>False</td>\n",
       "      <td>tecnocasa torrelodones</td>\n",
       "      <td>912780348.0</td>\n",
       "      <td>https://www.fotocasa.es/es/comprar/vivienda/ma...</td>\n",
       "      <td>4.0</td>\n",
       "      <td>2.0</td>\n",
       "      <td>175.0</td>\n",
       "      <td>495000</td>\n",
       "      <td>...</td>\n",
       "      <td>0</td>\n",
       "      <td>0</td>\n",
       "      <td>0</td>\n",
       "      <td>0</td>\n",
       "      <td>0</td>\n",
       "      <td>0</td>\n",
       "      <td>40,57444</td>\n",
       "      <td>-3,92124</td>\n",
       "      <td>NaN</td>\n",
       "      <td>NaN</td>\n",
       "    </tr>\n",
       "    <tr>\n",
       "      <th>15333</th>\n",
       "      <td>15334</td>\n",
       "      <td>152607440</td>\n",
       "      <td>False</td>\n",
       "      <td>inmobiliaria pulpon</td>\n",
       "      <td>912788039.0</td>\n",
       "      <td>https://www.fotocasa.es/es/comprar/vivienda/ma...</td>\n",
       "      <td>3.0</td>\n",
       "      <td>2.0</td>\n",
       "      <td>101.0</td>\n",
       "      <td>195000</td>\n",
       "      <td>...</td>\n",
       "      <td>0</td>\n",
       "      <td>0</td>\n",
       "      <td>0</td>\n",
       "      <td>0</td>\n",
       "      <td>0</td>\n",
       "      <td>0</td>\n",
       "      <td>40,36967</td>\n",
       "      <td>-3,48105</td>\n",
       "      <td>NaN</td>\n",
       "      <td>NaN</td>\n",
       "    </tr>\n",
       "    <tr>\n",
       "      <th>15334</th>\n",
       "      <td>15335</td>\n",
       "      <td>153901356</td>\n",
       "      <td>False</td>\n",
       "      <td>infocasa consulting</td>\n",
       "      <td>911360461.0</td>\n",
       "      <td>https://www.fotocasa.es/es/comprar/vivienda/ma...</td>\n",
       "      <td>3.0</td>\n",
       "      <td>2.0</td>\n",
       "      <td>152.0</td>\n",
       "      <td>765000</td>\n",
       "      <td>...</td>\n",
       "      <td>0</td>\n",
       "      <td>0</td>\n",
       "      <td>0</td>\n",
       "      <td>0</td>\n",
       "      <td>0</td>\n",
       "      <td>0</td>\n",
       "      <td>40,45773</td>\n",
       "      <td>-3,69068</td>\n",
       "      <td>NaN</td>\n",
       "      <td>NaN</td>\n",
       "    </tr>\n",
       "  </tbody>\n",
       "</table>\n",
       "<p>15335 rows × 37 columns</p>\n",
       "</div>"
      ],
      "text/plain": [
       "       Unnamed: 0  id_realEstates  isNew                    realEstate_name  \\\n",
       "0               1       153771986  False            ferrari 57 inmobiliaria   \n",
       "1               2       153867863  False  tecnocasa fuenlabrada ferrocarril   \n",
       "2               3       153430440  False                 look find boadilla   \n",
       "3               4       152776331  False  tecnocasa fuenlabrada ferrocarril   \n",
       "4               5       153180188  False            ferrari 57 inmobiliaria   \n",
       "...           ...             ...    ...                                ...   \n",
       "15330       15331       153901377  False                infocasa consulting   \n",
       "15331       15332       150394373  False                inmobiliaria pulpon   \n",
       "15332       15333       153901397  False             tecnocasa torrelodones   \n",
       "15333       15334       152607440  False                inmobiliaria pulpon   \n",
       "15334       15335       153901356  False                infocasa consulting   \n",
       "\n",
       "       phone_realEstate                                       url_inmueble  \\\n",
       "0           912177526.0  https://www.fotocasa.es/es/comprar/vivienda/ma...   \n",
       "1           916358736.0  https://www.fotocasa.es/es/comprar/vivienda/ma...   \n",
       "2           916350408.0  https://www.fotocasa.es/es/comprar/vivienda/ma...   \n",
       "3           916358736.0  https://www.fotocasa.es/es/comprar/vivienda/ma...   \n",
       "4           912177526.0  https://www.fotocasa.es/es/comprar/vivienda/ma...   \n",
       "...                 ...                                                ...   \n",
       "15330       911360461.0  https://www.fotocasa.es/es/comprar/vivienda/ma...   \n",
       "15331       912788039.0  https://www.fotocasa.es/es/comprar/vivienda/ma...   \n",
       "15332       912780348.0  https://www.fotocasa.es/es/comprar/vivienda/ma...   \n",
       "15333       912788039.0  https://www.fotocasa.es/es/comprar/vivienda/ma...   \n",
       "15334       911360461.0  https://www.fotocasa.es/es/comprar/vivienda/ma...   \n",
       "\n",
       "       rooms  bathrooms  surface   price  ... level4Id level5Id level6Id  \\\n",
       "0        3.0        2.0    103.0  195000  ...        0        0        0   \n",
       "1        3.0        1.0      NaN   89000  ...        0        0        0   \n",
       "2        2.0        2.0     99.0  390000  ...        0        0        0   \n",
       "3        3.0        1.0     86.0   89000  ...        0        0        0   \n",
       "4        2.0        2.0    106.0  172000  ...        0        0        0   \n",
       "...      ...        ...      ...     ...  ...      ...      ...      ...   \n",
       "15330    2.0        1.0     96.0  259470  ...        0        0        0   \n",
       "15331    3.0        1.0    150.0  165000  ...        0        0        0   \n",
       "15332    4.0        2.0    175.0  495000  ...        0        0        0   \n",
       "15333    3.0        2.0    101.0  195000  ...        0        0        0   \n",
       "15334    3.0        2.0    152.0  765000  ...        0        0        0   \n",
       "\n",
       "      level7Id level8Id accuracy          latitude          longitude zipCode  \\\n",
       "0            0        0        0  40,2948276786438  -3,44402412135624     NaN   \n",
       "1            0        0        1          40,28674           -3,79351     NaN   \n",
       "2            0        0        0  40,4115646786438  -3,90662252135624     NaN   \n",
       "3            0        0        0  40,2853785786438  -3,79508142135624     NaN   \n",
       "4            0        0        0  40,2998774864376  -3,45226301356237     NaN   \n",
       "...        ...      ...      ...               ...                ...     ...   \n",
       "15330        0        0        0          40,45416           -3,70286     NaN   \n",
       "15331        0        0        0          40,36652           -3,48951     NaN   \n",
       "15332        0        0        0          40,57444           -3,92124     NaN   \n",
       "15333        0        0        0          40,36967           -3,48105     NaN   \n",
       "15334        0        0        0          40,45773           -3,69068     NaN   \n",
       "\n",
       "      customZone  \n",
       "0            NaN  \n",
       "1            NaN  \n",
       "2            NaN  \n",
       "3            NaN  \n",
       "4            NaN  \n",
       "...          ...  \n",
       "15330        NaN  \n",
       "15331        NaN  \n",
       "15332        NaN  \n",
       "15333        NaN  \n",
       "15334        NaN  \n",
       "\n",
       "[15335 rows x 37 columns]"
      ]
     },
     "execution_count": 1,
     "metadata": {},
     "output_type": "execute_result"
    }
   ],
   "source": [
    "import pandas as pd\n",
    "\n",
    "# this CSV file contains semicolons instead of comas as separator\n",
    "ds = pd.read_csv('assets/real_estate.csv', sep=';')\n",
    "ds"
   ]
  },
  {
   "attachments": {},
   "cell_type": "markdown",
   "id": "latin-guest",
   "metadata": {},
   "source": [
    "#### Exercise 01. Which is the most expensive house in the dataset? (★☆☆)\n",
    "\n",
    "Print the address and the price of the selected house. For example:\n",
    "\n",
    "`The house with address General Street Nº5 is the most expensive and its price is 5000000 USD`"
   ]
  },
  {
   "cell_type": "code",
   "execution_count": null,
   "id": "developing-optimum",
   "metadata": {},
   "outputs": [
    {
     "name": "stdout",
     "output_type": "stream",
     "text": [
      "The house with address El Escorial is the most expensive and its price is 8500000\n"
     ]
    }
   ],
   "source": [
    "import pandas as pd \n",
    "\n",
    "#showing the dataset\n",
    "ds = pd.read_csv('assets/real_estate.csv', sep=';')\n",
    "#loc is used for label-base indexing.. idxmax is used to find the index (row label) of the maximum value in a Series. \n",
    "ds2 = ds.loc[ds['price'].idxmax()]\n",
    "#just did this to change the number into a string.. but if we use f string we don't actually need to do this\n",
    "price_num = str(ds2['price'])\n",
    "print ('The house with address ' + ds2['address'] + ' is the most expensive and its price is ' + price_num)\n"
   ]
  },
  {
   "attachments": {},
   "cell_type": "markdown",
   "id": "lesser-cosmetic",
   "metadata": {},
   "source": [
    "#### Exercise 02. Which is cheapest house in the dataset? (★☆☆)\n",
    "\n",
    "Print the address and the price of the selected house. For example:\n",
    "\n",
    "`The house with address Concrete Street Nº1 is the cheapest and its price is 12000 USD`"
   ]
  },
  {
   "cell_type": "code",
   "execution_count": null,
   "id": "lovely-oasis",
   "metadata": {},
   "outputs": [
    {
     "name": "stdout",
     "output_type": "stream",
     "text": [
      "The house with address Parla is the cheapest and its price is 0\n"
     ]
    }
   ],
   "source": [
    "import pandas as pd \n",
    "\n",
    "ds = pd.read_csv('assets/real_estate.csv', sep=';')\n",
    "\n",
    "ds2 = ds.loc[ds['price'].idxmin()]\n",
    "price_num = str(ds2['price'])\n",
    "print ('The house with address ' + ds2['address'] + ' is the cheapest and its price is ' + price_num)\n"
   ]
  },
  {
   "attachments": {},
   "cell_type": "markdown",
   "id": "compliant-fellowship",
   "metadata": {},
   "source": [
    "#### Exercise 03. Which is the biggest and the smallest house in the dataset? (★☆☆)\n",
    "\n",
    "Print both the address and the surface of the selected houses. For example:\n",
    "\n",
    "`The bigger house is located on Yukka Street Nº10 and its surface is 5000 meters`\n",
    "\n",
    "`The smaller house is located on County Road 1 N and its surface is 200 meters`"
   ]
  },
  {
   "cell_type": "code",
   "execution_count": null,
   "id": "every-tiffany",
   "metadata": {},
   "outputs": [
    {
     "name": "stdout",
     "output_type": "stream",
     "text": [
      "The bigger house is located on Sevilla la Nueva and its surface is 249000.0 meters\n",
      "The smaller house is located on Calle Amparo,  Madrid Capital and its surface is 15.0 meters\n"
     ]
    }
   ],
   "source": [
    "import pandas as pd \n",
    "\n",
    "\n",
    "\n",
    "ds = pd.read_csv('assets/real_estate.csv', sep=';')\n",
    "\n",
    "#plain english.. locate the row that the surface is the smallest. \n",
    "max_surface_ds = ds.loc[ds['surface'].idxmax()]\n",
    "min_surface_ds = ds.loc[ds['surface'].idxmin()]\n",
    "\n",
    "\n",
    "\n",
    "print(f\"The bigger house is located on { max_surface_ds['address']} and its surface is {max_surface_ds['surface']} meters\")\n",
    "print(f\"The smaller house is located on { min_surface_ds['address']} and its surface is {min_surface_ds['surface']} meters\")\n"
   ]
  },
  {
   "attachments": {},
   "cell_type": "markdown",
   "id": "danish-spirit",
   "metadata": {},
   "source": [
    "#### Exercise 04. How many populations (level5 column) the dataset contains? (★☆☆)\n",
    "\n",
    "Print the name of the populations with comma as separator. For example:\n",
    "\n",
    "`> print(populations)`\n",
    "\n",
    "`population1, population2, population3,...`"
   ]
  },
  {
   "cell_type": "code",
   "execution_count": null,
   "id": "exciting-accreditation",
   "metadata": {},
   "outputs": [
    {
     "name": "stdout",
     "output_type": "stream",
     "text": [
      "['Arganda del Rey' 'Fuenlabrada' 'Boadilla del Monte'\n",
      " 'Las Rozas de Madrid' ' Madrid Capital' 'Villaviciosa de Odón' 'Pinto'\n",
      " 'Valdemoro' 'Navalcarnero' 'Pozuelo de Alarcón' 'Torrejón de Ardoz'\n",
      " 'Navalagamella' 'San Sebastián de los Reyes' 'Rivas-vaciamadrid'\n",
      " 'Alpedrete' 'Móstoles' 'San Fernando de Henares' 'Coslada'\n",
      " 'Becerril de la Sierra' 'Alcalá de Henares' 'Chinchón' 'Parla' 'Alcorcón'\n",
      " 'El Escorial' 'Leganés' 'Pedrezuela' 'Majadahonda'\n",
      " 'Villanueva de la Cañada' 'Villanueva del Pardillo' 'Torrelodones'\n",
      " 'Moralzarzal' 'Mejorada del Campo' 'Aranjuez' 'Corpa' 'Getafe'\n",
      " 'Velilla de San Antonio' 'Sevilla la Nueva' 'San Martín de la Vega'\n",
      " 'Villalbilla' 'Collado Villalba' 'Alcobendas' 'El Molar (Madrid)'\n",
      " 'Moraleja de Enmedio' 'Algete' 'Campo Real' 'Torrejón de la Calzada'\n",
      " 'Colmenar Viejo' 'Valdemorillo' 'Fuente El Saz de Jarama' 'Tres Cantos'\n",
      " 'Arroyomolinos (Madrid)' 'Griñón' 'Paracuellos de Jarama' 'Guadarrama'\n",
      " 'Titulcia' 'Galapagar' 'Collado Mediano' 'Los Molinos'\n",
      " 'San Lorenzo de El Escorial' 'Loeches' 'San Martín de Valdeiglesias'\n",
      " 'Navas del Rey' 'Bustarviejo' 'Manzanares El Real' 'Carabaña'\n",
      " 'Casarrubuelos' 'Cercedilla' 'Fresnedillas de la Oliva' 'Valdemaqueda'\n",
      " 'Robledo de Chavela' 'Miraflores de la Sierra' 'Humanes de Madrid'\n",
      " 'Valdetorres de Jarama' 'San Agustín del Guadalix' 'Ciempozuelos'\n",
      " 'Camarma de Esteruelas' 'Torres de la Alameda' 'Talamanca de Jarama'\n",
      " 'El Atazar' 'Hoyo de Manzanares' 'El Boalo - Cerceda – Mataelpino'\n",
      " 'El Álamo' 'Valdilecha' 'Valdeolmos-Alalpardo' 'Guadalix de la Sierra'\n",
      " 'Belmonte de Tajo' 'El Vellón' 'Brunete' 'Redueña' 'Morata de Tajuña'\n",
      " 'Tielmes' 'Gargantilla del Lozoya' 'Meco' 'Venturada' 'Quijorna'\n",
      " 'Cenicientos' 'Torrejón de Velasco' 'Navacerrada'\n",
      " 'Santa María de la Alameda' 'Orusco de Tajuña' 'Daganzo de Arriba'\n",
      " 'Villamanta' 'Anchuelo' 'Valdaracete' 'Ajalvir' 'Los Santos de la Humosa'\n",
      " 'Villamanrique de Tajo' 'Colmenar de Oreja' 'Villa del Prado'\n",
      " 'Fuentidueña de Tajo' 'Colmenar del Arroyo' 'Valdelaguna'\n",
      " 'Cubas de la Sagra' 'Valdeavero' 'Aldea del Fresno' 'Ribatejada'\n",
      " 'Torrelaguna' 'Batres' 'Pezuela de las Torres' 'Colmenarejo'\n",
      " 'Serranillos del Valle' 'Cobeña' 'Soto del Real' 'El Berrueco'\n",
      " 'Villanueva de Perales' 'Fresno de Torote - Serracines' 'Pozuelo del Rey'\n",
      " 'Pelayos de la Presa' 'La Cabrera' 'Nuevo Baztán' 'Perales de Tajuña'\n",
      " 'Villaconejos' 'Villarejo de Salvanés' 'Cadalso de los Vidrios'\n",
      " 'Santorcaz' 'Madarcos' 'Garganta de los Montes' 'Puentes Viejas'\n",
      " 'Torremocha de Jarama' 'Valdemanco' 'Braojos'\n",
      " 'Lozoyuela-navas-sieteiglesias' 'Piñuécar-gandullas' 'Valdepiélagos'\n",
      " 'Valverde de Alcalá' 'Villar del Olmo' 'Villamantilla'\n",
      " 'Horcajo de la Sierra' 'Gascones' 'Zarzalejo' 'Villavieja del Lozoya'\n",
      " 'Brea de Tajo' 'Estremera' 'Chapinería' 'Navarredonda' 'Patones' 'Ambite'\n",
      " 'Navalafuente' 'Lozoya' 'Canencia' 'Cabanillas de la Sierra'\n",
      " 'Buitrago del Lozoya' 'Fresno de Torote' 'Robregordo' 'Pinilla del Valle'\n",
      " 'Rascafría' 'La Hiruela' 'Montejo de la Sierra']\n"
     ]
    }
   ],
   "source": [
    "import pandas as pd \n",
    "import matplotlib.pyplot as plt\n",
    "import numpy as np\n",
    "\n",
    "ds = pd.read_csv('assets/real_estate.csv', sep=';') \n",
    "\n",
    "print(ds['level5'].unique())\n"
   ]
  },
  {
   "attachments": {},
   "cell_type": "markdown",
   "id": "crazy-blame",
   "metadata": {},
   "source": [
    "#### Exercise 05. Does the dataset contain NAs? (★☆☆)\n",
    "\n",
    "Print a boolean value (`true` or `fase`) followed by the rows/cols that contains NAs."
   ]
  },
  {
   "cell_type": "code",
   "execution_count": null,
   "id": "transparent-poetry",
   "metadata": {},
   "outputs": [
    {
     "name": "stdout",
     "output_type": "stream",
     "text": [
      "True\n",
      "Dataset contains NAs: True\n",
      "\n",
      "Rows with NAs:\n",
      "       Unnamed: 0  id_realEstates  isNew                    realEstate_name  \\\n",
      "0               1       153771986  False            ferrari 57 inmobiliaria   \n",
      "1               2       153867863  False  tecnocasa fuenlabrada ferrocarril   \n",
      "2               3       153430440  False                 look find boadilla   \n",
      "3               4       152776331  False  tecnocasa fuenlabrada ferrocarril   \n",
      "4               5       153180188  False            ferrari 57 inmobiliaria   \n",
      "...           ...             ...    ...                                ...   \n",
      "15330       15331       153901377  False                infocasa consulting   \n",
      "15331       15332       150394373  False                inmobiliaria pulpon   \n",
      "15332       15333       153901397  False             tecnocasa torrelodones   \n",
      "15333       15334       152607440  False                inmobiliaria pulpon   \n",
      "15334       15335       153901356  False                infocasa consulting   \n",
      "\n",
      "       phone_realEstate                                       url_inmueble  \\\n",
      "0           912177526.0  https://www.fotocasa.es/es/comprar/vivienda/ma...   \n",
      "1           916358736.0  https://www.fotocasa.es/es/comprar/vivienda/ma...   \n",
      "2           916350408.0  https://www.fotocasa.es/es/comprar/vivienda/ma...   \n",
      "3           916358736.0  https://www.fotocasa.es/es/comprar/vivienda/ma...   \n",
      "4           912177526.0  https://www.fotocasa.es/es/comprar/vivienda/ma...   \n",
      "...                 ...                                                ...   \n",
      "15330       911360461.0  https://www.fotocasa.es/es/comprar/vivienda/ma...   \n",
      "15331       912788039.0  https://www.fotocasa.es/es/comprar/vivienda/ma...   \n",
      "15332       912780348.0  https://www.fotocasa.es/es/comprar/vivienda/ma...   \n",
      "15333       912788039.0  https://www.fotocasa.es/es/comprar/vivienda/ma...   \n",
      "15334       911360461.0  https://www.fotocasa.es/es/comprar/vivienda/ma...   \n",
      "\n",
      "       rooms  bathrooms  surface   price  ... level4Id level5Id level6Id  \\\n",
      "0        3.0        2.0    103.0  195000  ...        0        0        0   \n",
      "1        3.0        1.0      NaN   89000  ...        0        0        0   \n",
      "2        2.0        2.0     99.0  390000  ...        0        0        0   \n",
      "3        3.0        1.0     86.0   89000  ...        0        0        0   \n",
      "4        2.0        2.0    106.0  172000  ...        0        0        0   \n",
      "...      ...        ...      ...     ...  ...      ...      ...      ...   \n",
      "15330    2.0        1.0     96.0  259470  ...        0        0        0   \n",
      "15331    3.0        1.0    150.0  165000  ...        0        0        0   \n",
      "15332    4.0        2.0    175.0  495000  ...        0        0        0   \n",
      "15333    3.0        2.0    101.0  195000  ...        0        0        0   \n",
      "15334    3.0        2.0    152.0  765000  ...        0        0        0   \n",
      "\n",
      "      level7Id level8Id accuracy          latitude          longitude zipCode  \\\n",
      "0            0        0        0  40,2948276786438  -3,44402412135624     NaN   \n",
      "1            0        0        1          40,28674           -3,79351     NaN   \n",
      "2            0        0        0  40,4115646786438  -3,90662252135624     NaN   \n",
      "3            0        0        0  40,2853785786438  -3,79508142135624     NaN   \n",
      "4            0        0        0  40,2998774864376  -3,45226301356237     NaN   \n",
      "...        ...      ...      ...               ...                ...     ...   \n",
      "15330        0        0        0          40,45416           -3,70286     NaN   \n",
      "15331        0        0        0          40,36652           -3,48951     NaN   \n",
      "15332        0        0        0          40,57444           -3,92124     NaN   \n",
      "15333        0        0        0          40,36967           -3,48105     NaN   \n",
      "15334        0        0        0          40,45773           -3,69068     NaN   \n",
      "\n",
      "      customZone  \n",
      "0            NaN  \n",
      "1            NaN  \n",
      "2            NaN  \n",
      "3            NaN  \n",
      "4            NaN  \n",
      "...          ...  \n",
      "15330        NaN  \n",
      "15331        NaN  \n",
      "15332        NaN  \n",
      "15333        NaN  \n",
      "15334        NaN  \n",
      "\n",
      "[15335 rows x 37 columns]\n",
      "\n",
      "Columns with NAs: ['realEstate_name', 'phone_realEstate', 'rooms', 'bathrooms', 'surface', 'description', 'level4', 'level6', 'level7', 'level8', 'zipCode', 'customZone']\n"
     ]
    }
   ],
   "source": [
    "import pandas as pd \n",
    "import matplotlib.pyplot as plt\n",
    "import numpy as np\n",
    "\n",
    "ds = pd.read_csv('assets/real_estate.csv', sep=';')\n",
    "\n",
    "na_count = ds.isna().sum()\n",
    "\n",
    "hasna = ds.isna().any().any()\n",
    "\n",
    "print(hasna)\n",
    "\n",
    "# Check for missing values (NAs) in the entire DataFrame\n",
    "has_nas = ds.isna().any().any()\n",
    "\n",
    "# Print the boolean value indicating if there are any NAs\n",
    "print(\"Dataset contains NAs:\", has_nas)\n",
    "\n",
    "if has_nas:\n",
    "    # Print rows (axis 0) with missing values\n",
    "    rows_with_nas = ds[ds.isna().any(axis=1)]\n",
    "    print(\"\\nRows with NAs:\")\n",
    "    print(rows_with_nas)\n",
    "\n",
    "    # Print columns (axis 1) with missing values\n",
    "    cols_with_nas = ds.columns[ds.isna().any()].tolist()\n",
    "    print(\"\\nColumns with NAs:\", cols_with_nas)\n"
   ]
  },
  {
   "attachments": {},
   "cell_type": "markdown",
   "id": "italic-hydrogen",
   "metadata": {},
   "source": [
    "#### Exercise 06. Delete the NAs of the dataset, if applicable (★★☆)\n",
    "\n",
    "Print a comparison between the dimensions of the original DataFrame versus the DataFrame after the deletions"
   ]
  },
  {
   "cell_type": "code",
   "execution_count": null,
   "id": "administrative-roads",
   "metadata": {},
   "outputs": [
    {
     "name": "stdout",
     "output_type": "stream",
     "text": [
      "       Unnamed: 0  id_realEstates  isNew                    realEstate_name  \\\n",
      "0               1       153771986  False            ferrari 57 inmobiliaria   \n",
      "1               2       153867863  False  tecnocasa fuenlabrada ferrocarril   \n",
      "2               3       153430440  False                 look find boadilla   \n",
      "3               4       152776331  False  tecnocasa fuenlabrada ferrocarril   \n",
      "4               5       153180188  False            ferrari 57 inmobiliaria   \n",
      "...           ...             ...    ...                                ...   \n",
      "15330       15331       153901377  False                infocasa consulting   \n",
      "15331       15332       150394373  False                inmobiliaria pulpon   \n",
      "15332       15333       153901397  False             tecnocasa torrelodones   \n",
      "15333       15334       152607440  False                inmobiliaria pulpon   \n",
      "15334       15335       153901356  False                infocasa consulting   \n",
      "\n",
      "       phone_realEstate                                       url_inmueble  \\\n",
      "0           912177526.0  https://www.fotocasa.es/es/comprar/vivienda/ma...   \n",
      "1           916358736.0  https://www.fotocasa.es/es/comprar/vivienda/ma...   \n",
      "2           916350408.0  https://www.fotocasa.es/es/comprar/vivienda/ma...   \n",
      "3           916358736.0  https://www.fotocasa.es/es/comprar/vivienda/ma...   \n",
      "4           912177526.0  https://www.fotocasa.es/es/comprar/vivienda/ma...   \n",
      "...                 ...                                                ...   \n",
      "15330       911360461.0  https://www.fotocasa.es/es/comprar/vivienda/ma...   \n",
      "15331       912788039.0  https://www.fotocasa.es/es/comprar/vivienda/ma...   \n",
      "15332       912780348.0  https://www.fotocasa.es/es/comprar/vivienda/ma...   \n",
      "15333       912788039.0  https://www.fotocasa.es/es/comprar/vivienda/ma...   \n",
      "15334       911360461.0  https://www.fotocasa.es/es/comprar/vivienda/ma...   \n",
      "\n",
      "       rooms  bathrooms  surface   price  ... level4Id level5Id level6Id  \\\n",
      "0        3.0        2.0    103.0  195000  ...        0        0        0   \n",
      "1        3.0        1.0      NaN   89000  ...        0        0        0   \n",
      "2        2.0        2.0     99.0  390000  ...        0        0        0   \n",
      "3        3.0        1.0     86.0   89000  ...        0        0        0   \n",
      "4        2.0        2.0    106.0  172000  ...        0        0        0   \n",
      "...      ...        ...      ...     ...  ...      ...      ...      ...   \n",
      "15330    2.0        1.0     96.0  259470  ...        0        0        0   \n",
      "15331    3.0        1.0    150.0  165000  ...        0        0        0   \n",
      "15332    4.0        2.0    175.0  495000  ...        0        0        0   \n",
      "15333    3.0        2.0    101.0  195000  ...        0        0        0   \n",
      "15334    3.0        2.0    152.0  765000  ...        0        0        0   \n",
      "\n",
      "      level7Id level8Id accuracy          latitude          longitude zipCode  \\\n",
      "0            0        0        0  40,2948276786438  -3,44402412135624     NaN   \n",
      "1            0        0        1          40,28674           -3,79351     NaN   \n",
      "2            0        0        0  40,4115646786438  -3,90662252135624     NaN   \n",
      "3            0        0        0  40,2853785786438  -3,79508142135624     NaN   \n",
      "4            0        0        0  40,2998774864376  -3,45226301356237     NaN   \n",
      "...        ...      ...      ...               ...                ...     ...   \n",
      "15330        0        0        0          40,45416           -3,70286     NaN   \n",
      "15331        0        0        0          40,36652           -3,48951     NaN   \n",
      "15332        0        0        0          40,57444           -3,92124     NaN   \n",
      "15333        0        0        0          40,36967           -3,48105     NaN   \n",
      "15334        0        0        0          40,45773           -3,69068     NaN   \n",
      "\n",
      "      customZone  \n",
      "0            NaN  \n",
      "1            NaN  \n",
      "2            NaN  \n",
      "3            NaN  \n",
      "4            NaN  \n",
      "...          ...  \n",
      "15330        NaN  \n",
      "15331        NaN  \n",
      "15332        NaN  \n",
      "15333        NaN  \n",
      "15334        NaN  \n",
      "\n",
      "[15335 rows x 37 columns]\n"
     ]
    }
   ],
   "source": [
    "import pandas as pd \n",
    "import matplotlib.pyplot as plt\n",
    "import numpy as np\n",
    "\n",
    "ds = pd.read_csv('assets/real_estate.csv', sep=';')\n",
    "\n",
    "ds.dropna() \n",
    "\n",
    "print(ds)\n"
   ]
  },
  {
   "attachments": {},
   "cell_type": "markdown",
   "id": "middle-china",
   "metadata": {},
   "source": [
    "#### Exercise 07. Which is the mean of prices in the population (level5 column) of \"Arroyomolinos (Madrid)\"? (★★☆)\n",
    "\n",
    "Print the obtained value"
   ]
  },
  {
   "cell_type": "code",
   "execution_count": null,
   "id": "nuclear-belief",
   "metadata": {},
   "outputs": [
    {
     "name": "stdout",
     "output_type": "stream",
     "text": [
      "The mean price in Arroyomolinos (Madrid) is: 294541.59854014596\n"
     ]
    }
   ],
   "source": [
    "import pandas as pd \n",
    "import matplotlib.pyplot as plt\n",
    "import numpy as np\n",
    "\n",
    "ds = pd.read_csv('assets/real_estate.csv', sep=';')\n",
    "\n",
    "population = 'Arroyomolinos (Madrid)'\n",
    "\n",
    "Am = ds.loc[ds['level5'] == population, 'price'].mean()\n",
    "\n",
    "\n",
    "\n",
    "print(f\"The mean price in Arroyomolinos (Madrid) is: {Am}\")"
   ]
  },
  {
   "attachments": {},
   "cell_type": "markdown",
   "id": "concerned-radical",
   "metadata": {},
   "source": [
    "#### Exercise 08. Plot the histogram of prices for the population (level5 column) of \"Arroyomolinos (Madrid)\" and explain what you observe (★★☆)\n",
    "\n",
    "Print the histogram of the prices and write in the Markdown cell a brief analysis about the plot."
   ]
  },
  {
   "cell_type": "code",
   "execution_count": null,
   "id": "sudden-message",
   "metadata": {},
   "outputs": [
    {
     "data": {
      "image/png": "[encoded data removed]",
      "text/plain": [
       "<Figure size 1000x600 with 1 Axes>"
      ]
     },
     "metadata": {},
     "output_type": "display_data"
    }
   ],
   "source": [
    "import pandas as pd \n",
    "import matplotlib.pyplot as plt\n",
    "import numpy as np\n",
    "\n",
    "ds = pd.read_csv('assets/real_estate.csv', sep=';')\n",
    "\n",
    "\n",
    "#meanprice. \n",
    "\n",
    "am = ds[ds['level5'] == 'Arroyomolinos (Madrid)']\n",
    "\n",
    "\n",
    "plt.figure(figsize=(10, 6))  # Adjust the figure size as needed\n",
    "\n",
    "# Create the histogram\n",
    "plt.hist(am['price'], bins=20, color='blue', edgecolor='black')\n",
    "\n",
    "# Add labels and a title\n",
    "plt.xlabel('Price')\n",
    "plt.ylabel('Frequency')\n",
    "plt.title(f'Histogram of Prices in Arroyomolinos (Madrid)')\n",
    "\n",
    "# Show the plot\n",
    "plt.show()\n",
    "\n",
    "\n"
   ]
  },
  {
   "attachments": {},
   "cell_type": "markdown",
   "id": "impressed-combination",
   "metadata": {},
   "source": [
    "**TODO: Markdown**. To write here, double click to this cell and just remove this content and place the text you want to write. Then, execute the cell."
   ]
  },
  {
   "attachments": {},
   "cell_type": "markdown",
   "id": "actual-edinburgh",
   "metadata": {},
   "source": [
    "#### Exercise 09. Is the average of \"Valdemorillo\" and \"Galapagar\" prices the same? (★★☆)\n",
    "\n",
    "Print the both average prices and then write a conclusion about them"
   ]
  },
  {
   "cell_type": "code",
   "execution_count": null,
   "id": "numeric-commerce",
   "metadata": {},
   "outputs": [
    {
     "name": "stdout",
     "output_type": "stream",
     "text": [
      "Valdemorillo has a greater average price than Galapagar: True\n"
     ]
    }
   ],
   "source": [
    "import pandas as pd \n",
    "import matplotlib.pyplot as plt\n",
    "import numpy as np\n",
    "\n",
    "ds = pd.read_csv('assets/real_estate.csv', sep=';')\n",
    "\n",
    "Va = ds[ds['level5'] == 'Valdemorillo']['price'].mean()\n",
    "\n",
    "Ga = ds[ds['level5'] == 'Galapagar']['price'].mean()\n",
    "\n",
    "result = Va > Ga\n",
    "\n",
    "print(f'Valdemorillo has a greater average price than Galapagar: {result}')\n",
    "\n"
   ]
  },
  {
   "attachments": {},
   "cell_type": "markdown",
   "id": "lonely-article",
   "metadata": {},
   "source": [
    "#### Exercise 10. Is the average of \"Valdemorillo\" and \"Galapagar\" price per square meter (price/m2) the same? (★★☆)\n",
    "\n",
    "Print the both average prices and then write a conclusion about\n",
    "\n",
    "Hint: Create a new column called `pps` (price per square) and then analyse the values"
   ]
  },
  {
   "cell_type": "code",
   "execution_count": null,
   "id": "hourly-globe",
   "metadata": {},
   "outputs": [
    {
     "name": "stdout",
     "output_type": "stream",
     "text": [
      "Valdemorillo has a greater price per square meter average  than Galapagar: False\n"
     ]
    }
   ],
   "source": [
    "import pandas as pd \n",
    "import matplotlib.pyplot as plt\n",
    "import numpy as np\n",
    "\n",
    "ds = pd.read_csv('assets/real_estate.csv', sep=';')\n",
    "\n",
    "Va = ds[ds['level5'] == 'Valdemorillo']\n",
    "\n",
    "Ga = ds[ds['level5'] == 'Galapagar']\n",
    "\n",
    "\n",
    "\n",
    "Avg_Va = (Va['price'] / Va['surface']).mean()\n",
    "\n",
    "\n",
    "\n",
    "Avg_Ga = (Ga['price'] / Ga['surface']).mean()\n",
    "\n",
    "result = Avg_Va > Avg_Ga\n",
    "\n",
    "print(f'Valdemorillo has a greater price per square meter average  than Galapagar: {result}')"
   ]
  },
  {
   "attachments": {},
   "cell_type": "markdown",
   "id": "pleasant-invite",
   "metadata": {},
   "source": [
    "#### Exercise 11. Analyse the relation between the surface and the price of the houses (★★☆)\n",
    "\n",
    "Hint: You can make a `scatter plot` and then write a conclusion about it"
   ]
  },
  {
   "cell_type": "code",
   "execution_count": null,
   "id": "common-drilling",
   "metadata": {},
   "outputs": [
    {
     "data": {
      "image/png": "[encoded data removed]",
      "text/plain": [
       "<Figure size 2000x500 with 1 Axes>"
      ]
     },
     "metadata": {},
     "output_type": "display_data"
    },
    {
     "data": {
      "image/png": "[encoded data removed]",
      "text/plain": [
       "<Figure size 2000x500 with 1 Axes>"
      ]
     },
     "metadata": {},
     "output_type": "display_data"
    },
    {
     "name": "stdout",
     "output_type": "stream",
     "text": [
      "With both houses, the price doesn't necessarily increases with the surface as much as one would think. Galapagar almost shows the opposite, but Valdemorillo shows bit more of a connection. \n"
     ]
    }
   ],
   "source": [
    "import matplotlib.pyplot as plt\n",
    "import numpy as np\n",
    "\n",
    "VA = ds[ds['level5'] == \"Valdemorillo\"]\n",
    "GA = ds[ds['level5'] == \"Galapagar\"]\n",
    "\n",
    "VA_sm = VA['surface']\n",
    "VA_p = VA['price']\n",
    "\n",
    "GA_sm= GA['surface']\n",
    "GA_p = GA['price']\n",
    "\n",
    "plt.figure(figsize=(20, 5))\n",
    "plt.subplot(1, 2, 1)\n",
    "plt.scatter(VA_sm, VA_p, alpha=0.5)\n",
    "plt.title(\"Valdemorillo: Price vs. Surface\")\n",
    "plt.xlabel(\"Surface\")\n",
    "plt.ylabel(\"Price\")\n",
    "plt.grid(True, linestyle='--', alpha=0.7)\n",
    "plt.show()\n",
    "\n",
    "plt.figure(figsize=(20, 5))\n",
    "plt.subplot(1, 2, 1)\n",
    "plt.scatter(GA_sm, GA_p, alpha=0.5)\n",
    "plt.title(\"Galapagar: Price vs. Surface\")\n",
    "plt.xlabel(\"Surface\")\n",
    "plt.ylabel(\"Price\")\n",
    "plt.grid(True, linestyle='--', alpha=0.7)\n",
    "\n",
    "plt.tight_layout()\n",
    "plt.show()\n",
    "\n",
    "print(\"With both houses, the price doesn't necessarily increases with the surface as much as one would think. Galapagar almost shows the opposite, but Valdemorillo shows bit more of a connection. \")\n"
   ]
  },
  {
   "attachments": {},
   "cell_type": "markdown",
   "id": "ahead-liquid",
   "metadata": {},
   "source": [
    "**TODO: Markdown**. To write here, double click to this cell and just remove this content and place the text you want to write. Then, execute the cell."
   ]
  },
  {
   "attachments": {},
   "cell_type": "markdown",
   "id": "coordinate-sunrise",
   "metadata": {},
   "source": [
    "#### Exercise 12. How many real estate agencies the dataset contains? (★★☆)\n",
    "\n",
    "Print the obtained value"
   ]
  },
  {
   "cell_type": "code",
   "execution_count": null,
   "id": "valid-honolulu",
   "metadata": {},
   "outputs": [
    {
     "name": "stdout",
     "output_type": "stream",
     "text": [
      "The dataset contains realEstate_name\n",
      "engel volkers madrid    470\n",
      "infocasa consulting     300\n",
      "outletdeviviendas       260\n",
      "housell                 250\n",
      "solvia inmobiliaria     207\n",
      "                       ... \n",
      "javier garcia             1\n",
      "ir inmobiliaria           1\n",
      "jesus                     1\n",
      "julio                     1\n",
      "nieves                    1\n",
      "Name: count, Length: 1821, dtype: int64 real estate agencies\n"
     ]
    }
   ],
   "source": [
    "import pandas as pd \n",
    "import matplotlib.pyplot as plt\n",
    "ds = pd.read_csv('assets/real_estate.csv', sep=';')\n",
    "\n",
    "print(f\"The dataset contains {ds['realEstate_name'].value_counts()} real estate agencies\")\n"
   ]
  },
  {
   "attachments": {},
   "cell_type": "markdown",
   "id": "binding-ebony",
   "metadata": {},
   "source": [
    "#### Exercise 13. Which is the population (level5 column) that contains the most houses? (★★☆)\n",
    "\n",
    "Print both the population and the number of houses"
   ]
  },
  {
   "cell_type": "code",
   "execution_count": null,
   "id": "static-perry",
   "metadata": {},
   "outputs": [
    {
     "name": "stdout",
     "output_type": "stream",
     "text": [
      "level5          Madrid Capital\n",
      "Entry Count               6643\n",
      "Name: 0, dtype: object\n"
     ]
    }
   ],
   "source": [
    "import pandas as pd \n",
    "import matplotlib.pyplot as plt\n",
    "import numpy as np\n",
    "\n",
    "ds = pd.read_csv('assets/real_estate.csv', sep=';')\n",
    "\n",
    "\n",
    "city_counts = ds.groupby('level5').size().reset_index(name='Entry Count')\n",
    "\n",
    "# Find the city with the most entries\n",
    "most_entries_city = city_counts.loc[city_counts['Entry Count'].idxmax()]\n",
    "\n",
    "\n",
    "print(most_entries_city)"
   ]
  },
  {
   "attachments": {},
   "cell_type": "markdown",
   "id": "entire-classification",
   "metadata": {},
   "source": [
    "#### Exercise 14. Now let's work with the \"south belt\" of madrid. Make a subset of the original DataFrame that contains the following populations (level5 column): \"Fuenlabrada\",\"Leganés\",\"Getafe\",\"Alcorcón\" (★★☆)\n",
    "\n",
    "Hint: Filter the original DataFrame using the column `level5` and the function `isin`"
   ]
  },
  {
   "cell_type": "code",
   "execution_count": null,
   "id": "binary-input",
   "metadata": {},
   "outputs": [
    {
     "name": "stdout",
     "output_type": "stream",
     "text": [
      "       Unnamed: 0  id_realEstates  isNew  \\\n",
      "1               2       153867863  False   \n",
      "3               4       152776331  False   \n",
      "85             86       153152077  False   \n",
      "94             95       153995577  False   \n",
      "109           110       153586414  False   \n",
      "...           ...             ...    ...   \n",
      "15275       15276       153903887  False   \n",
      "15291       15292       151697757  False   \n",
      "15305       15306       153902389  False   \n",
      "15322       15323       153871864  False   \n",
      "15325       15326       153901467  False   \n",
      "\n",
      "                                 realEstate_name  phone_realEstate  \\\n",
      "1              tecnocasa fuenlabrada ferrocarril       916358736.0   \n",
      "3              tecnocasa fuenlabrada ferrocarril       916358736.0   \n",
      "85                       sinergical inmobiliaria               NaN   \n",
      "94                               viviendas365com       911226014.0   \n",
      "109              area uno asesores inmobiliarios       912664081.0   \n",
      "...                                          ...               ...   \n",
      "15275  aliseda servicios de gestion inmobiliaria       911368198.0   \n",
      "15291                                    unipiso       912788631.0   \n",
      "15305                             jadein ferrero       914871639.0   \n",
      "15322                          gestion comercial       911220662.0   \n",
      "15325                              montehogar 68       911790675.0   \n",
      "\n",
      "                                            url_inmueble  rooms  bathrooms  \\\n",
      "1      https://www.fotocasa.es/es/comprar/vivienda/ma...    3.0        1.0   \n",
      "3      https://www.fotocasa.es/es/comprar/vivienda/ma...    3.0        1.0   \n",
      "85     https://www.fotocasa.es/es/comprar/vivienda/le...    1.0        1.0   \n",
      "94     https://www.fotocasa.es/es/comprar/vivienda/le...    3.0        2.0   \n",
      "109    https://www.fotocasa.es/es/comprar/vivienda/ma...    3.0        3.0   \n",
      "...                                                  ...    ...        ...   \n",
      "15275  https://www.fotocasa.es/es/comprar/vivienda/al...    3.0        1.0   \n",
      "15291  https://www.fotocasa.es/es/comprar/vivienda/al...    3.0        2.0   \n",
      "15305  https://www.fotocasa.es/es/comprar/vivienda/ma...    3.0        2.0   \n",
      "15322  https://www.fotocasa.es/es/comprar/vivienda/ma...    3.0        1.0   \n",
      "15325  https://www.fotocasa.es/es/comprar/vivienda/ma...    2.0        2.0   \n",
      "\n",
      "       surface   price  ... level4Id level5Id level6Id level7Id level8Id  \\\n",
      "1          NaN   89000  ...        0        0        0        0        0   \n",
      "3         86.0   89000  ...        0        0        0        0        0   \n",
      "85        50.0  107000  ...        0        0        0        0        0   \n",
      "94       120.0  320000  ...        0        0        0        0        0   \n",
      "109      142.0  425000  ...        0        0        0        0        0   \n",
      "...        ...     ...  ...      ...      ...      ...      ...      ...   \n",
      "15275     78.0  138000  ...        0        0        0        0        0   \n",
      "15291    110.0  279000  ...        0        0        0        0        0   \n",
      "15305     85.0  170000  ...        0        0        0        0        0   \n",
      "15322     91.0  112000  ...        0        0        0        0        0   \n",
      "15325     99.0  215000  ...        0        0        0        0        0   \n",
      "\n",
      "      accuracy          latitude          longitude zipCode customZone  \n",
      "1            1          40,28674           -3,79351     NaN        NaN  \n",
      "3            0  40,2853785786438  -3,79508142135624     NaN        NaN  \n",
      "85           1          40,35059           -3,82693     NaN        NaN  \n",
      "94           0          40,31933           -3,77574     NaN        NaN  \n",
      "109          0        40,3313411         -3,8313868     NaN        NaN  \n",
      "...        ...               ...                ...     ...        ...  \n",
      "15275        1          40,31381           -3,83733     NaN        NaN  \n",
      "15291        0        40,3259051           -3,76318     NaN        NaN  \n",
      "15305        0        40,2882193         -3,8098617     NaN        NaN  \n",
      "15322        0          40,28282           -3,78892     NaN        NaN  \n",
      "15325        1          40,28062           -3,79869     NaN        NaN  \n",
      "\n",
      "[907 rows x 37 columns]\n"
     ]
    }
   ],
   "source": [
    "\n",
    "south_belt_populations = [\"Fuenlabrada\", \"Leganés\", \"Getafe\", \"Alcorcón\"]\n",
    "\n",
    "south_belt = ds[ds[\"level5\"].isin(south_belt_populations)]\n",
    "\n",
    "print(south_belt)\n"
   ]
  },
  {
   "attachments": {},
   "cell_type": "markdown",
   "id": "severe-fisher",
   "metadata": {},
   "source": [
    "#### Exercise 15. Make a bar plot of the median of the prices and explain what you observe (you must use the subset obtained in the question 14) (★★★)\n",
    "\n",
    "Print the bar of the median of the prices and write in the Markdown cell a brief analysis about the plot"
   ]
  },
  {
   "cell_type": "code",
   "execution_count": null,
   "id": "lyric-bunch",
   "metadata": {},
   "outputs": [
    {
     "data": {
      "image/png": "[encoded data removed]",
      "text/plain": [
       "<Figure size 1000x600 with 1 Axes>"
      ]
     },
     "metadata": {},
     "output_type": "display_data"
    }
   ],
   "source": [
    "median_prices = south_belt.groupby('level5')['price'].median().sort_values()\n",
    "\n",
    "# Create a bar plot\n",
    "plt.figure(figsize=(10, 6))\n",
    "median_prices.plot(kind='bar', color='red')\n",
    "plt.title(\"Median Prices in the South Belt of Madrid\")\n",
    "plt.xlabel(\"Population\")\n",
    "plt.ylabel(\"Median Price\")\n",
    "plt.xticks(rotation=45)\n",
    "plt.grid(axis='y', alpha=0.3)\n",
    "plt.show()\n"
   ]
  },
  {
   "attachments": {},
   "cell_type": "markdown",
   "id": "sublime-newspaper",
   "metadata": {},
   "source": [
    "**TODO: Markdown**. To write here, double click to this cell and just remove this content and place the text you want to write. Then, execute the cell."
   ]
  },
  {
   "attachments": {},
   "cell_type": "markdown",
   "id": "speaking-diamond",
   "metadata": {},
   "source": [
    "#### Exercise 16. Calculate the sample mean and variance of the variables: price, rooms, surface area and bathrooms (you must use the subset obtained in the question 14) (★★★)\n",
    "\n",
    "Print both values for each variable"
   ]
  },
  {
   "cell_type": "code",
   "execution_count": null,
   "id": "random-feeling",
   "metadata": {},
   "outputs": [
    {
     "name": "stdout",
     "output_type": "stream",
     "text": [
      "Sample Mean and Variance:\n",
      "Price: Mean = 223094.48070562293, Variance = 14921367508.04902\n",
      "Rooms: Mean = 3.0177383592017737, Variance = 0.7188858892927542\n",
      "Surface Area: Mean = 111.75222363405337, Variance = 4263.051760316337\n",
      "Bathrooms: Mean = 1.633221850613155, Variance = 0.5717968625577321\n"
     ]
    }
   ],
   "source": [
    "import pandas as pd \n",
    "import matplotlib.pyplot as plt\n",
    "import numpy as np\n",
    "\n",
    "ds = pd.read_csv('assets/real_estate.csv', sep=';')\n",
    "# Filter the dataset for the specific cities (Madrid, Barcelona, Valencia, Gijon)\n",
    "level5 = ['Fuenlabrada','Leganés','Getafe','Alcorcón']\n",
    "filtered_ds = ds[ds['level5'].isin(level5)]\n",
    "\n",
    "# Calculate the sample mean and variance for 'price', 'rooms', 'surface area', and 'bathrooms'\n",
    "mean_price = filtered_ds['price'].mean()\n",
    "variance_price = filtered_ds['price'].var()\n",
    "\n",
    "mean_rooms = filtered_ds['rooms'].mean()\n",
    "variance_rooms = filtered_ds['rooms'].var()\n",
    "\n",
    "mean_surface = filtered_ds['surface'].mean()\n",
    "variance_surface = filtered_ds['surface'].var()\n",
    "\n",
    "mean_bathrooms = filtered_ds['bathrooms'].mean()\n",
    "variance_bathrooms = filtered_ds['bathrooms'].var()\n",
    "\n",
    "# Display the results\n",
    "print(\"Sample Mean and Variance:\")\n",
    "print(f\"Price: Mean = {mean_price}, Variance = {variance_price}\")\n",
    "print(f\"Rooms: Mean = {mean_rooms}, Variance = {variance_rooms}\")\n",
    "print(f\"Surface Area: Mean = {mean_surface}, Variance = {variance_surface}\")\n",
    "print(f\"Bathrooms: Mean = {mean_bathrooms}, Variance = {variance_bathrooms}\")\n",
    "\n"
   ]
  },
  {
   "attachments": {},
   "cell_type": "markdown",
   "id": "revolutionary-matrix",
   "metadata": {},
   "source": [
    "#### Exercise 17. What is the most expensive house of each population? You must use the subset obtained in the question 14 (★★☆)\n",
    "\n",
    "Print both the address and the price of the selected house of each population. You can print a DataFrame or a single line for each population"
   ]
  },
  {
   "cell_type": "code",
   "execution_count": null,
   "id": "fifteen-browse",
   "metadata": {},
   "outputs": [
    {
     "name": "stdout",
     "output_type": "stream",
     "text": [
      "        level5    price\n",
      "0     Alcorcón   950000\n",
      "1  Fuenlabrada   490000\n",
      "2       Getafe  1050000\n",
      "3      Leganés   650000\n"
     ]
    }
   ],
   "source": [
    "import pandas as pd\n",
    "import matplotlib.pyplot as plt\n",
    "import numpy as np\n",
    "\n",
    "ds = pd.read_csv('assets/real_estate.csv', sep=';')\n",
    "\n",
    "\n",
    "# Filter the dataset for the specific cities\n",
    "level5 = ['Fuenlabrada','Leganés','Getafe','Alcorcón']\n",
    "filtered_ds = ds[ds['level5'].isin(level5)]\n",
    "\n",
    "# Group the filtered data by city and find the most expensive house in each city\n",
    "most_expensive_houses = filtered_ds.groupby('level5')['price'].max().reset_index()\n",
    "\n",
    "# Display the most expensive houses in each city\n",
    "print(most_expensive_houses)\n"
   ]
  },
  {
   "attachments": {},
   "cell_type": "markdown",
   "id": "activated-knight",
   "metadata": {},
   "source": [
    "#### Exercise 18. Normalize the variable of prices for each population and plot the 4 histograms in the same plot (you must use the subset obtained in the question 14) (★★★)\n",
    "\n",
    "For the normalization method you can use the one you consider to, there is not a single correct answer to this question. Print the plot and write in the Markdown cell a brief analysis about the plot\n",
    "\n",
    "Hint: You can help yourself reviewing the multihist demo of Matplotlib"
   ]
  },
  {
   "cell_type": "code",
   "execution_count": null,
   "id": "civic-meditation",
   "metadata": {},
   "outputs": [
    {
     "ename": "ModuleNotFoundError",
     "evalue": "No module named 'seaborn'",
     "output_type": "error",
     "traceback": [
      "\u001b[0;31m---------------------------------------------------------------------------\u001b[0m",
      "\u001b[0;31mModuleNotFoundError\u001b[0m                       Traceback (most recent call last)",
      "\u001b[1;32m/workspace/realestate-datacleanup-exercise-ds-2023/project.ipynb Cell 42\u001b[0m line \u001b[0;36m4\n\u001b[1;32m      <a href='vscode-notebook-cell://4geeksacade-realestated-zonay5gask0.ws-eu105.gitpod.io/workspace/realestate-datacleanup-exercise-ds-2023/project.ipynb#X56sdnNjb2RlLXJlbW90ZQ%3D%3D?line=1'>2</a>\u001b[0m \u001b[39mimport\u001b[39;00m \u001b[39mmatplotlib\u001b[39;00m\u001b[39m.\u001b[39;00m\u001b[39mpyplot\u001b[39;00m \u001b[39mas\u001b[39;00m \u001b[39mplt\u001b[39;00m\n\u001b[1;32m      <a href='vscode-notebook-cell://4geeksacade-realestated-zonay5gask0.ws-eu105.gitpod.io/workspace/realestate-datacleanup-exercise-ds-2023/project.ipynb#X56sdnNjb2RlLXJlbW90ZQ%3D%3D?line=2'>3</a>\u001b[0m \u001b[39mimport\u001b[39;00m \u001b[39mnumpy\u001b[39;00m \u001b[39mas\u001b[39;00m \u001b[39mnp\u001b[39;00m\n\u001b[0;32m----> <a href='vscode-notebook-cell://4geeksacade-realestated-zonay5gask0.ws-eu105.gitpod.io/workspace/realestate-datacleanup-exercise-ds-2023/project.ipynb#X56sdnNjb2RlLXJlbW90ZQ%3D%3D?line=3'>4</a>\u001b[0m \u001b[39mimport\u001b[39;00m \u001b[39mseaborn\u001b[39;00m \u001b[39mas\u001b[39;00m \u001b[39msns\u001b[39;00m\n\u001b[1;32m      <a href='vscode-notebook-cell://4geeksacade-realestated-zonay5gask0.ws-eu105.gitpod.io/workspace/realestate-datacleanup-exercise-ds-2023/project.ipynb#X56sdnNjb2RlLXJlbW90ZQ%3D%3D?line=5'>6</a>\u001b[0m ds \u001b[39m=\u001b[39m pd\u001b[39m.\u001b[39mread_csv(\u001b[39m'\u001b[39m\u001b[39massets/real_estate.csv\u001b[39m\u001b[39m'\u001b[39m, sep\u001b[39m=\u001b[39m\u001b[39m'\u001b[39m\u001b[39m;\u001b[39m\u001b[39m'\u001b[39m)\n\u001b[1;32m      <a href='vscode-notebook-cell://4geeksacade-realestated-zonay5gask0.ws-eu105.gitpod.io/workspace/realestate-datacleanup-exercise-ds-2023/project.ipynb#X56sdnNjb2RlLXJlbW90ZQ%3D%3D?line=7'>8</a>\u001b[0m \u001b[39m# Filter the dataset for the specific cities (Madrid, Barcelona, Valencia, Gijon)\u001b[39;00m\n",
      "\u001b[0;31mModuleNotFoundError\u001b[0m: No module named 'seaborn'"
     ]
    }
   ],
   "source": [
    "import pandas as pd\n",
    "import matplotlib.pyplot as plt\n",
    "import numpy as np\n",
    "\n",
    "\n",
    "ds = pd.read_csv('assets/real_estate.csv', sep=';')\n",
    "\n",
    "# Filter the dataset for the specific cities (Madrid, Barcelona, Valencia, Gijon)\n",
    "level5 = ['Fuenlabrada','Leganés','Getafe','Alcorcón']\n",
    "filtered_ds = ds[ds['level5'].isin(level5)]\n",
    "\n",
    "# Normalize prices for each population\n",
    "normalized_prices = {}\n",
    "for pop in level5:\n",
    "    city_data = filtered_ds[filtered_ds['level5'] == pop]\n",
    "    max_price = city_data['price'].max()\n",
    "    normalized_prices[pop] = city_data['price'] / max_price\n",
    "\n",
    "plt.figure(figsize=(10, 6))\n",
    "for pop, prices in normalized_prices.items():\n",
    "    sns.histplot(prices, bins=30, label=pop, kde=True)\n",
    "\n",
    "plt.title('Normalized Prices Histogram for Each Population')\n",
    "plt.xlabel('Normalized Price')\n",
    "plt.ylabel('Frequency')\n",
    "plt.legend()\n",
    "plt.show()\n"
   ]
  },
  {
   "attachments": {},
   "cell_type": "markdown",
   "id": "precise-heavy",
   "metadata": {},
   "source": [
    "**TODO: Markdown**. To write here, double click to this cell and just remove this content and place the text you want to write. Then, execute the cell."
   ]
  },
  {
   "attachments": {},
   "cell_type": "markdown",
   "id": "patent-jonathan",
   "metadata": {},
   "source": [
    "#### Exercise 19. What can you say about the price per square meter (price/m2) between the towns of \"Getafe\" and \"Alcorcón\"? You must use the subset obtained in the question 14 (★★☆)\n",
    "\n",
    "Hint: Create a new column called `pps` (price per square) and then analyse the values"
   ]
  },
  {
   "cell_type": "code",
   "execution_count": null,
   "id": "initial-liverpool",
   "metadata": {},
   "outputs": [
    {
     "ename": "ValueError",
     "evalue": "Can only compare identically-labeled Series objects",
     "output_type": "error",
     "traceback": [
      "\u001b[0;31m---------------------------------------------------------------------------\u001b[0m",
      "\u001b[0;31mValueError\u001b[0m                                Traceback (most recent call last)",
      "\u001b[1;32m/workspace/realestate-datacleanup-exercise-ds-2023/project.ipynb Cell 45\u001b[0m line \u001b[0;36m9\n\u001b[1;32m      <a href='vscode-notebook-cell://4geeksacade-realestated-zonay5gask0.ws-eu105.gitpod.io/workspace/realestate-datacleanup-exercise-ds-2023/project.ipynb#X62sdnNjb2RlLXJlbW90ZQ%3D%3D?line=6'>7</a>\u001b[0m Ge_pps \u001b[39m=\u001b[39m (Ge[\u001b[39m'\u001b[39m\u001b[39mprice\u001b[39m\u001b[39m'\u001b[39m]\u001b[39m/\u001b[39m Ge[\u001b[39m'\u001b[39m\u001b[39msurface\u001b[39m\u001b[39m'\u001b[39m]\u001b[39m.\u001b[39mmean())\n\u001b[1;32m      <a href='vscode-notebook-cell://4geeksacade-realestated-zonay5gask0.ws-eu105.gitpod.io/workspace/realestate-datacleanup-exercise-ds-2023/project.ipynb#X62sdnNjb2RlLXJlbW90ZQ%3D%3D?line=7'>8</a>\u001b[0m Al_pps \u001b[39m=\u001b[39m (Al[\u001b[39m'\u001b[39m\u001b[39mprice\u001b[39m\u001b[39m'\u001b[39m]\u001b[39m/\u001b[39m Al[\u001b[39m'\u001b[39m\u001b[39msurface\u001b[39m\u001b[39m'\u001b[39m]\u001b[39m.\u001b[39mmean())\n\u001b[0;32m----> <a href='vscode-notebook-cell://4geeksacade-realestated-zonay5gask0.ws-eu105.gitpod.io/workspace/realestate-datacleanup-exercise-ds-2023/project.ipynb#X62sdnNjb2RlLXJlbW90ZQ%3D%3D?line=8'>9</a>\u001b[0m result \u001b[39m=\u001b[39m Ge_pps \u001b[39m>\u001b[39;49m Al_pps\n\u001b[1;32m     <a href='vscode-notebook-cell://4geeksacade-realestated-zonay5gask0.ws-eu105.gitpod.io/workspace/realestate-datacleanup-exercise-ds-2023/project.ipynb#X62sdnNjb2RlLXJlbW90ZQ%3D%3D?line=9'>10</a>\u001b[0m \u001b[39mprint\u001b[39m(\u001b[39mf\u001b[39m\u001b[39m'\u001b[39m\u001b[39mGetafe has a greater average price per square meter than Alcorcon: \u001b[39m\u001b[39m{\u001b[39;00mresult\u001b[39m}\u001b[39;00m\u001b[39m'\u001b[39m)\n",
      "File \u001b[0;32m/workspace/.pyenv_mirror/user/current/lib/python3.12/site-packages/pandas/core/ops/common.py:76\u001b[0m, in \u001b[0;36m_unpack_zerodim_and_defer.<locals>.new_method\u001b[0;34m(self, other)\u001b[0m\n\u001b[1;32m     72\u001b[0m             \u001b[39mreturn\u001b[39;00m \u001b[39mNotImplemented\u001b[39m\n\u001b[1;32m     74\u001b[0m other \u001b[39m=\u001b[39m item_from_zerodim(other)\n\u001b[0;32m---> 76\u001b[0m \u001b[39mreturn\u001b[39;00m method(\u001b[39mself\u001b[39;49m, other)\n",
      "File \u001b[0;32m/workspace/.pyenv_mirror/user/current/lib/python3.12/site-packages/pandas/core/arraylike.py:56\u001b[0m, in \u001b[0;36mOpsMixin.__gt__\u001b[0;34m(self, other)\u001b[0m\n\u001b[1;32m     54\u001b[0m \u001b[39m@unpack_zerodim_and_defer\u001b[39m(\u001b[39m\"\u001b[39m\u001b[39m__gt__\u001b[39m\u001b[39m\"\u001b[39m)\n\u001b[1;32m     55\u001b[0m \u001b[39mdef\u001b[39;00m \u001b[39m__gt__\u001b[39m(\u001b[39mself\u001b[39m, other):\n\u001b[0;32m---> 56\u001b[0m     \u001b[39mreturn\u001b[39;00m \u001b[39mself\u001b[39;49m\u001b[39m.\u001b[39;49m_cmp_method(other, operator\u001b[39m.\u001b[39;49mgt)\n",
      "File \u001b[0;32m/workspace/.pyenv_mirror/user/current/lib/python3.12/site-packages/pandas/core/series.py:5794\u001b[0m, in \u001b[0;36mSeries._cmp_method\u001b[0;34m(self, other, op)\u001b[0m\n\u001b[1;32m   5791\u001b[0m res_name \u001b[39m=\u001b[39m ops\u001b[39m.\u001b[39mget_op_result_name(\u001b[39mself\u001b[39m, other)\n\u001b[1;32m   5793\u001b[0m \u001b[39mif\u001b[39;00m \u001b[39misinstance\u001b[39m(other, Series) \u001b[39mand\u001b[39;00m \u001b[39mnot\u001b[39;00m \u001b[39mself\u001b[39m\u001b[39m.\u001b[39m_indexed_same(other):\n\u001b[0;32m-> 5794\u001b[0m     \u001b[39mraise\u001b[39;00m \u001b[39mValueError\u001b[39;00m(\u001b[39m\"\u001b[39m\u001b[39mCan only compare identically-labeled Series objects\u001b[39m\u001b[39m\"\u001b[39m)\n\u001b[1;32m   5796\u001b[0m lvalues \u001b[39m=\u001b[39m \u001b[39mself\u001b[39m\u001b[39m.\u001b[39m_values\n\u001b[1;32m   5797\u001b[0m rvalues \u001b[39m=\u001b[39m extract_array(other, extract_numpy\u001b[39m=\u001b[39m\u001b[39mTrue\u001b[39;00m, extract_range\u001b[39m=\u001b[39m\u001b[39mTrue\u001b[39;00m)\n",
      "\u001b[0;31mValueError\u001b[0m: Can only compare identically-labeled Series objects"
     ]
    }
   ],
   "source": [
    "# import pandas as pd\n",
    "# ds = pd.read_csv('assets/real_estate.csv', sep=';')\n",
    "\n",
    "\n",
    "south_belt['pps'] = south_belt['price'] / south_belt['surface']\n",
    "\n",
    "Ge = south_belt.loc[south_belt['level5'] == 'Getafe'].copy()\n",
    "\n",
    "Al = south_belt.loc[south_belt['level5'] == 'Alcorcón'].copy()\n",
    "\n",
    "south\n",
    "Ge = ds[ds['level5'] == 'Getafe']\n",
    "Al = ds[ds['level5'] == 'Alcorcón']\n",
    "Ge_pps = (Ge['price']/ Ge['surface'].mean())\n",
    "Al_pps = (Al['price']/ Al['surface'].mean())\n",
    "#result = Ge_pps > Al_pps\n",
    "print(f'Getafe has an  average price per square meter of {Ge_pps} and Alcorcon has an average price per square meter of {Al_pps}')\n",
    "\n",
    "\n",
    "\n",
    "# +++++++++\n",
    "# south_belt_subset['pps'] = south_belt_subset['price'] / south_belt_subset['surface']\n",
    "\n",
    "# getafe_data = south_belt_subset.loc[south_belt_subset['level5'] == 'Getafe'].copy()\n",
    "# alcorcon_data = south_belt_subset.loc[south_belt_subset['level5'] == 'Alcorcón'].copy()\n",
    "\n",
    "\n",
    "\n",
    "# mean_pps_getafe = getafe_data['pps'].mean()\n",
    "# mean_pps_alcorcon = alcorcon_data['pps'].mean()\n",
    "\n",
    "\n",
    "# print(\"Mean Price per Square Meter in Getafe:\", mean_pps_getafe)\n",
    "# print(\"Mean Price per Square Meter in Alcorcón:\", mean_pps_alcorcon)\n"
   ]
  },
  {
   "attachments": {},
   "cell_type": "markdown",
   "id": "enhanced-moscow",
   "metadata": {},
   "source": [
    "#### Exercise 20. Make the same plot for 4 different populations (level5 column) and rearrange them on the same graph? You must use the subset obtained in the question 14 (★★☆) \n",
    "Hint: make a scatter plot of each population using subplots."
   ]
  },
  {
   "cell_type": "code",
   "execution_count": null,
   "id": "accepting-airfare",
   "metadata": {},
   "outputs": [
    {
     "data": {
      "image/png": "[encoded data removed]",
      "text/plain": [
       "<Figure size 1200x1000 with 4 Axes>"
      ]
     },
     "metadata": {},
     "output_type": "display_data"
    }
   ],
   "source": [
    "import pandas as pd\n",
    "import matplotlib.pyplot as plt\n",
    "\n",
    "# Create a DataFrame\n",
    "south_belt \n",
    "\n",
    "\n",
    "\n",
    "cities = [(\"Fuenlabrada\",\"Leganés\",\"Getafe\",\"Alcorcón\")]\n",
    "filtered_ds = ds[ds['level5'].isin(cities)]\n",
    "\n",
    "populations = filtered_ds['level5'].unique()\n",
    "\n",
    "fig, axes = plt.subplots(2, 2, figsize=(12, 10))\n",
    "axes = axes.ravel()\n",
    "\n",
    "for i, population in enumerate(populations):\n",
    "    ax = axes[i]\n",
    "    population_data = filtered_ds[filtered_ds['level5'] == population]\n",
    "    \n",
    "    ax.scatter(population_data['surface'], population_data['price'])\n",
    "    ax.set_title(f'Scatter Plot for {population}')\n",
    "    ax.set_xlabel('Surface Area')\n",
    "    ax.set_ylabel('Price')\n",
    "\n",
    "plt.tight_layout()\n",
    "plt.show()\n",
    "\n",
    "\n",
    "\n",
    "*****\n",
    "import matplotlib.pyplot as plt\n",
    "import pandas as pd\n",
    "\n",
    "populations = [\"Fuenlabrada\", \"Leganés\", \"Getafe\", \"Alcorcón\"]\n",
    "\n",
    "fig, axes = plt.subplots(2, 2, figsize=(12, 8))\n",
    "axes = axes.flatten()\n",
    "\n",
    "for i, population in enumerate(populations):\n",
    "    population_data = south_belt_subset[south_belt_subset['level5'] == population]\n",
    "    \n",
    "    axes[i].scatter(population_data['surface'], population_data['price'], label=population, alpha=0.5)\n",
    "    axes[i].set_title(f\"Scatter Plot for {population}\")\n",
    "    axes[i].set_xlabel(\"Square Meters\")\n",
    "    axes[i].set_ylabel(\"Price\")\n",
    "    axes[i].legend()\n",
    "\n",
    "plt.tight_layout()\n",
    "\n",
    "plt.show()\n",
    "\n",
    "\n"
   ]
  },
  {
   "attachments": {},
   "cell_type": "markdown",
   "id": "blocked-effects",
   "metadata": {},
   "source": [
    "#### Exercise 21. Make a plot of the coordinates (latitude and longitude columns) of the south belt of Madrid by color of each population (you must use the subset obtained in the question 14) (★★★★)\n",
    "\n",
    "Execute the following cell and then start coding in the next one. You must implement a simple code that transform the coordinates columns in a Python dictionary (add more information if needed) and then add it to the map"
   ]
  },
  {
   "cell_type": "code",
   "execution_count": 45,
   "id": "headed-privacy",
   "metadata": {},
   "outputs": [
    {
     "data": {
      "application/vnd.jupyter.widget-view+json": {
       "model_id": "96676883e77a4b6f969389567f453d5e",
       "version_major": 2,
       "version_minor": 0
      },
      "text/plain": [
       "Map(center=[60, -2.2], controls=(ZoomControl(options=['position', 'zoom_in_text', 'zoom_in_title', 'zoom_out_t…"
      ]
     },
     "execution_count": 45,
     "metadata": {},
     "output_type": "execute_result"
    }
   ],
   "source": [
    "from ipyleaflet import Map, basemaps\n",
    "\n",
    "# Map centred on (60 degrees latitude et -2.2 degrees longitude)\n",
    "# Latitude, longitude\n",
    "map = Map(center = (60, -2.2), zoom = 2, min_zoom = 1, max_zoom = 20, \n",
    "    basemap=basemaps.Stamen.Terrain)\n",
    "map\n",
    "\n"
   ]
  },
  {
   "cell_type": "code",
   "execution_count": null,
   "id": "present-mistress",
   "metadata": {},
   "outputs": [],
   "source": [
    "??????"
   ]
  }
 ],
 "metadata": {
  "kernelspec": {
   "display_name": "Python 3",
   "language": "python",
   "name": "python3"
  },
  "language_info": {
   "codemirror_mode": {
    "name": "ipython",
    "version": 3
   },
   "file_extension": ".py",
   "mimetype": "text/x-python",
   "name": "python",
   "nbconvert_exporter": "python",
   "pygments_lexer": "ipython3",
   "version": "3.11.4"
  }
 },
 "nbformat": 4,
 "nbformat_minor": 5
}
