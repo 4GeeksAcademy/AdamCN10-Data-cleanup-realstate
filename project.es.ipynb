{
  "cells": [
    {
      "attachments": {},
      "cell_type": "markdown",
      "id": "innocent-university",
      "metadata": {},
      "source": [
        "# Limpieza de bienes raíces\n",
        "\n",
        "Este es un conjunto de datos (dataset) reales que fue descargado usando técnicas de web scraping. La data contiene registros de **Fotocasa**, el cual es uno de los sitios más populares de bienes raíces en España. Por favor no hagas esto (web scraping) a no ser que sea para propósitos académicos.\n",
        "\n",
        "El dataset fue descargado hace algunos años por Henry Navarro y en ningún caso se obtuvo beneficio económico de ello.\n",
        "\n",
        "Contiene miles de datos de casas reales publicadas en la web www.fotocasa.com. Tu objetivo es extraer tanta información como sea posible con el conocimiento que tienes hasta ahora de ciencia de datos, por ejemplo ¿cuál es la casa más cara en todo el dataset?\n",
        "\n",
        "Empecemos precisamente con esa pregunta... ¡Buena suerte!"
      ]
    },
    {
      "attachments": {},
      "cell_type": "markdown",
      "id": "multiple-glass",
      "metadata": {},
      "source": [
        "#### Ejercicio 00. Lee el dataset assets/real_estate.csv e intenta visualizar la tabla (★☆☆)"
      ]
    },
    {
      "cell_type": "code",
      "execution_count": 18,
      "id": "frank-heath",
      "metadata": {},
      "outputs": [
        {
          "name": "stdout",
          "output_type": "stream",
          "text": [
            "       Unnamed: 0  id_realEstates  isNew                    realEstate_name  \\\n",
            "0               1       153771986  False            ferrari 57 inmobiliaria   \n",
            "1               2       153867863  False  tecnocasa fuenlabrada ferrocarril   \n",
            "2               3       153430440  False                 look find boadilla   \n",
            "3               4       152776331  False  tecnocasa fuenlabrada ferrocarril   \n",
            "4               5       153180188  False            ferrari 57 inmobiliaria   \n",
            "...           ...             ...    ...                                ...   \n",
            "15330       15331       153901377  False                infocasa consulting   \n",
            "15331       15332       150394373  False                inmobiliaria pulpon   \n",
            "15332       15333       153901397  False             tecnocasa torrelodones   \n",
            "15333       15334       152607440  False                inmobiliaria pulpon   \n",
            "15334       15335       153901356  False                infocasa consulting   \n",
            "\n",
            "       phone_realEstate                                       url_inmueble  \\\n",
            "0           912177526.0  https://www.fotocasa.es/es/comprar/vivienda/ma...   \n",
            "1           916358736.0  https://www.fotocasa.es/es/comprar/vivienda/ma...   \n",
            "2           916350408.0  https://www.fotocasa.es/es/comprar/vivienda/ma...   \n",
            "3           916358736.0  https://www.fotocasa.es/es/comprar/vivienda/ma...   \n",
            "4           912177526.0  https://www.fotocasa.es/es/comprar/vivienda/ma...   \n",
            "...                 ...                                                ...   \n",
            "15330       911360461.0  https://www.fotocasa.es/es/comprar/vivienda/ma...   \n",
            "15331       912788039.0  https://www.fotocasa.es/es/comprar/vivienda/ma...   \n",
            "15332       912780348.0  https://www.fotocasa.es/es/comprar/vivienda/ma...   \n",
            "15333       912788039.0  https://www.fotocasa.es/es/comprar/vivienda/ma...   \n",
            "15334       911360461.0  https://www.fotocasa.es/es/comprar/vivienda/ma...   \n",
            "\n",
            "       rooms  bathrooms  surface   price  ... level4Id level5Id level6Id  \\\n",
            "0        3.0        2.0    103.0  195000  ...        0        0        0   \n",
            "1        3.0        1.0      NaN   89000  ...        0        0        0   \n",
            "2        2.0        2.0     99.0  390000  ...        0        0        0   \n",
            "3        3.0        1.0     86.0   89000  ...        0        0        0   \n",
            "4        2.0        2.0    106.0  172000  ...        0        0        0   \n",
            "...      ...        ...      ...     ...  ...      ...      ...      ...   \n",
            "15330    2.0        1.0     96.0  259470  ...        0        0        0   \n",
            "15331    3.0        1.0    150.0  165000  ...        0        0        0   \n",
            "15332    4.0        2.0    175.0  495000  ...        0        0        0   \n",
            "15333    3.0        2.0    101.0  195000  ...        0        0        0   \n",
            "15334    3.0        2.0    152.0  765000  ...        0        0        0   \n",
            "\n",
            "      level7Id level8Id accuracy          latitude          longitude zipCode  \\\n",
            "0            0        0        0  40,2948276786438  -3,44402412135624     NaN   \n",
            "1            0        0        1          40,28674           -3,79351     NaN   \n",
            "2            0        0        0  40,4115646786438  -3,90662252135624     NaN   \n",
            "3            0        0        0  40,2853785786438  -3,79508142135624     NaN   \n",
            "4            0        0        0  40,2998774864376  -3,45226301356237     NaN   \n",
            "...        ...      ...      ...               ...                ...     ...   \n",
            "15330        0        0        0          40,45416           -3,70286     NaN   \n",
            "15331        0        0        0          40,36652           -3,48951     NaN   \n",
            "15332        0        0        0          40,57444           -3,92124     NaN   \n",
            "15333        0        0        0          40,36967           -3,48105     NaN   \n",
            "15334        0        0        0          40,45773           -3,69068     NaN   \n",
            "\n",
            "      customZone  \n",
            "0            NaN  \n",
            "1            NaN  \n",
            "2            NaN  \n",
            "3            NaN  \n",
            "4            NaN  \n",
            "...          ...  \n",
            "15330        NaN  \n",
            "15331        NaN  \n",
            "15332        NaN  \n",
            "15333        NaN  \n",
            "15334        NaN  \n",
            "\n",
            "[15335 rows x 37 columns]\n"
          ]
        }
      ],
      "source": [
        "import pandas as pd\n",
        "import matplotlib.pyplot as plt\n",
        "\n",
        "# Este archivo CSV contiene puntos y comas en lugar de comas como separadores\n",
        "df = pd.read_csv('assets/real_estate.csv', sep=';')\n",
        "print(df)"
      ]
    },
    {
      "attachments": {},
      "cell_type": "markdown",
      "id": "latin-guest",
      "metadata": {},
      "source": [
        "#### Ejercicio 01. ¿Cuál es la casa más cara en todo el dataset? (★☆☆)\n",
        "\n",
        "Imprime la dirección y el precio de la casa seleccionada. Por ejemplo:\n",
        "\n",
        "`La casa con dirección en Calle del Prado, Nº20 es la más cara y su precio es de 5000000 USD`"
      ]
    },
    {
      "cell_type": "code",
      "execution_count": null,
      "id": "developing-optimum",
      "metadata": {},
      "outputs": [
        {
          "name": "stdout",
          "output_type": "stream",
          "text": [
            "The house with address El Escorial is the most expensive and its price is 8500000 USD\n"
          ]
        }
      ],
      "source": [
        "\n",
        "expensive_price = df['price'].max() # Esto me da el precio maximo\n",
        "\n",
        "index_expensive = df['price'].idxmax() # Esto me da el índice donde está el precio maximo\n",
        "\n",
        "# Con el indice puedo saber la direccion de la casa\n",
        "\n",
        "direccion_expensive = df.loc[index_expensive, 'address']\n",
        "\n",
        "print(f\"The house with address {direccion_expensive} is the most expensive and its price is {expensive_price} USD\")"
      ]
    },
    {
      "attachments": {},
      "cell_type": "markdown",
      "id": "lesser-cosmetic",
      "metadata": {},
      "source": [
        "#### Ejercicio 02. ¿Cuál es la casa más barata del dataset? (★☆☆)\n",
        "\n",
        "Imprime la dirección y el precio de la casa seleccionada. Por ejemplo:\n",
        "\n",
        "`La casa con dirección en Calle Alcalá, Nº58 es la más barata y su precio es de 12000 USD`"
      ]
    },
    {
      "cell_type": "code",
      "execution_count": null,
      "id": "lovely-oasis",
      "metadata": {},
      "outputs": [
        {
          "name": "stdout",
          "output_type": "stream",
          "text": [
            "The house with address Parla is the cheapest and its price is 0 USD\n"
          ]
        }
      ],
      "source": [
        "\n",
        "cheapest_price = df['price'].min() # Esto me da el precio minimo\n",
        "\n",
        "index_cheapest = df['price'].idxmin() # Esto me da el índice donde está el precio minimo\n",
        "\n",
        "# Con el indice puedo saber la direccion de la casa\n",
        "\n",
        "direccion_cheapest = df.loc[index_cheapest, 'address']\n",
        "\n",
        "print(f\"The house with address {direccion_cheapest} is the cheapest and its price is {cheapest_price} USD\")"
      ]
    },
    {
      "attachments": {},
      "cell_type": "markdown",
      "id": "compliant-fellowship",
      "metadata": {},
      "source": [
        "#### Ejercicio 03. ¿Cuál es la casa más grande y la más pequeña del dataset? (★☆☆)\n",
        "\n",
        "Imprime la dirección y el área de las casas seleccionadas. Por ejemplo:\n",
        "\n",
        "`La casa más grande está ubicada en Calle Gran Vía, Nº38 y su superficie es de 5000 metros`\n",
        "\n",
        "`La casa más pequeña está ubicada en Calle Mayor, Nº12 y su superficie es de 200 metros`"
      ]
    },
    {
      "cell_type": "code",
      "execution_count": null,
      "id": "every-tiffany",
      "metadata": {},
      "outputs": [
        {
          "name": "stdout",
          "output_type": "stream",
          "text": [
            "The smallest house is located on Calle Amparo,  Madrid Capital and its surface is 15.0 meters\n",
            "The biggest house is located on Sevilla la Nueva and its surface is 249000.0 meters\n"
          ]
        }
      ],
      "source": [
        "\n",
        "smallest_surface = df['surface'].min() # Esto me da la superficie minima\n",
        "biggest_surface = df['surface'].max() # Esto me da la superficie maxima\n",
        "\n",
        "index_smallest = df['surface'].idxmin() # Esto me da el índice donde está la superficie minima\n",
        "index_biggest = df['surface'].idxmax() # Esto me da el índice donde está la superficie maxima\n",
        "\n",
        "# Con el indice puedo saber la direccion de la casa\n",
        "direccion_smallest = df.loc[index_smallest, 'address']\n",
        "direccion_biggest = df.loc[index_biggest, 'address']\n",
        "\n",
        "print(f\"The smallest house is located on {direccion_smallest} and its surface is {smallest_surface} meters\")\n",
        "\n",
        "print(f\"The biggest house is located on {direccion_biggest} and its surface is {biggest_surface} meters\")"
      ]
    },
    {
      "attachments": {},
      "cell_type": "markdown",
      "id": "danish-spirit",
      "metadata": {},
      "source": [
        "#### Ejercicio 04. ¿Cuantas poblaciones (columna level5) contiene el dataset? (★☆☆)\n",
        "\n",
        "Imprime el nombre de las poblaciones separadas por coma. Por ejemplo:\n",
        "\n",
        "`> print(populations)`\n",
        "\n",
        "`population1, population2, population3, ...`"
      ]
    },
    {
      "cell_type": "code",
      "execution_count": null,
      "id": "exciting-accreditation",
      "metadata": {},
      "outputs": [
        {
          "name": "stdout",
          "output_type": "stream",
          "text": [
            "['Arganda del Rey' 'Fuenlabrada' 'Boadilla del Monte'\n",
            " 'Las Rozas de Madrid' ' Madrid Capital' 'Villaviciosa de Odón' 'Pinto'\n",
            " 'Valdemoro' 'Navalcarnero' 'Pozuelo de Alarcón' 'Torrejón de Ardoz'\n",
            " 'Navalagamella' 'San Sebastián de los Reyes' 'Rivas-vaciamadrid'\n",
            " 'Alpedrete' 'Móstoles' 'San Fernando de Henares' 'Coslada'\n",
            " 'Becerril de la Sierra' 'Alcalá de Henares' 'Chinchón' 'Parla' 'Alcorcón'\n",
            " 'El Escorial' 'Leganés' 'Pedrezuela' 'Majadahonda'\n",
            " 'Villanueva de la Cañada' 'Villanueva del Pardillo' 'Torrelodones'\n",
            " 'Moralzarzal' 'Mejorada del Campo' 'Aranjuez' 'Corpa' 'Getafe'\n",
            " 'Velilla de San Antonio' 'Sevilla la Nueva' 'San Martín de la Vega'\n",
            " 'Villalbilla' 'Collado Villalba' 'Alcobendas' 'El Molar (Madrid)'\n",
            " 'Moraleja de Enmedio' 'Algete' 'Campo Real' 'Torrejón de la Calzada'\n",
            " 'Colmenar Viejo' 'Valdemorillo' 'Fuente El Saz de Jarama' 'Tres Cantos'\n",
            " 'Arroyomolinos (Madrid)' 'Griñón' 'Paracuellos de Jarama' 'Guadarrama'\n",
            " 'Titulcia' 'Galapagar' 'Collado Mediano' 'Los Molinos'\n",
            " 'San Lorenzo de El Escorial' 'Loeches' 'San Martín de Valdeiglesias'\n",
            " 'Navas del Rey' 'Bustarviejo' 'Manzanares El Real' 'Carabaña'\n",
            " 'Casarrubuelos' 'Cercedilla' 'Fresnedillas de la Oliva' 'Valdemaqueda'\n",
            " 'Robledo de Chavela' 'Miraflores de la Sierra' 'Humanes de Madrid'\n",
            " 'Valdetorres de Jarama' 'San Agustín del Guadalix' 'Ciempozuelos'\n",
            " 'Camarma de Esteruelas' 'Torres de la Alameda' 'Talamanca de Jarama'\n",
            " 'El Atazar' 'Hoyo de Manzanares' 'El Boalo - Cerceda – Mataelpino'\n",
            " 'El Álamo' 'Valdilecha' 'Valdeolmos-Alalpardo' 'Guadalix de la Sierra'\n",
            " 'Belmonte de Tajo' 'El Vellón' 'Brunete' 'Redueña' 'Morata de Tajuña'\n",
            " 'Tielmes' 'Gargantilla del Lozoya' 'Meco' 'Venturada' 'Quijorna'\n",
            " 'Cenicientos' 'Torrejón de Velasco' 'Navacerrada'\n",
            " 'Santa María de la Alameda' 'Orusco de Tajuña' 'Daganzo de Arriba'\n",
            " 'Villamanta' 'Anchuelo' 'Valdaracete' 'Ajalvir' 'Los Santos de la Humosa'\n",
            " 'Villamanrique de Tajo' 'Colmenar de Oreja' 'Villa del Prado'\n",
            " 'Fuentidueña de Tajo' 'Colmenar del Arroyo' 'Valdelaguna'\n",
            " 'Cubas de la Sagra' 'Valdeavero' 'Aldea del Fresno' 'Ribatejada'\n",
            " 'Torrelaguna' 'Batres' 'Pezuela de las Torres' 'Colmenarejo'\n",
            " 'Serranillos del Valle' 'Cobeña' 'Soto del Real' 'El Berrueco'\n",
            " 'Villanueva de Perales' 'Fresno de Torote - Serracines' 'Pozuelo del Rey'\n",
            " 'Pelayos de la Presa' 'La Cabrera' 'Nuevo Baztán' 'Perales de Tajuña'\n",
            " 'Villaconejos' 'Villarejo de Salvanés' 'Cadalso de los Vidrios'\n",
            " 'Santorcaz' 'Madarcos' 'Garganta de los Montes' 'Puentes Viejas'\n",
            " 'Torremocha de Jarama' 'Valdemanco' 'Braojos'\n",
            " 'Lozoyuela-navas-sieteiglesias' 'Piñuécar-gandullas' 'Valdepiélagos'\n",
            " 'Valverde de Alcalá' 'Villar del Olmo' 'Villamantilla'\n",
            " 'Horcajo de la Sierra' 'Gascones' 'Zarzalejo' 'Villavieja del Lozoya'\n",
            " 'Brea de Tajo' 'Estremera' 'Chapinería' 'Navarredonda' 'Patones' 'Ambite'\n",
            " 'Navalafuente' 'Lozoya' 'Canencia' 'Cabanillas de la Sierra'\n",
            " 'Buitrago del Lozoya' 'Fresno de Torote' 'Robregordo' 'Pinilla del Valle'\n",
            " 'Rascafría' 'La Hiruela' 'Montejo de la Sierra']\n",
            "Arganda del Rey, Fuenlabrada, Boadilla del Monte, Las Rozas de Madrid,  Madrid Capital, Villaviciosa de Odón, Pinto, Valdemoro, Navalcarnero, Pozuelo de Alarcón, Torrejón de Ardoz, Navalagamella, San Sebastián de los Reyes, Rivas-vaciamadrid, Alpedrete, Móstoles, San Fernando de Henares, Coslada, Becerril de la Sierra, Alcalá de Henares, Chinchón, Parla, Alcorcón, El Escorial, Leganés, Pedrezuela, Majadahonda, Villanueva de la Cañada, Villanueva del Pardillo, Torrelodones, Moralzarzal, Mejorada del Campo, Aranjuez, Corpa, Getafe, Velilla de San Antonio, Sevilla la Nueva, San Martín de la Vega, Villalbilla, Collado Villalba, Alcobendas, El Molar (Madrid), Moraleja de Enmedio, Algete, Campo Real, Torrejón de la Calzada, Colmenar Viejo, Valdemorillo, Fuente El Saz de Jarama, Tres Cantos, Arroyomolinos (Madrid), Griñón, Paracuellos de Jarama, Guadarrama, Titulcia, Galapagar, Collado Mediano, Los Molinos, San Lorenzo de El Escorial, Loeches, San Martín de Valdeiglesias, Navas del Rey, Bustarviejo, Manzanares El Real, Carabaña, Casarrubuelos, Cercedilla, Fresnedillas de la Oliva, Valdemaqueda, Robledo de Chavela, Miraflores de la Sierra, Humanes de Madrid, Valdetorres de Jarama, San Agustín del Guadalix, Ciempozuelos, Camarma de Esteruelas, Torres de la Alameda, Talamanca de Jarama, El Atazar, Hoyo de Manzanares, El Boalo - Cerceda – Mataelpino, El Álamo, Valdilecha, Valdeolmos-Alalpardo, Guadalix de la Sierra, Belmonte de Tajo, El Vellón, Brunete, Redueña, Morata de Tajuña, Tielmes, Gargantilla del Lozoya, Meco, Venturada, Quijorna, Cenicientos, Torrejón de Velasco, Navacerrada, Santa María de la Alameda, Orusco de Tajuña, Daganzo de Arriba, Villamanta, Anchuelo, Valdaracete, Ajalvir, Los Santos de la Humosa, Villamanrique de Tajo, Colmenar de Oreja, Villa del Prado, Fuentidueña de Tajo, Colmenar del Arroyo, Valdelaguna, Cubas de la Sagra, Valdeavero, Aldea del Fresno, Ribatejada, Torrelaguna, Batres, Pezuela de las Torres, Colmenarejo, Serranillos del Valle, Cobeña, Soto del Real, El Berrueco, Villanueva de Perales, Fresno de Torote - Serracines, Pozuelo del Rey, Pelayos de la Presa, La Cabrera, Nuevo Baztán, Perales de Tajuña, Villaconejos, Villarejo de Salvanés, Cadalso de los Vidrios, Santorcaz, Madarcos, Garganta de los Montes, Puentes Viejas, Torremocha de Jarama, Valdemanco, Braojos, Lozoyuela-navas-sieteiglesias, Piñuécar-gandullas, Valdepiélagos, Valverde de Alcalá, Villar del Olmo, Villamantilla, Horcajo de la Sierra, Gascones, Zarzalejo, Villavieja del Lozoya, Brea de Tajo, Estremera, Chapinería, Navarredonda, Patones, Ambite, Navalafuente, Lozoya, Canencia, Cabanillas de la Sierra, Buitrago del Lozoya, Fresno de Torote, Robregordo, Pinilla del Valle, Rascafría, La Hiruela, Montejo de la Sierra\n"
          ]
        }
      ],
      "source": [
        "poblaciones = df['level5'].unique()\n",
        "\n",
        "print(poblaciones) # Lo imprime como df\n",
        "\n",
        "poblaciones_str = ', '.join(poblaciones)\n",
        "\n",
        "# Imprimir las poblaciones únicas separadas por comas\n",
        "print(poblaciones_str)\n",
        "\n"
      ]
    },
    {
      "attachments": {},
      "cell_type": "markdown",
      "id": "crazy-blame",
      "metadata": {},
      "source": [
        "#### Ejercicio 05. ¿El dataset contiene valores no admitidos (NAs)? (★☆☆)\n",
        "\n",
        "Imprima un booleano (`True` o `False`) seguido de la fila/columna que contiene el NAs."
      ]
    },
    {
      "cell_type": "code",
      "execution_count": null,
      "id": "transparent-poetry",
      "metadata": {},
      "outputs": [],
      "source": [
        "# Encontrar los valores NaN en el DataFrame\n",
        "nan_positions = df.isna()\n",
        "\n",
        "# Verificar si hay algún valor NaN\n",
        "if nan_positions.any().any():\n",
        "    # Iterar sobre el DataFrame para encontrar las posiciones de los NaN\n",
        "    for row in range(len(df)):\n",
        "        for col in df.columns:\n",
        "            if nan_positions.at[row, col]:\n",
        "                print(f\"NaN encontrado en la fila {row}, columna '{col}'\")\n",
        "else:\n",
        "    print(\"No se encontraron valores NaN en el DataFrame\")"
      ]
    },
    {
      "attachments": {},
      "cell_type": "markdown",
      "id": "italic-hydrogen",
      "metadata": {},
      "source": [
        "#### Ejercicio 06. Elimina los NAs del dataset, si aplica (★★☆)\n",
        "\n",
        "Imprima una comparación entre las dimensiones del DataFrame original versus el DataFrame después de las eliminaciones.\n"
      ]
    },
    {
      "cell_type": "code",
      "execution_count": null,
      "id": "administrative-roads",
      "metadata": {},
      "outputs": [
        {
          "name": "stdout",
          "output_type": "stream",
          "text": [
            "La dimensión original es (15335, 37), después de eliminar los Na queda (0, 37)\n"
          ]
        }
      ],
      "source": [
        "\n",
        "df_sin_na = df.dropna()\n",
        "\n",
        "\n",
        "print(f\"La dimensión original es {df.shape}, después de eliminar los Na queda {df_sin_na.shape}\")\n",
        "# Al quitar los na con dropna() se están quitando la fila entera en cuanto se encuentra un na \n",
        "# y hay 1 o 2 columnas que tienen todo na por lo que se están borrando todos los resgistros"
      ]
    },
    {
      "attachments": {},
      "cell_type": "markdown",
      "id": "middle-china",
      "metadata": {},
      "source": [
        "#### Ejercicio 07. ¿Cuál la media de precios en la población (columna level5) de \"Arroyomolinos (Madrid)\"? (★★☆)\n",
        "\n",
        "Imprima el valor obtenido."
      ]
    },
    {
      "cell_type": "code",
      "execution_count": null,
      "id": "nuclear-belief",
      "metadata": {},
      "outputs": [
        {
          "name": "stdout",
          "output_type": "stream",
          "text": [
            " La media de precios en la población de Arroyomolinos (Madrid) es 294541.59854014596 euros\n"
          ]
        }
      ],
      "source": [
        "media_precios = df.groupby('level5')['price'].mean()\n",
        "\n",
        "# print(media_precios)\n",
        "\n",
        "\n",
        "media_arroyo = media_precios.loc['Arroyomolinos (Madrid)']\n",
        "print(f\" La media de precios en la población de Arroyomolinos (Madrid) es {media_arroyo} euros\")\n"
      ]
    },
    {
      "attachments": {},
      "cell_type": "markdown",
      "id": "concerned-radical",
      "metadata": {},
      "source": [
        "#### Ejercicio 08. Trazar el histograma de los precios para la población (level5 column) de \"Arroyomolinos (Madrid)\" y explica qué observas (★★☆)\n",
        "\n",
        "Imprime el histograma de los precios y escribe en la celda del Markdown un breve análisis del trazado.\n"
      ]
    },
    {
      "cell_type": "code",
      "execution_count": null,
      "id": "sudden-message",
      "metadata": {},
      "outputs": [
        {
          "name": "stdout",
          "output_type": "stream",
          "text": [
            "453      165338\n",
            "607      251646\n",
            "613      396000\n",
            "707      225000\n",
            "852      373000\n",
            "          ...  \n",
            "15019    218000\n",
            "15089    230000\n",
            "15091    217000\n",
            "15094    227000\n",
            "15192    462000\n",
            "Name: price, Length: 137, dtype: int64\n"
          ]
        },
        {
          "data": {
            "image/png": "[encoded data removed]",
            "text/plain": [
              "<Figure size 1000x500 with 1 Axes>"
            ]
          },
          "metadata": {},
          "output_type": "display_data"
        }
      ],
      "source": [
        "\n",
        "data_arroyo = df.loc[df['level5'] =='Arroyomolinos (Madrid)']\n",
        "\n",
        "precios_arroyo = data_arroyo['price']\n",
        "print(precios_arroyo)\n",
        "\n",
        "plt.figure(figsize = (10, 5))\n",
        "\n",
        "plt.hist(precios_arroyo, bins = 30, alpha = 0.7)\n",
        "\n",
        "plt.title('Histrograma precios de Arroyomolinos (Madrid)')\n",
        "plt.xlabel('Precio')\n",
        "plt.ylabel('')\n",
        "plt.show()"
      ]
    },
    {
      "attachments": {},
      "cell_type": "markdown",
      "id": "impressed-combination",
      "metadata": {},
      "source": [
        "**Análisis del trazado**. Observando el histograma notamos que hay registos con precio 0, además, la distribución sigue, grosso modo, una distribución de campana de Gauss \n",
        "con la mayoría de valores en los precos centrales."
      ]
    },
    {
      "attachments": {},
      "cell_type": "markdown",
      "id": "actual-edinburgh",
      "metadata": {},
      "source": [
        "#### Ejercicio 09. ¿Son los precios promedios de \"Valdemorillo\" y \"Galapagar\" los mismos? (★★☆)\n",
        "\n",
        "Imprime ambos promedios y escribe una conclusión sobre ellos."
      ]
    },
    {
      "cell_type": "code",
      "execution_count": null,
      "id": "numeric-commerce",
      "metadata": {},
      "outputs": [
        {
          "name": "stdout",
          "output_type": "stream",
          "text": [
            " La media de precios en la población de Valdemorillo es 363860.2931034483 euros, mientras que la de Galapagar es de 360063.20238095237 euros\n",
            "La diferencia es de 3797.090722495923 euros\n"
          ]
        }
      ],
      "source": [
        "media_precios = df.groupby('level5')['price'].mean()\n",
        "\n",
        "# print(media_precios)\n",
        "\n",
        "media_valdemorillo = media_precios.loc['Valdemorillo']\n",
        "media_galapagar = media_precios.loc['Galapagar']\n",
        "print(f\" La media de precios en la población de Valdemorillo es {media_valdemorillo} euros, mientras que la de Galapagar es de {media_galapagar} euros\")\n",
        "diferencia = media_valdemorillo - media_galapagar\n",
        "\n",
        "print(f\"La diferencia es de {diferencia} euros\")"
      ]
    },
    {
      "cell_type": "markdown",
      "id": "8e2df7f0",
      "metadata": {},
      "source": [
        "**Conclusión promedios de \"Valdemorillo\" y \"Galapagar\":** Aunque existe cierta diferencia en los precios promedio de los inmuebles en ambas zonas (siendo en la zona de Valdemorillo donde el promedio es mayor) esta diferencia es poco trancendental teniendo en cuenta la magnitud de los precios"
      ]
    },
    {
      "attachments": {},
      "cell_type": "markdown",
      "id": "lonely-article",
      "metadata": {},
      "source": [
        "#### Ejercicio 10. ¿Son los promedios de precio por metro cuadrado (precio/m2) de \"Valdemorillo\" y \"Galapagar\" los mismos? (★★☆)\n",
        "\n",
        "Imprime ambos promedios de precio por metro cuadrado y escribe una conclusión sobre ellos.\n",
        "\n",
        "Pista: Crea una nueva columna llamada `pps` (*price per square* o precio por metro cuadrado) y luego analiza los valores."
      ]
    },
    {
      "cell_type": "code",
      "execution_count": null,
      "id": "hourly-globe",
      "metadata": {},
      "outputs": [
        {
          "name": "stdout",
          "output_type": "stream",
          "text": [
            " La media de superficie de las casas en la población de Valdemorillo es 350.0188679245283 m2, mientras que en Galapagar es de 305.52 euros\n",
            " La media de precio por metro cuadrado en la población de Valdemorillo es 1317.9502109024984 euros, mientras que la de Galapagar es de 1606.3240303094024 euros\n",
            "La diferencia es de -288.373819406904 euros\n"
          ]
        }
      ],
      "source": [
        "# Creo la nueva columna price per square\n",
        "df['pps'] = df['price'] / df['surface']\n",
        "\n",
        "# Agrupamos por población y hacemos el promedio de los precios por metro 2\n",
        "media_precios = df.groupby('level5')['pps'].mean()\n",
        "\n",
        "\n",
        "media_pps_valdemorillo = media_precios.loc['Valdemorillo']\n",
        "media_pps_galapagar = media_precios.loc['Galapagar']\n",
        "\n",
        "print(f\" La media de precio por metro cuadrado en la población de Valdemorillo es {media_pps_valdemorillo} euros, mientras que la de Galapagar es de {media_pps_galapagar} euros\")\n",
        "\n",
        "diferencia = media_pps_valdemorillo - media_pps_galapagar\n",
        "\n",
        "print(f\"La diferencia es de {diferencia} euros\")\n",
        "\n",
        "# Comprobación a posteriori\n",
        "media_superficie = df.groupby('level5')['surface'].mean()\n",
        "media_superficie_valdemorillo = media_superficie.loc['Valdemorillo']\n",
        "media_superficie_galapagar = media_superficie.loc['Galapagar']\n",
        "print(f\" La media de superficie de las casas en la población de Valdemorillo es {media_superficie_valdemorillo} m2, mientras que en Galapagar es de {media_superficie_galapagar} m2\")"
      ]
    },
    {
      "cell_type": "markdown",
      "id": "256a8b99",
      "metadata": {},
      "source": [
        "**Conclusión promedios precio por metro cuadrado de \"Valdemorillo\" y \"Galapagar\":** como vimos antes, los precios en Valdemorillo son, en promedio, más altos que en Galapagar, sin embargo, con esto último descubrimos que el precio del metro cuadrado en Valdemorillo es inferior que en Galapagar, por lo tanto seguramente esté ocurriendo que en general, en Valdemorillo las casas tengan más superficie que en Galapagar. Esto lo comprobamos a posteriori y lo confirmamos."
      ]
    },
    {
      "attachments": {},
      "cell_type": "markdown",
      "id": "pleasant-invite",
      "metadata": {},
      "source": [
        "#### Ejercicio 11. Analiza la relación entre la superficie y el precio de las casas. (★★☆)\n",
        "\n",
        "Pista: Puedes hacer un `scatter plot` y luego escribir una conclusión al respecto."
      ]
    },
    {
      "cell_type": "code",
      "execution_count": null,
      "id": "common-drilling",
      "metadata": {},
      "outputs": [
        {
          "name": "stdout",
          "output_type": "stream",
          "text": [
            "0    195000\n",
            "2    390000\n",
            "3     89000\n",
            "4    172000\n",
            "5    315000\n",
            "Name: price, dtype: int64\n",
            "0    103.0\n",
            "2     99.0\n",
            "3     86.0\n",
            "4    106.0\n",
            "5     70.0\n",
            "Name: surface, dtype: float64\n"
          ]
        },
        {
          "data": {
            "image/png": "[encoded data removed]",
            "text/plain": [
              "<Figure size 1000x500 with 1 Axes>"
            ]
          },
          "metadata": {},
          "output_type": "display_data"
        },
        {
          "data": {
            "text/plain": [
              "\"\\nprecios = df['price'].unique()\\nprint(precios)\\n\""
            ]
          },
          "execution_count": 27,
          "metadata": {},
          "output_type": "execute_result"
        }
      ],
      "source": [
        "# Convertir la columna 'price' a tipo numérico, forzando errores a NaN\n",
        "df['price'] = pd.to_numeric(df['price'], errors='coerce')\n",
        "\n",
        "# Eliminar filas con valores NaN en 'price' o 'surface'\n",
        "df.dropna(subset=['price', 'surface'], inplace=True)\n",
        "\n",
        "x = df['price']\n",
        "y = df['surface']\n",
        "\n",
        "print(x.head())\n",
        "print(y.head())\n",
        "plt.figure(figsize = (10, 5))\n",
        "\n",
        "plt.scatter(x, y, c='blue', label='Data Points', marker= 'o')\n",
        "\n",
        "plt.xlabel('Precio')\n",
        "plt.ylabel('Superficie')\n",
        "\n",
        "plt.title(\"Superficie vs precio de las casas\")\n",
        "plt.legend()\n",
        "\n",
        "# Ajustar los límites del eje X e Y para hacer zoom\n",
        "plt.xlim([0, max(x)])  \n",
        "plt.ylim([ -8000, 8000])  \n",
        "\n",
        "plt.show()\n",
        "\n",
        "\n",
        "# Comprobación de los precios con un histograma\n",
        "\"\"\"\n",
        "print(x)\n",
        "plt.figure(figsize = (10, 5))\n",
        "\n",
        "plt.hist(x, bins = 30, alpha = 0.7)\n",
        "\n",
        "plt.title('Histrograma precios')\n",
        "plt.xlabel('Precio')\n",
        "plt.ylabel('')\n",
        "plt.show()\n",
        "\"\"\"\n",
        "\n",
        "# Comprobación precios\n",
        "\"\"\"\n",
        "precios = df['price'].unique()\n",
        "print(precios)\n",
        "\"\"\"\n",
        "# 1e6 los valores en el eje x están elevados a 6\n"
      ]
    },
    {
      "cell_type": "markdown",
      "id": "475bad2a",
      "metadata": {},
      "source": []
    },
    {
      "attachments": {},
      "cell_type": "markdown",
      "id": "ahead-liquid",
      "metadata": {},
      "source": [
        "**Conclusión relación precio y superficie:** a grandes rasgos podemos decir que el precio y la superficie siguen una relación lineal creciente, es decir, a los valores con mayor superficie se corresponden con valores de precio mayor. Igualmente, hay algunos puntos que se alejan de esta tendencia, tendiendo puntos de superficie que se disparan."
      ]
    },
    {
      "attachments": {},
      "cell_type": "markdown",
      "id": "coordinate-sunrise",
      "metadata": {},
      "source": [
        "#### Ejercicio 12. ¿Cuántas agencia de bienes raíces contiene el dataset? (★★☆)\n",
        "\n",
        "Imprime el valor obtenido."
      ]
    },
    {
      "cell_type": "code",
      "execution_count": null,
      "id": "valid-honolulu",
      "metadata": {},
      "outputs": [
        {
          "name": "stdout",
          "output_type": "stream",
          "text": [
            "Hay 1822 agencias de bienes raíces\n"
          ]
        }
      ],
      "source": [
        "agencias = df['realEstate_name'].unique()\n",
        "\n",
        "print(f\"Hay {len(agencias)} agencias de bienes raíces\")"
      ]
    },
    {
      "attachments": {},
      "cell_type": "markdown",
      "id": "binding-ebony",
      "metadata": {},
      "source": [
        "#### Ejercicio 13. ¿Cuál es la población (columna level5) que contiene la mayor cantidad de casas?(★★☆)\n",
        "\n",
        "Imprima la población y el número de casas."
      ]
    },
    {
      "cell_type": "code",
      "execution_count": null,
      "id": "static-perry",
      "metadata": {},
      "outputs": [
        {
          "name": "stdout",
          "output_type": "stream",
          "text": [
            "level5\n",
            " Madrid Capital        6643\n",
            "Alcalá de Henares       525\n",
            "Las Rozas de Madrid     383\n",
            "Móstoles                325\n",
            "Getafe                  290\n",
            "Name: count, dtype: int64\n",
            "La población que contiene mayor cantidad de casas es  Madrid Capital con 6643 casas.\n"
          ]
        }
      ],
      "source": [
        "cuenta_poblaciones = df['level5'].value_counts()\n",
        "print(cuenta_poblaciones.head())\n",
        "poblacion_max = cuenta_poblaciones.idxmax()\n",
        "cantidad_max = cuenta_poblaciones.max()\n",
        "\n",
        "print(f'La población que contiene mayor cantidad de casas es {poblacion_max} con {cantidad_max} casas.')"
      ]
    },
    {
      "attachments": {},
      "cell_type": "markdown",
      "id": "entire-classification",
      "metadata": {},
      "source": [
        "#### Ejercicio 14. Ahora vamos a trabajar con el \"cinturón sur\" de Madrid. Haz un subconjunto del DataFrame original que contenga las siguientes poblaciones (columna level5): \"Fuenlabrada\", \"Leganés\", \"Getafe\", \"Alcorcón\" (★★☆)\n",
        "\n",
        "Pista: Filtra el DataFrame original usando la columna `level5` y la función `isin`."
      ]
    },
    {
      "cell_type": "code",
      "execution_count": 47,
      "id": "binary-input",
      "metadata": {},
      "outputs": [
        {
          "name": "stdout",
          "output_type": "stream",
          "text": [
            "['Fuenlabrada' 'Alcorcón' 'Leganés' 'Getafe']\n",
            "     Unnamed: 0  id_realEstates  isNew                    realEstate_name  \\\n",
            "1             2       153867863  False  tecnocasa fuenlabrada ferrocarril   \n",
            "3             4       152776331  False  tecnocasa fuenlabrada ferrocarril   \n",
            "85           86       153152077  False            sinergical inmobiliaria   \n",
            "94           95       153995577  False                    viviendas365com   \n",
            "109         110       153586414  False    area uno asesores inmobiliarios   \n",
            "\n",
            "     phone_realEstate                                       url_inmueble  \\\n",
            "1         916358736.0  https://www.fotocasa.es/es/comprar/vivienda/ma...   \n",
            "3         916358736.0  https://www.fotocasa.es/es/comprar/vivienda/ma...   \n",
            "85                NaN  https://www.fotocasa.es/es/comprar/vivienda/le...   \n",
            "94        911226014.0  https://www.fotocasa.es/es/comprar/vivienda/le...   \n",
            "109       912664081.0  https://www.fotocasa.es/es/comprar/vivienda/ma...   \n",
            "\n",
            "     rooms  bathrooms  surface   price  ... level4Id level5Id level6Id  \\\n",
            "1      3.0        1.0      NaN   89000  ...        0        0        0   \n",
            "3      3.0        1.0     86.0   89000  ...        0        0        0   \n",
            "85     1.0        1.0     50.0  107000  ...        0        0        0   \n",
            "94     3.0        2.0    120.0  320000  ...        0        0        0   \n",
            "109    3.0        3.0    142.0  425000  ...        0        0        0   \n",
            "\n",
            "    level7Id level8Id accuracy          latitude          longitude zipCode  \\\n",
            "1          0        0        1          40,28674           -3,79351     NaN   \n",
            "3          0        0        0  40,2853785786438  -3,79508142135624     NaN   \n",
            "85         0        0        1          40,35059           -3,82693     NaN   \n",
            "94         0        0        0          40,31933           -3,77574     NaN   \n",
            "109        0        0        0        40,3313411         -3,8313868     NaN   \n",
            "\n",
            "    customZone  \n",
            "1          NaN  \n",
            "3          NaN  \n",
            "85         NaN  \n",
            "94         NaN  \n",
            "109        NaN  \n",
            "\n",
            "[5 rows x 37 columns]\n"
          ]
        }
      ],
      "source": [
        "cinturon_sur = ['Fuenlabrada', 'Leganés', 'Getafe', 'Alcorcón']\n",
        "\n",
        "subset = df[df['level5'].isin(cinturon_sur)]\n",
        "print(subset['level5'].unique())\n",
        "print(subset.head())"
      ]
    },
    {
      "attachments": {},
      "cell_type": "markdown",
      "id": "severe-fisher",
      "metadata": {},
      "source": [
        "#### Ejercicio 15. Traza un gráfico de barras de la mediana de los precios y explica lo que observas (debes usar el subconjunto obtenido del Ejercicio 14) (★★★)\n",
        "\n",
        "Imprima un gráfico de barras de la mediana de precios y escriba en la celda Markdown un breve análisis sobre el gráfico."
      ]
    },
    {
      "cell_type": "code",
      "execution_count": null,
      "id": "lyric-bunch",
      "metadata": {},
      "outputs": [
        {
          "name": "stdout",
          "output_type": "stream",
          "text": [
            "level5\n",
            "Alcorcón       179500.0\n",
            "Fuenlabrada    155000.0\n",
            "Getafe         285305.0\n",
            "Leganés        169950.0\n",
            "Name: price, dtype: float64\n"
          ]
        },
        {
          "data": {
            "image/png": "[encoded data removed]",
            "text/plain": [
              "<Figure size 1000x600 with 1 Axes>"
            ]
          },
          "metadata": {},
          "output_type": "display_data"
        }
      ],
      "source": [
        "\n",
        "mediana_precios = subset.groupby('level5')['price'].median()\n",
        "\n",
        "print(mediana_precios.head())\n",
        "\n",
        "\n",
        "plt.figure(figsize=(10, 6))\n",
        "plt.bar(mediana_precios.index, mediana_precios.values, color='skyblue')\n",
        "\n",
        "plt.xlabel('Localidad')\n",
        "plt.ylabel('Mediana de Precio')\n",
        "plt.title('Mediana de Precio por Localidad en el Cinturón Sur de Madrid')\n",
        "\n",
        "\n",
        "plt.show()"
      ]
    },
    {
      "attachments": {},
      "cell_type": "markdown",
      "id": "sublime-newspaper",
      "metadata": {},
      "source": [
        "**Análisis de la gráfica:** encontramos que la mediana de los precios es mayor en Getafe que en el resto de ciudades estudiadas lo cual nos indica que en dicha ciudad el valor central es mayor."
      ]
    },
    {
      "attachments": {},
      "cell_type": "markdown",
      "id": "speaking-diamond",
      "metadata": {},
      "source": [
        "#### Ejercicio 16. Calcula la media y la varianza de muestra para las siguientes variables: precio, habitaciones, superficie y baños (debes usar el subconjunto obtenido del Ejercicio 14) (★★★)\n",
        "\n",
        "Imprime ambos valores por cada variable."
      ]
    },
    {
      "cell_type": "code",
      "execution_count": 4,
      "id": "random-feeling",
      "metadata": {},
      "outputs": [
        {
          "name": "stdout",
          "output_type": "stream",
          "text": [
            "PRECIOS  Media: 175000.0  Varianza: 14921367508.04902\n",
            "HABITACIONES  Media: 3.0  Varianza: 0.7188858892927542\n",
            "SUPERFICIE  Media: 89.0  Varianza: 4263.051760316337\n",
            "BAÑOS Media: 1.0  Varianza: 0.5717968625577321\n"
          ]
        }
      ],
      "source": [
        "# Calculo medias por cada localidad\n",
        "# media_precios = subset.groupby('level5')['price'].median()\n",
        "# media_rooms = subset.groupby('level5')['rooms'].median()\n",
        "# media_surface = subset.groupby('level5')['surface'].median()\n",
        "# media_bathrooms = subset.groupby('level5')['bathrooms'].median()\n",
        "\n",
        "\n",
        "# Calculo varianza por cada localidad\n",
        "# var_precios = subset.groupby('level5')['price'].var()\n",
        "# var_rooms = subset.groupby('level5')['rooms'].var()\n",
        "# var_surface = subset.groupby('level5')['surface'].var()\n",
        "# var_bathrooms = subset.groupby('level5')['bathrooms'].var()\n",
        "\n",
        "# Calculo medias entre todas las localidades\n",
        "media_precios = subset['price'].median()\n",
        "media_rooms = subset['rooms'].median()\n",
        "media_surface = subset['surface'].median()\n",
        "media_bathrooms = subset['bathrooms'].median()\n",
        "\n",
        "\n",
        "# Calculo varianza entre todas las localidades\n",
        "var_precios = subset['price'].var()\n",
        "var_rooms = subset['rooms'].var()\n",
        "var_surface = subset['surface'].var()\n",
        "var_bathrooms = subset['bathrooms'].var()\n",
        "\n",
        "print(f\"PRECIOS  Media: {media_precios}  Varianza: {var_precios}\")\n",
        "print(f\"HABITACIONES  Media: {media_rooms}  Varianza: {var_rooms}\")\n",
        "print(f\"SUPERFICIE  Media: {media_surface}  Varianza: {var_surface}\")\n",
        "print(f\"BAÑOS Media: {media_bathrooms}  Varianza: {var_bathrooms}\")\n"
      ]
    },
    {
      "attachments": {},
      "cell_type": "markdown",
      "id": "revolutionary-matrix",
      "metadata": {},
      "source": [
        "#### Ejercicio 17. ¿Cuál es la casa más cara de cada población? Debes usar el subset obtenido en la pregunta 14 (★★☆)\n",
        "\n",
        "Imprime tanto la dirección como el precio de la casa seleccionada de cada población. Puedes imprimir un DataFrame o una sola línea para cada población."
      ]
    },
    {
      "cell_type": "code",
      "execution_count": 10,
      "id": "fifteen-browse",
      "metadata": {},
      "outputs": [
        {
          "name": "stdout",
          "output_type": "stream",
          "text": [
            "                                     address    price\n",
            "5585                                Alcorcón   950000\n",
            "11561  Calle de Paulo Freire, 5, Fuenlabrada   490000\n",
            "2881                                  Getafe  1050000\n",
            "10412           Avenida Reina Sofía, Leganés   650000\n"
          ]
        }
      ],
      "source": [
        "maximo_precios = subset.groupby('level5')['price'].max()\n",
        "indice_maximo_precios = subset.groupby('level5')['price'].idxmax()\n",
        "mas_caras = subset.loc[indice_maximo_precios,  ['address', 'price']]\n",
        "\n",
        "print(mas_caras)\n"
      ]
    },
    {
      "attachments": {},
      "cell_type": "markdown",
      "id": "activated-knight",
      "metadata": {},
      "source": [
        "#### Ejercicio 18. Normaliza la variable de precios para cada población y traza los 4 histogramas en el mismo gráfico (debes usar el subconjunto obtenido en la pregunta 14) (★★★)\n",
        "\n",
        "Para el método de normalización, puedes usar el que consideres adecuado, no hay una única respuesta correcta para esta pregunta. Imprime el gráfico y escribe en la celda de Markdown un breve análisis sobre el gráfico.\n",
        "\n",
        "Pista: Puedes ayudarte revisando la demostración multihist de Matplotlib."
      ]
    },
    {
      "cell_type": "code",
      "execution_count": 52,
      "id": "civic-meditation",
      "metadata": {},
      "outputs": [
        {
          "name": "stderr",
          "output_type": "stream",
          "text": [
            "/tmp/ipykernel_828/3736850112.py:2: SettingWithCopyWarning: \n",
            "A value is trying to be set on a copy of a slice from a DataFrame.\n",
            "Try using .loc[row_indexer,col_indexer] = value instead\n",
            "\n",
            "See the caveats in the documentation: https://pandas.pydata.org/pandas-docs/stable/user_guide/indexing.html#returning-a-view-versus-a-copy\n",
            "  subset['precio_normalizado'] = subset.groupby('level5')['price'].transform(lambda x: (x - x.min()) / (x.max() - x.min()))\n"
          ]
        },
        {
          "name": "stdout",
          "output_type": "stream",
          "text": [
            "['Fuenlabrada' 'Alcorcón' 'Leganés' 'Getafe']\n"
          ]
        },
        {
          "data": {
            "image/png": "[encoded data removed]",
            "text/plain": [
              "<Figure size 1200x800 with 4 Axes>"
            ]
          },
          "metadata": {},
          "output_type": "display_data"
        }
      ],
      "source": [
        "# Normalizacion con método min-max\n",
        "subset['precio_normalizado'] = subset.groupby('level5')['price'].transform(lambda x: (x - x.min()) / (x.max() - x.min()))\n",
        "\n",
        "print(subset['level5'].unique()) \n",
        "\n",
        "subset_alcorcon = subset[subset['level5'].isin(['Alcorcón'])]\n",
        "precios_alcorcon = subset_alcorcon['precio_normalizado']\n",
        "#print(precios_alcorcon)\n",
        "\n",
        "subset_getafe = subset[subset['level5'].isin(['Getafe'])]\n",
        "precios_getafe = subset_getafe['precio_normalizado']\n",
        "# print(precios_getafe)\n",
        "\n",
        "\n",
        "subset_leganes = subset[subset['level5'].isin(['Leganés'])]\n",
        "precios_leganes = subset_leganes['precio_normalizado']\n",
        "\n",
        "subset_fuenlabrada = subset[subset['level5'].isin(['Fuenlabrada'])]\n",
        "precios_fuenlabrada = subset_fuenlabrada['precio_normalizado']\n",
        "\n",
        "# Crea una figura y los subplots para cada histograma\n",
        "fig, ((ax1, ax2), (ax3, ax4)) = plt.subplots(2, 2, figsize=(12, 8))\n",
        "\n",
        "ax1.hist(precios_alcorcon, bins=30, alpha=0.5, color='blue', edgecolor='black')\n",
        "ax1.set_title('Alcorcón')\n",
        "\n",
        "ax2.hist(precios_getafe, bins=30, alpha=0.5, color='green', edgecolor='black')\n",
        "ax2.set_title('Getafe')\n",
        "\n",
        "ax3.hist(precios_leganes, bins=30, alpha=0.5, color='red', edgecolor='black')\n",
        "ax3.set_title('Leganés')\n",
        "\n",
        "ax4.hist(precios_fuenlabrada, bins=30, alpha=0.5, color='purple', edgecolor='black')\n",
        "ax4.set_title('Fuenlabrada')\n",
        "\n",
        "plt.tight_layout()\n",
        "\n",
        "plt.show()\n"
      ]
    },
    {
      "attachments": {},
      "cell_type": "markdown",
      "id": "precise-heavy",
      "metadata": {},
      "source": [
        "**Análisis sobre el gráfico:** los histogramas muestran, en general, una distribución con un sesgo hacia la izquierda, donde la mayoría de los datos están concentrados en los precios más bajos, a excepción de los datos de Getafe que están más centrados, siguiendo una tendencia más cercana a una campana de Gauss."
      ]
    },
    {
      "attachments": {},
      "cell_type": "markdown",
      "id": "patent-jonathan",
      "metadata": {},
      "source": [
        "#### Ejercicio 19. ¿Qué puedes decir sobre el precio por metro cuadrado (precio/m2) entre los municipios de 'Getafe' y 'Alcorcón'? Debes usar el subconjunto obtenido en la pregunta 14 (★★☆)\n",
        "\n",
        "Pista: Crea una nueva columna llamada `pps` (price per square en inglés) y luego analiza los valores"
      ]
    },
    {
      "cell_type": "code",
      "execution_count": null,
      "id": "initial-liverpool",
      "metadata": {},
      "outputs": [],
      "source": [
        "\n"
      ]
    },
    {
      "attachments": {},
      "cell_type": "markdown",
      "id": "enhanced-moscow",
      "metadata": {},
      "source": [
        "#### Ejercicio 20. Realiza el mismo gráfico para 4 poblaciones diferentes (columna level5) y colócalos en el mismo gráfico. Debes usar el subconjunto obtenido en la pregunta 14 (★★☆) \n",
        "Pista: Haz un diagrama de dispersión de cada población usando subgráficos (subplots)."
      ]
    },
    {
      "cell_type": "code",
      "execution_count": null,
      "id": "accepting-airfare",
      "metadata": {},
      "outputs": [],
      "source": []
    },
    {
      "attachments": {},
      "cell_type": "markdown",
      "id": "blocked-effects",
      "metadata": {},
      "source": [
        "#### Ejercicio 21. Realiza un trazado de las coordenadas (columnas latitud y longitud) del cinturón sur de Madrid por color de cada población (debes usar el subconjunto obtenido del Ejercicio 14) (★★★★)\n",
        "\n",
        "Ejecuta la siguiente celda y luego comienza a codear en la siguiente. Debes implementar un código simple que transforme las columnas de coordenadas en un diccionario de Python (agrega más información si es necesario) y agrégala al mapa."
      ]
    },
    {
      "cell_type": "code",
      "execution_count": null,
      "id": "headed-privacy",
      "metadata": {},
      "outputs": [],
      "source": [
        "from ipyleaflet import Map, basemaps\n",
        "\n",
        "# Mapa centrado en (60 grados latitud y -2.2 grados longitud)\n",
        "# Latitud, longitud\n",
        "map = Map(center = (60, -2.2), zoom = 2, min_zoom = 1, max_zoom = 20, \n",
        "    basemap=basemaps.Stamen.Terrain)\n",
        "map"
      ]
    },
    {
      "cell_type": "code",
      "execution_count": null,
      "id": "present-mistress",
      "metadata": {},
      "outputs": [],
      "source": [
        "## Aquí: traza la coordenadas de los estados\n",
        "\n",
        "## PON TU CÓDIGO AQUÍ:\n"
      ]
    }
  ],
  "metadata": {
    "kernelspec": {
      "display_name": "Python 3",
      "language": "python",
      "name": "python3"
    },
    "language_info": {
      "codemirror_mode": {
        "name": "ipython",
        "version": 3
      },
      "file_extension": ".py",
      "mimetype": "text/x-python",
      "name": "python",
      "nbconvert_exporter": "python",
      "pygments_lexer": "ipython3",
      "version": "3.11.4"
    }
  },
  "nbformat": 4,
  "nbformat_minor": 5
}
