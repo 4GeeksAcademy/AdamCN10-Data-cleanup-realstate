{
  "cells": [
    {
      "attachments": {},
      "cell_type": "markdown",
      "id": "innocent-university",
      "metadata": {},
      "source": [
        "# Limpieza de bienes raíces\n",
        "\n",
        "Este es un conjunto de datos (dataset) reales que fue descargado usando técnicas de web scraping. La data contiene registros de **Fotocasa**, el cual es uno de los sitios más populares de bienes raíces en España. Por favor no hagas esto (web scraping) a no ser que sea para propósitos académicos.\n",
        "\n",
        "El dataset fue descargado hace algunos años por Henry Navarro y en ningún caso se obtuvo beneficio económico de ello.\n",
        "\n",
        "Contiene miles de datos de casas reales publicadas en la web www.fotocasa.com. Tu objetivo es extraer tanta información como sea posible con el conocimiento que tienes hasta ahora de ciencia de datos, por ejemplo ¿cuál es la casa más cara en todo el dataset?\n",
        "\n",
        "Empecemos precisamente con esa pregunta... ¡Buena suerte!"
      ]
    },
    {
      "attachments": {},
      "cell_type": "markdown",
      "id": "multiple-glass",
      "metadata": {},
      "source": [
        "#### Ejercicio 00. Lee el dataset assets/real_estate.csv e intenta visualizar la tabla (★☆☆)"
      ]
    },
    {
      "cell_type": "code",
      "execution_count": 32,
      "id": "frank-heath",
      "metadata": {},
      "outputs": [
        {
          "data": {
            "text/html": [
              "<div>\n",
              "<style scoped>\n",
              "    .dataframe tbody tr th:only-of-type {\n",
              "        vertical-align: middle;\n",
              "    }\n",
              "\n",
              "    .dataframe tbody tr th {\n",
              "        vertical-align: top;\n",
              "    }\n",
              "\n",
              "    .dataframe thead th {\n",
              "        text-align: right;\n",
              "    }\n",
              "</style>\n",
              "<table border=\"1\" class=\"dataframe\">\n",
              "  <thead>\n",
              "    <tr style=\"text-align: right;\">\n",
              "      <th></th>\n",
              "      <th>Unnamed: 0</th>\n",
              "      <th>id_realEstates</th>\n",
              "      <th>isNew</th>\n",
              "      <th>realEstate_name</th>\n",
              "      <th>phone_realEstate</th>\n",
              "      <th>url_inmueble</th>\n",
              "      <th>rooms</th>\n",
              "      <th>bathrooms</th>\n",
              "      <th>surface</th>\n",
              "      <th>price</th>\n",
              "      <th>...</th>\n",
              "      <th>level4Id</th>\n",
              "      <th>level5Id</th>\n",
              "      <th>level6Id</th>\n",
              "      <th>level7Id</th>\n",
              "      <th>level8Id</th>\n",
              "      <th>accuracy</th>\n",
              "      <th>latitude</th>\n",
              "      <th>longitude</th>\n",
              "      <th>zipCode</th>\n",
              "      <th>customZone</th>\n",
              "    </tr>\n",
              "  </thead>\n",
              "  <tbody>\n",
              "    <tr>\n",
              "      <th>0</th>\n",
              "      <td>1</td>\n",
              "      <td>153771986</td>\n",
              "      <td>False</td>\n",
              "      <td>ferrari 57 inmobiliaria</td>\n",
              "      <td>912177526.0</td>\n",
              "      <td>https://www.fotocasa.es/es/comprar/vivienda/ma...</td>\n",
              "      <td>3.0</td>\n",
              "      <td>2.0</td>\n",
              "      <td>103.0</td>\n",
              "      <td>195000</td>\n",
              "      <td>...</td>\n",
              "      <td>0</td>\n",
              "      <td>0</td>\n",
              "      <td>0</td>\n",
              "      <td>0</td>\n",
              "      <td>0</td>\n",
              "      <td>0</td>\n",
              "      <td>40,2948276786438</td>\n",
              "      <td>-3,44402412135624</td>\n",
              "      <td>NaN</td>\n",
              "      <td>NaN</td>\n",
              "    </tr>\n",
              "    <tr>\n",
              "      <th>1</th>\n",
              "      <td>2</td>\n",
              "      <td>153867863</td>\n",
              "      <td>False</td>\n",
              "      <td>tecnocasa fuenlabrada ferrocarril</td>\n",
              "      <td>916358736.0</td>\n",
              "      <td>https://www.fotocasa.es/es/comprar/vivienda/ma...</td>\n",
              "      <td>3.0</td>\n",
              "      <td>1.0</td>\n",
              "      <td>NaN</td>\n",
              "      <td>89000</td>\n",
              "      <td>...</td>\n",
              "      <td>0</td>\n",
              "      <td>0</td>\n",
              "      <td>0</td>\n",
              "      <td>0</td>\n",
              "      <td>0</td>\n",
              "      <td>1</td>\n",
              "      <td>40,28674</td>\n",
              "      <td>-3,79351</td>\n",
              "      <td>NaN</td>\n",
              "      <td>NaN</td>\n",
              "    </tr>\n",
              "    <tr>\n",
              "      <th>2</th>\n",
              "      <td>3</td>\n",
              "      <td>153430440</td>\n",
              "      <td>False</td>\n",
              "      <td>look find boadilla</td>\n",
              "      <td>916350408.0</td>\n",
              "      <td>https://www.fotocasa.es/es/comprar/vivienda/ma...</td>\n",
              "      <td>2.0</td>\n",
              "      <td>2.0</td>\n",
              "      <td>99.0</td>\n",
              "      <td>390000</td>\n",
              "      <td>...</td>\n",
              "      <td>0</td>\n",
              "      <td>0</td>\n",
              "      <td>0</td>\n",
              "      <td>0</td>\n",
              "      <td>0</td>\n",
              "      <td>0</td>\n",
              "      <td>40,4115646786438</td>\n",
              "      <td>-3,90662252135624</td>\n",
              "      <td>NaN</td>\n",
              "      <td>NaN</td>\n",
              "    </tr>\n",
              "    <tr>\n",
              "      <th>3</th>\n",
              "      <td>4</td>\n",
              "      <td>152776331</td>\n",
              "      <td>False</td>\n",
              "      <td>tecnocasa fuenlabrada ferrocarril</td>\n",
              "      <td>916358736.0</td>\n",
              "      <td>https://www.fotocasa.es/es/comprar/vivienda/ma...</td>\n",
              "      <td>3.0</td>\n",
              "      <td>1.0</td>\n",
              "      <td>86.0</td>\n",
              "      <td>89000</td>\n",
              "      <td>...</td>\n",
              "      <td>0</td>\n",
              "      <td>0</td>\n",
              "      <td>0</td>\n",
              "      <td>0</td>\n",
              "      <td>0</td>\n",
              "      <td>0</td>\n",
              "      <td>40,2853785786438</td>\n",
              "      <td>-3,79508142135624</td>\n",
              "      <td>NaN</td>\n",
              "      <td>NaN</td>\n",
              "    </tr>\n",
              "    <tr>\n",
              "      <th>4</th>\n",
              "      <td>5</td>\n",
              "      <td>153180188</td>\n",
              "      <td>False</td>\n",
              "      <td>ferrari 57 inmobiliaria</td>\n",
              "      <td>912177526.0</td>\n",
              "      <td>https://www.fotocasa.es/es/comprar/vivienda/ma...</td>\n",
              "      <td>2.0</td>\n",
              "      <td>2.0</td>\n",
              "      <td>106.0</td>\n",
              "      <td>172000</td>\n",
              "      <td>...</td>\n",
              "      <td>0</td>\n",
              "      <td>0</td>\n",
              "      <td>0</td>\n",
              "      <td>0</td>\n",
              "      <td>0</td>\n",
              "      <td>0</td>\n",
              "      <td>40,2998774864376</td>\n",
              "      <td>-3,45226301356237</td>\n",
              "      <td>NaN</td>\n",
              "      <td>NaN</td>\n",
              "    </tr>\n",
              "    <tr>\n",
              "      <th>...</th>\n",
              "      <td>...</td>\n",
              "      <td>...</td>\n",
              "      <td>...</td>\n",
              "      <td>...</td>\n",
              "      <td>...</td>\n",
              "      <td>...</td>\n",
              "      <td>...</td>\n",
              "      <td>...</td>\n",
              "      <td>...</td>\n",
              "      <td>...</td>\n",
              "      <td>...</td>\n",
              "      <td>...</td>\n",
              "      <td>...</td>\n",
              "      <td>...</td>\n",
              "      <td>...</td>\n",
              "      <td>...</td>\n",
              "      <td>...</td>\n",
              "      <td>...</td>\n",
              "      <td>...</td>\n",
              "      <td>...</td>\n",
              "      <td>...</td>\n",
              "    </tr>\n",
              "    <tr>\n",
              "      <th>15330</th>\n",
              "      <td>15331</td>\n",
              "      <td>153901377</td>\n",
              "      <td>False</td>\n",
              "      <td>infocasa consulting</td>\n",
              "      <td>911360461.0</td>\n",
              "      <td>https://www.fotocasa.es/es/comprar/vivienda/ma...</td>\n",
              "      <td>2.0</td>\n",
              "      <td>1.0</td>\n",
              "      <td>96.0</td>\n",
              "      <td>259470</td>\n",
              "      <td>...</td>\n",
              "      <td>0</td>\n",
              "      <td>0</td>\n",
              "      <td>0</td>\n",
              "      <td>0</td>\n",
              "      <td>0</td>\n",
              "      <td>0</td>\n",
              "      <td>40,45416</td>\n",
              "      <td>-3,70286</td>\n",
              "      <td>NaN</td>\n",
              "      <td>NaN</td>\n",
              "    </tr>\n",
              "    <tr>\n",
              "      <th>15331</th>\n",
              "      <td>15332</td>\n",
              "      <td>150394373</td>\n",
              "      <td>False</td>\n",
              "      <td>inmobiliaria pulpon</td>\n",
              "      <td>912788039.0</td>\n",
              "      <td>https://www.fotocasa.es/es/comprar/vivienda/ma...</td>\n",
              "      <td>3.0</td>\n",
              "      <td>1.0</td>\n",
              "      <td>150.0</td>\n",
              "      <td>165000</td>\n",
              "      <td>...</td>\n",
              "      <td>0</td>\n",
              "      <td>0</td>\n",
              "      <td>0</td>\n",
              "      <td>0</td>\n",
              "      <td>0</td>\n",
              "      <td>0</td>\n",
              "      <td>40,36652</td>\n",
              "      <td>-3,48951</td>\n",
              "      <td>NaN</td>\n",
              "      <td>NaN</td>\n",
              "    </tr>\n",
              "    <tr>\n",
              "      <th>15332</th>\n",
              "      <td>15333</td>\n",
              "      <td>153901397</td>\n",
              "      <td>False</td>\n",
              "      <td>tecnocasa torrelodones</td>\n",
              "      <td>912780348.0</td>\n",
              "      <td>https://www.fotocasa.es/es/comprar/vivienda/ma...</td>\n",
              "      <td>4.0</td>\n",
              "      <td>2.0</td>\n",
              "      <td>175.0</td>\n",
              "      <td>495000</td>\n",
              "      <td>...</td>\n",
              "      <td>0</td>\n",
              "      <td>0</td>\n",
              "      <td>0</td>\n",
              "      <td>0</td>\n",
              "      <td>0</td>\n",
              "      <td>0</td>\n",
              "      <td>40,57444</td>\n",
              "      <td>-3,92124</td>\n",
              "      <td>NaN</td>\n",
              "      <td>NaN</td>\n",
              "    </tr>\n",
              "    <tr>\n",
              "      <th>15333</th>\n",
              "      <td>15334</td>\n",
              "      <td>152607440</td>\n",
              "      <td>False</td>\n",
              "      <td>inmobiliaria pulpon</td>\n",
              "      <td>912788039.0</td>\n",
              "      <td>https://www.fotocasa.es/es/comprar/vivienda/ma...</td>\n",
              "      <td>3.0</td>\n",
              "      <td>2.0</td>\n",
              "      <td>101.0</td>\n",
              "      <td>195000</td>\n",
              "      <td>...</td>\n",
              "      <td>0</td>\n",
              "      <td>0</td>\n",
              "      <td>0</td>\n",
              "      <td>0</td>\n",
              "      <td>0</td>\n",
              "      <td>0</td>\n",
              "      <td>40,36967</td>\n",
              "      <td>-3,48105</td>\n",
              "      <td>NaN</td>\n",
              "      <td>NaN</td>\n",
              "    </tr>\n",
              "    <tr>\n",
              "      <th>15334</th>\n",
              "      <td>15335</td>\n",
              "      <td>153901356</td>\n",
              "      <td>False</td>\n",
              "      <td>infocasa consulting</td>\n",
              "      <td>911360461.0</td>\n",
              "      <td>https://www.fotocasa.es/es/comprar/vivienda/ma...</td>\n",
              "      <td>3.0</td>\n",
              "      <td>2.0</td>\n",
              "      <td>152.0</td>\n",
              "      <td>765000</td>\n",
              "      <td>...</td>\n",
              "      <td>0</td>\n",
              "      <td>0</td>\n",
              "      <td>0</td>\n",
              "      <td>0</td>\n",
              "      <td>0</td>\n",
              "      <td>0</td>\n",
              "      <td>40,45773</td>\n",
              "      <td>-3,69068</td>\n",
              "      <td>NaN</td>\n",
              "      <td>NaN</td>\n",
              "    </tr>\n",
              "  </tbody>\n",
              "</table>\n",
              "<p>15335 rows × 37 columns</p>\n",
              "</div>"
            ],
            "text/plain": [
              "       Unnamed: 0  id_realEstates  isNew                    realEstate_name  \\\n",
              "0               1       153771986  False            ferrari 57 inmobiliaria   \n",
              "1               2       153867863  False  tecnocasa fuenlabrada ferrocarril   \n",
              "2               3       153430440  False                 look find boadilla   \n",
              "3               4       152776331  False  tecnocasa fuenlabrada ferrocarril   \n",
              "4               5       153180188  False            ferrari 57 inmobiliaria   \n",
              "...           ...             ...    ...                                ...   \n",
              "15330       15331       153901377  False                infocasa consulting   \n",
              "15331       15332       150394373  False                inmobiliaria pulpon   \n",
              "15332       15333       153901397  False             tecnocasa torrelodones   \n",
              "15333       15334       152607440  False                inmobiliaria pulpon   \n",
              "15334       15335       153901356  False                infocasa consulting   \n",
              "\n",
              "       phone_realEstate                                       url_inmueble  \\\n",
              "0           912177526.0  https://www.fotocasa.es/es/comprar/vivienda/ma...   \n",
              "1           916358736.0  https://www.fotocasa.es/es/comprar/vivienda/ma...   \n",
              "2           916350408.0  https://www.fotocasa.es/es/comprar/vivienda/ma...   \n",
              "3           916358736.0  https://www.fotocasa.es/es/comprar/vivienda/ma...   \n",
              "4           912177526.0  https://www.fotocasa.es/es/comprar/vivienda/ma...   \n",
              "...                 ...                                                ...   \n",
              "15330       911360461.0  https://www.fotocasa.es/es/comprar/vivienda/ma...   \n",
              "15331       912788039.0  https://www.fotocasa.es/es/comprar/vivienda/ma...   \n",
              "15332       912780348.0  https://www.fotocasa.es/es/comprar/vivienda/ma...   \n",
              "15333       912788039.0  https://www.fotocasa.es/es/comprar/vivienda/ma...   \n",
              "15334       911360461.0  https://www.fotocasa.es/es/comprar/vivienda/ma...   \n",
              "\n",
              "       rooms  bathrooms  surface   price  ... level4Id level5Id level6Id  \\\n",
              "0        3.0        2.0    103.0  195000  ...        0        0        0   \n",
              "1        3.0        1.0      NaN   89000  ...        0        0        0   \n",
              "2        2.0        2.0     99.0  390000  ...        0        0        0   \n",
              "3        3.0        1.0     86.0   89000  ...        0        0        0   \n",
              "4        2.0        2.0    106.0  172000  ...        0        0        0   \n",
              "...      ...        ...      ...     ...  ...      ...      ...      ...   \n",
              "15330    2.0        1.0     96.0  259470  ...        0        0        0   \n",
              "15331    3.0        1.0    150.0  165000  ...        0        0        0   \n",
              "15332    4.0        2.0    175.0  495000  ...        0        0        0   \n",
              "15333    3.0        2.0    101.0  195000  ...        0        0        0   \n",
              "15334    3.0        2.0    152.0  765000  ...        0        0        0   \n",
              "\n",
              "      level7Id level8Id accuracy          latitude          longitude zipCode  \\\n",
              "0            0        0        0  40,2948276786438  -3,44402412135624     NaN   \n",
              "1            0        0        1          40,28674           -3,79351     NaN   \n",
              "2            0        0        0  40,4115646786438  -3,90662252135624     NaN   \n",
              "3            0        0        0  40,2853785786438  -3,79508142135624     NaN   \n",
              "4            0        0        0  40,2998774864376  -3,45226301356237     NaN   \n",
              "...        ...      ...      ...               ...                ...     ...   \n",
              "15330        0        0        0          40,45416           -3,70286     NaN   \n",
              "15331        0        0        0          40,36652           -3,48951     NaN   \n",
              "15332        0        0        0          40,57444           -3,92124     NaN   \n",
              "15333        0        0        0          40,36967           -3,48105     NaN   \n",
              "15334        0        0        0          40,45773           -3,69068     NaN   \n",
              "\n",
              "      customZone  \n",
              "0            NaN  \n",
              "1            NaN  \n",
              "2            NaN  \n",
              "3            NaN  \n",
              "4            NaN  \n",
              "...          ...  \n",
              "15330        NaN  \n",
              "15331        NaN  \n",
              "15332        NaN  \n",
              "15333        NaN  \n",
              "15334        NaN  \n",
              "\n",
              "[15335 rows x 37 columns]"
            ]
          },
          "execution_count": 32,
          "metadata": {},
          "output_type": "execute_result"
        }
      ],
      "source": [
        "import pandas as pd\n",
        "import matplotlib.pyplot as plt\n",
        "import numpy as np\n",
        "from sklearn.preprocessing import MinMaxScaler #Para normalizar datos.\n",
        "\n",
        "# Este archivo CSV contiene puntos y comas en lugar de comas como separadores\n",
        "df_estates = pd.read_csv('assets/real_estate.csv', sep=';')\n",
        "df_estates"
      ]
    },
    {
      "attachments": {},
      "cell_type": "markdown",
      "id": "latin-guest",
      "metadata": {},
      "source": [
        "#### Ejercicio 01. ¿Cuál es la casa más cara en todo el dataset? (★☆☆)\n",
        "\n",
        "Imprime la dirección y el precio de la casa seleccionada. Por ejemplo:\n",
        "\n",
        "`La casa con dirección en Calle del Prado, Nº20 es la más cara y su precio es de 5000000 USD`"
      ]
    },
    {
      "cell_type": "code",
      "execution_count": 33,
      "id": "developing-optimum",
      "metadata": {},
      "outputs": [
        {
          "name": "stdout",
          "output_type": "stream",
          "text": [
            "La casa con dirección El Escorial,El Escorial es la más cara y su precio es de 8500000 €.\n",
            "None\n"
          ]
        }
      ],
      "source": [
        "###Imprimir dirección de la casa más cara###\n",
        "\n",
        "def HighPrice(highprice):\n",
        "    #Cogemos el valor más grande de la columna Price (El ultimo en este caso) y lo convertimos en una Serie con squeeze para trabajarlo mejor.\n",
        "    highprice_house = highprice.sort_values('price').tail(1).squeeze()\n",
        "    print (f\"La casa con dirección {highprice_house['address']},{highprice_house['level5']} es la más cara y su precio es de {highprice_house['price']} €.\")\n",
        "\n",
        "print (HighPrice(df_estates))"
      ]
    },
    {
      "attachments": {},
      "cell_type": "markdown",
      "id": "lesser-cosmetic",
      "metadata": {},
      "source": [
        "#### Ejercicio 02. ¿Cuál es la casa más barata del dataset? (★☆☆)\n",
        "\n",
        "Imprime la dirección y el precio de la casa seleccionada. Por ejemplo:\n",
        "\n",
        "`La casa con dirección en Calle Alcalá, Nº58 es la más barata y su precio es de 12000 USD`"
      ]
    },
    {
      "cell_type": "code",
      "execution_count": 34,
      "id": "lovely-oasis",
      "metadata": {},
      "outputs": [
        {
          "name": "stdout",
          "output_type": "stream",
          "text": [
            "La casa con dirección en  Madrid Capital,  Madrid Capital es la más barata y su precio es de 0 €.\n",
            "None\n"
          ]
        }
      ],
      "source": [
        "###Imprimir dirección de la casa más barata###\n",
        "\n",
        "def LowPrice(lowprice):\n",
        "    lowprice_house = lowprice.sort_values('price').head(1).squeeze()\n",
        "    print (f\"La casa con dirección en {lowprice_house['address']}, {lowprice_house['level5']} es la más barata y su precio es de {lowprice_house['price']} €.\")\n",
        "\n",
        "print (LowPrice(df_estates))"
      ]
    },
    {
      "attachments": {},
      "cell_type": "markdown",
      "id": "compliant-fellowship",
      "metadata": {},
      "source": [
        "#### Ejercicio 03. ¿Cuál es la casa más grande y la más pequeña del dataset? (★☆☆)\n",
        "\n",
        "Imprime la dirección y el área de las casas seleccionadas. Por ejemplo:\n",
        "\n",
        "`La casa más grande está ubicada en Calle Gran Vía, Nº38 y su superficie es de 5000 metros`\n",
        "\n",
        "`La casa más pequeña está ubicada en Calle Mayor, Nº12 y su superficie es de 200 metros`"
      ]
    },
    {
      "cell_type": "code",
      "execution_count": 35,
      "id": "every-tiffany",
      "metadata": {},
      "outputs": [
        {
          "name": "stdout",
          "output_type": "stream",
          "text": [
            "La casa más grande está en Calle de Manuela Malasaña,  Madrid Capital,  Madrid Capital y su superficie es de nan metros.\n",
            "None\n",
            "La casa más pequeña está en Calle Amparo,  Madrid Capital,  Madrid Capital y su superficie es de 15.0 metros.\n",
            "None\n"
          ]
        }
      ],
      "source": [
        "###Imprimimos la casa más grande y la más pequeña###\n",
        "\n",
        "def MoreSurface(moresurface):\n",
        "    moresurface_house = moresurface.sort_values('surface').tail(1).squeeze()\n",
        "    print (f\"La casa más grande está en {moresurface_house['address']}, {moresurface_house['level5']} y su superficie es de {moresurface_house['surface']} metros.\")\n",
        "\n",
        "def LessSurface(lesssurface):\n",
        "    lessfurface_house = lesssurface.sort_values('surface').head(1).squeeze()\n",
        "    print (f\"La casa más pequeña está en {lessfurface_house['address']}, {lessfurface_house['level5']} y su superficie es de {lessfurface_house['surface']} metros.\")\n",
        "\n",
        "print (MoreSurface(df_estates))\n",
        "print (LessSurface(df_estates))"
      ]
    },
    {
      "attachments": {},
      "cell_type": "markdown",
      "id": "danish-spirit",
      "metadata": {},
      "source": [
        "#### Ejercicio 04. ¿Cuantas poblaciones (columna level5) contiene el dataset? (★☆☆)\n",
        "\n",
        "Imprime el nombre de las poblaciones separadas por coma. Por ejemplo:\n",
        "\n",
        "`> print(populations)`\n",
        "\n",
        "`population1, population2, population3, ...`"
      ]
    },
    {
      "cell_type": "code",
      "execution_count": 36,
      "id": "exciting-accreditation",
      "metadata": {},
      "outputs": [
        {
          "name": "stdout",
          "output_type": "stream",
          "text": [
            " Madrid Capital, Ajalvir, Alcalá de Henares, Alcobendas, Alcorcón, Aldea del Fresno, Algete, Alpedrete, Ambite, Anchuelo, Aranjuez, Arganda del Rey, Arroyomolinos (Madrid), Batres, Becerril de la Sierra, Belmonte de Tajo, Boadilla del Monte, Braojos, Brea de Tajo, Brunete, Buitrago del Lozoya, Bustarviejo, Cabanillas de la Sierra, Cadalso de los Vidrios, Camarma de Esteruelas, Campo Real, Canencia, Carabaña, Casarrubuelos, Cenicientos, Cercedilla, Chapinería, Chinchón, Ciempozuelos, Cobeña, Collado Mediano, Collado Villalba, Colmenar Viejo, Colmenar de Oreja, Colmenar del Arroyo, Colmenarejo, Corpa, Coslada, Cubas de la Sagra, Daganzo de Arriba, El Atazar, El Berrueco, El Boalo - Cerceda – Mataelpino, El Escorial, El Molar (Madrid), El Vellón, El Álamo, Estremera, Fresnedillas de la Oliva, Fresno de Torote, Fresno de Torote - Serracines, Fuenlabrada, Fuente El Saz de Jarama, Fuentidueña de Tajo, Galapagar, Garganta de los Montes, Gargantilla del Lozoya, Gascones, Getafe, Griñón, Guadalix de la Sierra, Guadarrama, Horcajo de la Sierra, Hoyo de Manzanares, Humanes de Madrid, La Cabrera, La Hiruela, Las Rozas de Madrid, Leganés, Loeches, Los Molinos, Los Santos de la Humosa, Lozoya, Lozoyuela-navas-sieteiglesias, Madarcos, Majadahonda, Manzanares El Real, Meco, Mejorada del Campo, Miraflores de la Sierra, Montejo de la Sierra, Moraleja de Enmedio, Moralzarzal, Morata de Tajuña, Móstoles, Navacerrada, Navalafuente, Navalagamella, Navalcarnero, Navarredonda, Navas del Rey, Nuevo Baztán, Orusco de Tajuña, Paracuellos de Jarama, Parla, Patones, Pedrezuela, Pelayos de la Presa, Perales de Tajuña, Pezuela de las Torres, Pinilla del Valle, Pinto, Piñuécar-gandullas, Pozuelo de Alarcón, Pozuelo del Rey, Puentes Viejas, Quijorna, Rascafría, Redueña, Ribatejada, Rivas-vaciamadrid, Robledo de Chavela, Robregordo, San Agustín del Guadalix, San Fernando de Henares, San Lorenzo de El Escorial, San Martín de Valdeiglesias, San Martín de la Vega, San Sebastián de los Reyes, Santa María de la Alameda, Santorcaz, Serranillos del Valle, Sevilla la Nueva, Soto del Real, Talamanca de Jarama, Tielmes, Titulcia, Torrejón de Ardoz, Torrejón de Velasco, Torrejón de la Calzada, Torrelaguna, Torrelodones, Torremocha de Jarama, Torres de la Alameda, Tres Cantos, Valdaracete, Valdeavero, Valdelaguna, Valdemanco, Valdemaqueda, Valdemorillo, Valdemoro, Valdeolmos-Alalpardo, Valdepiélagos, Valdetorres de Jarama, Valdilecha, Valverde de Alcalá, Velilla de San Antonio, Venturada, Villa del Prado, Villaconejos, Villalbilla, Villamanrique de Tajo, Villamanta, Villamantilla, Villanueva de Perales, Villanueva de la Cañada, Villanueva del Pardillo, Villar del Olmo, Villarejo de Salvanés, Villaviciosa de Odón, Villavieja del Lozoya, Zarzalejo, "
          ]
        }
      ],
      "source": [
        "###Nombre de las poblaciones###\n",
        "\n",
        "def Populations(populations):\n",
        "    counter = len(populations.level5)\n",
        "    list_populations = list()\n",
        "    for i in range(counter):\n",
        "        list_populations.append(populations.level5[i])\n",
        "    \n",
        "    #Agrupamos los valores únicos.\n",
        "    list_populations = np.unique(list_populations)\n",
        "    \n",
        "    return list_populations\n",
        "\n",
        "for pop in (Populations(df_estates)):\n",
        "    print (pop, end=\", \")"
      ]
    },
    {
      "attachments": {},
      "cell_type": "markdown",
      "id": "crazy-blame",
      "metadata": {},
      "source": [
        "#### Ejercicio 05. ¿El dataset contiene valores no admitidos (NAs)? (★☆☆)\n",
        "\n",
        "Imprima un booleano (`True` o `False`) seguido de la fila/columna que contiene el NAs."
      ]
    },
    {
      "cell_type": "code",
      "execution_count": 37,
      "id": "transparent-poetry",
      "metadata": {},
      "outputs": [
        {
          "name": "stdout",
          "output_type": "stream",
          "text": [
            "Unnamed: 0          False\n",
            "id_realEstates      False\n",
            "isNew               False\n",
            "realEstate_name      True\n",
            "phone_realEstate     True\n",
            "url_inmueble        False\n",
            "rooms                True\n",
            "bathrooms            True\n",
            "surface              True\n",
            "price               False\n",
            "date                False\n",
            "description          True\n",
            "address             False\n",
            "country             False\n",
            "level1              False\n",
            "level2              False\n",
            "level3              False\n",
            "level4               True\n",
            "level5              False\n",
            "level6               True\n",
            "level7               True\n",
            "level8               True\n",
            "upperLevel          False\n",
            "countryId           False\n",
            "level1Id            False\n",
            "level2Id            False\n",
            "level3Id            False\n",
            "level4Id            False\n",
            "level5Id            False\n",
            "level6Id            False\n",
            "level7Id            False\n",
            "level8Id            False\n",
            "accuracy            False\n",
            "latitude            False\n",
            "longitude           False\n",
            "zipCode              True\n",
            "customZone           True\n",
            "dtype: bool\n",
            "0        True\n",
            "1        True\n",
            "2        True\n",
            "3        True\n",
            "4        True\n",
            "         ... \n",
            "15330    True\n",
            "15331    True\n",
            "15332    True\n",
            "15333    True\n",
            "15334    True\n",
            "Length: 15335, dtype: bool\n",
            "None\n"
          ]
        }
      ],
      "source": [
        "### Comprobar si hay valores no admitidos en la lista ###\n",
        "\n",
        "def NanIdentificy(value):\n",
        "    print (value.isnull().any())\n",
        "    print (value.isnull().any(axis=1))\n",
        "\n",
        "print (NanIdentificy(df_estates))"
      ]
    },
    {
      "attachments": {},
      "cell_type": "markdown",
      "id": "italic-hydrogen",
      "metadata": {},
      "source": [
        "#### Ejercicio 06. Elimina los NAs del dataset, si aplica (★★☆)\n",
        "\n",
        "Imprima una comparación entre las dimensiones del DataFrame original versus el DataFrame después de las eliminaciones.\n"
      ]
    },
    {
      "cell_type": "code",
      "execution_count": 38,
      "id": "administrative-roads",
      "metadata": {},
      "outputs": [
        {
          "name": "stdout",
          "output_type": "stream",
          "text": [
            "(15335, 25)\n",
            "(15335, 37)\n"
          ]
        }
      ],
      "source": [
        "### Eliminar los NAs del dataset###\n",
        "\n",
        "def Filter(value):\n",
        "   df_filter = value.dropna(axis=1)\n",
        "   return df_filter\n",
        "\n",
        "print(Filter(df_estates).shape)\n",
        "print(df_estates.shape)"
      ]
    },
    {
      "attachments": {},
      "cell_type": "markdown",
      "id": "middle-china",
      "metadata": {},
      "source": [
        "#### Ejercicio 07. ¿Cuál la media de precios en la población (columna level5) de \"Arroyomolinos (Madrid)\"? (★★☆)\n",
        "\n",
        "Imprima el valor obtenido."
      ]
    },
    {
      "cell_type": "code",
      "execution_count": 39,
      "id": "nuclear-belief",
      "metadata": {},
      "outputs": [
        {
          "name": "stdout",
          "output_type": "stream",
          "text": [
            "294541.59854014596\n"
          ]
        }
      ],
      "source": [
        "###Media de precios de Arroyomolinos###\n",
        "\n",
        "def MeanPrice(dataset, city):\n",
        "    dataset_city = dataset[dataset['level5'] == city]\n",
        "    return dataset_city.price.mean()\n",
        "\n",
        "print (MeanPrice(df_estates, \"Arroyomolinos (Madrid)\"))"
      ]
    },
    {
      "attachments": {},
      "cell_type": "markdown",
      "id": "concerned-radical",
      "metadata": {},
      "source": [
        "#### Ejercicio 08. Trazar el histograma de los precios para la población (level5 column) de \"Arroyomolinos (Madrid)\" y explica qué observas (★★☆)\n",
        "\n",
        "Imprime el histograma de los precios y escribe en la celda del Markdown un breve análisis del trazado.\n"
      ]
    },
    {
      "cell_type": "code",
      "execution_count": 40,
      "id": "sudden-message",
      "metadata": {},
      "outputs": [
        {
          "data": {
            "image/png": "[encoded data removed]",
            "text/plain": [
              "<Figure size 1000x500 with 1 Axes>"
            ]
          },
          "metadata": {},
          "output_type": "display_data"
        },
        {
          "name": "stdout",
          "output_type": "stream",
          "text": [
            "None\n"
          ]
        }
      ],
      "source": [
        "###Historiograma de los precios de Arroyomolinos###\n",
        "\n",
        "def HistogramPriceCity(dataset, city):\n",
        "    arroyomolinos = dataset[dataset['level5'] == city]\n",
        "    plt.figure (figsize=(10,5))\n",
        "    plt.hist (arroyomolinos.price, bins=30, alpha=1, ec=\"black\")\n",
        "    plt.title (f\"Precios de {city}\")\n",
        "    plt.show()\n",
        "\n",
        "print (HistogramPriceCity(df_estates,\"Arroyomolinos (Madrid)\"))"
      ]
    },
    {
      "attachments": {},
      "cell_type": "markdown",
      "id": "impressed-combination",
      "metadata": {},
      "source": [
        "**TODO: Markdown**. Para escribir aquí, haz doble clic en esta celda, elimina este contenido y coloca lo que quieras escribir. Luego ejecuta la celda."
      ]
    },
    {
      "cell_type": "code",
      "execution_count": null,
      "id": "b5039ec0",
      "metadata": {},
      "outputs": [],
      "source": []
    },
    {
      "attachments": {},
      "cell_type": "markdown",
      "id": "actual-edinburgh",
      "metadata": {},
      "source": [
        "#### Ejercicio 09. ¿Son los precios promedios de \"Valdemorillo\" y \"Galapagar\" los mismos? (★★☆)\n",
        "\n",
        "Imprime ambos promedios y escribe una conclusión sobre ellos."
      ]
    },
    {
      "cell_type": "code",
      "execution_count": 41,
      "id": "numeric-commerce",
      "metadata": {},
      "outputs": [
        {
          "name": "stdout",
          "output_type": "stream",
          "text": [
            "363860.2931034483\n",
            "360063.20238095237\n",
            "False\n"
          ]
        }
      ],
      "source": [
        "###Comprobar si el precio promedio de Valdemorillo y de Galapagar son el mismo###\n",
        "\n",
        "print (MeanPrice(df_estates,\"Valdemorillo\"))\n",
        "print (MeanPrice(df_estates,\"Galapagar\"))\n",
        "print (MeanPrice(df_estates,\"Valdemorillo\") == MeanPrice(df_estates,\"Galapagar\"))"
      ]
    },
    {
      "attachments": {},
      "cell_type": "markdown",
      "id": "lonely-article",
      "metadata": {},
      "source": [
        "#### Ejercicio 10. ¿Son los promedios de precio por metro cuadrado (precio/m2) de \"Valdemorillo\" y \"Galapagar\" los mismos? (★★☆)\n",
        "\n",
        "Imprime ambos promedios de precio por metro cuadrado y escribe una conclusión sobre ellos.\n",
        "\n",
        "Pista: Crea una nueva columna llamada `pps` (*price per square* o precio por metro cuadrado) y luego analiza los valores."
      ]
    },
    {
      "cell_type": "code",
      "execution_count": 62,
      "id": "hourly-globe",
      "metadata": {},
      "outputs": [
        {
          "name": "stdout",
          "output_type": "stream",
          "text": [
            "1317.9502109024986\n",
            "1606.3240303094024\n",
            "False\n"
          ]
        }
      ],
      "source": [
        "###Comprobar si el precio/m2 promedio de Valdemorillo y Galapagar son el mismo###\n",
        "\n",
        "def ColumnPPS(dataset):\n",
        "    pps = dataset.price / dataset.surface\n",
        "    dataset ['pps'] = pps\n",
        "    return dataset\n",
        "\n",
        "dfwith_pps = ColumnPPS(df_estates)\n",
        "\n",
        "def MeanPPS(dataset, city):\n",
        "    pps_datasetCity = dataset[dataset['level5'] == city]\n",
        "    return pps_datasetCity.pps.mean()\n",
        "\n",
        "print (MeanPPS(dfwith_pps, \"Valdemorillo\"))\n",
        "print (MeanPPS(dfwith_pps, \"Galapagar\"))\n",
        "print (MeanPPS(dfwith_pps,\"Valdemorillo\") == MeanPPS(dfwith_pps,\"Galapagar\"))"
      ]
    },
    {
      "attachments": {},
      "cell_type": "markdown",
      "id": "pleasant-invite",
      "metadata": {},
      "source": [
        "#### Ejercicio 11. Analiza la relación entre la superficie y el precio de las casas. (★★☆)\n",
        "\n",
        "Pista: Puedes hacer un `scatter plot` y luego escribir una conclusión al respecto."
      ]
    },
    {
      "cell_type": "code",
      "execution_count": 68,
      "id": "common-drilling",
      "metadata": {},
      "outputs": [
        {
          "data": {
            "image/png": "[encoded data removed]",
            "text/plain": [
              "<Figure size 1000x500 with 1 Axes>"
            ]
          },
          "metadata": {},
          "output_type": "display_data"
        },
        {
          "name": "stdout",
          "output_type": "stream",
          "text": [
            "None\n"
          ]
        }
      ],
      "source": [
        "def DataSetCity(dataset, city):\n",
        "    datacity = dataset[dataset['level5'] == city]\n",
        "    return datacity\n",
        "\n",
        "df_valdemorillo = DataSetCity(df_estates, \"Valdemorillo\")\n",
        "df_galapagar = DataSetCity(df_estates, \"Galapagar\")\n",
        "\n",
        "def RelPriceSurfaceTwoCities(dataset1, dataset2, city1, city2):\n",
        "    plt.figure(figsize=(10,5))\n",
        "    plt.scatter(dataset1.price, dataset1.surface, label = city1)\n",
        "    plt.scatter(dataset2.price, dataset2.surface, label = city2)\n",
        "    plt.title(\"Relación Superficie/Precio\")\n",
        "    plt.legend()\n",
        "    plt.show()\n",
        "\n",
        "print (RelPriceSurfaceTwoCities(df_valdemorillo, df_galapagar, \"Valdemorillo\", \"Galapagar\"))"
      ]
    },
    {
      "attachments": {},
      "cell_type": "markdown",
      "id": "ahead-liquid",
      "metadata": {},
      "source": [
        "**TODO: Markdown**. Para escribir aquí, haz doble clic en esta celda, elimina este contenido y coloca lo que quieras escribir. Luego ejecuta la celda."
      ]
    },
    {
      "attachments": {},
      "cell_type": "markdown",
      "id": "coordinate-sunrise",
      "metadata": {},
      "source": [
        "#### Ejercicio 12. ¿Cuántas agencia de bienes raíces contiene el dataset? (★★☆)\n",
        "\n",
        "Imprime el valor obtenido."
      ]
    },
    {
      "cell_type": "code",
      "execution_count": 44,
      "id": "valid-honolulu",
      "metadata": {},
      "outputs": [
        {
          "name": "stdout",
          "output_type": "stream",
          "text": [
            "14217\n"
          ]
        }
      ],
      "source": [
        "###Buscamos cuantas agencias contiene el DataSet###\n",
        "def HowManyRealEstatesAre(value):\n",
        "    return len(value.id_realEstates.unique()) #Imprimimos solamente los valores unicos.\n",
        "\n",
        "print (HowManyRealEstatesAre(df_estates))"
      ]
    },
    {
      "attachments": {},
      "cell_type": "markdown",
      "id": "binding-ebony",
      "metadata": {},
      "source": [
        "#### Ejercicio 13. ¿Cuál es la población (columna level5) que contiene la mayor cantidad de casas?(★★☆)\n",
        "\n",
        "Imprima la población y el número de casas."
      ]
    },
    {
      "cell_type": "code",
      "execution_count": 45,
      "id": "static-perry",
      "metadata": {},
      "outputs": [
        {
          "name": "stdout",
          "output_type": "stream",
          "text": [
            "level5\n",
            "Madrid Capital    6643\n",
            "Name: count, dtype: int64 15335\n",
            "None\n"
          ]
        }
      ],
      "source": [
        "def HowCityHaveMoreHouses(data):\n",
        "    city = data.level5.value_counts().head(1) #Aquí contamos las veces que un valor se repite y cogemos el primero\n",
        "    houses = data.level5.value_counts().sum()\n",
        "    print (city, houses)\n",
        "\n",
        "print (HowCityHaveMoreHouses(df_estates))"
      ]
    },
    {
      "attachments": {},
      "cell_type": "markdown",
      "id": "entire-classification",
      "metadata": {},
      "source": [
        "#### Ejercicio 14. Ahora vamos a trabajar con el \"cinturón sur\" de Madrid. Haz un subconjunto del DataFrame original que contenga las siguientes poblaciones (columna level5): \"Fuenlabrada\", \"Leganés\", \"Getafe\", \"Alcorcón\" (★★☆)\n",
        "\n",
        "Pista: Filtra el DataFrame original usando la columna `level5` y la función `isin`."
      ]
    },
    {
      "cell_type": "code",
      "execution_count": 46,
      "id": "binary-input",
      "metadata": {},
      "outputs": [
        {
          "name": "stdout",
          "output_type": "stream",
          "text": [
            "     index  Unnamed: 0  id_realEstates  isNew  \\\n",
            "0        1           2       153867863  False   \n",
            "1        3           4       152776331  False   \n",
            "2       85          86       153152077  False   \n",
            "3       94          95       153995577  False   \n",
            "4      109         110       153586414  False   \n",
            "..     ...         ...             ...    ...   \n",
            "902  15275       15276       153903887  False   \n",
            "903  15291       15292       151697757  False   \n",
            "904  15305       15306       153902389  False   \n",
            "905  15322       15323       153871864  False   \n",
            "906  15325       15326       153901467  False   \n",
            "\n",
            "                               realEstate_name  phone_realEstate  \\\n",
            "0            tecnocasa fuenlabrada ferrocarril       916358736.0   \n",
            "1            tecnocasa fuenlabrada ferrocarril       916358736.0   \n",
            "2                      sinergical inmobiliaria               NaN   \n",
            "3                              viviendas365com       911226014.0   \n",
            "4              area uno asesores inmobiliarios       912664081.0   \n",
            "..                                         ...               ...   \n",
            "902  aliseda servicios de gestion inmobiliaria       911368198.0   \n",
            "903                                    unipiso       912788631.0   \n",
            "904                             jadein ferrero       914871639.0   \n",
            "905                          gestion comercial       911220662.0   \n",
            "906                              montehogar 68       911790675.0   \n",
            "\n",
            "                                          url_inmueble  rooms  bathrooms  \\\n",
            "0    https://www.fotocasa.es/es/comprar/vivienda/ma...    3.0        1.0   \n",
            "1    https://www.fotocasa.es/es/comprar/vivienda/ma...    3.0        1.0   \n",
            "2    https://www.fotocasa.es/es/comprar/vivienda/le...    1.0        1.0   \n",
            "3    https://www.fotocasa.es/es/comprar/vivienda/le...    3.0        2.0   \n",
            "4    https://www.fotocasa.es/es/comprar/vivienda/ma...    3.0        3.0   \n",
            "..                                                 ...    ...        ...   \n",
            "902  https://www.fotocasa.es/es/comprar/vivienda/al...    3.0        1.0   \n",
            "903  https://www.fotocasa.es/es/comprar/vivienda/al...    3.0        2.0   \n",
            "904  https://www.fotocasa.es/es/comprar/vivienda/ma...    3.0        2.0   \n",
            "905  https://www.fotocasa.es/es/comprar/vivienda/ma...    3.0        1.0   \n",
            "906  https://www.fotocasa.es/es/comprar/vivienda/ma...    2.0        2.0   \n",
            "\n",
            "     surface  ...  level5Id level6Id level7Id level8Id accuracy  \\\n",
            "0        NaN  ...         0        0        0        0        1   \n",
            "1       86.0  ...         0        0        0        0        0   \n",
            "2       50.0  ...         0        0        0        0        1   \n",
            "3      120.0  ...         0        0        0        0        0   \n",
            "4      142.0  ...         0        0        0        0        0   \n",
            "..       ...  ...       ...      ...      ...      ...      ...   \n",
            "902     78.0  ...         0        0        0        0        1   \n",
            "903    110.0  ...         0        0        0        0        0   \n",
            "904     85.0  ...         0        0        0        0        0   \n",
            "905     91.0  ...         0        0        0        0        0   \n",
            "906     99.0  ...         0        0        0        0        1   \n",
            "\n",
            "             latitude          longitude zipCode customZone          pps  \n",
            "0            40,28674           -3,79351     NaN        NaN          NaN  \n",
            "1    40,2853785786438  -3,79508142135624     NaN        NaN  1034.883721  \n",
            "2            40,35059           -3,82693     NaN        NaN  2140.000000  \n",
            "3            40,31933           -3,77574     NaN        NaN  2666.666667  \n",
            "4          40,3313411         -3,8313868     NaN        NaN  2992.957746  \n",
            "..                ...                ...     ...        ...          ...  \n",
            "902          40,31381           -3,83733     NaN        NaN  1769.230769  \n",
            "903        40,3259051           -3,76318     NaN        NaN  2536.363636  \n",
            "904        40,2882193         -3,8098617     NaN        NaN  2000.000000  \n",
            "905          40,28282           -3,78892     NaN        NaN  1230.769231  \n",
            "906          40,28062           -3,79869     NaN        NaN  2171.717172  \n",
            "\n",
            "[907 rows x 39 columns]\n"
          ]
        }
      ],
      "source": [
        "###Creamos un nuevo DataFrame que contenga Fuenlabrada, Leganes, Getafe y Alcorcón\"###\n",
        "\n",
        "def CityFilter(dataset, city1, city2, city3, city4):\n",
        "    filt_cities =dataset['level5'].isin([city1,city2,city3,city4])\n",
        "    new_dataset = dataset[filt_cities].reset_index()\n",
        "    return new_dataset\n",
        "\n",
        "cinturonsur = CityFilter(df_estates, \"Fuenlabrada\",\"Leganés\",\"Getafe\",\"Alcorcón\")\n",
        "print (cinturonsur)"
      ]
    },
    {
      "attachments": {},
      "cell_type": "markdown",
      "id": "severe-fisher",
      "metadata": {},
      "source": [
        "#### Ejercicio 15. Traza un gráfico de barras de la mediana de los precios y explica lo que observas (debes usar el subconjunto obtenido del Ejercicio 14) (★★★)\n",
        "\n",
        "Imprima un gráfico de barras de la mediana de precios y escriba en la celda Markdown un breve análisis sobre el gráfico."
      ]
    },
    {
      "cell_type": "code",
      "execution_count": 47,
      "id": "lyric-bunch",
      "metadata": {},
      "outputs": [
        {
          "data": {
            "image/png": "[encoded data removed]",
            "text/plain": [
              "<Figure size 1000x500 with 1 Axes>"
            ]
          },
          "metadata": {},
          "output_type": "display_data"
        },
        {
          "name": "stdout",
          "output_type": "stream",
          "text": [
            "None\n"
          ]
        }
      ],
      "source": [
        "###Grafico de barra de la mediana de los precios de Cinturon Sur###\n",
        "\n",
        "def MultiCityMeanPrice(dataset, city1, city2, city3, city4):\n",
        "    labels = [city1, city2, city3, city4]\n",
        "    city1 = dataset[dataset['level5'] == city1].price.mean()\n",
        "    city2 = dataset[dataset['level5'] == city2].price.mean()\n",
        "    city3 = dataset[dataset['level5'] == city3].price.mean()\n",
        "    city4 = dataset[dataset['level5'] == city4].price.mean()\n",
        "    values = (city1, city2, city3, city4)\n",
        "    plt.figure(figsize=(10,5))\n",
        "    plt.bar(labels, values, ec=\"black\")\n",
        "\n",
        "    plt.title(\"Precios Medios Cinturón Sur\")\n",
        "    plt.show()\n",
        "\n",
        "print(MultiCityMeanPrice(cinturonsur, \"Fuenlabrada\",\"Leganés\",\"Getafe\",\"Alcorcón\"))  "
      ]
    },
    {
      "attachments": {},
      "cell_type": "markdown",
      "id": "sublime-newspaper",
      "metadata": {},
      "source": [
        "**TODO: Markdown**. Para escribir aquí, haz doble clic en esta celda, elimina este contenido y coloca lo que quieras escribir. Luego ejecuta la celda."
      ]
    },
    {
      "attachments": {},
      "cell_type": "markdown",
      "id": "speaking-diamond",
      "metadata": {},
      "source": [
        "#### Ejercicio 16. Calcula la media y la varianza de muestra para las siguientes variables: precio, habitaciones, superficie y baños (debes usar el subconjunto obtenido del Ejercicio 14) (★★★)\n",
        "\n",
        "Imprime ambos valores por cada variable."
      ]
    },
    {
      "cell_type": "code",
      "execution_count": 48,
      "id": "random-feeling",
      "metadata": {},
      "outputs": [
        {
          "name": "stdout",
          "output_type": "stream",
          "text": [
            "Varianza del precio: 14904916165.70277\n",
            "Media de precios: 223094.48070562293\n",
            "Varianza de las habitaciones: 0.7180888982846692\n",
            "Media de las habitaciones: 3.0177383592017737\n",
            "Varianza de la superficie: 4257.634921993191\n",
            "Media de la superficie: 111.75222363405337\n",
            "Varianza de los baños: 0.5711594078614581\n",
            "Media de baños: 1.633221850613155\n"
          ]
        }
      ],
      "source": [
        "###Calcula la medía y la varianza de muestra del Cinturón Sur###\n",
        "\n",
        "def Variance(dataset, value):\n",
        "    return dataset[value].var(ddof = 0)\n",
        "\n",
        "def Mean(dataset, value):\n",
        "    return dataset[value].mean()\n",
        "\n",
        "print (f\"Varianza del precio: {Variance(cinturonsur,'price')}\")\n",
        "print (f\"Media de precios: {Mean(cinturonsur,'price')}\")\n",
        "print (f\"Varianza de las habitaciones: {Variance(cinturonsur,'rooms')}\")\n",
        "print (f\"Media de las habitaciones: {Mean(cinturonsur,'rooms')}\")\n",
        "print (f\"Varianza de la superficie: {Variance(cinturonsur,'surface')}\")\n",
        "print (f\"Media de la superficie: {Mean(cinturonsur,'surface')}\")\n",
        "print (f\"Varianza de los baños: {Variance(cinturonsur,'bathrooms')}\")\n",
        "print (f\"Media de baños: {Mean(cinturonsur, 'bathrooms')}\")"
      ]
    },
    {
      "attachments": {},
      "cell_type": "markdown",
      "id": "revolutionary-matrix",
      "metadata": {},
      "source": [
        "#### Ejercicio 17. ¿Cuál es la casa más cara de cada población? Debes usar el subset obtenido en la pregunta 14 (★★☆)\n",
        "\n",
        "Imprime tanto la dirección como el precio de la casa seleccionada de cada población. Puedes imprimir un DataFrame o una sola línea para cada población."
      ]
    },
    {
      "cell_type": "code",
      "execution_count": 61,
      "id": "fifteen-browse",
      "metadata": {},
      "outputs": [
        {
          "name": "stdout",
          "output_type": "stream",
          "text": [
            "Fuenlabrada. Precio: 490000. Dirección: Calle de Paulo Freire, 5, Fuenlabrada\n",
            "None\n",
            "Alcorcón. Precio: 950000. Dirección: Alcorcón\n",
            "None\n",
            "Leganés. Precio: 650000. Dirección: Avenida Reina Sofía, Leganés\n",
            "None\n",
            "Getafe. Precio: 1050000. Dirección: Getafe\n",
            "None\n"
          ]
        }
      ],
      "source": [
        "### Cual es la casa más cara de cada población###\n",
        "\n",
        "def MostExpensiveHousePerCity(dataset, city):\n",
        "    expensivehouse = dataset[dataset['level5'] == city].sort_values('price').tail(1).squeeze() #Squeeze sirve para eliminar dimensiones en una matriz.\n",
        "    print (f\"{city}. Precio: {expensivehouse.price}. Dirección: {expensivehouse.address}\")\n",
        "\n",
        "print (MostExpensiveHousePerCity(cinturonsur, \"Fuenlabrada\"))\n",
        "print (MostExpensiveHousePerCity(cinturonsur, \"Alcorcón\"))\n",
        "print (MostExpensiveHousePerCity(cinturonsur, \"Leganés\"))\n",
        "print (MostExpensiveHousePerCity(cinturonsur, \"Getafe\"))\n"
      ]
    },
    {
      "attachments": {},
      "cell_type": "markdown",
      "id": "activated-knight",
      "metadata": {},
      "source": [
        "#### Ejercicio 18. Normaliza la variable de precios para cada población y traza los 4 histogramas en el mismo gráfico (debes usar el subconjunto obtenido en la pregunta 14) (★★★)\n",
        "\n",
        "Para el método de normalización, puedes usar el que consideres adecuado, no hay una única respuesta correcta para esta pregunta. Imprime el gráfico y escribe en la celda de Markdown un breve análisis sobre el gráfico.\n",
        "\n",
        "Pista: Puedes ayudarte revisando la demostración multihist de Matplotlib."
      ]
    },
    {
      "cell_type": "code",
      "execution_count": 50,
      "id": "civic-meditation",
      "metadata": {},
      "outputs": [
        {
          "data": {
            "image/png": "[encoded data removed]",
            "text/plain": [
              "<Figure size 1000x500 with 1 Axes>"
            ]
          },
          "metadata": {},
          "output_type": "display_data"
        },
        {
          "name": "stdout",
          "output_type": "stream",
          "text": [
            "None\n"
          ]
        }
      ],
      "source": [
        "###Historiograma de precios del Cinturon Sur###\n",
        "\n",
        "scaler=MinMaxScaler() #Para poder normalizar datos. Formula de normalización: x' = x-xmin/xmax-xmin\n",
        "\n",
        "def NormalicePriceCity(dataset,city):\n",
        "    datacity = dataset[dataset['level5'] == city]\n",
        "    price_scaled = scaler.fit_transform(datacity[['price']])\n",
        "    return price_scaled\n",
        "\n",
        "    #Creamos el Histograma\n",
        "\n",
        "def MultigramaPricesNormalized(dataset, city1, city2, city3, city4):\n",
        "    plt.figure(figsize = (10, 5))\n",
        "    plt.hist(NormalicePriceCity(dataset, city1), bins=30, alpha=0.8, ec=\"Black\", label=city1)\n",
        "    plt.hist(NormalicePriceCity(dataset, city2), bins=30, alpha=0.8, ec=\"Black\", label=city2)\n",
        "    plt.hist(NormalicePriceCity(dataset, city3), bins=30, alpha=0.8, ec=\"Black\", label=city3)\n",
        "    plt.hist(NormalicePriceCity(dataset, city4), bins=30, alpha=0.8, ec=\"Black\", label=city4)\n",
        "\n",
        "    plt.legend()\n",
        "    plt.show()\n",
        "\n",
        "print (MultigramaPricesNormalized(cinturonsur,\"Fuenlabrada\",\"Alcorcón\",\"Leganés\",\"Getafe\"))"
      ]
    },
    {
      "attachments": {},
      "cell_type": "markdown",
      "id": "precise-heavy",
      "metadata": {},
      "source": [
        "**TODO: Markdown**. Para escribir aquí, haz doble clic en esta celda, elimina este contenido y coloca lo que quieras escribir. Luego ejecuta la celda."
      ]
    },
    {
      "attachments": {},
      "cell_type": "markdown",
      "id": "patent-jonathan",
      "metadata": {},
      "source": [
        "#### Ejercicio 19. ¿Qué puedes decir sobre el precio por metro cuadrado (precio/m2) entre los municipios de 'Getafe' y 'Alcorcón'? Debes usar el subconjunto obtenido en la pregunta 14 (★★☆)\n",
        "\n",
        "Pista: Crea una nueva columna llamada `pps` (price per square en inglés) y luego analiza los valores"
      ]
    },
    {
      "cell_type": "code",
      "execution_count": 51,
      "id": "initial-liverpool",
      "metadata": {},
      "outputs": [
        {
          "name": "stdout",
          "output_type": "stream",
          "text": [
            "2066.314949251463\n",
            "2239.302480199618\n"
          ]
        }
      ],
      "source": [
        "###Precio medio/m2 Getafe y Alcorcón###\n",
        "\n",
        "print(MeanPPS(dfwith_pps, \"Getafe\"))\n",
        "print(MeanPPS(dfwith_pps, \"Alcorcón\"))\n"
      ]
    },
    {
      "attachments": {},
      "cell_type": "markdown",
      "id": "enhanced-moscow",
      "metadata": {},
      "source": [
        "#### Ejercicio 20. Realiza el mismo gráfico para 4 poblaciones diferentes (columna level5) y colócalos en el mismo gráfico. Debes usar el subconjunto obtenido en la pregunta 14 (★★☆) \n",
        "Pista: Haz un diagrama de dispersión de cada población usando subgráficos (subplots)."
      ]
    },
    {
      "cell_type": "code",
      "execution_count": 71,
      "id": "accepting-airfare",
      "metadata": {},
      "outputs": [],
      "source": [
        "### 4 subconjuntos en un grafico. ###\n",
        "otrasPoblaciones = CityFilter(df_estates,\"Alcalá de Henares\", \"Colmenarejo\", \"Lozoya\", \"Móstoles\").reset_index()\n",
        "\n",
        "def MultiGrafic(dataset):\n",
        "    fig, axs = plt.subplot()\n",
        "    axs[0] = dataset. ###asdasdas###\n",
        "\n",
        "    plt.show()\n"
      ]
    },
    {
      "attachments": {},
      "cell_type": "markdown",
      "id": "blocked-effects",
      "metadata": {},
      "source": [
        "#### Ejercicio 21. Realiza un trazado de las coordenadas (columnas latitud y longitud) del cinturón sur de Madrid por color de cada población (debes usar el subconjunto obtenido del Ejercicio 14) (★★★★)\n",
        "\n",
        "Ejecuta la siguiente celda y luego comienza a codear en la siguiente. Debes implementar un código simple que transforme las columnas de coordenadas en un diccionario de Python (agrega más información si es necesario) y agrégala al mapa."
      ]
    },
    {
      "cell_type": "code",
      "execution_count": 53,
      "id": "headed-privacy",
      "metadata": {},
      "outputs": [],
      "source": [
        "from ipyleaflet import Map, basemaps, Marker\n",
        "\n",
        "# Mapa centrado en (60 grados latitud y -2.2 grados longitud)\n",
        "# Latitud, longitud\n",
        "map = Map(center = (60 , -2.2), zoom = 2, min_zoom = 1, max_zoom = 20, \n",
        "    basemap = basemaps.OpenTopoMap)"
      ]
    },
    {
      "cell_type": "code",
      "execution_count": 59,
      "id": "present-mistress",
      "metadata": {},
      "outputs": [
        {
          "name": "stdout",
          "output_type": "stream",
          "text": [
            "{'latitude': {0: '40,28674', 1: '40,2853785786438', 2: '40,35059', 3: '40,31933', 4: '40,3313411', 5: '40,2744807718156', 6: '40,31111', 7: '40,356919', 8: '40,3274', 9: '40,2906814213562', 10: '40,3152529585', 11: '40,2921796', 12: '40,3060558', 13: '40,3035689', 14: '40,29224', 15: '40,3068987', 16: '40,3142811864376', 17: '40,31381', 18: '40,32124', 19: '40,35524', 20: '40,28327', 21: '40,29742', 22: '40,3034957864376', 23: '40,30779', 24: '40,33686', 25: '40,30184', 26: '40,30091', 27: '40,33252', 28: '40,30635', 29: '40,3220051387', 30: '40,3153084', 31: '40,3133562', 32: '40,3012757864376', 33: '40,3218', 34: '40,27782', 35: '40,3164257864376', 36: '40,3262', 37: '40,3216444213562', 38: '40,30353', 39: '40,3117642135624', 40: '40,31313', 41: '40,3099157864376', 42: '40,3526', 43: '40,2919082135624', 44: '40,31381', 45: '40,3342649', 46: '40,3155378864376', 47: '40,28869', 48: '40,3546326213562', 49: '40,34949', 50: '40,34608', 51: '40,2889244', 52: '40,3341242135624', 53: '40,3446968786438', 54: '40,33238', 55: '40,2837261', 56: '40,2823585', 57: '40,3324438', 58: '40,2830905213562', 59: '40,34942', 60: '40,3525293490715', 61: '40,30005', 62: '40,3014614213562', 63: '40,296075', 64: '40,2772542', 65: '40,3453965786438', 66: '40,296075', 67: '40,2772542', 68: '40,3453965786438', 69: '40,3152732', 70: '40,2915427786438', 71: '40,33829', 72: '40,3061746135624', 73: '40,34179', 74: '40,3541132', 75: '40,32124', 76: '40,3159134', 77: '40,3494952', 78: '40,344788', 79: '40,28293', 80: '40,30206', 81: '40,34368', 82: '40,3314905686438', 83: '40,29338', 84: '40,31667', 85: '40,3205313786438', 86: '40,3470842135624', 87: '40,3205154213562', 88: '40,2871968', 89: '40,3442916870117', 90: '40,30754', 91: '40,3119888305664', 92: '40,343175', 93: '40,32947', 94: '40,3300714213562', 95: '40,343375', 96: '40,30206', 97: '40,3300714213562', 98: '40,343375', 99: '40,30206', 100: '40,3175029', 101: '40,31072', 102: '40,31072', 103: '0', 104: '40,343175', 105: '40,3489999', 106: '40,3321035', 107: '40,34368', 108: '40,3467875', 109: '40,3298114213562', 110: '40,3300714213562', 111: '40,32635', 112: '40,3207914213562', 113: '40,33163199', 114: '40,32635', 115: '40,34438', 116: '40,31667', 117: '40,30566', 118: '40,34855', 119: '40,2890264864376', 120: '40,309815', 121: '40,30785', 122: '40,308054', 123: '40,309815', 124: '40,30785', 125: '40,308054', 126: '40,347495990297', 127: '40,345881470732', 128: '40,334217', 129: '40,3074935', 130: '40,3128454', 131: '0', 132: '0', 133: '40,2833037', 134: '40,288330005557', 135: '40,34362', 136: '40,288095391725', 137: '40,28651', 138: '40,2877', 139: '40,34559', 140: '40,29987', 141: '40,27609356', 142: '40,2945890127654', 143: '40,2945890127654', 144: '40,28181', 145: '40,29287', 146: '40,33655', 147: '40,302820239187', 148: '40,33621', 149: '40,2758248', 150: '40,309481', 151: '40,309481', 152: '40,32953', 153: '40,27862', 154: '40,2888528', 155: '40,2971995999033', 156: '40,2929608592128', 157: '40,2925435170825', 158: '40,2892496970814', 159: '40,2925973931475', 160: '40,2907380864376', 161: '40,27512', 162: '40,2862494', 163: '40,2738157864376', 164: '40,30871', 165: '40,3151', 166: '40,33422', 167: '40,32873', 168: '40,31093', 169: '40,30011', 170: '40,2919796', 171: '40,2804758', 172: '40,33603', 173: '40,3469313664376', 174: '40,3470069724376', 175: '40,34444980446', 176: '40,34307648046', 177: '40,3485743497314', 178: '40,2897', 179: '40,2752542', 180: '40,3204492', 181: '40,3388', 182: '40,3360541', 183: '40,29052', 184: '40,288113', 185: '40,286028', 186: '40,33757', 187: '40,3447687130376', 188: '40,3392951184', 189: '40,35064', 190: '40,3375861704', 191: '40,3464199', 192: '40,3430768', 193: '40,35131', 194: '40,28404', 195: '40,34454', 196: '40,34645', 197: '40,30958', 198: '40,31622', 199: '40,31622', 200: '40,31622', 201: '40,31622', 202: '40,31622', 203: '40,31622', 204: '40,31622', 205: '40,31622', 206: '40,31622', 207: '40,31622', 208: '40,31622', 209: '40,31622', 210: '40,31622', 211: '40,31622', 212: '40,31622', 213: '40,31622', 214: '40,31622', 215: '40,31622', 216: '40,31622', 217: '40,31622', 218: '40,31622', 219: '40,31622', 220: '40,31622', 221: '40,31622', 222: '40,31622', 223: '40,31622', 224: '40,31622', 225: '40,31622', 226: '40,31622', 227: '40,34879', 228: '40,35331', 229: '40,30754', 230: '40,30754', 231: '40,30754', 232: '40,2808183', 233: '40,32793', 234: '40,334721', 235: '40,34913', 236: '40,333254', 237: '40,34438', 238: '40,34368', 239: '40,32635', 240: '40,29338', 241: '40,30546', 242: '40,34775', 243: '40,33143199', 244: '40,30206', 245: '40,30754', 246: '40,34368', 247: '40,3120728', 248: '40,32049', 249: '40,31072', 250: '40,31667', 251: '40,31667', 252: '40,28344', 253: '40,2942943', 254: '40,29053', 255: '40,31295', 256: '40,28615', 257: '40,27927', 258: '40,2842', 259: '40,30754', 260: '40,30299', 261: '40,28867', 262: '40,2842', 263: '40,29131', 264: '40,32115', 265: '40,2876117', 266: '40,29192', 267: '40,28029', 268: '40,34749', 269: '40,3362852', 270: '40,34257', 271: '40,3513', 272: '40,33854', 273: '40,3478556971546', 274: '40,3076893328', 275: '40,3179637337', 276: '40,3322342135624', 277: '40,32131', 278: '40,3299051', 279: '40,33727', 280: '40,3238357864376', 281: '40,32246', 282: '40,33475', 283: '40,35512', 284: '40,32359', 285: '40,31468', 286: '40,3164', 287: '40,30201', 288: '40,32188', 289: '40,33457', 290: '40,33423', 291: '40,33238', 292: '40,33138', 293: '40,33423', 294: '40,33251', 295: '40,3432624', 296: '40,30733', 297: '40,34323', 298: '40,35541', 299: '40,33731', 300: '40,30809', 301: '40,35679', 302: '40,35679', 303: '40,31376', 304: '40,35022', 305: '40,32739', 306: '40,3291', 307: '40,2836', 308: '40,2804640280991', 309: '40,2802348570363', 310: '40,283340877313', 311: '40,2835163436148', 312: '40,2852437046111', 313: '40,2933624864376', 314: '40,27908', 315: '40,28479', 316: '40,3116', 317: '40,29269', 318: '40,3459851', 319: '40,3226783', 320: '40,3122542135624', 321: '40,34484', 322: '40,34851', 323: '40,34879', 324: '40,34749', 325: '40,3535169', 326: '40,34841', 327: '40,3139235', 328: '40,31195', 329: '40,3071', 330: '40,31594', 331: '40,34288', 332: '40,34218', 333: '40,3498685786438', 334: '40,354', 335: '40,3326157', 336: '40,3079548245211', 337: '40,3234', 338: '40,3230964', 339: '40,32828', 340: '40,34348', 341: '40,33244', 342: '40,35314', 343: '40,358816', 344: '40,33727', 345: '40,33745', 346: '40,3309657864376', 347: '40,3136954', 348: '40,33595', 349: '40,27748', 350: '40,3148063472576', 351: '40,32489', 352: '40,3358557864376', 353: '40,30011', 354: '40,30234', 355: '40,28449', 356: '40,3318', 357: '40,3366733113739', 358: '40,29849', 359: '40,3364895', 360: '40,29387', 361: '40,29338', 362: '40,29338', 363: '40,33011', 364: '40,343363079834', 365: '40,30206', 366: '40,3466873', 367: '40,32635', 368: '40,33011', 369: '40,343363079834', 370: '40,30206', 371: '40,3466873', 372: '40,32635', 373: '40,29931', 374: '40,29202', 375: '40,35022', 376: '40,34797', 377: '40,2808882', 378: '40,31667', 379: '40,3161134', 380: '40,34438', 381: '40,30754', 382: '40,34737', 383: '40,3354997', 384: '40,30186', 385: '40,31072', 386: '40,3193033445857', 387: '40,30546', 388: '40,32635', 389: '40,34368', 390: '40,3161134', 391: '40,341175', 392: '40,31004', 393: '40,3461', 394: '40,34368', 395: '40,33727', 396: '40,2756121', 397: '40,2887913864376', 398: '40,2887738', 399: '40,2896797', 400: '40,287018416', 401: '40,28775', 402: '40,2800385786438', 403: '40,32489', 404: '40,3326157', 405: '40,33527', 406: '40,32321', 407: '40,32404566', 408: '40,31143337', 409: '40,3329', 410: '40,3323', 411: '40,3578021841515', 412: '40,3323', 413: '40,3578021841515', 414: '40,2834965', 415: '40,2819117', 416: '40,335', 417: '40,31381', 418: '40,32635', 419: '40,32635', 420: '40,32635', 421: '40,31111', 422: '40,32446', 423: '40,31111', 424: '40,32446', 425: '40,33329', 426: '40,31296', 427: '40,3161134', 428: '40,34368', 429: '40,31667', 430: '40,30546', 431: '40,30754', 432: '40,3345834', 433: '40,2836586', 434: '40,31072', 435: '40,34438', 436: '40,34368', 437: '40,32936015', 438: '40,29338', 439: '40,32275', 440: '40,343452', 441: '40,30754', 442: '40,30206', 443: '40,31667', 444: '40,27726', 445: '40,2933296', 446: '40,28186', 447: '40,34396', 448: '40,307803', 449: '40,308843', 450: '40,30607', 451: '40,29867', 452: '40,313970835286', 453: '40,2859916687012', 454: '40,3519318', 455: '40,3086311', 456: '40,356133', 457: '40,2889421', 458: '40,32635', 459: '40,341175', 460: '40,29338', 461: '40,3225429', 462: '40,34438', 463: '40,29338', 464: '40,3225429', 465: '40,34438', 466: '40,29338', 467: '40,3225429', 468: '40,34438', 469: '40,28062', 470: '40,31043', 471: '40,32635', 472: '40,30206', 473: '40,3335821864376', 474: '40,30754', 475: '40,3465199864376', 476: '40,283133', 477: '40,34368', 478: '40,30206', 479: '40,30754', 480: '40,31667', 481: '40,31667', 482: '40,31072', 483: '40,3344698', 484: '40,34028', 485: '40,29212', 486: '40,3337657864376', 487: '40,3337657864376', 488: '40,2866', 489: '40,30973', 490: '40,28532', 491: '40,34536', 492: '40,32303', 493: '40,28494845', 494: '40,29905', 495: '40,28805', 496: '40,3186747864376', 497: '40,28805', 498: '40,3186747864376', 499: '40,333266378437', 500: '40,33829', 501: '40,29095', 502: '40,281955297', 503: '40,29305', 504: '40,27635', 505: '40,3506246', 506: '40,3599654864376', 507: '40,2853', 508: '40,35541', 509: '40,2744157864376', 510: '40,289733', 511: '40,2889722135624', 512: '40,2913667864376', 513: '40,286478', 514: '40,291526', 515: '40,30485', 516: '40,32429', 517: '40,2990857864376', 518: '40,30049', 519: '40,28382', 520: '40,2820357864376', 521: '40,27817', 522: '40,28069', 523: '40,34888169', 524: '40,34120434', 525: '40,345947283775', 526: '40,3143312', 527: '40,3054397', 528: '40,310909', 529: '40,3103782', 530: '40,3432', 531: '40,34269', 532: '40,34695', 533: '40,34304', 534: '0', 535: '40,2985657864376', 536: '40,2756414', 537: '40,29321', 538: '40,31896', 539: '40,31321', 540: '40,31368', 541: '40,2814139', 542: '40,3509298371', 543: '40,3430341495', 544: '40,28364', 545: '40,350753', 546: '40,34102', 547: '40,2829107', 548: '40,31896', 549: '40,31321', 550: '40,31368', 551: '40,31896', 552: '40,31321', 553: '40,31368', 554: '40,2814139', 555: '40,3509298371', 556: '40,3430341495', 557: '40,28364', 558: '40,350753', 559: '40,34102', 560: '40,2829107', 561: '40,3284118326652', 562: '40,3284118326652', 563: '40,31259', 564: '40,32635', 565: '40,34368', 566: '40,34368', 567: '40,3427357864376', 568: '40,32635', 569: '40,31072', 570: '40,31572', 571: '40,33609706', 572: '40,32936015', 573: '40,34438', 574: '40,31667', 575: '40,30546', 576: '40,31667', 577: '40,30206', 578: '40,30186', 579: '40,29338', 580: '40,2889244', 581: '40,32455', 582: '40,336755744937', 583: '40,31719', 584: '40,34639', 585: '40,282', 586: '40,28871', 587: '40,282', 588: '40,28871', 589: '40,29338', 590: '40,3551815490723', 591: '40,30206', 592: '40,31667', 593: '40,31667', 594: '40,34438', 595: '40,29217', 596: '40,32635', 597: '40,32635', 598: '40,3079', 599: '40,30546', 600: '40,30186', 601: '40,299029', 602: '40,2829', 603: '40,3423636291504', 604: '40,28866', 605: '40,33746', 606: '0', 607: '40,278420269286', 608: '40,279938262758', 609: '40,3139', 610: '40,34768', 611: '40,35499', 612: '40,35427', 613: '40,34327', 614: '40,2824903', 615: '40,3448916', 616: '40,3271904', 617: '40,35109', 618: '40,35042', 619: '40,3144', 620: '40,30186', 621: '40,34438', 622: '40,31667', 623: '40,30186', 624: '40,34438', 625: '40,31667', 626: '40,30186', 627: '40,34438', 628: '40,31667', 629: '40,32546', 630: '40,341978', 631: '40,2970296', 632: '40,2825819', 633: '40,28698', 634: '40,283219', 635: '40,2923318', 636: '40,2820833864376', 637: '40,2832782', 638: '40,2764598939', 639: '40,31151', 640: '40,31033', 641: '40,31767', 642: '40,300709', 643: '40,300251', 644: '40,35634535', 645: '40,3438274', 646: '40,35741', 647: '40,32343', 648: '40,2877367', 649: '40,29011', 650: '40,29335', 651: '40,29337', 652: '40,290905192578', 653: '40,286776166148', 654: '40,28893', 655: '40,3318', 656: '40,33595', 657: '40,33527', 658: '40,31917', 659: '40,33562', 660: '40,3457876', 661: '40,3187663', 662: '40,3280798', 663: '40,3280798', 664: '40,3148063472576', 665: '40,32828', 666: '40,30606', 667: '40,33441', 668: '40,2891349826874', 669: '40,2833081169234', 670: '40,339', 671: '40,2896842', 672: '40,28286', 673: '40,33726', 674: '40,2764028', 675: '40,317586', 676: '40,328601', 677: '0', 678: '40,320355', 679: '40,319574', 680: '40,319444', 681: '40,315913', 682: '40,29072', 683: '40,34252', 684: '40,33008', 685: '40,33218', 686: '40,33671', 687: '40,3285125', 688: '40,28624', 689: '40,3574064', 690: '40,3028614213562', 691: '40,343705210773', 692: '40,3425103', 693: '40,34783', 694: '40,34645', 695: '40,3062504', 696: '40,2926049', 697: '40,3300242041513', 698: '40,35069', 699: '40,34795', 700: '40,282445', 701: '40,31229', 702: '40,3201063', 703: '40,35541', 704: '40,30186', 705: '40,34449', 706: '40,3376', 707: '40,3218194', 708: '40,29405', 709: '40,33806', 710: '40,287', 711: '40,33385', 712: '40,31845', 713: '40,3080504', 714: '40,31667', 715: '40,30027', 716: '40,31667', 717: '40,30546', 718: '40,2840309143066', 719: '40,34739', 720: '40,31498', 721: '40,30186', 722: '40,34438', 723: '40,331329', 724: '40,3104154', 725: '40,3121231', 726: '40,2887913864376', 727: '40,3310724737636', 728: '40,3086963', 729: '40,335', 730: '40,35145', 731: '40,32458', 732: '40,32672', 733: '40,28676', 734: '40,2896842', 735: '40,33898', 736: '40,33443', 737: '40,29931', 738: '40,2982677986069', 739: '40,35478', 740: '40,29011', 741: '40,3539345', 742: '40,28684', 743: '40,2941899', 744: '40,2922401', 745: '40,34461', 746: '40,2928257', 747: '40,35466', 748: '40,32739', 749: '40,3127899', 750: '40,30855', 751: '40,27927', 752: '40,28529', 753: '40,33727', 754: '40,3241157864376', 755: '40,3278234', 756: '40,3335821864376', 757: '40,28286', 758: '40,3434837', 759: '40,28265', 760: '40,3170797', 761: '40,2807', 762: '40,34702', 763: '40,34009', 764: '40,35306', 765: '40,34639', 766: '40,34576', 767: '40,29058', 768: '40,28687', 769: '40,2875', 770: '40,3424', 771: '40,30023', 772: '40,28709', 773: '40,29274', 774: '40,30428', 775: '40,2934187', 776: '40,28162', 777: '40,2841067', 778: '40,29674', 779: '40,28037', 780: '40,3303391', 781: '40,32901', 782: '40,29371', 783: '40,29387', 784: '40,3359653', 785: '40,3234', 786: '40,30507', 787: '40,34538', 788: '40,3402489', 789: '40,2851691', 790: '40,3376', 791: '40,34314', 792: '40,34314', 793: '40,34603', 794: '40,33425', 795: '40,323754187848', 796: '40,34067', 797: '40,3313044150488', 798: '40,3319065585014', 799: '40,33158', 800: '40,32134', 801: '40,33189', 802: '40,33595', 803: '40,31667', 804: '40,3543087740551', 805: '40,32176', 806: '40,3308835864376', 807: '40,3101', 808: '40,30333', 809: '40,3308835864376', 810: '40,3101', 811: '40,30333', 812: '40,31667', 813: '40,32831978', 814: '40,30186', 815: '40,33163', 816: '40,32811', 817: '40,277956', 818: '40,30546', 819: '40,3194273', 820: '40,30186', 821: '40,310835', 822: '40,310835', 823: '40,29', 824: '40,31407', 825: '40,3208104', 826: '40,32845', 827: '40,33643', 828: '40,30569', 829: '40,32845', 830: '40,33643', 831: '40,31569687', 832: '40,34519', 833: '40,3010733', 834: '40,33546', 835: '40,3473615287', 836: '40,3416428', 837: '40,28245', 838: '40,28728', 839: '40,2946', 840: '40,2965', 841: '40,2913667864376', 842: '40,27563', 843: '40,29019', 844: '40,3139', 845: '40,3139', 846: '40,350214341', 847: '40,28486', 848: '40,30262', 849: '40,33595', 850: '40,32746', 851: '40,35472', 852: '40,35223', 853: '40,34635', 854: '0', 855: '0', 856: '0', 857: '0', 858: '0', 859: '40,2820453965836', 860: '40,2865158', 861: '40,28315', 862: '40,2830697', 863: '40,33383', 864: '40,28084', 865: '40,3337657864376', 866: '40,3337657864376', 867: '40,33746', 868: '40,33132', 869: '40,31361', 870: '40,28682', 871: '40,28661', 872: '40,3210413', 873: '40,33551964', 874: '40,3366', 875: '40,33177', 876: '40,31672', 877: '40,34372', 878: '40,34484', 879: '40,2831823', 880: '40,28818', 881: '40,33422', 882: '40,2843', 883: '40,28086', 884: '40,2744744', 885: '40,31428', 886: '40,30546', 887: '40,30206', 888: '40,3571804504395', 889: '40,2748257864376', 890: '40,32314', 891: '40,31667', 892: '40,295285090629', 893: '40,30186', 894: '40,31667', 895: '40,35382', 896: '40,35541', 897: '40,3522', 898: '40,344393', 899: '40,3337657864376', 900: '40,32124', 901: '40,31381', 902: '40,31381', 903: '40,3259051', 904: '40,2882193', 905: '40,28282', 906: '40,28062'}, 'longitude': {0: '-3,79351', 1: '-3,79508142135624', 2: '-3,82693', 3: '-3,77574', 4: '-3,8313868', 5: '-3,79192471504211', 6: '-3,73066', 7: '-3,77769', 8: '-3,77152', 9: '-3,80405242135624', 10: '-3,8365174323', 11: '-3,815865', 12: '-3,7346649', 13: '-3,7381336', 14: '-3,83833', 15: '-3,725108', 16: '-3,79168641356237', 17: '-3,83733', 18: '-3,7798', 19: '-3,78003', 20: '-3,74772', 21: '-3,80916', 22: '-3,72721421356237', 23: '-3,73801', 24: '-3,75523', 25: '-3,72799', 26: '-3,73093', 27: '-3,77006', 28: '-3,72887', 29: '-3,7130324135', 30: '-3,7324561', 31: '-3,8360052', 32: '-3,72873421356237', 33: '-3,71263', 34: '-3,80908', 35: '-3,77228421356237', 36: '-3,73377', 37: '-3,78003122135624', 38: '-3,73817', 39: '-3,71427578643763', 40: '-3,71922', 41: '-3,72196421356237', 42: '-3,81587', 43: '-3,82411851356237', 44: '-3,83733', 45: '-3,7708315', 46: '-3,78935761356239', 47: '-3,74767', 48: '-3,80197422135624', 49: '-3,83127', 50: '-3,82316', 51: '-3,7985458', 52: '-3,77088421356237', 53: '-3,82185872135624', 54: '-3,77167', 55: '-3,7907629', 56: '-3,8061052', 57: '-3,7692378', 58: '-3,80549367864376', 59: '-3,82489', 60: '-3,81249633026123', 61: '-3,73323', 62: '-3,73946142135624', 63: '-3,80790299999994', 64: '-3,7907283', 65: '-3,82416582135624', 66: '-3,80790299999994', 67: '-3,7907283', 68: '-3,82416582135624', 69: '-3,7057332', 70: '-3,79755132135624', 71: '-3,82919', 72: '-3,73762418643763', 73: '-3,77388', 74: '-3,8009789', 75: '-3,7798', 76: '-3,7272536', 77: '-3,8193922', 78: '-3,7414642', 79: '-3,80959', 80: '-3,73321', 81: '-3,8455', 82: '-3,82336329135624', 83: '-3,82598', 84: '-3,74072', 85: '-3,75509212135624', 86: '-3,81097578643763', 87: '-3,75540942135624', 88: '-3,7917573', 89: '-3,82681002807617', 90: '-3,72869', 91: '-3,72591996192932', 92: '-3,781201', 93: '-3,72937', 94: '-3,73209857864376', 95: '-3,781001', 96: '-3,73321', 97: '-3,73209857864376', 98: '-3,781001', 99: '-3,73321', 100: '-3,7229835', 101: '-3,73017', 102: '-3,73017', 103: '0', 104: '-3,780801', 105: '-3,82822', 106: '-3,7549885', 107: '-3,8455', 108: '-3,8301848', 109: '-3,72922857864376', 110: '-3,73209857864376', 111: '-3,72974', 112: '-3,75518142135624', 113: '-3,82342187', 114: '-3,72974', 115: '-3,82546', 116: '-3,74072', 117: '-3,75295', 118: '-3,81162', 119: '-3,81057698643763', 120: '-3,715394', 121: '-3,72048', 122: '-3,721986', 123: '-3,715394', 124: '-3,72048', 125: '-3,721986', 126: '-3,8217114947359', 127: '-3,8105465372741', 128: '-3,761382', 129: '-3,78635829999996', 130: '-3,78585959999998', 131: '0', 132: '0', 133: '-3,78627316', 134: '-3,7994911074191', 135: '-3,82534', 136: '-3,8000407415556', 137: '-3,78329', 138: '-3,80104', 139: '-3,82172', 140: '-3,80874', 141: '-3,80152655', 142: '-3,79703164100647', 143: '-3,79703164100647', 144: '-3,78804', 145: '-3,79943', 146: '-3,77874', 147: '-3,7281704612835', 148: '-3,75287', 149: '-3,7999498', 150: '-3,730291', 151: '-3,730291', 152: '-3,75011', 153: '-3,78728', 154: '-3,8221908', 155: '-3,83405685424805', 156: '-3,8392174243927', 157: '-3,83121371269226', 158: '-3,81259381771088', 159: '-3,78414431610143', 160: '-3,79345111356237', 161: '-3,80061', 162: '-3,8054465', 163: '-3,80253421356237', 164: '-3,74713', 165: '-3,72027', 166: '-3,76264', 167: '-3,75612', 168: '-3,71703', 169: '-3,7337', 170: '-3,813865', 171: '-3,7886023', 172: '-3,74315', 173: '-3,83183956356237', 174: '-3,82310920943763', 175: '-3,816518944703', 176: '-3,8272440218029', 177: '-3,82804765150163', 178: '-3,80039', 179: '-3,7905283', 180: '-3,7550433', 181: '-3,74981', 182: '-3,74927409999998', 183: '-3,79275', 184: '-3,800844', 185: '-3,804853', 186: '-3,83304', 187: '-3,83498738426237', 188: '-3,8344010008', 189: '-3,8228', 190: '-3,8333786122', 191: '-3,8294138', 192: '-3,8414216', 193: '-3,83347', 194: '-3,80752', 195: '-3,82844', 196: '-3,83122', 197: '-3,73939', 198: '-3,73848', 199: '-3,73848', 200: '-3,73848', 201: '-3,73848', 202: '-3,73848', 203: '-3,73848', 204: '-3,73848', 205: '-3,73848', 206: '-3,73848', 207: '-3,73848', 208: '-3,73848', 209: '-3,73848', 210: '-3,73848', 211: '-3,73848', 212: '-3,73848', 213: '-3,73848', 214: '-3,73848', 215: '-3,73848', 216: '-3,73848', 217: '-3,73848', 218: '-3,73848', 219: '-3,73848', 220: '-3,73848', 221: '-3,73848', 222: '-3,73848', 223: '-3,73848', 224: '-3,73848', 225: '-3,73848', 226: '-3,73848', 227: '-3,83085', 228: '-3,79921', 229: '-3,72869', 230: '-3,72869', 231: '-3,72869', 232: '-3,8083335', 233: '-3,73224', 234: '-3,751087', 235: '-3,82771', 236: '-3,7565717', 237: '-3,82546', 238: '-3,8455', 239: '-3,72974', 240: '-3,82598', 241: '-3,75275', 242: '-3,82853', 243: '-3,82322187', 244: '-3,73321', 245: '-3,72869', 246: '-3,8455', 247: '-3,7315907', 248: '-3,77969', 249: '-3,73017', 250: '-3,74072', 251: '-3,74072', 252: '-3,75483', 253: '-3,7890764', 254: '-3,79219', 255: '-3,72903', 256: '-3,78487', 257: '-3,78859', 258: '-3,75367', 259: '-3,72977', 260: '-3,73191', 261: '-3,80108', 262: '-3,78608', 263: '-3,79696', 264: '-3,75589', 265: '-3,7883313', 266: '-3,7951', 267: '-3,80809', 268: '-3,84128', 269: '-3,7388189', 270: '-3,84485', 271: '-3,82849', 272: '-3,85619', 273: '-3,82424283527373', 274: '-3,7335333825', 275: '-3,7241576949', 276: '-3,77201421356237', 277: '-3,75912', 278: '-3,76318', 279: '-3,7454', 280: '-3,76423421356237', 281: '-3,7837', 282: '-3,7507', 283: '-3,77858', 284: '-3,76952', 285: '-3,73029', 286: '-3,72351', 287: '-3,73096', 288: '-3,7137', 289: '-3,83658', 290: '-3,74847', 291: '-3,75385', 292: '-3,74716', 293: '-3,74847', 294: '-3,76091', 295: '-3,780075', 296: '-3,73803', 297: '-3,82894', 298: '-3,82059', 299: '-3,7748487', 300: '-3,73853', 301: '-3,77956', 302: '-3,77956', 303: '-3,7209', 304: '-3,82184', 305: '-3,76408', 306: '-3,75182', 307: '-3,79472', 308: '-3,78879725933075', 309: '-3,80658030509949', 310: '-3,80265355110168', 311: '-3,79826013677064', 312: '-3,79868388175964', 313: '-3,81011881356237', 314: '-3,80925', 315: '-3,79011', 316: '-3,72493', 317: '-3,80311', 318: '-3,744779', 319: '-3,7312807', 320: '-3,72538421356237', 321: '-3,83016', 322: '-3,82673', 323: '-3,82935', 324: '-3,82339', 325: '-3,8664683', 326: '-3,82877', 327: '-3,7211553', 328: '-3,72177', 329: '-3,7259', 330: '-3,72034', 331: '-3,83289', 332: '-3,82431', 333: '-3,80460857864376', 334: '-3,80057', 335: '-3,7526299', 336: '-3,73173594474792', 337: '-3,77152', 338: '-3,7819198', 339: '-3,76646', 340: '-3,77794', 341: '-3,74343', 342: '-3,7852', 343: '-3,7806746', 344: '-3,7454', 345: '-3,74144', 346: '-3,77108421356237', 347: '-3,7902722', 348: '-3,75278', 349: '-3,81045', 350: '-3,7859058380127', 351: '-3,77267', 352: '-3,75089421356237', 353: '-3,73112', 354: '-3,73357', 355: '-3,75385', 356: '-3,75931', 357: '-3,74195404234641', 358: '-3,80975', 359: '-3,7405455', 360: '-3,78821', 361: '-3,82598', 362: '-3,82598', 363: '-3,76489', 364: '-3,84367609024048', 365: '-3,73321', 366: '-3,8291539', 367: '-3,72974', 368: '-3,76489', 369: '-3,84367609024048', 370: '-3,73321', 371: '-3,8291539', 372: '-3,72974', 373: '-3,73958', 374: '-3,80383', 375: '-3,82184', 376: '-3,83064', 377: '-3,8040432', 378: '-3,74072', 379: '-3,7272536', 380: '-3,82546', 381: '-3,72869', 382: '-3,82447', 383: '-3,8557201', 384: '-3,73321', 385: '-3,73017', 386: '-3,77997059253031', 387: '-3,75275', 388: '-3,72974', 389: '-3,8455', 390: '-3,7272536', 391: '-3,781001', 392: '-3,7284', 393: '-3,8216869', 394: '-3,8455', 395: '-3,7454', 396: '-3,7910649', 397: '-3,80213348643763', 398: '-3,7436436', 399: '-3,7973998', 400: '-3,8204841445', 401: '-3,81949', 402: '-3,78851142135624', 403: '-3,77267', 404: '-3,7526299', 405: '-3,74948', 406: '-3,77126', 407: '-3,77137011', 408: '-3,71537812', 409: '-3,75306', 410: '-3,768598', 411: '-3,77895983765465', 412: '-3,768598', 413: '-3,77895983765465', 414: '-3,7943644', 415: '-3,7857094', 416: '-3,76732', 417: '-3,83733', 418: '-3,72974', 419: '-3,72974', 420: '-3,72974', 421: '-3,72456', 422: '-3,71776', 423: '-3,72456', 424: '-3,71776', 425: '-3,75607', 426: '-3,72078', 427: '-3,7272536', 428: '-3,8455', 429: '-3,74072', 430: '-3,75275', 431: '-3,72869', 432: '-3,7420251', 433: '-3,8072866', 434: '-3,73017', 435: '-3,82546', 436: '-3,8455', 437: '-3,82449841', 438: '-3,82598', 439: '-3,76969', 440: '-3,8255215', 441: '-3,72869', 442: '-3,73321', 443: '-3,74072', 444: '-3,80709', 445: '-3,8096706', 446: '-3,79819', 447: '-3,82553', 448: '-3,714596', 449: '-3,715955', 450: '-3,7348', 451: '-3,74804', 452: '-3,7178172600122', 453: '-3,80190992355347', 454: '-3,8184971', 455: '-3,7223487', 456: '-3,781143', 457: '-3,80338000000006', 458: '-3,72974', 459: '-3,781001', 460: '-3,82598', 461: '-3,732149', 462: '-3,82546', 463: '-3,82598', 464: '-3,732149', 465: '-3,82546', 466: '-3,82598', 467: '-3,732149', 468: '-3,82546', 469: '-3,79869', 470: '-3,72942', 471: '-3,72974', 472: '-3,73321', 473: '-3,76873891356237', 474: '-3,72869', 475: '-3,83168351356237', 476: '-3,790236', 477: '-3,8455', 478: '-3,73321', 479: '-3,72869', 480: '-3,74072', 481: '-3,74072', 482: '-3,73017', 483: '-3,7556483', 484: '-3,81981', 485: '-3,83108', 486: '-3,76824421356237', 487: '-3,76824421356237', 488: '-3,79446', 489: '-3,71763', 490: '-3,79494', 491: '-3,74371', 492: '-3,76101', 493: '-3,8060085535', 494: '-3,80776', 495: '-3,79415', 496: '-3,72381678643763', 497: '-3,79415', 498: '-3,72381678643763', 499: '-3,8308672118658', 500: '-3,74589', 501: '-3,78316', 502: '-3,794286131', 503: '-3,83638', 504: '-3,80027', 505: '-3,83166800000004', 506: '-3,77977721356237', 507: '-3,79436', 508: '-3,82059', 509: '-3,80027421356237', 510: '-3,797771', 511: '-3,80187621356237', 512: '-3,80326778643763', 513: '-3,807777', 514: '-3,80371', 515: '-3,73806', 516: '-3,73639', 517: '-3,73202421356237', 518: '-3,83739', 519: '-3,80151', 520: '-3,80247578643763', 521: '-3,80604', 522: '-3,8052', 523: '-3,8273082', 524: '-3,81590858', 525: '-3,8258840503082', 526: '-3,7894115', 527: '-3,73865030000002', 528: '-3,7303591', 529: '-3,7295262', 530: '-3,8293', 531: '-3,8282', 532: '-3,82855', 533: '-3,8322', 534: '0', 535: '-3,73475421356237', 536: '-3,7977828', 537: '-3,78655', 538: '-3,72461', 539: '-3,72212', 540: '-3,72077', 541: '-3,8065813', 542: '-3,8148375712', 543: '-3,8269158555', 544: '-3,75503', 545: '-3,8294167', 546: '-3,82785', 547: '-3,8025311', 548: '-3,72461', 549: '-3,72212', 550: '-3,72077', 551: '-3,72461', 552: '-3,72212', 553: '-3,72077', 554: '-3,8065813', 555: '-3,8148375712', 556: '-3,8269158555', 557: '-3,75503', 558: '-3,8294167', 559: '-3,82785', 560: '-3,8025311', 561: '-3,76477807760239', 562: '-3,76477807760239', 563: '-3,72246', 564: '-3,72974', 565: '-3,8455', 566: '-3,8455', 567: '-3,82791578643763', 568: '-3,72974', 569: '-3,73017', 570: '-3,72119', 571: '-3,76855838', 572: '-3,82449841', 573: '-3,82546', 574: '-3,74072', 575: '-3,75275', 576: '-3,74072', 577: '-3,73321', 578: '-3,73321', 579: '-3,82598', 580: '-3,7985458', 581: '-3,77172', 582: '-3,8547774793093', 583: '-3,77119', 584: '-3,8213', 585: '-3,80813', 586: '-3,75019', 587: '-3,80813', 588: '-3,75019', 589: '-3,82598', 590: '-3,77932000160217', 591: '-3,73321', 592: '-3,74072', 593: '-3,74072', 594: '-3,82546', 595: '-3,79556', 596: '-3,72974', 597: '-3,72974', 598: '-3,72964', 599: '-3,75275', 600: '-3,73321', 601: '-3,810943', 602: '-3,80855', 603: '-3,74814414978027', 604: '-3,74746', 605: '-3,85598', 606: '0', 607: '-3,8088987103865', 608: '-3,8098724025355', 609: '-3,71888', 610: '-3,82749', 611: '-3,81911', 612: '-3,80184', 613: '-3,82435', 614: '-3,807421', 615: '-3,8233388', 616: '-3,7654675', 617: '-3,82622', 618: '-3,81984', 619: '-3,73279', 620: '-3,73321', 621: '-3,82546', 622: '-3,74072', 623: '-3,73321', 624: '-3,82546', 625: '-3,74072', 626: '-3,73321', 627: '-3,82546', 628: '-3,74072', 629: '-3,73121', 630: '-3,8435586', 631: '-3,8104846', 632: '-3,8070057', 633: '-3,7914644', 634: '-3,7918147', 635: '-3,8386229', 636: '-3,80207588643763', 637: '-3,7864969', 638: '-3,7862125907', 639: '-3,71706', 640: '-3,71785', 641: '-3,72494', 642: '-3,733316', 643: '-3,731819', 644: '-3,7765983', 645: '-3,8245606', 646: '-3,77827', 647: '-3,76604', 648: '-3,798948', 649: '-3,78833', 650: '-3,78428', 651: '-3,78961', 652: '-3,7964129778185', 653: '-3,7965785676235', 654: '-3,78419', 655: '-3,75931', 656: '-3,75278', 657: '-3,74948', 658: '-3,75643', 659: '-3,75553', 660: '-3,74066417', 661: '-3,71462710000003', 662: '-3,8372555', 663: '-3,8372555', 664: '-3,7859058380127', 665: '-3,76646', 666: '-3,73466', 667: '-3,75434', 668: '-3,80264944605351', 669: '-3,75334990326103', 670: '-3,75199', 671: '-3,7974099', 672: '-3,81475', 673: '-3,85598', 674: '-3,8004914', 675: '-3,755019', 676: '-3,763826', 677: '0', 678: '-3,777929', 679: '-3,755102', 680: '-3,753672', 681: '-3,756759', 682: '-3,8043', 683: '-3,8256', 684: '-3,76646', 685: '-3,74921', 686: '-3,83373', 687: '-3,7624825', 688: '-3,795', 689: '-3,7782684', 690: '-3,73534857864376', 691: '-3,8246052988763', 692: '-3,81683384', 693: '-3,80671', 694: '-3,82717', 695: '-3,7323934', 696: '-3,795537', 697: '-3,76550231421688', 698: '-3,81703', 699: '-3,83126', 700: '-3,8085', 701: '-3,71814', 702: '-3,7586646', 703: '-3,82059', 704: '-3,73321', 705: '-3,8288', 706: '-3,85603', 707: '-3,7116497', 708: '-3,79775', 709: '-3,75135', 710: '-3,7996', 711: '-3,75161', 712: '-3,72532', 713: '-3,7323934', 714: '-3,74072', 715: '-3,73335', 716: '-3,74072', 717: '-3,75275', 718: '-3,79483008384705', 719: '-3,82403', 720: '-3,73458', 721: '-3,73321', 722: '-3,82546', 723: '-3,770181', 724: '-3,728483', 725: '-3,7180369', 726: '-3,8021334864376', 727: '-3,77000578078649', 728: '-3,73855119999996', 729: '-3,855', 730: '-3,82898', 731: '-3,77367', 732: '-3,73453', 733: '-3,79802', 734: '-3,7974099', 735: '-3,83529', 736: '-3,84057', 737: '-3,73958', 738: '-3,80819644795653', 739: '-3,81963', 740: '-3,78833', 741: '-3,818527', 742: '-3,79006', 743: '-3,8092835', 744: '-3,8015042', 745: '-3,8257', 746: '-3,8349063', 747: '-3,81574', 748: '-3,76408', 749: '-3,7204288', 750: '-3,72731', 751: '-3,78859', 752: '-3,79408', 753: '-3,7454', 754: '-3,77127578643763', 755: '-3,7630715', 756: '-3,76873891356237', 757: '-3,80121', 758: '-3,8255195', 759: '-3,79985', 760: '-3,722955', 761: '-3,79143', 762: '-3,80664', 763: '-3,83637', 764: '-3,81159', 765: '-3,81489', 766: '-3,82895', 767: '-3,78839', 768: '-3,78406', 769: '-3,80313', 770: '-3,83005', 771: '-3,80875', 772: '-3,80728', 773: '-3,7896', 774: '-3,83748', 775: '-3,7824559', 776: '-3,78693', 777: '-3,7961005', 778: '-3,7987', 779: '-3,79333', 780: '-3,7544003', 781: '-3,75009', 782: '-3,80326', 783: '-3,78821', 784: '-3,8277845', 785: '-3,77152', 786: '-3,73091', 787: '-3,77261', 788: '-3,8258232', 789: '-3,7465719', 790: '-3,85603', 791: '-3,82931', 792: '-3,8293', 793: '-3,82437', 794: '-3,76186', 795: '-3,7730788126493', 796: '-3,82865', 797: '-3,75084400177002', 798: '-3,7759260276798', 799: '-3,7602', 800: '-3,76047', 801: '-3,764', 802: '-3,75278', 803: '-3,74072', 804: '-3,78119683423338', 805: '-3,72398', 806: '-3,77019188643763', 807: '-3,71803', 808: '-3,72839', 809: '-3,77019188643763', 810: '-3,71803', 811: '-3,72839', 812: '-3,74072', 813: '-3,82342198', 814: '-3,73321', 815: '-3,74655', 816: '-3,76988', 817: '-3,809874', 818: '-3,75275', 819: '-3,7546246', 820: '-3,73321', 821: '-3,724996', 822: '-3,724996', 823: '-3,80921', 824: '-3,83809', 825: '-3,78076959999998', 826: '-3,76772', 827: '-3,75089', 828: '-3,72626', 829: '-3,76772', 830: '-3,75089', 831: '-3,7211453', 832: '-3,82946', 833: '-3,8353401', 834: '-3,85598', 835: '-3,8281633365', 836: '-3,82531010000002', 837: '-3,80848', 838: '-3,80281', 839: '-3,7962', 840: '-3,79922', 841: '-3,80326778643763', 842: '-3,79886', 843: '-3,79215', 844: '-3,71781', 845: '-3,71781', 846: '-3,821837461', 847: '-3,83738', 848: '-3,7342', 849: '-3,75278', 850: '-3,76821', 851: '-3,81054', 852: '-3,81732', 853: '-3,8236', 854: '0', 855: '0', 856: '0', 857: '0', 858: '0', 859: '-3,80216837862613', 860: '-3,8050723', 861: '-3,79437', 862: '-3,7909198', 863: '-3,75547', 864: '-3,79721', 865: '-3,76824421356237', 866: '-3,76824421356237', 867: '-3,85598', 868: '-3,76054', 869: '-3,83733', 870: '-3,79437', 871: '-3,78978', 872: '-3,779803', 873: '-3,8349888', 874: '-3,74658', 875: '-3,773', 876: '-3,72254', 877: '-3,8157', 878: '-3,83016', 879: '-3,7904124', 880: '-3,81198', 881: '-3,76264', 882: '-3,79544', 883: '-3,80998', 884: '-3,80489250000005', 885: '-3,71706', 886: '-3,75275', 887: '-3,73321', 888: '-3,78049993515015', 889: '-3,79980721356237', 890: '-3,78143', 891: '-3,74072', 892: '-3,8354148269737', 893: '-3,73321', 894: '-3,74072', 895: '-3,80028', 896: '-3,82059', 897: '-3,80279', 898: '-3,839799', 899: '-3,76824421356237', 900: '-3,7798', 901: '-3,83733', 902: '-3,83733', 903: '-3,76318', 904: '-3,8098617', 905: '-3,78892', 906: '-3,79869'}}\n"
          ]
        },
        {
          "data": {
            "application/vnd.jupyter.widget-view+json": {
              "model_id": "106394b76ca949cfb7a3a643110ff418",
              "version_major": 2,
              "version_minor": 0
            },
            "text/plain": [
              "Map(bottom=497.0, center=[60.06484046010452, -2.1093750000000004], controls=(ZoomControl(options=['position', …"
            ]
          },
          "metadata": {},
          "output_type": "display_data"
        }
      ],
      "source": [
        "## Aquí: traza la coordenadas de los estados\n",
        "def GetCoordinatesDict(dataset):\n",
        "    return dataset[['latitude','longitude']].to_dict()\n",
        "\n",
        "def AddMarker(data):\n",
        "    for point in data:\n",
        "        marker = Marker(location = (point), draggable = False)\n",
        "        map.add(marker)\n",
        "\n",
        "coordenadas = GetCoordinatesDict(cinturonsur)\n",
        "print(coordenadas)\n",
        "\n",
        "AddMarker(coordenadas)\n",
        "\n",
        "display (map)\n"
      ]
    }
  ],
  "metadata": {
    "kernelspec": {
      "display_name": "Python 3",
      "language": "python",
      "name": "python3"
    },
    "language_info": {
      "codemirror_mode": {
        "name": "ipython",
        "version": 3
      },
      "file_extension": ".py",
      "mimetype": "text/x-python",
      "name": "python",
      "nbconvert_exporter": "python",
      "pygments_lexer": "ipython3",
      "version": "3.11.4"
    }
  },
  "nbformat": 4,
  "nbformat_minor": 5
}
