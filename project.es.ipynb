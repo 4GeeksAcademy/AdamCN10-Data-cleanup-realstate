{
  "cells": [
    {
      "attachments": {},
      "cell_type": "markdown",
      "id": "innocent-university",
      "metadata": {},
      "source": [
        "# Limpieza de bienes raíces\n",
        "\n",
        "Este es un conjunto de datos (dataset) reales que fue descargado usando técnicas de web scraping. La data contiene registros de **Fotocasa**, el cual es uno de los sitios más populares de bienes raíces en España. Por favor no hagas esto (web scraping) a no ser que sea para propósitos académicos.\n",
        "\n",
        "El dataset fue descargado hace algunos años por Henry Navarro y en ningún caso se obtuvo beneficio económico de ello.\n",
        "\n",
        "Contiene miles de datos de casas reales publicadas en la web www.fotocasa.com. Tu objetivo es extraer tanta información como sea posible con el conocimiento que tienes hasta ahora de ciencia de datos, por ejemplo ¿cuál es la casa más cara en todo el dataset?\n",
        "\n",
        "Empecemos precisamente con esa pregunta... ¡Buena suerte!"
      ]
    },
    {
      "attachments": {},
      "cell_type": "markdown",
      "id": "multiple-glass",
      "metadata": {},
      "source": [
        "#### Ejercicio 00. Lee el dataset assets/real_estate.csv e intenta visualizar la tabla (★☆☆)"
      ]
    },
    {
      "cell_type": "code",
      "execution_count": 1,
      "id": "frank-heath",
      "metadata": {},
      "outputs": [
        {
          "data": {
            "text/html": [
              "<div>\n",
              "<style scoped>\n",
              "    .dataframe tbody tr th:only-of-type {\n",
              "        vertical-align: middle;\n",
              "    }\n",
              "\n",
              "    .dataframe tbody tr th {\n",
              "        vertical-align: top;\n",
              "    }\n",
              "\n",
              "    .dataframe thead th {\n",
              "        text-align: right;\n",
              "    }\n",
              "</style>\n",
              "<table border=\"1\" class=\"dataframe\">\n",
              "  <thead>\n",
              "    <tr style=\"text-align: right;\">\n",
              "      <th></th>\n",
              "      <th>Unnamed: 0</th>\n",
              "      <th>id_realEstates</th>\n",
              "      <th>isNew</th>\n",
              "      <th>realEstate_name</th>\n",
              "      <th>phone_realEstate</th>\n",
              "      <th>url_inmueble</th>\n",
              "      <th>rooms</th>\n",
              "      <th>bathrooms</th>\n",
              "      <th>surface</th>\n",
              "      <th>price</th>\n",
              "      <th>...</th>\n",
              "      <th>level4Id</th>\n",
              "      <th>level5Id</th>\n",
              "      <th>level6Id</th>\n",
              "      <th>level7Id</th>\n",
              "      <th>level8Id</th>\n",
              "      <th>accuracy</th>\n",
              "      <th>latitude</th>\n",
              "      <th>longitude</th>\n",
              "      <th>zipCode</th>\n",
              "      <th>customZone</th>\n",
              "    </tr>\n",
              "  </thead>\n",
              "  <tbody>\n",
              "    <tr>\n",
              "      <th>0</th>\n",
              "      <td>1</td>\n",
              "      <td>153771986</td>\n",
              "      <td>False</td>\n",
              "      <td>ferrari 57 inmobiliaria</td>\n",
              "      <td>912177526.0</td>\n",
              "      <td>https://www.fotocasa.es/es/comprar/vivienda/ma...</td>\n",
              "      <td>3.0</td>\n",
              "      <td>2.0</td>\n",
              "      <td>103.0</td>\n",
              "      <td>195000</td>\n",
              "      <td>...</td>\n",
              "      <td>0</td>\n",
              "      <td>0</td>\n",
              "      <td>0</td>\n",
              "      <td>0</td>\n",
              "      <td>0</td>\n",
              "      <td>0</td>\n",
              "      <td>40,2948276786438</td>\n",
              "      <td>-3,44402412135624</td>\n",
              "      <td>NaN</td>\n",
              "      <td>NaN</td>\n",
              "    </tr>\n",
              "    <tr>\n",
              "      <th>1</th>\n",
              "      <td>2</td>\n",
              "      <td>153867863</td>\n",
              "      <td>False</td>\n",
              "      <td>tecnocasa fuenlabrada ferrocarril</td>\n",
              "      <td>916358736.0</td>\n",
              "      <td>https://www.fotocasa.es/es/comprar/vivienda/ma...</td>\n",
              "      <td>3.0</td>\n",
              "      <td>1.0</td>\n",
              "      <td>NaN</td>\n",
              "      <td>89000</td>\n",
              "      <td>...</td>\n",
              "      <td>0</td>\n",
              "      <td>0</td>\n",
              "      <td>0</td>\n",
              "      <td>0</td>\n",
              "      <td>0</td>\n",
              "      <td>1</td>\n",
              "      <td>40,28674</td>\n",
              "      <td>-3,79351</td>\n",
              "      <td>NaN</td>\n",
              "      <td>NaN</td>\n",
              "    </tr>\n",
              "    <tr>\n",
              "      <th>2</th>\n",
              "      <td>3</td>\n",
              "      <td>153430440</td>\n",
              "      <td>False</td>\n",
              "      <td>look find boadilla</td>\n",
              "      <td>916350408.0</td>\n",
              "      <td>https://www.fotocasa.es/es/comprar/vivienda/ma...</td>\n",
              "      <td>2.0</td>\n",
              "      <td>2.0</td>\n",
              "      <td>99.0</td>\n",
              "      <td>390000</td>\n",
              "      <td>...</td>\n",
              "      <td>0</td>\n",
              "      <td>0</td>\n",
              "      <td>0</td>\n",
              "      <td>0</td>\n",
              "      <td>0</td>\n",
              "      <td>0</td>\n",
              "      <td>40,4115646786438</td>\n",
              "      <td>-3,90662252135624</td>\n",
              "      <td>NaN</td>\n",
              "      <td>NaN</td>\n",
              "    </tr>\n",
              "    <tr>\n",
              "      <th>3</th>\n",
              "      <td>4</td>\n",
              "      <td>152776331</td>\n",
              "      <td>False</td>\n",
              "      <td>tecnocasa fuenlabrada ferrocarril</td>\n",
              "      <td>916358736.0</td>\n",
              "      <td>https://www.fotocasa.es/es/comprar/vivienda/ma...</td>\n",
              "      <td>3.0</td>\n",
              "      <td>1.0</td>\n",
              "      <td>86.0</td>\n",
              "      <td>89000</td>\n",
              "      <td>...</td>\n",
              "      <td>0</td>\n",
              "      <td>0</td>\n",
              "      <td>0</td>\n",
              "      <td>0</td>\n",
              "      <td>0</td>\n",
              "      <td>0</td>\n",
              "      <td>40,2853785786438</td>\n",
              "      <td>-3,79508142135624</td>\n",
              "      <td>NaN</td>\n",
              "      <td>NaN</td>\n",
              "    </tr>\n",
              "    <tr>\n",
              "      <th>4</th>\n",
              "      <td>5</td>\n",
              "      <td>153180188</td>\n",
              "      <td>False</td>\n",
              "      <td>ferrari 57 inmobiliaria</td>\n",
              "      <td>912177526.0</td>\n",
              "      <td>https://www.fotocasa.es/es/comprar/vivienda/ma...</td>\n",
              "      <td>2.0</td>\n",
              "      <td>2.0</td>\n",
              "      <td>106.0</td>\n",
              "      <td>172000</td>\n",
              "      <td>...</td>\n",
              "      <td>0</td>\n",
              "      <td>0</td>\n",
              "      <td>0</td>\n",
              "      <td>0</td>\n",
              "      <td>0</td>\n",
              "      <td>0</td>\n",
              "      <td>40,2998774864376</td>\n",
              "      <td>-3,45226301356237</td>\n",
              "      <td>NaN</td>\n",
              "      <td>NaN</td>\n",
              "    </tr>\n",
              "    <tr>\n",
              "      <th>...</th>\n",
              "      <td>...</td>\n",
              "      <td>...</td>\n",
              "      <td>...</td>\n",
              "      <td>...</td>\n",
              "      <td>...</td>\n",
              "      <td>...</td>\n",
              "      <td>...</td>\n",
              "      <td>...</td>\n",
              "      <td>...</td>\n",
              "      <td>...</td>\n",
              "      <td>...</td>\n",
              "      <td>...</td>\n",
              "      <td>...</td>\n",
              "      <td>...</td>\n",
              "      <td>...</td>\n",
              "      <td>...</td>\n",
              "      <td>...</td>\n",
              "      <td>...</td>\n",
              "      <td>...</td>\n",
              "      <td>...</td>\n",
              "      <td>...</td>\n",
              "    </tr>\n",
              "    <tr>\n",
              "      <th>15330</th>\n",
              "      <td>15331</td>\n",
              "      <td>153901377</td>\n",
              "      <td>False</td>\n",
              "      <td>infocasa consulting</td>\n",
              "      <td>911360461.0</td>\n",
              "      <td>https://www.fotocasa.es/es/comprar/vivienda/ma...</td>\n",
              "      <td>2.0</td>\n",
              "      <td>1.0</td>\n",
              "      <td>96.0</td>\n",
              "      <td>259470</td>\n",
              "      <td>...</td>\n",
              "      <td>0</td>\n",
              "      <td>0</td>\n",
              "      <td>0</td>\n",
              "      <td>0</td>\n",
              "      <td>0</td>\n",
              "      <td>0</td>\n",
              "      <td>40,45416</td>\n",
              "      <td>-3,70286</td>\n",
              "      <td>NaN</td>\n",
              "      <td>NaN</td>\n",
              "    </tr>\n",
              "    <tr>\n",
              "      <th>15331</th>\n",
              "      <td>15332</td>\n",
              "      <td>150394373</td>\n",
              "      <td>False</td>\n",
              "      <td>inmobiliaria pulpon</td>\n",
              "      <td>912788039.0</td>\n",
              "      <td>https://www.fotocasa.es/es/comprar/vivienda/ma...</td>\n",
              "      <td>3.0</td>\n",
              "      <td>1.0</td>\n",
              "      <td>150.0</td>\n",
              "      <td>165000</td>\n",
              "      <td>...</td>\n",
              "      <td>0</td>\n",
              "      <td>0</td>\n",
              "      <td>0</td>\n",
              "      <td>0</td>\n",
              "      <td>0</td>\n",
              "      <td>0</td>\n",
              "      <td>40,36652</td>\n",
              "      <td>-3,48951</td>\n",
              "      <td>NaN</td>\n",
              "      <td>NaN</td>\n",
              "    </tr>\n",
              "    <tr>\n",
              "      <th>15332</th>\n",
              "      <td>15333</td>\n",
              "      <td>153901397</td>\n",
              "      <td>False</td>\n",
              "      <td>tecnocasa torrelodones</td>\n",
              "      <td>912780348.0</td>\n",
              "      <td>https://www.fotocasa.es/es/comprar/vivienda/ma...</td>\n",
              "      <td>4.0</td>\n",
              "      <td>2.0</td>\n",
              "      <td>175.0</td>\n",
              "      <td>495000</td>\n",
              "      <td>...</td>\n",
              "      <td>0</td>\n",
              "      <td>0</td>\n",
              "      <td>0</td>\n",
              "      <td>0</td>\n",
              "      <td>0</td>\n",
              "      <td>0</td>\n",
              "      <td>40,57444</td>\n",
              "      <td>-3,92124</td>\n",
              "      <td>NaN</td>\n",
              "      <td>NaN</td>\n",
              "    </tr>\n",
              "    <tr>\n",
              "      <th>15333</th>\n",
              "      <td>15334</td>\n",
              "      <td>152607440</td>\n",
              "      <td>False</td>\n",
              "      <td>inmobiliaria pulpon</td>\n",
              "      <td>912788039.0</td>\n",
              "      <td>https://www.fotocasa.es/es/comprar/vivienda/ma...</td>\n",
              "      <td>3.0</td>\n",
              "      <td>2.0</td>\n",
              "      <td>101.0</td>\n",
              "      <td>195000</td>\n",
              "      <td>...</td>\n",
              "      <td>0</td>\n",
              "      <td>0</td>\n",
              "      <td>0</td>\n",
              "      <td>0</td>\n",
              "      <td>0</td>\n",
              "      <td>0</td>\n",
              "      <td>40,36967</td>\n",
              "      <td>-3,48105</td>\n",
              "      <td>NaN</td>\n",
              "      <td>NaN</td>\n",
              "    </tr>\n",
              "    <tr>\n",
              "      <th>15334</th>\n",
              "      <td>15335</td>\n",
              "      <td>153901356</td>\n",
              "      <td>False</td>\n",
              "      <td>infocasa consulting</td>\n",
              "      <td>911360461.0</td>\n",
              "      <td>https://www.fotocasa.es/es/comprar/vivienda/ma...</td>\n",
              "      <td>3.0</td>\n",
              "      <td>2.0</td>\n",
              "      <td>152.0</td>\n",
              "      <td>765000</td>\n",
              "      <td>...</td>\n",
              "      <td>0</td>\n",
              "      <td>0</td>\n",
              "      <td>0</td>\n",
              "      <td>0</td>\n",
              "      <td>0</td>\n",
              "      <td>0</td>\n",
              "      <td>40,45773</td>\n",
              "      <td>-3,69068</td>\n",
              "      <td>NaN</td>\n",
              "      <td>NaN</td>\n",
              "    </tr>\n",
              "  </tbody>\n",
              "</table>\n",
              "<p>15335 rows × 37 columns</p>\n",
              "</div>"
            ],
            "text/plain": [
              "       Unnamed: 0  id_realEstates  isNew                    realEstate_name  \\\n",
              "0               1       153771986  False            ferrari 57 inmobiliaria   \n",
              "1               2       153867863  False  tecnocasa fuenlabrada ferrocarril   \n",
              "2               3       153430440  False                 look find boadilla   \n",
              "3               4       152776331  False  tecnocasa fuenlabrada ferrocarril   \n",
              "4               5       153180188  False            ferrari 57 inmobiliaria   \n",
              "...           ...             ...    ...                                ...   \n",
              "15330       15331       153901377  False                infocasa consulting   \n",
              "15331       15332       150394373  False                inmobiliaria pulpon   \n",
              "15332       15333       153901397  False             tecnocasa torrelodones   \n",
              "15333       15334       152607440  False                inmobiliaria pulpon   \n",
              "15334       15335       153901356  False                infocasa consulting   \n",
              "\n",
              "       phone_realEstate                                       url_inmueble  \\\n",
              "0           912177526.0  https://www.fotocasa.es/es/comprar/vivienda/ma...   \n",
              "1           916358736.0  https://www.fotocasa.es/es/comprar/vivienda/ma...   \n",
              "2           916350408.0  https://www.fotocasa.es/es/comprar/vivienda/ma...   \n",
              "3           916358736.0  https://www.fotocasa.es/es/comprar/vivienda/ma...   \n",
              "4           912177526.0  https://www.fotocasa.es/es/comprar/vivienda/ma...   \n",
              "...                 ...                                                ...   \n",
              "15330       911360461.0  https://www.fotocasa.es/es/comprar/vivienda/ma...   \n",
              "15331       912788039.0  https://www.fotocasa.es/es/comprar/vivienda/ma...   \n",
              "15332       912780348.0  https://www.fotocasa.es/es/comprar/vivienda/ma...   \n",
              "15333       912788039.0  https://www.fotocasa.es/es/comprar/vivienda/ma...   \n",
              "15334       911360461.0  https://www.fotocasa.es/es/comprar/vivienda/ma...   \n",
              "\n",
              "       rooms  bathrooms  surface   price  ... level4Id level5Id level6Id  \\\n",
              "0        3.0        2.0    103.0  195000  ...        0        0        0   \n",
              "1        3.0        1.0      NaN   89000  ...        0        0        0   \n",
              "2        2.0        2.0     99.0  390000  ...        0        0        0   \n",
              "3        3.0        1.0     86.0   89000  ...        0        0        0   \n",
              "4        2.0        2.0    106.0  172000  ...        0        0        0   \n",
              "...      ...        ...      ...     ...  ...      ...      ...      ...   \n",
              "15330    2.0        1.0     96.0  259470  ...        0        0        0   \n",
              "15331    3.0        1.0    150.0  165000  ...        0        0        0   \n",
              "15332    4.0        2.0    175.0  495000  ...        0        0        0   \n",
              "15333    3.0        2.0    101.0  195000  ...        0        0        0   \n",
              "15334    3.0        2.0    152.0  765000  ...        0        0        0   \n",
              "\n",
              "      level7Id level8Id accuracy          latitude          longitude zipCode  \\\n",
              "0            0        0        0  40,2948276786438  -3,44402412135624     NaN   \n",
              "1            0        0        1          40,28674           -3,79351     NaN   \n",
              "2            0        0        0  40,4115646786438  -3,90662252135624     NaN   \n",
              "3            0        0        0  40,2853785786438  -3,79508142135624     NaN   \n",
              "4            0        0        0  40,2998774864376  -3,45226301356237     NaN   \n",
              "...        ...      ...      ...               ...                ...     ...   \n",
              "15330        0        0        0          40,45416           -3,70286     NaN   \n",
              "15331        0        0        0          40,36652           -3,48951     NaN   \n",
              "15332        0        0        0          40,57444           -3,92124     NaN   \n",
              "15333        0        0        0          40,36967           -3,48105     NaN   \n",
              "15334        0        0        0          40,45773           -3,69068     NaN   \n",
              "\n",
              "      customZone  \n",
              "0            NaN  \n",
              "1            NaN  \n",
              "2            NaN  \n",
              "3            NaN  \n",
              "4            NaN  \n",
              "...          ...  \n",
              "15330        NaN  \n",
              "15331        NaN  \n",
              "15332        NaN  \n",
              "15333        NaN  \n",
              "15334        NaN  \n",
              "\n",
              "[15335 rows x 37 columns]"
            ]
          },
          "execution_count": 1,
          "metadata": {},
          "output_type": "execute_result"
        }
      ],
      "source": [
        "import pandas as pd\n",
        "import matplotlib.pyplot as plt\n",
        "import numpy as np\n",
        "from sklearn.preprocessing import MinMaxScaler #Para normalizar datos.\n",
        "\n",
        "# Este archivo CSV contiene puntos y comas en lugar de comas como separadores\n",
        "df_estates = pd.read_csv('assets/real_estate.csv', sep=';')\n",
        "df_estates"
      ]
    },
    {
      "attachments": {},
      "cell_type": "markdown",
      "id": "latin-guest",
      "metadata": {},
      "source": [
        "#### Ejercicio 01. ¿Cuál es la casa más cara en todo el dataset? (★☆☆)\n",
        "\n",
        "Imprime la dirección y el precio de la casa seleccionada. Por ejemplo:\n",
        "\n",
        "`La casa con dirección en Calle del Prado, Nº20 es la más cara y su precio es de 5000000 USD`"
      ]
    },
    {
      "cell_type": "code",
      "execution_count": 2,
      "id": "developing-optimum",
      "metadata": {},
      "outputs": [
        {
          "name": "stdout",
          "output_type": "stream",
          "text": [
            "La casa con dirección El Escorial,El Escorial es la más cara y su precio es de 8500000 €.\n",
            "None\n"
          ]
        }
      ],
      "source": [
        "###Imprimir dirección de la casa más cara###\n",
        "\n",
        "def HighPrice(highprice):\n",
        "    #Cogemos el valor más grande de la columna Price (El ultimo en este caso) y lo convertimos en una Serie con squeeze para trabajarlo mejor.\n",
        "    highprice_house = highprice.sort_values('price').tail(1).squeeze()\n",
        "    print (f\"La casa con dirección {highprice_house['address']},{highprice_house['level5']} es la más cara y su precio es de {highprice_house['price']} €.\")\n",
        "\n",
        "print (HighPrice(df_estates))"
      ]
    },
    {
      "attachments": {},
      "cell_type": "markdown",
      "id": "lesser-cosmetic",
      "metadata": {},
      "source": [
        "#### Ejercicio 02. ¿Cuál es la casa más barata del dataset? (★☆☆)\n",
        "\n",
        "Imprime la dirección y el precio de la casa seleccionada. Por ejemplo:\n",
        "\n",
        "`La casa con dirección en Calle Alcalá, Nº58 es la más barata y su precio es de 12000 USD`"
      ]
    },
    {
      "cell_type": "code",
      "execution_count": 3,
      "id": "lovely-oasis",
      "metadata": {},
      "outputs": [
        {
          "name": "stdout",
          "output_type": "stream",
          "text": [
            "La casa con dirección en  Madrid Capital,  Madrid Capital es la más barata y su precio es de 0 €.\n",
            "None\n"
          ]
        }
      ],
      "source": [
        "###Imprimir dirección de la casa más cara###\n",
        "\n",
        "def LowPrice(lowprice):\n",
        "    lowprice_house = lowprice.sort_values('price').head(1).squeeze()\n",
        "    print (f\"La casa con dirección en {lowprice_house['address']}, {lowprice_house['level5']} es la más barata y su precio es de {lowprice_house['price']} €.\")\n",
        "\n",
        "print (LowPrice(df_estates))"
      ]
    },
    {
      "attachments": {},
      "cell_type": "markdown",
      "id": "compliant-fellowship",
      "metadata": {},
      "source": [
        "#### Ejercicio 03. ¿Cuál es la casa más grande y la más pequeña del dataset? (★☆☆)\n",
        "\n",
        "Imprime la dirección y el área de las casas seleccionadas. Por ejemplo:\n",
        "\n",
        "`La casa más grande está ubicada en Calle Gran Vía, Nº38 y su superficie es de 5000 metros`\n",
        "\n",
        "`La casa más pequeña está ubicada en Calle Mayor, Nº12 y su superficie es de 200 metros`"
      ]
    },
    {
      "cell_type": "code",
      "execution_count": 4,
      "id": "every-tiffany",
      "metadata": {},
      "outputs": [
        {
          "name": "stdout",
          "output_type": "stream",
          "text": [
            "La casa más grande está en Calle de Manuela Malasaña,  Madrid Capital,  Madrid Capital y su superficie es de nan metros.\n",
            "None\n",
            "La casa más pequeña está en Calle Amparo,  Madrid Capital,  Madrid Capital y su superficie es de 15.0 metros.\n",
            "None\n"
          ]
        }
      ],
      "source": [
        "###Imprimimos la casa más grande y la más pequeña###\n",
        "\n",
        "def MoreSurface(moresurface):\n",
        "    moresurface_house = moresurface.sort_values('surface').tail(1).squeeze()\n",
        "    print (f\"La casa más grande está en {moresurface_house['address']}, {moresurface_house['level5']} y su superficie es de {moresurface_house['surface']} metros.\")\n",
        "\n",
        "def LessSurface(lesssurface):\n",
        "    lessfurface_house = lesssurface.sort_values('surface').head(1).squeeze()\n",
        "    print (f\"La casa más pequeña está en {lessfurface_house['address']}, {lessfurface_house['level5']} y su superficie es de {lessfurface_house['surface']} metros.\")\n",
        "\n",
        "print (MoreSurface(df_estates))\n",
        "print (LessSurface(df_estates))"
      ]
    },
    {
      "attachments": {},
      "cell_type": "markdown",
      "id": "danish-spirit",
      "metadata": {},
      "source": [
        "#### Ejercicio 04. ¿Cuantas poblaciones (columna level5) contiene el dataset? (★☆☆)\n",
        "\n",
        "Imprime el nombre de las poblaciones separadas por coma. Por ejemplo:\n",
        "\n",
        "`> print(populations)`\n",
        "\n",
        "`population1, population2, population3, ...`"
      ]
    },
    {
      "cell_type": "code",
      "execution_count": 5,
      "id": "exciting-accreditation",
      "metadata": {},
      "outputs": [
        {
          "name": "stdout",
          "output_type": "stream",
          "text": [
            " Madrid Capital, Ajalvir, Alcalá de Henares, Alcobendas, Alcorcón, Aldea del Fresno, Algete, Alpedrete, Ambite, Anchuelo, Aranjuez, Arganda del Rey, Arroyomolinos (Madrid), Batres, Becerril de la Sierra, Belmonte de Tajo, Boadilla del Monte, Braojos, Brea de Tajo, Brunete, Buitrago del Lozoya, Bustarviejo, Cabanillas de la Sierra, Cadalso de los Vidrios, Camarma de Esteruelas, Campo Real, Canencia, Carabaña, Casarrubuelos, Cenicientos, Cercedilla, Chapinería, Chinchón, Ciempozuelos, Cobeña, Collado Mediano, Collado Villalba, Colmenar Viejo, Colmenar de Oreja, Colmenar del Arroyo, Colmenarejo, Corpa, Coslada, Cubas de la Sagra, Daganzo de Arriba, El Atazar, El Berrueco, El Boalo - Cerceda – Mataelpino, El Escorial, El Molar (Madrid), El Vellón, El Álamo, Estremera, Fresnedillas de la Oliva, Fresno de Torote, Fresno de Torote - Serracines, Fuenlabrada, Fuente El Saz de Jarama, Fuentidueña de Tajo, Galapagar, Garganta de los Montes, Gargantilla del Lozoya, Gascones, Getafe, Griñón, Guadalix de la Sierra, Guadarrama, Horcajo de la Sierra, Hoyo de Manzanares, Humanes de Madrid, La Cabrera, La Hiruela, Las Rozas de Madrid, Leganés, Loeches, Los Molinos, Los Santos de la Humosa, Lozoya, Lozoyuela-navas-sieteiglesias, Madarcos, Majadahonda, Manzanares El Real, Meco, Mejorada del Campo, Miraflores de la Sierra, Montejo de la Sierra, Moraleja de Enmedio, Moralzarzal, Morata de Tajuña, Móstoles, Navacerrada, Navalafuente, Navalagamella, Navalcarnero, Navarredonda, Navas del Rey, Nuevo Baztán, Orusco de Tajuña, Paracuellos de Jarama, Parla, Patones, Pedrezuela, Pelayos de la Presa, Perales de Tajuña, Pezuela de las Torres, Pinilla del Valle, Pinto, Piñuécar-gandullas, Pozuelo de Alarcón, Pozuelo del Rey, Puentes Viejas, Quijorna, Rascafría, Redueña, Ribatejada, Rivas-vaciamadrid, Robledo de Chavela, Robregordo, San Agustín del Guadalix, San Fernando de Henares, San Lorenzo de El Escorial, San Martín de Valdeiglesias, San Martín de la Vega, San Sebastián de los Reyes, Santa María de la Alameda, Santorcaz, Serranillos del Valle, Sevilla la Nueva, Soto del Real, Talamanca de Jarama, Tielmes, Titulcia, Torrejón de Ardoz, Torrejón de Velasco, Torrejón de la Calzada, Torrelaguna, Torrelodones, Torremocha de Jarama, Torres de la Alameda, Tres Cantos, Valdaracete, Valdeavero, Valdelaguna, Valdemanco, Valdemaqueda, Valdemorillo, Valdemoro, Valdeolmos-Alalpardo, Valdepiélagos, Valdetorres de Jarama, Valdilecha, Valverde de Alcalá, Velilla de San Antonio, Venturada, Villa del Prado, Villaconejos, Villalbilla, Villamanrique de Tajo, Villamanta, Villamantilla, Villanueva de Perales, Villanueva de la Cañada, Villanueva del Pardillo, Villar del Olmo, Villarejo de Salvanés, Villaviciosa de Odón, Villavieja del Lozoya, Zarzalejo, "
          ]
        }
      ],
      "source": [
        "###Nombre de las poblaciones###\n",
        "\n",
        "def Populations(populations):\n",
        "    counter = len(populations.level5)\n",
        "    list_populations = list()\n",
        "    for i in range(counter):\n",
        "        list_populations.append(populations.level5[i])\n",
        "    \n",
        "    #Agrupamos los valores únicos.\n",
        "    list_populations = np.unique(list_populations)\n",
        "    \n",
        "    return list_populations\n",
        "\n",
        "for pop in (Populations(df_estates)):\n",
        "    print (pop, end=\", \")"
      ]
    },
    {
      "attachments": {},
      "cell_type": "markdown",
      "id": "crazy-blame",
      "metadata": {},
      "source": [
        "#### Ejercicio 05. ¿El dataset contiene valores no admitidos (NAs)? (★☆☆)\n",
        "\n",
        "Imprima un booleano (`True` o `False`) seguido de la fila/columna que contiene el NAs."
      ]
    },
    {
      "cell_type": "code",
      "execution_count": 6,
      "id": "transparent-poetry",
      "metadata": {},
      "outputs": [
        {
          "name": "stdout",
          "output_type": "stream",
          "text": [
            "Unnamed: 0          False\n",
            "id_realEstates      False\n",
            "isNew               False\n",
            "realEstate_name      True\n",
            "phone_realEstate     True\n",
            "url_inmueble        False\n",
            "rooms                True\n",
            "bathrooms            True\n",
            "surface              True\n",
            "price               False\n",
            "date                False\n",
            "description          True\n",
            "address             False\n",
            "country             False\n",
            "level1              False\n",
            "level2              False\n",
            "level3              False\n",
            "level4               True\n",
            "level5              False\n",
            "level6               True\n",
            "level7               True\n",
            "level8               True\n",
            "upperLevel          False\n",
            "countryId           False\n",
            "level1Id            False\n",
            "level2Id            False\n",
            "level3Id            False\n",
            "level4Id            False\n",
            "level5Id            False\n",
            "level6Id            False\n",
            "level7Id            False\n",
            "level8Id            False\n",
            "accuracy            False\n",
            "latitude            False\n",
            "longitude           False\n",
            "zipCode              True\n",
            "customZone           True\n",
            "dtype: bool\n",
            "0        True\n",
            "1        True\n",
            "2        True\n",
            "3        True\n",
            "4        True\n",
            "         ... \n",
            "15330    True\n",
            "15331    True\n",
            "15332    True\n",
            "15333    True\n",
            "15334    True\n",
            "Length: 15335, dtype: bool\n",
            "None\n"
          ]
        }
      ],
      "source": [
        "### Comprobar si hay valores no admitidos en la lista ###\n",
        "\n",
        "def NanIdentificy(value):\n",
        "    print (value.isnull().any())\n",
        "    print (value.isnull().any(axis=1))\n",
        "\n",
        "print (NanIdentificy(df_estates))"
      ]
    },
    {
      "attachments": {},
      "cell_type": "markdown",
      "id": "italic-hydrogen",
      "metadata": {},
      "source": [
        "#### Ejercicio 06. Elimina los NAs del dataset, si aplica (★★☆)\n",
        "\n",
        "Imprima una comparación entre las dimensiones del DataFrame original versus el DataFrame después de las eliminaciones.\n"
      ]
    },
    {
      "cell_type": "code",
      "execution_count": 7,
      "id": "administrative-roads",
      "metadata": {},
      "outputs": [
        {
          "name": "stdout",
          "output_type": "stream",
          "text": [
            "(15335, 25)\n",
            "(15335, 37)\n"
          ]
        }
      ],
      "source": [
        "### Eliminar los NAs del dataset###\n",
        "\n",
        "def Filter(value):\n",
        "   df_filter = value.dropna(axis=1)\n",
        "   return df_filter\n",
        "\n",
        "print(Filter(df_estates).shape)\n",
        "print(df_estates.shape)"
      ]
    },
    {
      "attachments": {},
      "cell_type": "markdown",
      "id": "middle-china",
      "metadata": {},
      "source": [
        "#### Ejercicio 07. ¿Cuál la media de precios en la población (columna level5) de \"Arroyomolinos (Madrid)\"? (★★☆)\n",
        "\n",
        "Imprima el valor obtenido."
      ]
    },
    {
      "cell_type": "code",
      "execution_count": 8,
      "id": "nuclear-belief",
      "metadata": {},
      "outputs": [
        {
          "name": "stdout",
          "output_type": "stream",
          "text": [
            "294541.59854014596\n"
          ]
        }
      ],
      "source": [
        "###Media de precios de Arroyomolinos###\n",
        "\n",
        "def MeanPrice(dataset, city):\n",
        "    dataset_city = dataset[dataset['level5'] == city]\n",
        "    return dataset_city.price.mean()\n",
        "\n",
        "print (MeanPrice(df_estates, \"Arroyomolinos (Madrid)\"))"
      ]
    },
    {
      "attachments": {},
      "cell_type": "markdown",
      "id": "concerned-radical",
      "metadata": {},
      "source": [
        "#### Ejercicio 08. Trazar el histograma de los precios para la población (level5 column) de \"Arroyomolinos (Madrid)\" y explica qué observas (★★☆)\n",
        "\n",
        "Imprime el histograma de los precios y escribe en la celda del Markdown un breve análisis del trazado.\n"
      ]
    },
    {
      "cell_type": "code",
      "execution_count": 9,
      "id": "sudden-message",
      "metadata": {},
      "outputs": [
        {
          "data": {
            "image/png": "[encoded data removed]",
            "text/plain": [
              "<Figure size 1000x500 with 1 Axes>"
            ]
          },
          "metadata": {},
          "output_type": "display_data"
        },
        {
          "name": "stdout",
          "output_type": "stream",
          "text": [
            "None\n"
          ]
        }
      ],
      "source": [
        "###Historiograma de los precios de Arroyomolinos###\n",
        "\n",
        "def HistogramPriceCity(dataset, city):\n",
        "    arroyomolinos = dataset[dataset['level5'] == city]\n",
        "    plt.figure (figsize=(10,5))\n",
        "    plt.hist (arroyomolinos.price, bins=30, alpha=1, ec=\"black\")\n",
        "    plt.title (f\"Precios de {city}\")\n",
        "    plt.show()\n",
        "\n",
        "print (HistogramPriceCity(df_estates,\"Arroyomolinos (Madrid)\"))"
      ]
    },
    {
      "attachments": {},
      "cell_type": "markdown",
      "id": "impressed-combination",
      "metadata": {},
      "source": [
        "**TODO: Markdown**. Para escribir aquí, haz doble clic en esta celda, elimina este contenido y coloca lo que quieras escribir. Luego ejecuta la celda."
      ]
    },
    {
      "cell_type": "code",
      "execution_count": null,
      "id": "b5039ec0",
      "metadata": {},
      "outputs": [],
      "source": []
    },
    {
      "attachments": {},
      "cell_type": "markdown",
      "id": "actual-edinburgh",
      "metadata": {},
      "source": [
        "#### Ejercicio 09. ¿Son los precios promedios de \"Valdemorillo\" y \"Galapagar\" los mismos? (★★☆)\n",
        "\n",
        "Imprime ambos promedios y escribe una conclusión sobre ellos."
      ]
    },
    {
      "cell_type": "code",
      "execution_count": 10,
      "id": "numeric-commerce",
      "metadata": {},
      "outputs": [
        {
          "name": "stdout",
          "output_type": "stream",
          "text": [
            "363860.2931034483\n",
            "360063.20238095237\n",
            "False\n"
          ]
        }
      ],
      "source": [
        "###Comprobar si el precio promedio de Valdemorillo y de Galapagar son el mismo###\n",
        "\n",
        "print (MeanPrice(df_estates,\"Valdemorillo\"))\n",
        "print (MeanPrice(df_estates,\"Galapagar\"))\n",
        "print (MeanPrice(df_estates,\"Valdemorillo\") == MeanPrice(df_estates,\"Galapagar\"))"
      ]
    },
    {
      "attachments": {},
      "cell_type": "markdown",
      "id": "lonely-article",
      "metadata": {},
      "source": [
        "#### Ejercicio 10. ¿Son los promedios de precio por metro cuadrado (precio/m2) de \"Valdemorillo\" y \"Galapagar\" los mismos? (★★☆)\n",
        "\n",
        "Imprime ambos promedios de precio por metro cuadrado y escribe una conclusión sobre ellos.\n",
        "\n",
        "Pista: Crea una nueva columna llamada `pps` (*price per square* o precio por metro cuadrado) y luego analiza los valores."
      ]
    },
    {
      "cell_type": "code",
      "execution_count": 11,
      "id": "hourly-globe",
      "metadata": {},
      "outputs": [
        {
          "name": "stdout",
          "output_type": "stream",
          "text": [
            "1317.9502109024986\n",
            "1606.3240303094024\n",
            "False\n"
          ]
        }
      ],
      "source": [
        "###Comprobar si el precio/m2 promedio de Valdemorillo y Galapagar son el mismo###\n",
        "\n",
        "def ColumnPPS(dataset):\n",
        "    pps = dataset.price / dataset.surface\n",
        "    dataset ['pps'] = pps\n",
        "    return dataset\n",
        "\n",
        "dfwith_pps = ColumnPPS(df_estates)\n",
        "\n",
        "def MeanPPS(dataset, city):\n",
        "    pps_datasetCity = dataset[dataset['level5'] == city]\n",
        "    return pps_datasetCity.pps.mean()\n",
        "\n",
        "print (MeanPPS(dfwith_pps, \"Valdemorillo\"))\n",
        "print (MeanPPS(dfwith_pps, \"Galapagar\"))\n",
        "print (MeanPPS(dfwith_pps,\"Valdemorillo\") == MeanPPS(dfwith_pps,\"Galapagar\"))"
      ]
    },
    {
      "attachments": {},
      "cell_type": "markdown",
      "id": "pleasant-invite",
      "metadata": {},
      "source": [
        "#### Ejercicio 11. Analiza la relación entre la superficie y el precio de las casas. (★★☆)\n",
        "\n",
        "Pista: Puedes hacer un `scatter plot` y luego escribir una conclusión al respecto."
      ]
    },
    {
      "cell_type": "code",
      "execution_count": 12,
      "id": "common-drilling",
      "metadata": {},
      "outputs": [
        {
          "data": {
            "image/png": "[encoded data removed]",
            "text/plain": [
              "<Figure size 1000x500 with 1 Axes>"
            ]
          },
          "metadata": {},
          "output_type": "display_data"
        },
        {
          "name": "stdout",
          "output_type": "stream",
          "text": [
            "None\n"
          ]
        }
      ],
      "source": [
        "def RelPriceSurface(dataset): #SIN ACABAR\n",
        "    plt.figure(figsize=(10,5))\n",
        "    plt.scatter(dataset.price, dataset.surface, label = \"Precio\")\n",
        "\n",
        "    plt.title(\"Relación Superficie/Precio\")\n",
        "    plt.legend()\n",
        "    plt.show()\n",
        "\n",
        "print (RelPriceSurface(df_estates))"
      ]
    },
    {
      "attachments": {},
      "cell_type": "markdown",
      "id": "ahead-liquid",
      "metadata": {},
      "source": [
        "**TODO: Markdown**. Para escribir aquí, haz doble clic en esta celda, elimina este contenido y coloca lo que quieras escribir. Luego ejecuta la celda."
      ]
    },
    {
      "attachments": {},
      "cell_type": "markdown",
      "id": "coordinate-sunrise",
      "metadata": {},
      "source": [
        "#### Ejercicio 12. ¿Cuántas agencia de bienes raíces contiene el dataset? (★★☆)\n",
        "\n",
        "Imprime el valor obtenido."
      ]
    },
    {
      "cell_type": "code",
      "execution_count": 13,
      "id": "valid-honolulu",
      "metadata": {},
      "outputs": [
        {
          "name": "stdout",
          "output_type": "stream",
          "text": [
            "14217\n"
          ]
        }
      ],
      "source": [
        "###Buscamos cuantas agencias contiene el DataSet###\n",
        "def HowManyRealEstatesAre(value):\n",
        "    return len(value.id_realEstates.unique()) #Imprimimos solamente los valores unicos.\n",
        "\n",
        "print (HowManyRealEstatesAre(df_estates))"
      ]
    },
    {
      "attachments": {},
      "cell_type": "markdown",
      "id": "binding-ebony",
      "metadata": {},
      "source": [
        "#### Ejercicio 13. ¿Cuál es la población (columna level5) que contiene la mayor cantidad de casas?(★★☆)\n",
        "\n",
        "Imprima la población y el número de casas."
      ]
    },
    {
      "cell_type": "code",
      "execution_count": 14,
      "id": "static-perry",
      "metadata": {},
      "outputs": [
        {
          "name": "stdout",
          "output_type": "stream",
          "text": [
            "level5\n",
            "Madrid Capital    6643\n",
            "Name: count, dtype: int64 15335\n",
            "None\n"
          ]
        }
      ],
      "source": [
        "def HowCityHaveMoreHouses(data):\n",
        "    city = data.level5.value_counts().head(1) #Aquí contamos las veces que un valor se repite y cogemos el primero\n",
        "    houses = data.level5.value_counts().sum()\n",
        "    print (city, houses)\n",
        "\n",
        "print (HowCityHaveMoreHouses(df_estates))"
      ]
    },
    {
      "attachments": {},
      "cell_type": "markdown",
      "id": "entire-classification",
      "metadata": {},
      "source": [
        "#### Ejercicio 14. Ahora vamos a trabajar con el \"cinturón sur\" de Madrid. Haz un subconjunto del DataFrame original que contenga las siguientes poblaciones (columna level5): \"Fuenlabrada\", \"Leganés\", \"Getafe\", \"Alcorcón\" (★★☆)\n",
        "\n",
        "Pista: Filtra el DataFrame original usando la columna `level5` y la función `isin`."
      ]
    },
    {
      "cell_type": "code",
      "execution_count": 15,
      "id": "binary-input",
      "metadata": {},
      "outputs": [
        {
          "name": "stdout",
          "output_type": "stream",
          "text": [
            "       Unnamed: 0  id_realEstates  isNew  \\\n",
            "1               2       153867863  False   \n",
            "3               4       152776331  False   \n",
            "85             86       153152077  False   \n",
            "94             95       153995577  False   \n",
            "109           110       153586414  False   \n",
            "...           ...             ...    ...   \n",
            "15275       15276       153903887  False   \n",
            "15291       15292       151697757  False   \n",
            "15305       15306       153902389  False   \n",
            "15322       15323       153871864  False   \n",
            "15325       15326       153901467  False   \n",
            "\n",
            "                                 realEstate_name  phone_realEstate  \\\n",
            "1              tecnocasa fuenlabrada ferrocarril       916358736.0   \n",
            "3              tecnocasa fuenlabrada ferrocarril       916358736.0   \n",
            "85                       sinergical inmobiliaria               NaN   \n",
            "94                               viviendas365com       911226014.0   \n",
            "109              area uno asesores inmobiliarios       912664081.0   \n",
            "...                                          ...               ...   \n",
            "15275  aliseda servicios de gestion inmobiliaria       911368198.0   \n",
            "15291                                    unipiso       912788631.0   \n",
            "15305                             jadein ferrero       914871639.0   \n",
            "15322                          gestion comercial       911220662.0   \n",
            "15325                              montehogar 68       911790675.0   \n",
            "\n",
            "                                            url_inmueble  rooms  bathrooms  \\\n",
            "1      https://www.fotocasa.es/es/comprar/vivienda/ma...    3.0        1.0   \n",
            "3      https://www.fotocasa.es/es/comprar/vivienda/ma...    3.0        1.0   \n",
            "85     https://www.fotocasa.es/es/comprar/vivienda/le...    1.0        1.0   \n",
            "94     https://www.fotocasa.es/es/comprar/vivienda/le...    3.0        2.0   \n",
            "109    https://www.fotocasa.es/es/comprar/vivienda/ma...    3.0        3.0   \n",
            "...                                                  ...    ...        ...   \n",
            "15275  https://www.fotocasa.es/es/comprar/vivienda/al...    3.0        1.0   \n",
            "15291  https://www.fotocasa.es/es/comprar/vivienda/al...    3.0        2.0   \n",
            "15305  https://www.fotocasa.es/es/comprar/vivienda/ma...    3.0        2.0   \n",
            "15322  https://www.fotocasa.es/es/comprar/vivienda/ma...    3.0        1.0   \n",
            "15325  https://www.fotocasa.es/es/comprar/vivienda/ma...    2.0        2.0   \n",
            "\n",
            "       surface   price  ... level5Id level6Id level7Id level8Id accuracy  \\\n",
            "1          NaN   89000  ...        0        0        0        0        1   \n",
            "3         86.0   89000  ...        0        0        0        0        0   \n",
            "85        50.0  107000  ...        0        0        0        0        1   \n",
            "94       120.0  320000  ...        0        0        0        0        0   \n",
            "109      142.0  425000  ...        0        0        0        0        0   \n",
            "...        ...     ...  ...      ...      ...      ...      ...      ...   \n",
            "15275     78.0  138000  ...        0        0        0        0        1   \n",
            "15291    110.0  279000  ...        0        0        0        0        0   \n",
            "15305     85.0  170000  ...        0        0        0        0        0   \n",
            "15322     91.0  112000  ...        0        0        0        0        0   \n",
            "15325     99.0  215000  ...        0        0        0        0        1   \n",
            "\n",
            "               latitude          longitude zipCode customZone          pps  \n",
            "1              40,28674           -3,79351     NaN        NaN          NaN  \n",
            "3      40,2853785786438  -3,79508142135624     NaN        NaN  1034.883721  \n",
            "85             40,35059           -3,82693     NaN        NaN  2140.000000  \n",
            "94             40,31933           -3,77574     NaN        NaN  2666.666667  \n",
            "109          40,3313411         -3,8313868     NaN        NaN  2992.957746  \n",
            "...                 ...                ...     ...        ...          ...  \n",
            "15275          40,31381           -3,83733     NaN        NaN  1769.230769  \n",
            "15291        40,3259051           -3,76318     NaN        NaN  2536.363636  \n",
            "15305        40,2882193         -3,8098617     NaN        NaN  2000.000000  \n",
            "15322          40,28282           -3,78892     NaN        NaN  1230.769231  \n",
            "15325          40,28062           -3,79869     NaN        NaN  2171.717172  \n",
            "\n",
            "[907 rows x 38 columns]\n"
          ]
        }
      ],
      "source": [
        "###Creamos un nuevo DataFrame que contenga Fuenlabrada, Leganes, Getafe y Alcorcón\"###\n",
        "\n",
        "def CityFilter(dataset, city1, city2, city3, city4):\n",
        "    filt_cities =dataset['level5'].isin([city1,city2,city3,city4])\n",
        "    new_dataset = dataset[filt_cities]\n",
        "    return new_dataset\n",
        "\n",
        "cinturonsur = CityFilter(df_estates, \"Fuenlabrada\",\"Leganés\",\"Getafe\",\"Alcorcón\")\n",
        "print (cinturonsur)"
      ]
    },
    {
      "attachments": {},
      "cell_type": "markdown",
      "id": "severe-fisher",
      "metadata": {},
      "source": [
        "#### Ejercicio 15. Traza un gráfico de barras de la mediana de los precios y explica lo que observas (debes usar el subconjunto obtenido del Ejercicio 14) (★★★)\n",
        "\n",
        "Imprima un gráfico de barras de la mediana de precios y escriba en la celda Markdown un breve análisis sobre el gráfico."
      ]
    },
    {
      "cell_type": "code",
      "execution_count": 16,
      "id": "lyric-bunch",
      "metadata": {},
      "outputs": [
        {
          "data": {
            "image/png": "[encoded data removed]",
            "text/plain": [
              "<Figure size 1000x500 with 1 Axes>"
            ]
          },
          "metadata": {},
          "output_type": "display_data"
        },
        {
          "name": "stdout",
          "output_type": "stream",
          "text": [
            "None\n"
          ]
        }
      ],
      "source": [
        "###Grafico de barra de la mediana de los precios de Cinturon Sur###\n",
        "\n",
        "def MultiCityMeanPrice(dataset, city1, city2, city3, city4):\n",
        "    labels = [city1, city2, city3, city4]\n",
        "    city1 = dataset[dataset['level5'] == city1].price.mean()\n",
        "    city2 = dataset[dataset['level5'] == city2].price.mean()\n",
        "    city3 = dataset[dataset['level5'] == city3].price.mean()\n",
        "    city4 = dataset[dataset['level5'] == city4].price.mean()\n",
        "    values = (city1, city2, city3, city4)\n",
        "    plt.figure(figsize=(10,5))\n",
        "    plt.bar(labels, values, ec=\"black\")\n",
        "\n",
        "    plt.title(\"Precios Medios Cinturón Sur\")\n",
        "    plt.show()\n",
        "\n",
        "print(MultiCityMeanPrice(cinturonsur, \"Fuenlabrada\",\"Leganés\",\"Getafe\",\"Alcorcón\"))  "
      ]
    },
    {
      "attachments": {},
      "cell_type": "markdown",
      "id": "sublime-newspaper",
      "metadata": {},
      "source": [
        "**TODO: Markdown**. Para escribir aquí, haz doble clic en esta celda, elimina este contenido y coloca lo que quieras escribir. Luego ejecuta la celda."
      ]
    },
    {
      "attachments": {},
      "cell_type": "markdown",
      "id": "speaking-diamond",
      "metadata": {},
      "source": [
        "#### Ejercicio 16. Calcula la media y la varianza de muestra para las siguientes variables: precio, habitaciones, superficie y baños (debes usar el subconjunto obtenido del Ejercicio 14) (★★★)\n",
        "\n",
        "Imprime ambos valores por cada variable."
      ]
    },
    {
      "cell_type": "code",
      "execution_count": 17,
      "id": "random-feeling",
      "metadata": {},
      "outputs": [
        {
          "name": "stdout",
          "output_type": "stream",
          "text": [
            "Varianza del precio: 14904916165.70277\n",
            "Media de precios: 223094.48070562293\n",
            "Varianza de las habitaciones: 0.7180888982846692\n",
            "Media de las habitaciones: 3.0177383592017737\n",
            "Varianza de la superficie: 4257.634921993191\n",
            "Media de la superficie: 111.75222363405337\n",
            "Varianza de los baños: 0.5711594078614581\n",
            "Media de baños: 1.633221850613155\n"
          ]
        }
      ],
      "source": [
        "###Calcula la medía y la varianza de muestra del Cinturón Sur###\n",
        "\n",
        "def Variance(dataset, value):\n",
        "    return dataset[value].var(ddof = 0)\n",
        "\n",
        "def Mean(dataset, value):\n",
        "    return dataset[value].mean()\n",
        "\n",
        "print (f\"Varianza del precio: {Variance(cinturonsur,'price')}\")\n",
        "print (f\"Media de precios: {Mean(cinturonsur,'price')}\")\n",
        "print (f\"Varianza de las habitaciones: {Variance(cinturonsur,'rooms')}\")\n",
        "print (f\"Media de las habitaciones: {Mean(cinturonsur,'rooms')}\")\n",
        "print (f\"Varianza de la superficie: {Variance(cinturonsur,'surface')}\")\n",
        "print (f\"Media de la superficie: {Mean(cinturonsur,'surface')}\")\n",
        "print (f\"Varianza de los baños: {Variance(cinturonsur,'bathrooms')}\")\n",
        "print (f\"Media de baños: {Mean(cinturonsur, 'bathrooms')}\")"
      ]
    },
    {
      "attachments": {},
      "cell_type": "markdown",
      "id": "revolutionary-matrix",
      "metadata": {},
      "source": [
        "#### Ejercicio 17. ¿Cuál es la casa más cara de cada población? Debes usar el subset obtenido en la pregunta 14 (★★☆)\n",
        "\n",
        "Imprime tanto la dirección como el precio de la casa seleccionada de cada población. Puedes imprimir un DataFrame o una sola línea para cada población."
      ]
    },
    {
      "cell_type": "code",
      "execution_count": 18,
      "id": "fifteen-browse",
      "metadata": {},
      "outputs": [
        {
          "name": "stdout",
          "output_type": "stream",
          "text": [
            "Fuenlabrada. Precio: 490000. Dirección: Calle de Paulo Freire, 5, Fuenlabrada\n",
            "None\n",
            "Alcorcón. Precio: 950000. Dirección: Alcorcón\n",
            "None\n",
            "Leganés. Precio: 650000. Dirección: Avenida Reina Sofía, Leganés\n",
            "None\n",
            "Getafe. Precio: 1050000. Dirección: Getafe\n",
            "None\n"
          ]
        }
      ],
      "source": [
        "### Cual es la casa más cara de cada población###\n",
        "\n",
        "def MostExpensiveHousePerCity(dataset, city):\n",
        "    expensivehouse = dataset[dataset['level5'] == city].sort_values('price').tail(1).squeeze() #Squeeze sirve para eliminar dimensiones en una matriz.\n",
        "    print (f\"{city}. Precio: {expensivehouse.price}. Dirección: {expensivehouse.address}\")\n",
        "\n",
        "print (MostExpensiveHousePerCity(cinturonsur, \"Fuenlabrada\"))\n",
        "print (MostExpensiveHousePerCity(cinturonsur, \"Alcorcón\"))\n",
        "print (MostExpensiveHousePerCity(cinturonsur, \"Leganés\"))\n",
        "print (MostExpensiveHousePerCity(cinturonsur, \"Getafe\"))\n"
      ]
    },
    {
      "attachments": {},
      "cell_type": "markdown",
      "id": "activated-knight",
      "metadata": {},
      "source": [
        "#### Ejercicio 18. Normaliza la variable de precios para cada población y traza los 4 histogramas en el mismo gráfico (debes usar el subconjunto obtenido en la pregunta 14) (★★★)\n",
        "\n",
        "Para el método de normalización, puedes usar el que consideres adecuado, no hay una única respuesta correcta para esta pregunta. Imprime el gráfico y escribe en la celda de Markdown un breve análisis sobre el gráfico.\n",
        "\n",
        "Pista: Puedes ayudarte revisando la demostración multihist de Matplotlib."
      ]
    },
    {
      "cell_type": "code",
      "execution_count": 19,
      "id": "civic-meditation",
      "metadata": {},
      "outputs": [
        {
          "data": {
            "image/png": "[encoded data removed]",
            "text/plain": [
              "<Figure size 1000x500 with 1 Axes>"
            ]
          },
          "metadata": {},
          "output_type": "display_data"
        },
        {
          "name": "stdout",
          "output_type": "stream",
          "text": [
            "None\n"
          ]
        }
      ],
      "source": [
        "###Historiograma de precios del Cinturon Sur###\n",
        "\n",
        "scaler=MinMaxScaler() #Para poder normalizar datos. Formula de normalización: x' = x-xmin/xmax-xmin\n",
        "\n",
        "def NormalicePriceCity(dataset,city):\n",
        "    datacity = dataset[dataset['level5'] == city]\n",
        "    price_scaled = scaler.fit_transform(datacity[['price']])\n",
        "    return price_scaled\n",
        "\n",
        "    #Creamos el Histograma\n",
        "\n",
        "def MultigramaPricesNormalized(dataset, city1, city2, city3, city4):\n",
        "    plt.figure(figsize = (10, 5))\n",
        "    plt.hist(NormalicePriceCity(dataset, city1), bins=30, alpha=0.8, ec=\"Black\", label=city1)\n",
        "    plt.hist(NormalicePriceCity(dataset, city2), bins=30, alpha=0.8, ec=\"Black\", label=city2)\n",
        "    plt.hist(NormalicePriceCity(dataset, city3), bins=30, alpha=0.8, ec=\"Black\", label=city3)\n",
        "    plt.hist(NormalicePriceCity(dataset, city4), bins=30, alpha=0.8, ec=\"Black\", label=city4)\n",
        "\n",
        "    plt.legend()\n",
        "    plt.show()\n",
        "\n",
        "print (MultigramaPricesNormalized(cinturonsur,\"Fuenlabrada\",\"Alcorcón\",\"Leganés\",\"Getafe\"))"
      ]
    },
    {
      "attachments": {},
      "cell_type": "markdown",
      "id": "precise-heavy",
      "metadata": {},
      "source": [
        "**TODO: Markdown**. Para escribir aquí, haz doble clic en esta celda, elimina este contenido y coloca lo que quieras escribir. Luego ejecuta la celda."
      ]
    },
    {
      "attachments": {},
      "cell_type": "markdown",
      "id": "patent-jonathan",
      "metadata": {},
      "source": [
        "#### Ejercicio 19. ¿Qué puedes decir sobre el precio por metro cuadrado (precio/m2) entre los municipios de 'Getafe' y 'Alcorcón'? Debes usar el subconjunto obtenido en la pregunta 14 (★★☆)\n",
        "\n",
        "Pista: Crea una nueva columna llamada `pps` (price per square en inglés) y luego analiza los valores"
      ]
    },
    {
      "cell_type": "code",
      "execution_count": 20,
      "id": "initial-liverpool",
      "metadata": {},
      "outputs": [
        {
          "name": "stdout",
          "output_type": "stream",
          "text": [
            "2066.314949251463\n",
            "2239.302480199618\n"
          ]
        }
      ],
      "source": [
        "###Precio medio/m2 Getafe y Alcorcón###\n",
        "\n",
        "print(MeanPPS(dfwith_pps, \"Getafe\"))\n",
        "print(MeanPPS(dfwith_pps, \"Alcorcón\"))\n"
      ]
    },
    {
      "attachments": {},
      "cell_type": "markdown",
      "id": "enhanced-moscow",
      "metadata": {},
      "source": [
        "#### Ejercicio 20. Realiza el mismo gráfico para 4 poblaciones diferentes (columna level5) y colócalos en el mismo gráfico. Debes usar el subconjunto obtenido en la pregunta 14 (★★☆) \n",
        "Pista: Haz un diagrama de dispersión de cada población usando subgráficos (subplots)."
      ]
    },
    {
      "cell_type": "code",
      "execution_count": 21,
      "id": "accepting-airfare",
      "metadata": {},
      "outputs": [
        {
          "data": {
            "image/png": "[encoded data removed]",
            "text/plain": [
              "<Figure size 1000x500 with 1 Axes>"
            ]
          },
          "metadata": {},
          "output_type": "display_data"
        },
        {
          "name": "stdout",
          "output_type": "stream",
          "text": [
            "None\n"
          ]
        }
      ],
      "source": [
        "### Multigrama con 4 poblaciones diferentes ###\n",
        "otrasPoblaciones = CityFilter(df_estates,\"Alcalá de Henares\", \"Colmenarejo\", \"Lozoya\", \"Móstoles\")\n",
        "print (MultigramaPricesNormalized(otrasPoblaciones, \"Alcalá de Henares\", \"Colmenarejo\", \"Lozoya\", \"Móstoles\"))"
      ]
    },
    {
      "attachments": {},
      "cell_type": "markdown",
      "id": "blocked-effects",
      "metadata": {},
      "source": [
        "#### Ejercicio 21. Realiza un trazado de las coordenadas (columnas latitud y longitud) del cinturón sur de Madrid por color de cada población (debes usar el subconjunto obtenido del Ejercicio 14) (★★★★)\n",
        "\n",
        "Ejecuta la siguiente celda y luego comienza a codear en la siguiente. Debes implementar un código simple que transforme las columnas de coordenadas en un diccionario de Python (agrega más información si es necesario) y agrégala al mapa."
      ]
    },
    {
      "cell_type": "code",
      "execution_count": 37,
      "id": "headed-privacy",
      "metadata": {},
      "outputs": [
        {
          "data": {
            "application/vnd.jupyter.widget-view+json": {
              "model_id": "a1c197fd7edd44b0b6fb451fcb6ac9b1",
              "version_major": 2,
              "version_minor": 0
            },
            "text/plain": [
              "Map(center=[60, -2.2], controls=(ZoomControl(options=['position', 'zoom_in_text', 'zoom_in_title', 'zoom_out_t…"
            ]
          },
          "metadata": {},
          "output_type": "display_data"
        }
      ],
      "source": [
        "from ipyleaflet import Map, basemaps\n",
        "\n",
        "# Mapa centrado en (60 grados latitud y -2.2 grados longitud)\n",
        "# Latitud, longitud\n",
        "map = Map(center = (60, -2.2), zoom = 2, min_zoom = 1, max_zoom = 20, \n",
        "    basemap=basemaps.Esri.WorldStreetMap) #Porque no va el servicio!!\n",
        "\n",
        "display (map)"
      ]
    },
    {
      "cell_type": "code",
      "execution_count": 59,
      "id": "present-mistress",
      "metadata": {},
      "outputs": [
        {
          "name": "stdout",
          "output_type": "stream",
          "text": [
            "[{'latitude': '40,28674', 'longitude': '-3,79351'}, {'latitude': '40,2853785786438', 'longitude': '-3,79508142135624'}, {'latitude': '40,35059', 'longitude': '-3,82693'}, {'latitude': '40,31933', 'longitude': '-3,77574'}, {'latitude': '40,3313411', 'longitude': '-3,8313868'}, {'latitude': '40,2744807718156', 'longitude': '-3,79192471504211'}, {'latitude': '40,31111', 'longitude': '-3,73066'}, {'latitude': '40,356919', 'longitude': '-3,77769'}, {'latitude': '40,3274', 'longitude': '-3,77152'}, {'latitude': '40,2906814213562', 'longitude': '-3,80405242135624'}, {'latitude': '40,3152529585', 'longitude': '-3,8365174323'}, {'latitude': '40,2921796', 'longitude': '-3,815865'}, {'latitude': '40,3060558', 'longitude': '-3,7346649'}, {'latitude': '40,3035689', 'longitude': '-3,7381336'}, {'latitude': '40,29224', 'longitude': '-3,83833'}, {'latitude': '40,3068987', 'longitude': '-3,725108'}, {'latitude': '40,3142811864376', 'longitude': '-3,79168641356237'}, {'latitude': '40,31381', 'longitude': '-3,83733'}, {'latitude': '40,32124', 'longitude': '-3,7798'}, {'latitude': '40,35524', 'longitude': '-3,78003'}, {'latitude': '40,28327', 'longitude': '-3,74772'}, {'latitude': '40,29742', 'longitude': '-3,80916'}, {'latitude': '40,3034957864376', 'longitude': '-3,72721421356237'}, {'latitude': '40,30779', 'longitude': '-3,73801'}, {'latitude': '40,33686', 'longitude': '-3,75523'}, {'latitude': '40,30184', 'longitude': '-3,72799'}, {'latitude': '40,30091', 'longitude': '-3,73093'}, {'latitude': '40,33252', 'longitude': '-3,77006'}, {'latitude': '40,30635', 'longitude': '-3,72887'}, {'latitude': '40,3220051387', 'longitude': '-3,7130324135'}, {'latitude': '40,3153084', 'longitude': '-3,7324561'}, {'latitude': '40,3133562', 'longitude': '-3,8360052'}, {'latitude': '40,3012757864376', 'longitude': '-3,72873421356237'}, {'latitude': '40,3218', 'longitude': '-3,71263'}, {'latitude': '40,27782', 'longitude': '-3,80908'}, {'latitude': '40,3164257864376', 'longitude': '-3,77228421356237'}, {'latitude': '40,3262', 'longitude': '-3,73377'}, {'latitude': '40,3216444213562', 'longitude': '-3,78003122135624'}, {'latitude': '40,30353', 'longitude': '-3,73817'}, {'latitude': '40,3117642135624', 'longitude': '-3,71427578643763'}, {'latitude': '40,31313', 'longitude': '-3,71922'}, {'latitude': '40,3099157864376', 'longitude': '-3,72196421356237'}, {'latitude': '40,3526', 'longitude': '-3,81587'}, {'latitude': '40,2919082135624', 'longitude': '-3,82411851356237'}, {'latitude': '40,31381', 'longitude': '-3,83733'}, {'latitude': '40,3342649', 'longitude': '-3,7708315'}, {'latitude': '40,3155378864376', 'longitude': '-3,78935761356239'}, {'latitude': '40,28869', 'longitude': '-3,74767'}, {'latitude': '40,3546326213562', 'longitude': '-3,80197422135624'}, {'latitude': '40,34949', 'longitude': '-3,83127'}, {'latitude': '40,34608', 'longitude': '-3,82316'}, {'latitude': '40,2889244', 'longitude': '-3,7985458'}, {'latitude': '40,3341242135624', 'longitude': '-3,77088421356237'}, {'latitude': '40,3446968786438', 'longitude': '-3,82185872135624'}, {'latitude': '40,33238', 'longitude': '-3,77167'}, {'latitude': '40,2837261', 'longitude': '-3,7907629'}, {'latitude': '40,2823585', 'longitude': '-3,8061052'}, {'latitude': '40,3324438', 'longitude': '-3,7692378'}, {'latitude': '40,2830905213562', 'longitude': '-3,80549367864376'}, {'latitude': '40,34942', 'longitude': '-3,82489'}, {'latitude': '40,3525293490715', 'longitude': '-3,81249633026123'}, {'latitude': '40,30005', 'longitude': '-3,73323'}, {'latitude': '40,3014614213562', 'longitude': '-3,73946142135624'}, {'latitude': '40,296075', 'longitude': '-3,80790299999994'}, {'latitude': '40,2772542', 'longitude': '-3,7907283'}, {'latitude': '40,3453965786438', 'longitude': '-3,82416582135624'}, {'latitude': '40,296075', 'longitude': '-3,80790299999994'}, {'latitude': '40,2772542', 'longitude': '-3,7907283'}, {'latitude': '40,3453965786438', 'longitude': '-3,82416582135624'}, {'latitude': '40,3152732', 'longitude': '-3,7057332'}, {'latitude': '40,2915427786438', 'longitude': '-3,79755132135624'}, {'latitude': '40,33829', 'longitude': '-3,82919'}, {'latitude': '40,3061746135624', 'longitude': '-3,73762418643763'}, {'latitude': '40,34179', 'longitude': '-3,77388'}, {'latitude': '40,3541132', 'longitude': '-3,8009789'}, {'latitude': '40,32124', 'longitude': '-3,7798'}, {'latitude': '40,3159134', 'longitude': '-3,7272536'}, {'latitude': '40,3494952', 'longitude': '-3,8193922'}, {'latitude': '40,344788', 'longitude': '-3,7414642'}, {'latitude': '40,28293', 'longitude': '-3,80959'}, {'latitude': '40,30206', 'longitude': '-3,73321'}, {'latitude': '40,34368', 'longitude': '-3,8455'}, {'latitude': '40,3314905686438', 'longitude': '-3,82336329135624'}, {'latitude': '40,29338', 'longitude': '-3,82598'}, {'latitude': '40,31667', 'longitude': '-3,74072'}, {'latitude': '40,3205313786438', 'longitude': '-3,75509212135624'}, {'latitude': '40,3470842135624', 'longitude': '-3,81097578643763'}, {'latitude': '40,3205154213562', 'longitude': '-3,75540942135624'}, {'latitude': '40,2871968', 'longitude': '-3,7917573'}, {'latitude': '40,3442916870117', 'longitude': '-3,82681002807617'}, {'latitude': '40,30754', 'longitude': '-3,72869'}, {'latitude': '40,3119888305664', 'longitude': '-3,72591996192932'}, {'latitude': '40,343175', 'longitude': '-3,781201'}, {'latitude': '40,32947', 'longitude': '-3,72937'}, {'latitude': '40,3300714213562', 'longitude': '-3,73209857864376'}, {'latitude': '40,343375', 'longitude': '-3,781001'}, {'latitude': '40,30206', 'longitude': '-3,73321'}, {'latitude': '40,3300714213562', 'longitude': '-3,73209857864376'}, {'latitude': '40,343375', 'longitude': '-3,781001'}, {'latitude': '40,30206', 'longitude': '-3,73321'}, {'latitude': '40,3175029', 'longitude': '-3,7229835'}, {'latitude': '40,31072', 'longitude': '-3,73017'}, {'latitude': '40,31072', 'longitude': '-3,73017'}, {'latitude': '0', 'longitude': '0'}, {'latitude': '40,343175', 'longitude': '-3,780801'}, {'latitude': '40,3489999', 'longitude': '-3,82822'}, {'latitude': '40,3321035', 'longitude': '-3,7549885'}, {'latitude': '40,34368', 'longitude': '-3,8455'}, {'latitude': '40,3467875', 'longitude': '-3,8301848'}, {'latitude': '40,3298114213562', 'longitude': '-3,72922857864376'}, {'latitude': '40,3300714213562', 'longitude': '-3,73209857864376'}, {'latitude': '40,32635', 'longitude': '-3,72974'}, {'latitude': '40,3207914213562', 'longitude': '-3,75518142135624'}, {'latitude': '40,33163199', 'longitude': '-3,82342187'}, {'latitude': '40,32635', 'longitude': '-3,72974'}, {'latitude': '40,34438', 'longitude': '-3,82546'}, {'latitude': '40,31667', 'longitude': '-3,74072'}, {'latitude': '40,30566', 'longitude': '-3,75295'}, {'latitude': '40,34855', 'longitude': '-3,81162'}, {'latitude': '40,2890264864376', 'longitude': '-3,81057698643763'}, {'latitude': '40,309815', 'longitude': '-3,715394'}, {'latitude': '40,30785', 'longitude': '-3,72048'}, {'latitude': '40,308054', 'longitude': '-3,721986'}, {'latitude': '40,309815', 'longitude': '-3,715394'}, {'latitude': '40,30785', 'longitude': '-3,72048'}, {'latitude': '40,308054', 'longitude': '-3,721986'}, {'latitude': '40,347495990297', 'longitude': '-3,8217114947359'}, {'latitude': '40,345881470732', 'longitude': '-3,8105465372741'}, {'latitude': '40,334217', 'longitude': '-3,761382'}, {'latitude': '40,3074935', 'longitude': '-3,78635829999996'}, {'latitude': '40,3128454', 'longitude': '-3,78585959999998'}, {'latitude': '0', 'longitude': '0'}, {'latitude': '0', 'longitude': '0'}, {'latitude': '40,2833037', 'longitude': '-3,78627316'}, {'latitude': '40,288330005557', 'longitude': '-3,7994911074191'}, {'latitude': '40,34362', 'longitude': '-3,82534'}, {'latitude': '40,288095391725', 'longitude': '-3,8000407415556'}, {'latitude': '40,28651', 'longitude': '-3,78329'}, {'latitude': '40,2877', 'longitude': '-3,80104'}, {'latitude': '40,34559', 'longitude': '-3,82172'}, {'latitude': '40,29987', 'longitude': '-3,80874'}, {'latitude': '40,27609356', 'longitude': '-3,80152655'}, {'latitude': '40,2945890127654', 'longitude': '-3,79703164100647'}, {'latitude': '40,2945890127654', 'longitude': '-3,79703164100647'}, {'latitude': '40,28181', 'longitude': '-3,78804'}, {'latitude': '40,29287', 'longitude': '-3,79943'}, {'latitude': '40,33655', 'longitude': '-3,77874'}, {'latitude': '40,302820239187', 'longitude': '-3,7281704612835'}, {'latitude': '40,33621', 'longitude': '-3,75287'}, {'latitude': '40,2758248', 'longitude': '-3,7999498'}, {'latitude': '40,309481', 'longitude': '-3,730291'}, {'latitude': '40,309481', 'longitude': '-3,730291'}, {'latitude': '40,32953', 'longitude': '-3,75011'}, {'latitude': '40,27862', 'longitude': '-3,78728'}, {'latitude': '40,2888528', 'longitude': '-3,8221908'}, {'latitude': '40,2971995999033', 'longitude': '-3,83405685424805'}, {'latitude': '40,2929608592128', 'longitude': '-3,8392174243927'}, {'latitude': '40,2925435170825', 'longitude': '-3,83121371269226'}, {'latitude': '40,2892496970814', 'longitude': '-3,81259381771088'}, {'latitude': '40,2925973931475', 'longitude': '-3,78414431610143'}, {'latitude': '40,2907380864376', 'longitude': '-3,79345111356237'}, {'latitude': '40,27512', 'longitude': '-3,80061'}, {'latitude': '40,2862494', 'longitude': '-3,8054465'}, {'latitude': '40,2738157864376', 'longitude': '-3,80253421356237'}, {'latitude': '40,30871', 'longitude': '-3,74713'}, {'latitude': '40,3151', 'longitude': '-3,72027'}, {'latitude': '40,33422', 'longitude': '-3,76264'}, {'latitude': '40,32873', 'longitude': '-3,75612'}, {'latitude': '40,31093', 'longitude': '-3,71703'}, {'latitude': '40,30011', 'longitude': '-3,7337'}, {'latitude': '40,2919796', 'longitude': '-3,813865'}, {'latitude': '40,2804758', 'longitude': '-3,7886023'}, {'latitude': '40,33603', 'longitude': '-3,74315'}, {'latitude': '40,3469313664376', 'longitude': '-3,83183956356237'}, {'latitude': '40,3470069724376', 'longitude': '-3,82310920943763'}, {'latitude': '40,34444980446', 'longitude': '-3,816518944703'}, {'latitude': '40,34307648046', 'longitude': '-3,8272440218029'}, {'latitude': '40,3485743497314', 'longitude': '-3,82804765150163'}, {'latitude': '40,2897', 'longitude': '-3,80039'}, {'latitude': '40,2752542', 'longitude': '-3,7905283'}, {'latitude': '40,3204492', 'longitude': '-3,7550433'}, {'latitude': '40,3388', 'longitude': '-3,74981'}, {'latitude': '40,3360541', 'longitude': '-3,74927409999998'}, {'latitude': '40,29052', 'longitude': '-3,79275'}, {'latitude': '40,288113', 'longitude': '-3,800844'}, {'latitude': '40,286028', 'longitude': '-3,804853'}, {'latitude': '40,33757', 'longitude': '-3,83304'}, {'latitude': '40,3447687130376', 'longitude': '-3,83498738426237'}, {'latitude': '40,3392951184', 'longitude': '-3,8344010008'}, {'latitude': '40,35064', 'longitude': '-3,8228'}, {'latitude': '40,3375861704', 'longitude': '-3,8333786122'}, {'latitude': '40,3464199', 'longitude': '-3,8294138'}, {'latitude': '40,3430768', 'longitude': '-3,8414216'}, {'latitude': '40,35131', 'longitude': '-3,83347'}, {'latitude': '40,28404', 'longitude': '-3,80752'}, {'latitude': '40,34454', 'longitude': '-3,82844'}, {'latitude': '40,34645', 'longitude': '-3,83122'}, {'latitude': '40,30958', 'longitude': '-3,73939'}, {'latitude': '40,31622', 'longitude': '-3,73848'}, {'latitude': '40,31622', 'longitude': '-3,73848'}, {'latitude': '40,31622', 'longitude': '-3,73848'}, {'latitude': '40,31622', 'longitude': '-3,73848'}, {'latitude': '40,31622', 'longitude': '-3,73848'}, {'latitude': '40,31622', 'longitude': '-3,73848'}, {'latitude': '40,31622', 'longitude': '-3,73848'}, {'latitude': '40,31622', 'longitude': '-3,73848'}, {'latitude': '40,31622', 'longitude': '-3,73848'}, {'latitude': '40,31622', 'longitude': '-3,73848'}, {'latitude': '40,31622', 'longitude': '-3,73848'}, {'latitude': '40,31622', 'longitude': '-3,73848'}, {'latitude': '40,31622', 'longitude': '-3,73848'}, {'latitude': '40,31622', 'longitude': '-3,73848'}, {'latitude': '40,31622', 'longitude': '-3,73848'}, {'latitude': '40,31622', 'longitude': '-3,73848'}, {'latitude': '40,31622', 'longitude': '-3,73848'}, {'latitude': '40,31622', 'longitude': '-3,73848'}, {'latitude': '40,31622', 'longitude': '-3,73848'}, {'latitude': '40,31622', 'longitude': '-3,73848'}, {'latitude': '40,31622', 'longitude': '-3,73848'}, {'latitude': '40,31622', 'longitude': '-3,73848'}, {'latitude': '40,31622', 'longitude': '-3,73848'}, {'latitude': '40,31622', 'longitude': '-3,73848'}, {'latitude': '40,31622', 'longitude': '-3,73848'}, {'latitude': '40,31622', 'longitude': '-3,73848'}, {'latitude': '40,31622', 'longitude': '-3,73848'}, {'latitude': '40,31622', 'longitude': '-3,73848'}, {'latitude': '40,31622', 'longitude': '-3,73848'}, {'latitude': '40,34879', 'longitude': '-3,83085'}, {'latitude': '40,35331', 'longitude': '-3,79921'}, {'latitude': '40,30754', 'longitude': '-3,72869'}, {'latitude': '40,30754', 'longitude': '-3,72869'}, {'latitude': '40,30754', 'longitude': '-3,72869'}, {'latitude': '40,2808183', 'longitude': '-3,8083335'}, {'latitude': '40,32793', 'longitude': '-3,73224'}, {'latitude': '40,334721', 'longitude': '-3,751087'}, {'latitude': '40,34913', 'longitude': '-3,82771'}, {'latitude': '40,333254', 'longitude': '-3,7565717'}, {'latitude': '40,34438', 'longitude': '-3,82546'}, {'latitude': '40,34368', 'longitude': '-3,8455'}, {'latitude': '40,32635', 'longitude': '-3,72974'}, {'latitude': '40,29338', 'longitude': '-3,82598'}, {'latitude': '40,30546', 'longitude': '-3,75275'}, {'latitude': '40,34775', 'longitude': '-3,82853'}, {'latitude': '40,33143199', 'longitude': '-3,82322187'}, {'latitude': '40,30206', 'longitude': '-3,73321'}, {'latitude': '40,30754', 'longitude': '-3,72869'}, {'latitude': '40,34368', 'longitude': '-3,8455'}, {'latitude': '40,3120728', 'longitude': '-3,7315907'}, {'latitude': '40,32049', 'longitude': '-3,77969'}, {'latitude': '40,31072', 'longitude': '-3,73017'}, {'latitude': '40,31667', 'longitude': '-3,74072'}, {'latitude': '40,31667', 'longitude': '-3,74072'}, {'latitude': '40,28344', 'longitude': '-3,75483'}, {'latitude': '40,2942943', 'longitude': '-3,7890764'}, {'latitude': '40,29053', 'longitude': '-3,79219'}, {'latitude': '40,31295', 'longitude': '-3,72903'}, {'latitude': '40,28615', 'longitude': '-3,78487'}, {'latitude': '40,27927', 'longitude': '-3,78859'}, {'latitude': '40,2842', 'longitude': '-3,75367'}, {'latitude': '40,30754', 'longitude': '-3,72977'}, {'latitude': '40,30299', 'longitude': '-3,73191'}, {'latitude': '40,28867', 'longitude': '-3,80108'}, {'latitude': '40,2842', 'longitude': '-3,78608'}, {'latitude': '40,29131', 'longitude': '-3,79696'}, {'latitude': '40,32115', 'longitude': '-3,75589'}, {'latitude': '40,2876117', 'longitude': '-3,7883313'}, {'latitude': '40,29192', 'longitude': '-3,7951'}, {'latitude': '40,28029', 'longitude': '-3,80809'}, {'latitude': '40,34749', 'longitude': '-3,84128'}, {'latitude': '40,3362852', 'longitude': '-3,7388189'}, {'latitude': '40,34257', 'longitude': '-3,84485'}, {'latitude': '40,3513', 'longitude': '-3,82849'}, {'latitude': '40,33854', 'longitude': '-3,85619'}, {'latitude': '40,3478556971546', 'longitude': '-3,82424283527373'}, {'latitude': '40,3076893328', 'longitude': '-3,7335333825'}, {'latitude': '40,3179637337', 'longitude': '-3,7241576949'}, {'latitude': '40,3322342135624', 'longitude': '-3,77201421356237'}, {'latitude': '40,32131', 'longitude': '-3,75912'}, {'latitude': '40,3299051', 'longitude': '-3,76318'}, {'latitude': '40,33727', 'longitude': '-3,7454'}, {'latitude': '40,3238357864376', 'longitude': '-3,76423421356237'}, {'latitude': '40,32246', 'longitude': '-3,7837'}, {'latitude': '40,33475', 'longitude': '-3,7507'}, {'latitude': '40,35512', 'longitude': '-3,77858'}, {'latitude': '40,32359', 'longitude': '-3,76952'}, {'latitude': '40,31468', 'longitude': '-3,73029'}, {'latitude': '40,3164', 'longitude': '-3,72351'}, {'latitude': '40,30201', 'longitude': '-3,73096'}, {'latitude': '40,32188', 'longitude': '-3,7137'}, {'latitude': '40,33457', 'longitude': '-3,83658'}, {'latitude': '40,33423', 'longitude': '-3,74847'}, {'latitude': '40,33238', 'longitude': '-3,75385'}, {'latitude': '40,33138', 'longitude': '-3,74716'}, {'latitude': '40,33423', 'longitude': '-3,74847'}, {'latitude': '40,33251', 'longitude': '-3,76091'}, {'latitude': '40,3432624', 'longitude': '-3,780075'}, {'latitude': '40,30733', 'longitude': '-3,73803'}, {'latitude': '40,34323', 'longitude': '-3,82894'}, {'latitude': '40,35541', 'longitude': '-3,82059'}, {'latitude': '40,33731', 'longitude': '-3,7748487'}, {'latitude': '40,30809', 'longitude': '-3,73853'}, {'latitude': '40,35679', 'longitude': '-3,77956'}, {'latitude': '40,35679', 'longitude': '-3,77956'}, {'latitude': '40,31376', 'longitude': '-3,7209'}, {'latitude': '40,35022', 'longitude': '-3,82184'}, {'latitude': '40,32739', 'longitude': '-3,76408'}, {'latitude': '40,3291', 'longitude': '-3,75182'}, {'latitude': '40,2836', 'longitude': '-3,79472'}, {'latitude': '40,2804640280991', 'longitude': '-3,78879725933075'}, {'latitude': '40,2802348570363', 'longitude': '-3,80658030509949'}, {'latitude': '40,283340877313', 'longitude': '-3,80265355110168'}, {'latitude': '40,2835163436148', 'longitude': '-3,79826013677064'}, {'latitude': '40,2852437046111', 'longitude': '-3,79868388175964'}, {'latitude': '40,2933624864376', 'longitude': '-3,81011881356237'}, {'latitude': '40,27908', 'longitude': '-3,80925'}, {'latitude': '40,28479', 'longitude': '-3,79011'}, {'latitude': '40,3116', 'longitude': '-3,72493'}, {'latitude': '40,29269', 'longitude': '-3,80311'}, {'latitude': '40,3459851', 'longitude': '-3,744779'}, {'latitude': '40,3226783', 'longitude': '-3,7312807'}, {'latitude': '40,3122542135624', 'longitude': '-3,72538421356237'}, {'latitude': '40,34484', 'longitude': '-3,83016'}, {'latitude': '40,34851', 'longitude': '-3,82673'}, {'latitude': '40,34879', 'longitude': '-3,82935'}, {'latitude': '40,34749', 'longitude': '-3,82339'}, {'latitude': '40,3535169', 'longitude': '-3,8664683'}, {'latitude': '40,34841', 'longitude': '-3,82877'}, {'latitude': '40,3139235', 'longitude': '-3,7211553'}, {'latitude': '40,31195', 'longitude': '-3,72177'}, {'latitude': '40,3071', 'longitude': '-3,7259'}, {'latitude': '40,31594', 'longitude': '-3,72034'}, {'latitude': '40,34288', 'longitude': '-3,83289'}, {'latitude': '40,34218', 'longitude': '-3,82431'}, {'latitude': '40,3498685786438', 'longitude': '-3,80460857864376'}, {'latitude': '40,354', 'longitude': '-3,80057'}, {'latitude': '40,3326157', 'longitude': '-3,7526299'}, {'latitude': '40,3079548245211', 'longitude': '-3,73173594474792'}, {'latitude': '40,3234', 'longitude': '-3,77152'}, {'latitude': '40,3230964', 'longitude': '-3,7819198'}, {'latitude': '40,32828', 'longitude': '-3,76646'}, {'latitude': '40,34348', 'longitude': '-3,77794'}, {'latitude': '40,33244', 'longitude': '-3,74343'}, {'latitude': '40,35314', 'longitude': '-3,7852'}, {'latitude': '40,358816', 'longitude': '-3,7806746'}, {'latitude': '40,33727', 'longitude': '-3,7454'}, {'latitude': '40,33745', 'longitude': '-3,74144'}, {'latitude': '40,3309657864376', 'longitude': '-3,77108421356237'}, {'latitude': '40,3136954', 'longitude': '-3,7902722'}, {'latitude': '40,33595', 'longitude': '-3,75278'}, {'latitude': '40,27748', 'longitude': '-3,81045'}, {'latitude': '40,3148063472576', 'longitude': '-3,7859058380127'}, {'latitude': '40,32489', 'longitude': '-3,77267'}, {'latitude': '40,3358557864376', 'longitude': '-3,75089421356237'}, {'latitude': '40,30011', 'longitude': '-3,73112'}, {'latitude': '40,30234', 'longitude': '-3,73357'}, {'latitude': '40,28449', 'longitude': '-3,75385'}, {'latitude': '40,3318', 'longitude': '-3,75931'}, {'latitude': '40,3366733113739', 'longitude': '-3,74195404234641'}, {'latitude': '40,29849', 'longitude': '-3,80975'}, {'latitude': '40,3364895', 'longitude': '-3,7405455'}, {'latitude': '40,29387', 'longitude': '-3,78821'}, {'latitude': '40,29338', 'longitude': '-3,82598'}, {'latitude': '40,29338', 'longitude': '-3,82598'}, {'latitude': '40,33011', 'longitude': '-3,76489'}, {'latitude': '40,343363079834', 'longitude': '-3,84367609024048'}, {'latitude': '40,30206', 'longitude': '-3,73321'}, {'latitude': '40,3466873', 'longitude': '-3,8291539'}, {'latitude': '40,32635', 'longitude': '-3,72974'}, {'latitude': '40,33011', 'longitude': '-3,76489'}, {'latitude': '40,343363079834', 'longitude': '-3,84367609024048'}, {'latitude': '40,30206', 'longitude': '-3,73321'}, {'latitude': '40,3466873', 'longitude': '-3,8291539'}, {'latitude': '40,32635', 'longitude': '-3,72974'}, {'latitude': '40,29931', 'longitude': '-3,73958'}, {'latitude': '40,29202', 'longitude': '-3,80383'}, {'latitude': '40,35022', 'longitude': '-3,82184'}, {'latitude': '40,34797', 'longitude': '-3,83064'}, {'latitude': '40,2808882', 'longitude': '-3,8040432'}, {'latitude': '40,31667', 'longitude': '-3,74072'}, {'latitude': '40,3161134', 'longitude': '-3,7272536'}, {'latitude': '40,34438', 'longitude': '-3,82546'}, {'latitude': '40,30754', 'longitude': '-3,72869'}, {'latitude': '40,34737', 'longitude': '-3,82447'}, {'latitude': '40,3354997', 'longitude': '-3,8557201'}, {'latitude': '40,30186', 'longitude': '-3,73321'}, {'latitude': '40,31072', 'longitude': '-3,73017'}, {'latitude': '40,3193033445857', 'longitude': '-3,77997059253031'}, {'latitude': '40,30546', 'longitude': '-3,75275'}, {'latitude': '40,32635', 'longitude': '-3,72974'}, {'latitude': '40,34368', 'longitude': '-3,8455'}, {'latitude': '40,3161134', 'longitude': '-3,7272536'}, {'latitude': '40,341175', 'longitude': '-3,781001'}, {'latitude': '40,31004', 'longitude': '-3,7284'}, {'latitude': '40,3461', 'longitude': '-3,8216869'}, {'latitude': '40,34368', 'longitude': '-3,8455'}, {'latitude': '40,33727', 'longitude': '-3,7454'}, {'latitude': '40,2756121', 'longitude': '-3,7910649'}, {'latitude': '40,2887913864376', 'longitude': '-3,80213348643763'}, {'latitude': '40,2887738', 'longitude': '-3,7436436'}, {'latitude': '40,2896797', 'longitude': '-3,7973998'}, {'latitude': '40,287018416', 'longitude': '-3,8204841445'}, {'latitude': '40,28775', 'longitude': '-3,81949'}, {'latitude': '40,2800385786438', 'longitude': '-3,78851142135624'}, {'latitude': '40,32489', 'longitude': '-3,77267'}, {'latitude': '40,3326157', 'longitude': '-3,7526299'}, {'latitude': '40,33527', 'longitude': '-3,74948'}, {'latitude': '40,32321', 'longitude': '-3,77126'}, {'latitude': '40,32404566', 'longitude': '-3,77137011'}, {'latitude': '40,31143337', 'longitude': '-3,71537812'}, {'latitude': '40,3329', 'longitude': '-3,75306'}, {'latitude': '40,3323', 'longitude': '-3,768598'}, {'latitude': '40,3578021841515', 'longitude': '-3,77895983765465'}, {'latitude': '40,3323', 'longitude': '-3,768598'}, {'latitude': '40,3578021841515', 'longitude': '-3,77895983765465'}, {'latitude': '40,2834965', 'longitude': '-3,7943644'}, {'latitude': '40,2819117', 'longitude': '-3,7857094'}, {'latitude': '40,335', 'longitude': '-3,76732'}, {'latitude': '40,31381', 'longitude': '-3,83733'}, {'latitude': '40,32635', 'longitude': '-3,72974'}, {'latitude': '40,32635', 'longitude': '-3,72974'}, {'latitude': '40,32635', 'longitude': '-3,72974'}, {'latitude': '40,31111', 'longitude': '-3,72456'}, {'latitude': '40,32446', 'longitude': '-3,71776'}, {'latitude': '40,31111', 'longitude': '-3,72456'}, {'latitude': '40,32446', 'longitude': '-3,71776'}, {'latitude': '40,33329', 'longitude': '-3,75607'}, {'latitude': '40,31296', 'longitude': '-3,72078'}, {'latitude': '40,3161134', 'longitude': '-3,7272536'}, {'latitude': '40,34368', 'longitude': '-3,8455'}, {'latitude': '40,31667', 'longitude': '-3,74072'}, {'latitude': '40,30546', 'longitude': '-3,75275'}, {'latitude': '40,30754', 'longitude': '-3,72869'}, {'latitude': '40,3345834', 'longitude': '-3,7420251'}, {'latitude': '40,2836586', 'longitude': '-3,8072866'}, {'latitude': '40,31072', 'longitude': '-3,73017'}, {'latitude': '40,34438', 'longitude': '-3,82546'}, {'latitude': '40,34368', 'longitude': '-3,8455'}, {'latitude': '40,32936015', 'longitude': '-3,82449841'}, {'latitude': '40,29338', 'longitude': '-3,82598'}, {'latitude': '40,32275', 'longitude': '-3,76969'}, {'latitude': '40,343452', 'longitude': '-3,8255215'}, {'latitude': '40,30754', 'longitude': '-3,72869'}, {'latitude': '40,30206', 'longitude': '-3,73321'}, {'latitude': '40,31667', 'longitude': '-3,74072'}, {'latitude': '40,27726', 'longitude': '-3,80709'}, {'latitude': '40,2933296', 'longitude': '-3,8096706'}, {'latitude': '40,28186', 'longitude': '-3,79819'}, {'latitude': '40,34396', 'longitude': '-3,82553'}, {'latitude': '40,307803', 'longitude': '-3,714596'}, {'latitude': '40,308843', 'longitude': '-3,715955'}, {'latitude': '40,30607', 'longitude': '-3,7348'}, {'latitude': '40,29867', 'longitude': '-3,74804'}, {'latitude': '40,313970835286', 'longitude': '-3,7178172600122'}, {'latitude': '40,2859916687012', 'longitude': '-3,80190992355347'}, {'latitude': '40,3519318', 'longitude': '-3,8184971'}, {'latitude': '40,3086311', 'longitude': '-3,7223487'}, {'latitude': '40,356133', 'longitude': '-3,781143'}, {'latitude': '40,2889421', 'longitude': '-3,80338000000006'}, {'latitude': '40,32635', 'longitude': '-3,72974'}, {'latitude': '40,341175', 'longitude': '-3,781001'}, {'latitude': '40,29338', 'longitude': '-3,82598'}, {'latitude': '40,3225429', 'longitude': '-3,732149'}, {'latitude': '40,34438', 'longitude': '-3,82546'}, {'latitude': '40,29338', 'longitude': '-3,82598'}, {'latitude': '40,3225429', 'longitude': '-3,732149'}, {'latitude': '40,34438', 'longitude': '-3,82546'}, {'latitude': '40,29338', 'longitude': '-3,82598'}, {'latitude': '40,3225429', 'longitude': '-3,732149'}, {'latitude': '40,34438', 'longitude': '-3,82546'}, {'latitude': '40,28062', 'longitude': '-3,79869'}, {'latitude': '40,31043', 'longitude': '-3,72942'}, {'latitude': '40,32635', 'longitude': '-3,72974'}, {'latitude': '40,30206', 'longitude': '-3,73321'}, {'latitude': '40,3335821864376', 'longitude': '-3,76873891356237'}, {'latitude': '40,30754', 'longitude': '-3,72869'}, {'latitude': '40,3465199864376', 'longitude': '-3,83168351356237'}, {'latitude': '40,283133', 'longitude': '-3,790236'}, {'latitude': '40,34368', 'longitude': '-3,8455'}, {'latitude': '40,30206', 'longitude': '-3,73321'}, {'latitude': '40,30754', 'longitude': '-3,72869'}, {'latitude': '40,31667', 'longitude': '-3,74072'}, {'latitude': '40,31667', 'longitude': '-3,74072'}, {'latitude': '40,31072', 'longitude': '-3,73017'}, {'latitude': '40,3344698', 'longitude': '-3,7556483'}, {'latitude': '40,34028', 'longitude': '-3,81981'}, {'latitude': '40,29212', 'longitude': '-3,83108'}, {'latitude': '40,3337657864376', 'longitude': '-3,76824421356237'}, {'latitude': '40,3337657864376', 'longitude': '-3,76824421356237'}, {'latitude': '40,2866', 'longitude': '-3,79446'}, {'latitude': '40,30973', 'longitude': '-3,71763'}, {'latitude': '40,28532', 'longitude': '-3,79494'}, {'latitude': '40,34536', 'longitude': '-3,74371'}, {'latitude': '40,32303', 'longitude': '-3,76101'}, {'latitude': '40,28494845', 'longitude': '-3,8060085535'}, {'latitude': '40,29905', 'longitude': '-3,80776'}, {'latitude': '40,28805', 'longitude': '-3,79415'}, {'latitude': '40,3186747864376', 'longitude': '-3,72381678643763'}, {'latitude': '40,28805', 'longitude': '-3,79415'}, {'latitude': '40,3186747864376', 'longitude': '-3,72381678643763'}, {'latitude': '40,333266378437', 'longitude': '-3,8308672118658'}, {'latitude': '40,33829', 'longitude': '-3,74589'}, {'latitude': '40,29095', 'longitude': '-3,78316'}, {'latitude': '40,281955297', 'longitude': '-3,794286131'}, {'latitude': '40,29305', 'longitude': '-3,83638'}, {'latitude': '40,27635', 'longitude': '-3,80027'}, {'latitude': '40,3506246', 'longitude': '-3,83166800000004'}, {'latitude': '40,3599654864376', 'longitude': '-3,77977721356237'}, {'latitude': '40,2853', 'longitude': '-3,79436'}, {'latitude': '40,35541', 'longitude': '-3,82059'}, {'latitude': '40,2744157864376', 'longitude': '-3,80027421356237'}, {'latitude': '40,289733', 'longitude': '-3,797771'}, {'latitude': '40,2889722135624', 'longitude': '-3,80187621356237'}, {'latitude': '40,2913667864376', 'longitude': '-3,80326778643763'}, {'latitude': '40,286478', 'longitude': '-3,807777'}, {'latitude': '40,291526', 'longitude': '-3,80371'}, {'latitude': '40,30485', 'longitude': '-3,73806'}, {'latitude': '40,32429', 'longitude': '-3,73639'}, {'latitude': '40,2990857864376', 'longitude': '-3,73202421356237'}, {'latitude': '40,30049', 'longitude': '-3,83739'}, {'latitude': '40,28382', 'longitude': '-3,80151'}, {'latitude': '40,2820357864376', 'longitude': '-3,80247578643763'}, {'latitude': '40,27817', 'longitude': '-3,80604'}, {'latitude': '40,28069', 'longitude': '-3,8052'}, {'latitude': '40,34888169', 'longitude': '-3,8273082'}, {'latitude': '40,34120434', 'longitude': '-3,81590858'}, {'latitude': '40,345947283775', 'longitude': '-3,8258840503082'}, {'latitude': '40,3143312', 'longitude': '-3,7894115'}, {'latitude': '40,3054397', 'longitude': '-3,73865030000002'}, {'latitude': '40,310909', 'longitude': '-3,7303591'}, {'latitude': '40,3103782', 'longitude': '-3,7295262'}, {'latitude': '40,3432', 'longitude': '-3,8293'}, {'latitude': '40,34269', 'longitude': '-3,8282'}, {'latitude': '40,34695', 'longitude': '-3,82855'}, {'latitude': '40,34304', 'longitude': '-3,8322'}, {'latitude': '0', 'longitude': '0'}, {'latitude': '40,2985657864376', 'longitude': '-3,73475421356237'}, {'latitude': '40,2756414', 'longitude': '-3,7977828'}, {'latitude': '40,29321', 'longitude': '-3,78655'}, {'latitude': '40,31896', 'longitude': '-3,72461'}, {'latitude': '40,31321', 'longitude': '-3,72212'}, {'latitude': '40,31368', 'longitude': '-3,72077'}, {'latitude': '40,2814139', 'longitude': '-3,8065813'}, {'latitude': '40,3509298371', 'longitude': '-3,8148375712'}, {'latitude': '40,3430341495', 'longitude': '-3,8269158555'}, {'latitude': '40,28364', 'longitude': '-3,75503'}, {'latitude': '40,350753', 'longitude': '-3,8294167'}, {'latitude': '40,34102', 'longitude': '-3,82785'}, {'latitude': '40,2829107', 'longitude': '-3,8025311'}, {'latitude': '40,31896', 'longitude': '-3,72461'}, {'latitude': '40,31321', 'longitude': '-3,72212'}, {'latitude': '40,31368', 'longitude': '-3,72077'}, {'latitude': '40,31896', 'longitude': '-3,72461'}, {'latitude': '40,31321', 'longitude': '-3,72212'}, {'latitude': '40,31368', 'longitude': '-3,72077'}, {'latitude': '40,2814139', 'longitude': '-3,8065813'}, {'latitude': '40,3509298371', 'longitude': '-3,8148375712'}, {'latitude': '40,3430341495', 'longitude': '-3,8269158555'}, {'latitude': '40,28364', 'longitude': '-3,75503'}, {'latitude': '40,350753', 'longitude': '-3,8294167'}, {'latitude': '40,34102', 'longitude': '-3,82785'}, {'latitude': '40,2829107', 'longitude': '-3,8025311'}, {'latitude': '40,3284118326652', 'longitude': '-3,76477807760239'}, {'latitude': '40,3284118326652', 'longitude': '-3,76477807760239'}, {'latitude': '40,31259', 'longitude': '-3,72246'}, {'latitude': '40,32635', 'longitude': '-3,72974'}, {'latitude': '40,34368', 'longitude': '-3,8455'}, {'latitude': '40,34368', 'longitude': '-3,8455'}, {'latitude': '40,3427357864376', 'longitude': '-3,82791578643763'}, {'latitude': '40,32635', 'longitude': '-3,72974'}, {'latitude': '40,31072', 'longitude': '-3,73017'}, {'latitude': '40,31572', 'longitude': '-3,72119'}, {'latitude': '40,33609706', 'longitude': '-3,76855838'}, {'latitude': '40,32936015', 'longitude': '-3,82449841'}, {'latitude': '40,34438', 'longitude': '-3,82546'}, {'latitude': '40,31667', 'longitude': '-3,74072'}, {'latitude': '40,30546', 'longitude': '-3,75275'}, {'latitude': '40,31667', 'longitude': '-3,74072'}, {'latitude': '40,30206', 'longitude': '-3,73321'}, {'latitude': '40,30186', 'longitude': '-3,73321'}, {'latitude': '40,29338', 'longitude': '-3,82598'}, {'latitude': '40,2889244', 'longitude': '-3,7985458'}, {'latitude': '40,32455', 'longitude': '-3,77172'}, {'latitude': '40,336755744937', 'longitude': '-3,8547774793093'}, {'latitude': '40,31719', 'longitude': '-3,77119'}, {'latitude': '40,34639', 'longitude': '-3,8213'}, {'latitude': '40,282', 'longitude': '-3,80813'}, {'latitude': '40,28871', 'longitude': '-3,75019'}, {'latitude': '40,282', 'longitude': '-3,80813'}, {'latitude': '40,28871', 'longitude': '-3,75019'}, {'latitude': '40,29338', 'longitude': '-3,82598'}, {'latitude': '40,3551815490723', 'longitude': '-3,77932000160217'}, {'latitude': '40,30206', 'longitude': '-3,73321'}, {'latitude': '40,31667', 'longitude': '-3,74072'}, {'latitude': '40,31667', 'longitude': '-3,74072'}, {'latitude': '40,34438', 'longitude': '-3,82546'}, {'latitude': '40,29217', 'longitude': '-3,79556'}, {'latitude': '40,32635', 'longitude': '-3,72974'}, {'latitude': '40,32635', 'longitude': '-3,72974'}, {'latitude': '40,3079', 'longitude': '-3,72964'}, {'latitude': '40,30546', 'longitude': '-3,75275'}, {'latitude': '40,30186', 'longitude': '-3,73321'}, {'latitude': '40,299029', 'longitude': '-3,810943'}, {'latitude': '40,2829', 'longitude': '-3,80855'}, {'latitude': '40,3423636291504', 'longitude': '-3,74814414978027'}, {'latitude': '40,28866', 'longitude': '-3,74746'}, {'latitude': '40,33746', 'longitude': '-3,85598'}, {'latitude': '0', 'longitude': '0'}, {'latitude': '40,278420269286', 'longitude': '-3,8088987103865'}, {'latitude': '40,279938262758', 'longitude': '-3,8098724025355'}, {'latitude': '40,3139', 'longitude': '-3,71888'}, {'latitude': '40,34768', 'longitude': '-3,82749'}, {'latitude': '40,35499', 'longitude': '-3,81911'}, {'latitude': '40,35427', 'longitude': '-3,80184'}, {'latitude': '40,34327', 'longitude': '-3,82435'}, {'latitude': '40,2824903', 'longitude': '-3,807421'}, {'latitude': '40,3448916', 'longitude': '-3,8233388'}, {'latitude': '40,3271904', 'longitude': '-3,7654675'}, {'latitude': '40,35109', 'longitude': '-3,82622'}, {'latitude': '40,35042', 'longitude': '-3,81984'}, {'latitude': '40,3144', 'longitude': '-3,73279'}, {'latitude': '40,30186', 'longitude': '-3,73321'}, {'latitude': '40,34438', 'longitude': '-3,82546'}, {'latitude': '40,31667', 'longitude': '-3,74072'}, {'latitude': '40,30186', 'longitude': '-3,73321'}, {'latitude': '40,34438', 'longitude': '-3,82546'}, {'latitude': '40,31667', 'longitude': '-3,74072'}, {'latitude': '40,30186', 'longitude': '-3,73321'}, {'latitude': '40,34438', 'longitude': '-3,82546'}, {'latitude': '40,31667', 'longitude': '-3,74072'}, {'latitude': '40,32546', 'longitude': '-3,73121'}, {'latitude': '40,341978', 'longitude': '-3,8435586'}, {'latitude': '40,2970296', 'longitude': '-3,8104846'}, {'latitude': '40,2825819', 'longitude': '-3,8070057'}, {'latitude': '40,28698', 'longitude': '-3,7914644'}, {'latitude': '40,283219', 'longitude': '-3,7918147'}, {'latitude': '40,2923318', 'longitude': '-3,8386229'}, {'latitude': '40,2820833864376', 'longitude': '-3,80207588643763'}, {'latitude': '40,2832782', 'longitude': '-3,7864969'}, {'latitude': '40,2764598939', 'longitude': '-3,7862125907'}, {'latitude': '40,31151', 'longitude': '-3,71706'}, {'latitude': '40,31033', 'longitude': '-3,71785'}, {'latitude': '40,31767', 'longitude': '-3,72494'}, {'latitude': '40,300709', 'longitude': '-3,733316'}, {'latitude': '40,300251', 'longitude': '-3,731819'}, {'latitude': '40,35634535', 'longitude': '-3,7765983'}, {'latitude': '40,3438274', 'longitude': '-3,8245606'}, {'latitude': '40,35741', 'longitude': '-3,77827'}, {'latitude': '40,32343', 'longitude': '-3,76604'}, {'latitude': '40,2877367', 'longitude': '-3,798948'}, {'latitude': '40,29011', 'longitude': '-3,78833'}, {'latitude': '40,29335', 'longitude': '-3,78428'}, {'latitude': '40,29337', 'longitude': '-3,78961'}, {'latitude': '40,290905192578', 'longitude': '-3,7964129778185'}, {'latitude': '40,286776166148', 'longitude': '-3,7965785676235'}, {'latitude': '40,28893', 'longitude': '-3,78419'}, {'latitude': '40,3318', 'longitude': '-3,75931'}, {'latitude': '40,33595', 'longitude': '-3,75278'}, {'latitude': '40,33527', 'longitude': '-3,74948'}, {'latitude': '40,31917', 'longitude': '-3,75643'}, {'latitude': '40,33562', 'longitude': '-3,75553'}, {'latitude': '40,3457876', 'longitude': '-3,74066417'}, {'latitude': '40,3187663', 'longitude': '-3,71462710000003'}, {'latitude': '40,3280798', 'longitude': '-3,8372555'}, {'latitude': '40,3280798', 'longitude': '-3,8372555'}, {'latitude': '40,3148063472576', 'longitude': '-3,7859058380127'}, {'latitude': '40,32828', 'longitude': '-3,76646'}, {'latitude': '40,30606', 'longitude': '-3,73466'}, {'latitude': '40,33441', 'longitude': '-3,75434'}, {'latitude': '40,2891349826874', 'longitude': '-3,80264944605351'}, {'latitude': '40,2833081169234', 'longitude': '-3,75334990326103'}, {'latitude': '40,339', 'longitude': '-3,75199'}, {'latitude': '40,2896842', 'longitude': '-3,7974099'}, {'latitude': '40,28286', 'longitude': '-3,81475'}, {'latitude': '40,33726', 'longitude': '-3,85598'}, {'latitude': '40,2764028', 'longitude': '-3,8004914'}, {'latitude': '40,317586', 'longitude': '-3,755019'}, {'latitude': '40,328601', 'longitude': '-3,763826'}, {'latitude': '0', 'longitude': '0'}, {'latitude': '40,320355', 'longitude': '-3,777929'}, {'latitude': '40,319574', 'longitude': '-3,755102'}, {'latitude': '40,319444', 'longitude': '-3,753672'}, {'latitude': '40,315913', 'longitude': '-3,756759'}, {'latitude': '40,29072', 'longitude': '-3,8043'}, {'latitude': '40,34252', 'longitude': '-3,8256'}, {'latitude': '40,33008', 'longitude': '-3,76646'}, {'latitude': '40,33218', 'longitude': '-3,74921'}, {'latitude': '40,33671', 'longitude': '-3,83373'}, {'latitude': '40,3285125', 'longitude': '-3,7624825'}, {'latitude': '40,28624', 'longitude': '-3,795'}, {'latitude': '40,3574064', 'longitude': '-3,7782684'}, {'latitude': '40,3028614213562', 'longitude': '-3,73534857864376'}, {'latitude': '40,343705210773', 'longitude': '-3,8246052988763'}, {'latitude': '40,3425103', 'longitude': '-3,81683384'}, {'latitude': '40,34783', 'longitude': '-3,80671'}, {'latitude': '40,34645', 'longitude': '-3,82717'}, {'latitude': '40,3062504', 'longitude': '-3,7323934'}, {'latitude': '40,2926049', 'longitude': '-3,795537'}, {'latitude': '40,3300242041513', 'longitude': '-3,76550231421688'}, {'latitude': '40,35069', 'longitude': '-3,81703'}, {'latitude': '40,34795', 'longitude': '-3,83126'}, {'latitude': '40,282445', 'longitude': '-3,8085'}, {'latitude': '40,31229', 'longitude': '-3,71814'}, {'latitude': '40,3201063', 'longitude': '-3,7586646'}, {'latitude': '40,35541', 'longitude': '-3,82059'}, {'latitude': '40,30186', 'longitude': '-3,73321'}, {'latitude': '40,34449', 'longitude': '-3,8288'}, {'latitude': '40,3376', 'longitude': '-3,85603'}, {'latitude': '40,3218194', 'longitude': '-3,7116497'}, {'latitude': '40,29405', 'longitude': '-3,79775'}, {'latitude': '40,33806', 'longitude': '-3,75135'}, {'latitude': '40,287', 'longitude': '-3,7996'}, {'latitude': '40,33385', 'longitude': '-3,75161'}, {'latitude': '40,31845', 'longitude': '-3,72532'}, {'latitude': '40,3080504', 'longitude': '-3,7323934'}, {'latitude': '40,31667', 'longitude': '-3,74072'}, {'latitude': '40,30027', 'longitude': '-3,73335'}, {'latitude': '40,31667', 'longitude': '-3,74072'}, {'latitude': '40,30546', 'longitude': '-3,75275'}, {'latitude': '40,2840309143066', 'longitude': '-3,79483008384705'}, {'latitude': '40,34739', 'longitude': '-3,82403'}, {'latitude': '40,31498', 'longitude': '-3,73458'}, {'latitude': '40,30186', 'longitude': '-3,73321'}, {'latitude': '40,34438', 'longitude': '-3,82546'}, {'latitude': '40,331329', 'longitude': '-3,770181'}, {'latitude': '40,3104154', 'longitude': '-3,728483'}, {'latitude': '40,3121231', 'longitude': '-3,7180369'}, {'latitude': '40,2887913864376', 'longitude': '-3,8021334864376'}, {'latitude': '40,3310724737636', 'longitude': '-3,77000578078649'}, {'latitude': '40,3086963', 'longitude': '-3,73855119999996'}, {'latitude': '40,335', 'longitude': '-3,855'}, {'latitude': '40,35145', 'longitude': '-3,82898'}, {'latitude': '40,32458', 'longitude': '-3,77367'}, {'latitude': '40,32672', 'longitude': '-3,73453'}, {'latitude': '40,28676', 'longitude': '-3,79802'}, {'latitude': '40,2896842', 'longitude': '-3,7974099'}, {'latitude': '40,33898', 'longitude': '-3,83529'}, {'latitude': '40,33443', 'longitude': '-3,84057'}, {'latitude': '40,29931', 'longitude': '-3,73958'}, {'latitude': '40,2982677986069', 'longitude': '-3,80819644795653'}, {'latitude': '40,35478', 'longitude': '-3,81963'}, {'latitude': '40,29011', 'longitude': '-3,78833'}, {'latitude': '40,3539345', 'longitude': '-3,818527'}, {'latitude': '40,28684', 'longitude': '-3,79006'}, {'latitude': '40,2941899', 'longitude': '-3,8092835'}, {'latitude': '40,2922401', 'longitude': '-3,8015042'}, {'latitude': '40,34461', 'longitude': '-3,8257'}, {'latitude': '40,2928257', 'longitude': '-3,8349063'}, {'latitude': '40,35466', 'longitude': '-3,81574'}, {'latitude': '40,32739', 'longitude': '-3,76408'}, {'latitude': '40,3127899', 'longitude': '-3,7204288'}, {'latitude': '40,30855', 'longitude': '-3,72731'}, {'latitude': '40,27927', 'longitude': '-3,78859'}, {'latitude': '40,28529', 'longitude': '-3,79408'}, {'latitude': '40,33727', 'longitude': '-3,7454'}, {'latitude': '40,3241157864376', 'longitude': '-3,77127578643763'}, {'latitude': '40,3278234', 'longitude': '-3,7630715'}, {'latitude': '40,3335821864376', 'longitude': '-3,76873891356237'}, {'latitude': '40,28286', 'longitude': '-3,80121'}, {'latitude': '40,3434837', 'longitude': '-3,8255195'}, {'latitude': '40,28265', 'longitude': '-3,79985'}, {'latitude': '40,3170797', 'longitude': '-3,722955'}, {'latitude': '40,2807', 'longitude': '-3,79143'}, {'latitude': '40,34702', 'longitude': '-3,80664'}, {'latitude': '40,34009', 'longitude': '-3,83637'}, {'latitude': '40,35306', 'longitude': '-3,81159'}, {'latitude': '40,34639', 'longitude': '-3,81489'}, {'latitude': '40,34576', 'longitude': '-3,82895'}, {'latitude': '40,29058', 'longitude': '-3,78839'}, {'latitude': '40,28687', 'longitude': '-3,78406'}, {'latitude': '40,2875', 'longitude': '-3,80313'}, {'latitude': '40,3424', 'longitude': '-3,83005'}, {'latitude': '40,30023', 'longitude': '-3,80875'}, {'latitude': '40,28709', 'longitude': '-3,80728'}, {'latitude': '40,29274', 'longitude': '-3,7896'}, {'latitude': '40,30428', 'longitude': '-3,83748'}, {'latitude': '40,2934187', 'longitude': '-3,7824559'}, {'latitude': '40,28162', 'longitude': '-3,78693'}, {'latitude': '40,2841067', 'longitude': '-3,7961005'}, {'latitude': '40,29674', 'longitude': '-3,7987'}, {'latitude': '40,28037', 'longitude': '-3,79333'}, {'latitude': '40,3303391', 'longitude': '-3,7544003'}, {'latitude': '40,32901', 'longitude': '-3,75009'}, {'latitude': '40,29371', 'longitude': '-3,80326'}, {'latitude': '40,29387', 'longitude': '-3,78821'}, {'latitude': '40,3359653', 'longitude': '-3,8277845'}, {'latitude': '40,3234', 'longitude': '-3,77152'}, {'latitude': '40,30507', 'longitude': '-3,73091'}, {'latitude': '40,34538', 'longitude': '-3,77261'}, {'latitude': '40,3402489', 'longitude': '-3,8258232'}, {'latitude': '40,2851691', 'longitude': '-3,7465719'}, {'latitude': '40,3376', 'longitude': '-3,85603'}, {'latitude': '40,34314', 'longitude': '-3,82931'}, {'latitude': '40,34314', 'longitude': '-3,8293'}, {'latitude': '40,34603', 'longitude': '-3,82437'}, {'latitude': '40,33425', 'longitude': '-3,76186'}, {'latitude': '40,323754187848', 'longitude': '-3,7730788126493'}, {'latitude': '40,34067', 'longitude': '-3,82865'}, {'latitude': '40,3313044150488', 'longitude': '-3,75084400177002'}, {'latitude': '40,3319065585014', 'longitude': '-3,7759260276798'}, {'latitude': '40,33158', 'longitude': '-3,7602'}, {'latitude': '40,32134', 'longitude': '-3,76047'}, {'latitude': '40,33189', 'longitude': '-3,764'}, {'latitude': '40,33595', 'longitude': '-3,75278'}, {'latitude': '40,31667', 'longitude': '-3,74072'}, {'latitude': '40,3543087740551', 'longitude': '-3,78119683423338'}, {'latitude': '40,32176', 'longitude': '-3,72398'}, {'latitude': '40,3308835864376', 'longitude': '-3,77019188643763'}, {'latitude': '40,3101', 'longitude': '-3,71803'}, {'latitude': '40,30333', 'longitude': '-3,72839'}, {'latitude': '40,3308835864376', 'longitude': '-3,77019188643763'}, {'latitude': '40,3101', 'longitude': '-3,71803'}, {'latitude': '40,30333', 'longitude': '-3,72839'}, {'latitude': '40,31667', 'longitude': '-3,74072'}, {'latitude': '40,32831978', 'longitude': '-3,82342198'}, {'latitude': '40,30186', 'longitude': '-3,73321'}, {'latitude': '40,33163', 'longitude': '-3,74655'}, {'latitude': '40,32811', 'longitude': '-3,76988'}, {'latitude': '40,277956', 'longitude': '-3,809874'}, {'latitude': '40,30546', 'longitude': '-3,75275'}, {'latitude': '40,3194273', 'longitude': '-3,7546246'}, {'latitude': '40,30186', 'longitude': '-3,73321'}, {'latitude': '40,310835', 'longitude': '-3,724996'}, {'latitude': '40,310835', 'longitude': '-3,724996'}, {'latitude': '40,29', 'longitude': '-3,80921'}, {'latitude': '40,31407', 'longitude': '-3,83809'}, {'latitude': '40,3208104', 'longitude': '-3,78076959999998'}, {'latitude': '40,32845', 'longitude': '-3,76772'}, {'latitude': '40,33643', 'longitude': '-3,75089'}, {'latitude': '40,30569', 'longitude': '-3,72626'}, {'latitude': '40,32845', 'longitude': '-3,76772'}, {'latitude': '40,33643', 'longitude': '-3,75089'}, {'latitude': '40,31569687', 'longitude': '-3,7211453'}, {'latitude': '40,34519', 'longitude': '-3,82946'}, {'latitude': '40,3010733', 'longitude': '-3,8353401'}, {'latitude': '40,33546', 'longitude': '-3,85598'}, {'latitude': '40,3473615287', 'longitude': '-3,8281633365'}, {'latitude': '40,3416428', 'longitude': '-3,82531010000002'}, {'latitude': '40,28245', 'longitude': '-3,80848'}, {'latitude': '40,28728', 'longitude': '-3,80281'}, {'latitude': '40,2946', 'longitude': '-3,7962'}, {'latitude': '40,2965', 'longitude': '-3,79922'}, {'latitude': '40,2913667864376', 'longitude': '-3,80326778643763'}, {'latitude': '40,27563', 'longitude': '-3,79886'}, {'latitude': '40,29019', 'longitude': '-3,79215'}, {'latitude': '40,3139', 'longitude': '-3,71781'}, {'latitude': '40,3139', 'longitude': '-3,71781'}, {'latitude': '40,350214341', 'longitude': '-3,821837461'}, {'latitude': '40,28486', 'longitude': '-3,83738'}, {'latitude': '40,30262', 'longitude': '-3,7342'}, {'latitude': '40,33595', 'longitude': '-3,75278'}, {'latitude': '40,32746', 'longitude': '-3,76821'}, {'latitude': '40,35472', 'longitude': '-3,81054'}, {'latitude': '40,35223', 'longitude': '-3,81732'}, {'latitude': '40,34635', 'longitude': '-3,8236'}, {'latitude': '0', 'longitude': '0'}, {'latitude': '0', 'longitude': '0'}, {'latitude': '0', 'longitude': '0'}, {'latitude': '0', 'longitude': '0'}, {'latitude': '0', 'longitude': '0'}, {'latitude': '40,2820453965836', 'longitude': '-3,80216837862613'}, {'latitude': '40,2865158', 'longitude': '-3,8050723'}, {'latitude': '40,28315', 'longitude': '-3,79437'}, {'latitude': '40,2830697', 'longitude': '-3,7909198'}, {'latitude': '40,33383', 'longitude': '-3,75547'}, {'latitude': '40,28084', 'longitude': '-3,79721'}, {'latitude': '40,3337657864376', 'longitude': '-3,76824421356237'}, {'latitude': '40,3337657864376', 'longitude': '-3,76824421356237'}, {'latitude': '40,33746', 'longitude': '-3,85598'}, {'latitude': '40,33132', 'longitude': '-3,76054'}, {'latitude': '40,31361', 'longitude': '-3,83733'}, {'latitude': '40,28682', 'longitude': '-3,79437'}, {'latitude': '40,28661', 'longitude': '-3,78978'}, {'latitude': '40,3210413', 'longitude': '-3,779803'}, {'latitude': '40,33551964', 'longitude': '-3,8349888'}, {'latitude': '40,3366', 'longitude': '-3,74658'}, {'latitude': '40,33177', 'longitude': '-3,773'}, {'latitude': '40,31672', 'longitude': '-3,72254'}, {'latitude': '40,34372', 'longitude': '-3,8157'}, {'latitude': '40,34484', 'longitude': '-3,83016'}, {'latitude': '40,2831823', 'longitude': '-3,7904124'}, {'latitude': '40,28818', 'longitude': '-3,81198'}, {'latitude': '40,33422', 'longitude': '-3,76264'}, {'latitude': '40,2843', 'longitude': '-3,79544'}, {'latitude': '40,28086', 'longitude': '-3,80998'}, {'latitude': '40,2744744', 'longitude': '-3,80489250000005'}, {'latitude': '40,31428', 'longitude': '-3,71706'}, {'latitude': '40,30546', 'longitude': '-3,75275'}, {'latitude': '40,30206', 'longitude': '-3,73321'}, {'latitude': '40,3571804504395', 'longitude': '-3,78049993515015'}, {'latitude': '40,2748257864376', 'longitude': '-3,79980721356237'}, {'latitude': '40,32314', 'longitude': '-3,78143'}, {'latitude': '40,31667', 'longitude': '-3,74072'}, {'latitude': '40,295285090629', 'longitude': '-3,8354148269737'}, {'latitude': '40,30186', 'longitude': '-3,73321'}, {'latitude': '40,31667', 'longitude': '-3,74072'}, {'latitude': '40,35382', 'longitude': '-3,80028'}, {'latitude': '40,35541', 'longitude': '-3,82059'}, {'latitude': '40,3522', 'longitude': '-3,80279'}, {'latitude': '40,344393', 'longitude': '-3,839799'}, {'latitude': '40,3337657864376', 'longitude': '-3,76824421356237'}, {'latitude': '40,32124', 'longitude': '-3,7798'}, {'latitude': '40,31381', 'longitude': '-3,83733'}, {'latitude': '40,31381', 'longitude': '-3,83733'}, {'latitude': '40,3259051', 'longitude': '-3,76318'}, {'latitude': '40,2882193', 'longitude': '-3,8098617'}, {'latitude': '40,28282', 'longitude': '-3,78892'}, {'latitude': '40,28062', 'longitude': '-3,79869'}]\n"
          ]
        }
      ],
      "source": [
        "## Aquí: traza la coordenadas de los estados\n",
        "def GetCoordinatesDict(dataset):\n",
        "    coordinates = dataset[['latitude','longitude']]\n",
        "    return coordinates.to_dict(orient = 'records')\n",
        "\n",
        "## PON TU CÓDIGO AQUÍ:\n",
        "\n",
        "print(GetCoordinatesDict(cinturonsur))"
      ]
    }
  ],
  "metadata": {
    "kernelspec": {
      "display_name": "Python 3",
      "language": "python",
      "name": "python3"
    },
    "language_info": {
      "codemirror_mode": {
        "name": "ipython",
        "version": 3
      },
      "file_extension": ".py",
      "mimetype": "text/x-python",
      "name": "python",
      "nbconvert_exporter": "python",
      "pygments_lexer": "ipython3",
      "version": "3.11.4"
    }
  },
  "nbformat": 4,
  "nbformat_minor": 5
}
