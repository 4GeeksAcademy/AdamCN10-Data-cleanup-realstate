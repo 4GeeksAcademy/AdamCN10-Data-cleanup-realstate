{
 "cells": [
  {
   "attachments": {},
   "cell_type": "markdown",
   "id": "innocent-university",
   "metadata": {},
   "source": [
    "# Limpieza de bienes raíces\n",
    "\n",
    "Este es un conjunto de datos (dataset) reales que fue descargado usando técnicas de web scraping. La data contiene registros de fotocasa, el cual es uno de los sitios mas populares de bienes raíces en España. Por favor no hagas estos (web scraping) a no ser que sea para propósitos académicos.\n",
    "\n",
    "El dataset fue descargado hace algunos años por Henry Navarro y en ningún caso se obtuvo beneficio económico de ello.\n",
    "\n",
    "Contiene miles de datos de casas reales publicadas en la web www.fotocasa.com. Tu objetivo es extraer tanta información como sea posible con el conocimiento que tienes hasta ahora de ciencia de datos, por ejemplo ¿cuál es la casa mas cara en todo el dataset?\n",
    "\n",
    "Empecemos precisamente con esa pregunta... ¡Buena suerte!\n",
    "\n",
    "Let's start with precisely that question... Good luck!"
   ]
  },
  {
   "attachments": {},
   "cell_type": "markdown",
   "id": "multiple-glass",
   "metadata": {},
   "source": [
    "#### Ejercicio 00. Lee el dataset assets/real_estate.csv e intenta visualizar la tabla (★☆☆)"
   ]
  },
  {
   "cell_type": "code",
   "execution_count": 1,
   "id": "frank-heath",
   "metadata": {},
   "outputs": [
    {
     "data": {
      "text/html": [
       "<div>\n",
       "<style scoped>\n",
       "    .dataframe tbody tr th:only-of-type {\n",
       "        vertical-align: middle;\n",
       "    }\n",
       "\n",
       "    .dataframe tbody tr th {\n",
       "        vertical-align: top;\n",
       "    }\n",
       "\n",
       "    .dataframe thead th {\n",
       "        text-align: right;\n",
       "    }\n",
       "</style>\n",
       "<table border=\"1\" class=\"dataframe\">\n",
       "  <thead>\n",
       "    <tr style=\"text-align: right;\">\n",
       "      <th></th>\n",
       "      <th>Unnamed: 0</th>\n",
       "      <th>id_realEstates</th>\n",
       "      <th>isNew</th>\n",
       "      <th>realEstate_name</th>\n",
       "      <th>phone_realEstate</th>\n",
       "      <th>url_inmueble</th>\n",
       "      <th>rooms</th>\n",
       "      <th>bathrooms</th>\n",
       "      <th>surface</th>\n",
       "      <th>price</th>\n",
       "      <th>...</th>\n",
       "      <th>level4Id</th>\n",
       "      <th>level5Id</th>\n",
       "      <th>level6Id</th>\n",
       "      <th>level7Id</th>\n",
       "      <th>level8Id</th>\n",
       "      <th>accuracy</th>\n",
       "      <th>latitude</th>\n",
       "      <th>longitude</th>\n",
       "      <th>zipCode</th>\n",
       "      <th>customZone</th>\n",
       "    </tr>\n",
       "  </thead>\n",
       "  <tbody>\n",
       "    <tr>\n",
       "      <th>0</th>\n",
       "      <td>1</td>\n",
       "      <td>153771986</td>\n",
       "      <td>False</td>\n",
       "      <td>ferrari 57 inmobiliaria</td>\n",
       "      <td>912177526.0</td>\n",
       "      <td>https://www.fotocasa.es/es/comprar/vivienda/ma...</td>\n",
       "      <td>3.0</td>\n",
       "      <td>2.0</td>\n",
       "      <td>103.0</td>\n",
       "      <td>195000</td>\n",
       "      <td>...</td>\n",
       "      <td>0</td>\n",
       "      <td>0</td>\n",
       "      <td>0</td>\n",
       "      <td>0</td>\n",
       "      <td>0</td>\n",
       "      <td>0</td>\n",
       "      <td>40,2948276786438</td>\n",
       "      <td>-3,44402412135624</td>\n",
       "      <td>NaN</td>\n",
       "      <td>NaN</td>\n",
       "    </tr>\n",
       "    <tr>\n",
       "      <th>1</th>\n",
       "      <td>2</td>\n",
       "      <td>153867863</td>\n",
       "      <td>False</td>\n",
       "      <td>tecnocasa fuenlabrada ferrocarril</td>\n",
       "      <td>916358736.0</td>\n",
       "      <td>https://www.fotocasa.es/es/comprar/vivienda/ma...</td>\n",
       "      <td>3.0</td>\n",
       "      <td>1.0</td>\n",
       "      <td>NaN</td>\n",
       "      <td>89000</td>\n",
       "      <td>...</td>\n",
       "      <td>0</td>\n",
       "      <td>0</td>\n",
       "      <td>0</td>\n",
       "      <td>0</td>\n",
       "      <td>0</td>\n",
       "      <td>1</td>\n",
       "      <td>40,28674</td>\n",
       "      <td>-3,79351</td>\n",
       "      <td>NaN</td>\n",
       "      <td>NaN</td>\n",
       "    </tr>\n",
       "    <tr>\n",
       "      <th>2</th>\n",
       "      <td>3</td>\n",
       "      <td>153430440</td>\n",
       "      <td>False</td>\n",
       "      <td>look find boadilla</td>\n",
       "      <td>916350408.0</td>\n",
       "      <td>https://www.fotocasa.es/es/comprar/vivienda/ma...</td>\n",
       "      <td>2.0</td>\n",
       "      <td>2.0</td>\n",
       "      <td>99.0</td>\n",
       "      <td>390000</td>\n",
       "      <td>...</td>\n",
       "      <td>0</td>\n",
       "      <td>0</td>\n",
       "      <td>0</td>\n",
       "      <td>0</td>\n",
       "      <td>0</td>\n",
       "      <td>0</td>\n",
       "      <td>40,4115646786438</td>\n",
       "      <td>-3,90662252135624</td>\n",
       "      <td>NaN</td>\n",
       "      <td>NaN</td>\n",
       "    </tr>\n",
       "    <tr>\n",
       "      <th>3</th>\n",
       "      <td>4</td>\n",
       "      <td>152776331</td>\n",
       "      <td>False</td>\n",
       "      <td>tecnocasa fuenlabrada ferrocarril</td>\n",
       "      <td>916358736.0</td>\n",
       "      <td>https://www.fotocasa.es/es/comprar/vivienda/ma...</td>\n",
       "      <td>3.0</td>\n",
       "      <td>1.0</td>\n",
       "      <td>86.0</td>\n",
       "      <td>89000</td>\n",
       "      <td>...</td>\n",
       "      <td>0</td>\n",
       "      <td>0</td>\n",
       "      <td>0</td>\n",
       "      <td>0</td>\n",
       "      <td>0</td>\n",
       "      <td>0</td>\n",
       "      <td>40,2853785786438</td>\n",
       "      <td>-3,79508142135624</td>\n",
       "      <td>NaN</td>\n",
       "      <td>NaN</td>\n",
       "    </tr>\n",
       "    <tr>\n",
       "      <th>4</th>\n",
       "      <td>5</td>\n",
       "      <td>153180188</td>\n",
       "      <td>False</td>\n",
       "      <td>ferrari 57 inmobiliaria</td>\n",
       "      <td>912177526.0</td>\n",
       "      <td>https://www.fotocasa.es/es/comprar/vivienda/ma...</td>\n",
       "      <td>2.0</td>\n",
       "      <td>2.0</td>\n",
       "      <td>106.0</td>\n",
       "      <td>172000</td>\n",
       "      <td>...</td>\n",
       "      <td>0</td>\n",
       "      <td>0</td>\n",
       "      <td>0</td>\n",
       "      <td>0</td>\n",
       "      <td>0</td>\n",
       "      <td>0</td>\n",
       "      <td>40,2998774864376</td>\n",
       "      <td>-3,45226301356237</td>\n",
       "      <td>NaN</td>\n",
       "      <td>NaN</td>\n",
       "    </tr>\n",
       "  </tbody>\n",
       "</table>\n",
       "<p>5 rows × 37 columns</p>\n",
       "</div>"
      ],
      "text/plain": [
       "   Unnamed: 0  id_realEstates  isNew                    realEstate_name  \\\n",
       "0           1       153771986  False            ferrari 57 inmobiliaria   \n",
       "1           2       153867863  False  tecnocasa fuenlabrada ferrocarril   \n",
       "2           3       153430440  False                 look find boadilla   \n",
       "3           4       152776331  False  tecnocasa fuenlabrada ferrocarril   \n",
       "4           5       153180188  False            ferrari 57 inmobiliaria   \n",
       "\n",
       "   phone_realEstate                                       url_inmueble  rooms  \\\n",
       "0       912177526.0  https://www.fotocasa.es/es/comprar/vivienda/ma...    3.0   \n",
       "1       916358736.0  https://www.fotocasa.es/es/comprar/vivienda/ma...    3.0   \n",
       "2       916350408.0  https://www.fotocasa.es/es/comprar/vivienda/ma...    2.0   \n",
       "3       916358736.0  https://www.fotocasa.es/es/comprar/vivienda/ma...    3.0   \n",
       "4       912177526.0  https://www.fotocasa.es/es/comprar/vivienda/ma...    2.0   \n",
       "\n",
       "   bathrooms  surface   price  ... level4Id level5Id level6Id level7Id  \\\n",
       "0        2.0    103.0  195000  ...        0        0        0        0   \n",
       "1        1.0      NaN   89000  ...        0        0        0        0   \n",
       "2        2.0     99.0  390000  ...        0        0        0        0   \n",
       "3        1.0     86.0   89000  ...        0        0        0        0   \n",
       "4        2.0    106.0  172000  ...        0        0        0        0   \n",
       "\n",
       "  level8Id accuracy          latitude          longitude zipCode customZone  \n",
       "0        0        0  40,2948276786438  -3,44402412135624     NaN        NaN  \n",
       "1        0        1          40,28674           -3,79351     NaN        NaN  \n",
       "2        0        0  40,4115646786438  -3,90662252135624     NaN        NaN  \n",
       "3        0        0  40,2853785786438  -3,79508142135624     NaN        NaN  \n",
       "4        0        0  40,2998774864376  -3,45226301356237     NaN        NaN  \n",
       "\n",
       "[5 rows x 37 columns]"
      ]
     },
     "execution_count": 1,
     "metadata": {},
     "output_type": "execute_result"
    }
   ],
   "source": [
    "import pandas as pd\n",
    "\n",
    "# this CSV file contains semicolons instead of comas as separator\n",
    "ds = pd.read_csv('assets/real_estate.csv', sep=';')\n",
    "\n",
    "ds.head()           #Revisar visualizacion de tabla"
   ]
  },
  {
   "attachments": {},
   "cell_type": "markdown",
   "id": "latin-guest",
   "metadata": {},
   "source": [
    "#### Ejercicio 01. ¿Cuál es la casa mas cara en el todo el dataset? (★☆☆)\n",
    "\n",
    "Imprime la direccion y el precio de la casa seleccionada. Por ejemplo:\n",
    "\n",
    "`The house with address General Street Nº5 is the most expensive and its price is 5000000 USD`"
   ]
  },
  {
   "cell_type": "code",
   "execution_count": 2,
   "id": "developing-optimum",
   "metadata": {},
   "outputs": [
    {
     "name": "stdout",
     "output_type": "stream",
     "text": [
      "The house with address 13110    El Escorial is the most expensive and its price is 8500000 USD.\n"
     ]
    }
   ],
   "source": [
    "import pandas as pd\n",
    "dt = pd.DataFrame(ds)\n",
    "maximo = max(dt['price'])           #Buscar valor maximo de precio\n",
    "\n",
    "print('The house with address', (dt.loc[dt['price']==max(dt.price)].address).to_string(), 'is the most expensive and its price is', maximo, 'USD.')\n"
   ]
  },
  {
   "attachments": {},
   "cell_type": "markdown",
   "id": "lesser-cosmetic",
   "metadata": {},
   "source": [
    "#### Ejercicio 02. ¿Cuál es la casa mas barata del dataset? (★☆☆)\n",
    "\n",
    "Imprime la dirección y el precio de la casa seleccionada. Por ejemplo:\n",
    "\n",
    "`The house with address Concrete Street Nº1 is the cheapest and its price is 12000 USD`"
   ]
  },
  {
   "cell_type": "code",
   "execution_count": 3,
   "id": "lovely-oasis",
   "metadata": {},
   "outputs": [
    {
     "name": "stdout",
     "output_type": "stream",
     "text": [
      "The house with address  7491    Berlin, Coslada is the cheapest and its price is  600 USD.\n"
     ]
    }
   ],
   "source": [
    "# TODO\n",
    "import pandas as pd\n",
    "df = dt.drop(dt[((dt['price'] == 0))].index)        # Revisar datos erroneos en dataset, como precio cero en una vivienda. \n",
    "\n",
    "print('The house with address ', (df.loc[df['price']== min(df.price)].address).to_string(), 'is the cheapest and its price is ', min(df['price']), 'USD.')"
   ]
  },
  {
   "attachments": {},
   "cell_type": "markdown",
   "id": "compliant-fellowship",
   "metadata": {},
   "source": [
    "#### Ejercicio 03. ¿Cuál es la casa mas grande y la mas pequeña del dataset? (★☆☆)\n",
    "\n",
    "Imprime la dirección y el area de las casas seleccionadas. Por ejemplo:\n",
    "\n",
    "`The bigger house is located on Yukka Street Nº10 and its surface is 5000 meters`\n",
    "\n",
    "`The smaller house is located on County Road 1 N and its surface is 200 meters`"
   ]
  },
  {
   "cell_type": "code",
   "execution_count": 4,
   "id": "every-tiffany",
   "metadata": {},
   "outputs": [
    {
     "name": "stdout",
     "output_type": "stream",
     "text": [
      "The bigger house is located on  6794    Sevilla la Nueva and its surface is  249000.0 mts.\n",
      "The smaller house is located on  498    Calle Amparo,  Madrid Capital and its surface is  15.0 mts.\n"
     ]
    }
   ],
   "source": [
    "# TODO\n",
    "import pandas as pd\n",
    "\n",
    "print('The bigger house is located on ', (dt.loc[dt['surface']==max(dt.surface)].address).to_string(),'and its surface is ', max(df['surface']), 'mts.')\n",
    "print('The smaller house is located on ', (dt.loc[dt['surface']==min(dt.surface)].address).to_string(),'and its surface is ', min(df['surface']), 'mts.')"
   ]
  },
  {
   "attachments": {},
   "cell_type": "markdown",
   "id": "danish-spirit",
   "metadata": {},
   "source": [
    "#### Ejercicio 04. ¿Cuantas poblaciones (columna level5) contiene el dataset? (★☆☆)\n",
    "\n",
    "Imprime el nombre de las poblaciones separadas por coma. Por ejemplo:\n",
    "\n",
    "`> print(populations)`\n",
    "\n",
    "`population1, population2, population3,...`"
   ]
  },
  {
   "cell_type": "code",
   "execution_count": 70,
   "id": "exciting-accreditation",
   "metadata": {},
   "outputs": [
    {
     "name": "stdout",
     "output_type": "stream",
     "text": [
      "Las poblaciones del nivel 5 son: Arganda del Rey, Fuenlabrada, Boadilla del Monte, Las Rozas de Madrid,  Madrid Capital, Villaviciosa de Odón, Pinto, Valdemoro, Navalcarnero, Pozuelo de Alarcón, Torrejón de Ardoz, Navalagamella, San Sebastián de los Reyes, Rivas-vaciamadrid, Alpedrete, Móstoles, San Fernando de Henares, Coslada, Becerril de la Sierra, Alcalá de Henares, Chinchón, Parla, Alcorcón, El Escorial, Leganés, Pedrezuela, Majadahonda, Villanueva de la Cañada, Villanueva del Pardillo, Torrelodones, Moralzarzal, Mejorada del Campo, Aranjuez, Corpa, Getafe, Velilla de San Antonio, Sevilla la Nueva, San Martín de la Vega, Villalbilla, Collado Villalba, Alcobendas, El Molar (Madrid), Moraleja de Enmedio, Algete, Campo Real, Torrejón de la Calzada, Colmenar Viejo, Valdemorillo, Fuente El Saz de Jarama, Tres Cantos, Arroyomolinos (Madrid), Griñón, Paracuellos de Jarama, Guadarrama, Titulcia, Galapagar, Collado Mediano, Los Molinos, San Lorenzo de El Escorial, Loeches, San Martín de Valdeiglesias, Navas del Rey, Bustarviejo, Manzanares El Real, Carabaña, Casarrubuelos, Cercedilla, Fresnedillas de la Oliva, Valdemaqueda, Robledo de Chavela, Miraflores de la Sierra, Humanes de Madrid, Valdetorres de Jarama, San Agustín del Guadalix, Ciempozuelos, Camarma de Esteruelas, Torres de la Alameda, Talamanca de Jarama, El Atazar, Hoyo de Manzanares, El Boalo - Cerceda – Mataelpino, El Álamo, Valdilecha, Valdeolmos-Alalpardo, Guadalix de la Sierra, Belmonte de Tajo, El Vellón, Brunete, Redueña, Morata de Tajuña, Tielmes, Gargantilla del Lozoya, Meco, Venturada, Quijorna, Cenicientos, Torrejón de Velasco, Navacerrada, Santa María de la Alameda, Orusco de Tajuña, Daganzo de Arriba, Villamanta, Anchuelo, Valdaracete, Ajalvir, Los Santos de la Humosa, Villamanrique de Tajo, Colmenar de Oreja, Villa del Prado, Fuentidueña de Tajo, Colmenar del Arroyo, Valdelaguna, Cubas de la Sagra, Valdeavero, Aldea del Fresno, Ribatejada, Torrelaguna, Batres, Pezuela de las Torres, Colmenarejo, Serranillos del Valle, Cobeña, Soto del Real, El Berrueco, Villanueva de Perales, Fresno de Torote - Serracines, Pozuelo del Rey, Pelayos de la Presa, La Cabrera, Nuevo Baztán, Perales de Tajuña, Villaconejos, Villarejo de Salvanés, Cadalso de los Vidrios, Santorcaz, Madarcos, Garganta de los Montes, Puentes Viejas, Torremocha de Jarama, Valdemanco, Braojos, Lozoyuela-navas-sieteiglesias, Piñuécar-gandullas, Valdepiélagos, Valverde de Alcalá, Villar del Olmo, Villamantilla, Horcajo de la Sierra, Gascones, Zarzalejo, Villavieja del Lozoya, Brea de Tajo, Estremera, Chapinería, Navarredonda, Patones, Ambite, Navalafuente, Lozoya, Canencia, Cabanillas de la Sierra, Buitrago del Lozoya, Fresno de Torote, Robregordo, Pinilla del Valle, Rascafría, La Hiruela, Montejo de la Sierra\n"
     ]
    }
   ],
   "source": [
    "# TODO\n",
    "ds = pd.read_csv('assets/real_estate.csv', sep=';')\n",
    "dt = pd.DataFrame(ds)\n",
    "\n",
    "L5 = dt['level5'].drop_duplicates()         #Eliminacion de datos repetidos\n",
    "print('Las poblaciones del nivel 5 son:', ', '.join(L5))\n"
   ]
  },
  {
   "attachments": {},
   "cell_type": "markdown",
   "id": "crazy-blame",
   "metadata": {},
   "source": [
    "#### Ejercicio 05. ¿El data set contiene valores no admitidos (NAs)? (★☆☆)\n",
    "\n",
    "Imprima un booleano (`true` o `fase`) seguido de la fila/columna que contiene el NAs."
   ]
  },
  {
   "cell_type": "code",
   "execution_count": 52,
   "id": "transparent-poetry",
   "metadata": {},
   "outputs": [
    {
     "name": "stdout",
     "output_type": "stream",
     "text": [
      "Unnamed: 0              0\n",
      "id_realEstates          0\n",
      "isNew                   0\n",
      "realEstate_name        10\n",
      "phone_realEstate      794\n",
      "url_inmueble            0\n",
      "rooms                 353\n",
      "bathrooms             345\n",
      "surface              1250\n",
      "price                   0\n",
      "date                    0\n",
      "description           142\n",
      "address                 0\n",
      "country                 0\n",
      "level1                  0\n",
      "level2                  0\n",
      "level3                  0\n",
      "level4               6643\n",
      "level5                  0\n",
      "level6              14627\n",
      "level7               2277\n",
      "level8               8579\n",
      "upperLevel              0\n",
      "countryId               0\n",
      "level1Id                0\n",
      "level2Id                0\n",
      "level3Id                0\n",
      "level4Id                0\n",
      "level5Id                0\n",
      "level6Id                0\n",
      "level7Id                0\n",
      "level8Id                0\n",
      "accuracy                0\n",
      "latitude                0\n",
      "longitude               0\n",
      "zipCode             15335\n",
      "customZone          15335\n",
      "Is_NA                   0\n",
      "dtype: int64\n"
     ]
    },
    {
     "data": {
      "text/html": [
       "<div>\n",
       "<style scoped>\n",
       "    .dataframe tbody tr th:only-of-type {\n",
       "        vertical-align: middle;\n",
       "    }\n",
       "\n",
       "    .dataframe tbody tr th {\n",
       "        vertical-align: top;\n",
       "    }\n",
       "\n",
       "    .dataframe thead th {\n",
       "        text-align: right;\n",
       "    }\n",
       "</style>\n",
       "<table border=\"1\" class=\"dataframe\">\n",
       "  <thead>\n",
       "    <tr style=\"text-align: right;\">\n",
       "      <th></th>\n",
       "      <th>Unnamed: 0</th>\n",
       "      <th>id_realEstates</th>\n",
       "      <th>isNew</th>\n",
       "      <th>realEstate_name</th>\n",
       "      <th>phone_realEstate</th>\n",
       "      <th>url_inmueble</th>\n",
       "      <th>rooms</th>\n",
       "      <th>bathrooms</th>\n",
       "      <th>surface</th>\n",
       "      <th>price</th>\n",
       "      <th>...</th>\n",
       "      <th>level5Id</th>\n",
       "      <th>level6Id</th>\n",
       "      <th>level7Id</th>\n",
       "      <th>level8Id</th>\n",
       "      <th>accuracy</th>\n",
       "      <th>latitude</th>\n",
       "      <th>longitude</th>\n",
       "      <th>zipCode</th>\n",
       "      <th>customZone</th>\n",
       "      <th>Is_NA</th>\n",
       "    </tr>\n",
       "  </thead>\n",
       "  <tbody>\n",
       "    <tr>\n",
       "      <th>0</th>\n",
       "      <td>False</td>\n",
       "      <td>False</td>\n",
       "      <td>False</td>\n",
       "      <td>False</td>\n",
       "      <td>False</td>\n",
       "      <td>False</td>\n",
       "      <td>False</td>\n",
       "      <td>False</td>\n",
       "      <td>False</td>\n",
       "      <td>False</td>\n",
       "      <td>...</td>\n",
       "      <td>False</td>\n",
       "      <td>False</td>\n",
       "      <td>False</td>\n",
       "      <td>False</td>\n",
       "      <td>False</td>\n",
       "      <td>False</td>\n",
       "      <td>False</td>\n",
       "      <td>True</td>\n",
       "      <td>True</td>\n",
       "      <td>False</td>\n",
       "    </tr>\n",
       "    <tr>\n",
       "      <th>1</th>\n",
       "      <td>False</td>\n",
       "      <td>False</td>\n",
       "      <td>False</td>\n",
       "      <td>False</td>\n",
       "      <td>False</td>\n",
       "      <td>False</td>\n",
       "      <td>False</td>\n",
       "      <td>False</td>\n",
       "      <td>True</td>\n",
       "      <td>False</td>\n",
       "      <td>...</td>\n",
       "      <td>False</td>\n",
       "      <td>False</td>\n",
       "      <td>False</td>\n",
       "      <td>False</td>\n",
       "      <td>False</td>\n",
       "      <td>False</td>\n",
       "      <td>False</td>\n",
       "      <td>True</td>\n",
       "      <td>True</td>\n",
       "      <td>False</td>\n",
       "    </tr>\n",
       "    <tr>\n",
       "      <th>2</th>\n",
       "      <td>False</td>\n",
       "      <td>False</td>\n",
       "      <td>False</td>\n",
       "      <td>False</td>\n",
       "      <td>False</td>\n",
       "      <td>False</td>\n",
       "      <td>False</td>\n",
       "      <td>False</td>\n",
       "      <td>False</td>\n",
       "      <td>False</td>\n",
       "      <td>...</td>\n",
       "      <td>False</td>\n",
       "      <td>False</td>\n",
       "      <td>False</td>\n",
       "      <td>False</td>\n",
       "      <td>False</td>\n",
       "      <td>False</td>\n",
       "      <td>False</td>\n",
       "      <td>True</td>\n",
       "      <td>True</td>\n",
       "      <td>False</td>\n",
       "    </tr>\n",
       "    <tr>\n",
       "      <th>3</th>\n",
       "      <td>False</td>\n",
       "      <td>False</td>\n",
       "      <td>False</td>\n",
       "      <td>False</td>\n",
       "      <td>False</td>\n",
       "      <td>False</td>\n",
       "      <td>False</td>\n",
       "      <td>False</td>\n",
       "      <td>False</td>\n",
       "      <td>False</td>\n",
       "      <td>...</td>\n",
       "      <td>False</td>\n",
       "      <td>False</td>\n",
       "      <td>False</td>\n",
       "      <td>False</td>\n",
       "      <td>False</td>\n",
       "      <td>False</td>\n",
       "      <td>False</td>\n",
       "      <td>True</td>\n",
       "      <td>True</td>\n",
       "      <td>False</td>\n",
       "    </tr>\n",
       "    <tr>\n",
       "      <th>4</th>\n",
       "      <td>False</td>\n",
       "      <td>False</td>\n",
       "      <td>False</td>\n",
       "      <td>False</td>\n",
       "      <td>False</td>\n",
       "      <td>False</td>\n",
       "      <td>False</td>\n",
       "      <td>False</td>\n",
       "      <td>False</td>\n",
       "      <td>False</td>\n",
       "      <td>...</td>\n",
       "      <td>False</td>\n",
       "      <td>False</td>\n",
       "      <td>False</td>\n",
       "      <td>False</td>\n",
       "      <td>False</td>\n",
       "      <td>False</td>\n",
       "      <td>False</td>\n",
       "      <td>True</td>\n",
       "      <td>True</td>\n",
       "      <td>False</td>\n",
       "    </tr>\n",
       "    <tr>\n",
       "      <th>...</th>\n",
       "      <td>...</td>\n",
       "      <td>...</td>\n",
       "      <td>...</td>\n",
       "      <td>...</td>\n",
       "      <td>...</td>\n",
       "      <td>...</td>\n",
       "      <td>...</td>\n",
       "      <td>...</td>\n",
       "      <td>...</td>\n",
       "      <td>...</td>\n",
       "      <td>...</td>\n",
       "      <td>...</td>\n",
       "      <td>...</td>\n",
       "      <td>...</td>\n",
       "      <td>...</td>\n",
       "      <td>...</td>\n",
       "      <td>...</td>\n",
       "      <td>...</td>\n",
       "      <td>...</td>\n",
       "      <td>...</td>\n",
       "      <td>...</td>\n",
       "    </tr>\n",
       "    <tr>\n",
       "      <th>15330</th>\n",
       "      <td>False</td>\n",
       "      <td>False</td>\n",
       "      <td>False</td>\n",
       "      <td>False</td>\n",
       "      <td>False</td>\n",
       "      <td>False</td>\n",
       "      <td>False</td>\n",
       "      <td>False</td>\n",
       "      <td>False</td>\n",
       "      <td>False</td>\n",
       "      <td>...</td>\n",
       "      <td>False</td>\n",
       "      <td>False</td>\n",
       "      <td>False</td>\n",
       "      <td>False</td>\n",
       "      <td>False</td>\n",
       "      <td>False</td>\n",
       "      <td>False</td>\n",
       "      <td>True</td>\n",
       "      <td>True</td>\n",
       "      <td>False</td>\n",
       "    </tr>\n",
       "    <tr>\n",
       "      <th>15331</th>\n",
       "      <td>False</td>\n",
       "      <td>False</td>\n",
       "      <td>False</td>\n",
       "      <td>False</td>\n",
       "      <td>False</td>\n",
       "      <td>False</td>\n",
       "      <td>False</td>\n",
       "      <td>False</td>\n",
       "      <td>False</td>\n",
       "      <td>False</td>\n",
       "      <td>...</td>\n",
       "      <td>False</td>\n",
       "      <td>False</td>\n",
       "      <td>False</td>\n",
       "      <td>False</td>\n",
       "      <td>False</td>\n",
       "      <td>False</td>\n",
       "      <td>False</td>\n",
       "      <td>True</td>\n",
       "      <td>True</td>\n",
       "      <td>False</td>\n",
       "    </tr>\n",
       "    <tr>\n",
       "      <th>15332</th>\n",
       "      <td>False</td>\n",
       "      <td>False</td>\n",
       "      <td>False</td>\n",
       "      <td>False</td>\n",
       "      <td>False</td>\n",
       "      <td>False</td>\n",
       "      <td>False</td>\n",
       "      <td>False</td>\n",
       "      <td>False</td>\n",
       "      <td>False</td>\n",
       "      <td>...</td>\n",
       "      <td>False</td>\n",
       "      <td>False</td>\n",
       "      <td>False</td>\n",
       "      <td>False</td>\n",
       "      <td>False</td>\n",
       "      <td>False</td>\n",
       "      <td>False</td>\n",
       "      <td>True</td>\n",
       "      <td>True</td>\n",
       "      <td>False</td>\n",
       "    </tr>\n",
       "    <tr>\n",
       "      <th>15333</th>\n",
       "      <td>False</td>\n",
       "      <td>False</td>\n",
       "      <td>False</td>\n",
       "      <td>False</td>\n",
       "      <td>False</td>\n",
       "      <td>False</td>\n",
       "      <td>False</td>\n",
       "      <td>False</td>\n",
       "      <td>False</td>\n",
       "      <td>False</td>\n",
       "      <td>...</td>\n",
       "      <td>False</td>\n",
       "      <td>False</td>\n",
       "      <td>False</td>\n",
       "      <td>False</td>\n",
       "      <td>False</td>\n",
       "      <td>False</td>\n",
       "      <td>False</td>\n",
       "      <td>True</td>\n",
       "      <td>True</td>\n",
       "      <td>False</td>\n",
       "    </tr>\n",
       "    <tr>\n",
       "      <th>15334</th>\n",
       "      <td>False</td>\n",
       "      <td>False</td>\n",
       "      <td>False</td>\n",
       "      <td>False</td>\n",
       "      <td>False</td>\n",
       "      <td>False</td>\n",
       "      <td>False</td>\n",
       "      <td>False</td>\n",
       "      <td>False</td>\n",
       "      <td>False</td>\n",
       "      <td>...</td>\n",
       "      <td>False</td>\n",
       "      <td>False</td>\n",
       "      <td>False</td>\n",
       "      <td>False</td>\n",
       "      <td>False</td>\n",
       "      <td>False</td>\n",
       "      <td>False</td>\n",
       "      <td>True</td>\n",
       "      <td>True</td>\n",
       "      <td>False</td>\n",
       "    </tr>\n",
       "  </tbody>\n",
       "</table>\n",
       "<p>15335 rows × 38 columns</p>\n",
       "</div>"
      ],
      "text/plain": [
       "       Unnamed: 0  id_realEstates  isNew  realEstate_name  phone_realEstate  \\\n",
       "0           False           False  False            False             False   \n",
       "1           False           False  False            False             False   \n",
       "2           False           False  False            False             False   \n",
       "3           False           False  False            False             False   \n",
       "4           False           False  False            False             False   \n",
       "...           ...             ...    ...              ...               ...   \n",
       "15330       False           False  False            False             False   \n",
       "15331       False           False  False            False             False   \n",
       "15332       False           False  False            False             False   \n",
       "15333       False           False  False            False             False   \n",
       "15334       False           False  False            False             False   \n",
       "\n",
       "       url_inmueble  rooms  bathrooms  surface  price  ...  level5Id  \\\n",
       "0             False  False      False    False  False  ...     False   \n",
       "1             False  False      False     True  False  ...     False   \n",
       "2             False  False      False    False  False  ...     False   \n",
       "3             False  False      False    False  False  ...     False   \n",
       "4             False  False      False    False  False  ...     False   \n",
       "...             ...    ...        ...      ...    ...  ...       ...   \n",
       "15330         False  False      False    False  False  ...     False   \n",
       "15331         False  False      False    False  False  ...     False   \n",
       "15332         False  False      False    False  False  ...     False   \n",
       "15333         False  False      False    False  False  ...     False   \n",
       "15334         False  False      False    False  False  ...     False   \n",
       "\n",
       "       level6Id  level7Id  level8Id  accuracy  latitude  longitude  zipCode  \\\n",
       "0         False     False     False     False     False      False     True   \n",
       "1         False     False     False     False     False      False     True   \n",
       "2         False     False     False     False     False      False     True   \n",
       "3         False     False     False     False     False      False     True   \n",
       "4         False     False     False     False     False      False     True   \n",
       "...         ...       ...       ...       ...       ...        ...      ...   \n",
       "15330     False     False     False     False     False      False     True   \n",
       "15331     False     False     False     False     False      False     True   \n",
       "15332     False     False     False     False     False      False     True   \n",
       "15333     False     False     False     False     False      False     True   \n",
       "15334     False     False     False     False     False      False     True   \n",
       "\n",
       "       customZone  Is_NA  \n",
       "0            True  False  \n",
       "1            True  False  \n",
       "2            True  False  \n",
       "3            True  False  \n",
       "4            True  False  \n",
       "...           ...    ...  \n",
       "15330        True  False  \n",
       "15331        True  False  \n",
       "15332        True  False  \n",
       "15333        True  False  \n",
       "15334        True  False  \n",
       "\n",
       "[15335 rows x 38 columns]"
      ]
     },
     "execution_count": 52,
     "metadata": {},
     "output_type": "execute_result"
    }
   ],
   "source": [
    "# TODO\n",
    "import pandas as pd\n",
    "#dt['Is_NA']= dt.isna           #Crear columna booleana de TRUE & FALSE de los valores nulos\n",
    "nulos = pd.isna(dt).sum()       #Cantidad de valores nulos por columna\n",
    "print(nulos)\n",
    "dt.isna()                       #Booleanos de TRUE(contiene valores nulos) y FALSE(no contiene valores nulos)\n",
    "\n"
   ]
  },
  {
   "attachments": {},
   "cell_type": "markdown",
   "id": "italic-hydrogen",
   "metadata": {},
   "source": [
    "#### Ejercicio 06. Elimina los NAs del data set, si aplica (★★☆)\n",
    "\n",
    "Imprima una comparación entre las dimensiones del DataFrame original versus el DataFrame después de las eliminaciones.\n"
   ]
  },
  {
   "cell_type": "code",
   "execution_count": 73,
   "id": "administrative-roads",
   "metadata": {},
   "outputs": [
    {
     "name": "stdout",
     "output_type": "stream",
     "text": [
      "Dataframe original posee dimensiones de (15275, 37) mientras que dataframe con NAs eliminados posee dimensiones de  (0, 37)\n"
     ]
    }
   ],
   "source": [
    "# TODO\n",
    "import pandas as pd\n",
    "\n",
    "print(f'Dataframe original posee dimensiones de', df.shape, 'mientras que dataframe con NAs eliminados posee dimensiones de ', df.dropna().shape) "
   ]
  },
  {
   "attachments": {},
   "cell_type": "markdown",
   "id": "middle-china",
   "metadata": {},
   "source": [
    "#### Ejercicio 07. ¿Cuál la media de precios en la población (columna level5) de \"Arroyomolinos (Madrid)\"? (★★☆)\n",
    "\n",
    "Imprima el valor obtenido"
   ]
  },
  {
   "cell_type": "code",
   "execution_count": 136,
   "id": "nuclear-belief",
   "metadata": {},
   "outputs": [
    {
     "name": "stdout",
     "output_type": "stream",
     "text": [
      "El promedio de precios en la poblacion de Arroyomolinos (Madrid) es de  294541.6 USD.\n"
     ]
    }
   ],
   "source": [
    "# TODO\n",
    "arroyo = dt[['price','level5']]                             #Filtrar a DF con las columnas necesarias\n",
    "arroyo_mean= arroyo.groupby(['level5']).mean().round(1)     #Agrupar por poblacion, promediar ventas y aproximar para reducir decimales\n",
    "print(f'El promedio de precios en la poblacion de Arroyomolinos (Madrid) es de ', arroyo_mean['price']['Arroyomolinos (Madrid)'] , 'USD.')\n"
   ]
  },
  {
   "attachments": {},
   "cell_type": "markdown",
   "id": "concerned-radical",
   "metadata": {},
   "source": [
    "#### Ejercicio 08. Trazar el histograma de los precios para la población (level5 column) de \"Arroyomolinos (Madrid)\" y explica qué observas (★★☆)\n",
    "\n",
    "Imprime el histograma de los precios y escribe en la celda del Markdown un breve análisis del trazado.\n"
   ]
  },
  {
   "cell_type": "code",
   "execution_count": 150,
   "id": "sudden-message",
   "metadata": {},
   "outputs": [
    {
     "data": {
      "image/png": "[encoded data removed]",
      "text/plain": [
       "<Figure size 640x480 with 1 Axes>"
      ]
     },
     "metadata": {},
     "output_type": "display_data"
    }
   ],
   "source": [
    "# TODO: Code\n",
    "import matplotlib.pyplot as plt\n",
    "\n",
    "arroyo = dt[['price','level5']]                             #Filtrar a DF con las columnas necesarias\n",
    "arroyomolinos = arroyo.set_index('level5')                  #Convertir columna con poblaciones en fila\n",
    "df_arroyo = arroyomolinos.loc['Arroyomolinos (Madrid)']                 #Filtrar poblacion requerida\n",
    "\n",
    "fig, ax = plt.subplots()\n",
    "plt.hist(df_arroyo)\n",
    "plt.show()\n"
   ]
  },
  {
   "attachments": {},
   "cell_type": "markdown",
   "id": "impressed-combination",
   "metadata": {},
   "source": [
    "**TODO: Markdown**. El histograma indica que una abrumadora mayoria de las propiedades de Arroyomolinos (Madrid) tiene un precio entre los 18 mil y los 40 mil dolares. Con escasa presencia de los extremos (reducido numero de propiedades por debajo de los 18 mil dolares y por sobre los 40 mil dolares)."
   ]
  },
  {
   "attachments": {},
   "cell_type": "markdown",
   "id": "actual-edinburgh",
   "metadata": {},
   "source": [
    "#### Ejercicio 09. ¿ Son los precios promedios de \"Valdemorillo\" y \"Galapagar\" los mismos? (★★☆)\n",
    "\n",
    "Imprime ambos promedio y escribe una conclusion acerca de ellos"
   ]
  },
  {
   "cell_type": "code",
   "execution_count": 158,
   "id": "numeric-commerce",
   "metadata": {},
   "outputs": [
    {
     "name": "stdout",
     "output_type": "stream",
     "text": [
      "El promedio de precios en la poblacion de Valdemorrillo es de  363860.3 USD.\n",
      "El promedio de precios en la poblacion de Galapagar es de  360063.2 USD.\n",
      "Ambas poblaciones poseen distinto promedio de precios de vivienda.\n"
     ]
    }
   ],
   "source": [
    "# TODO\n",
    "data_price = dt[['price','level5']]                             #Filtrar a DF con las columnas necesarias\n",
    "data_price_mean= arroyo.groupby(['level5']).mean().round(1)     #Agrupar por poblacion, promediar ventas y reducir decimales\n",
    "\n",
    "print(f'El promedio de precios en la poblacion de Valdemorrillo es de ', data_price_mean['price']['Valdemorillo'] , 'USD.')\n",
    "print(f'El promedio de precios en la poblacion de Galapagar es de ', data_price_mean['price']['Galapagar'] , 'USD.')\n",
    "\n",
    "if data_price_mean['price']['Valdemorillo']== data_price_mean['price']['Galapagar']:\n",
    "    print('Ambas poblaciones poseen el mismo promedio de precios de vivienda.')\n",
    "else:\n",
    "    print('Ambas poblaciones poseen distinto promedio de precios de vivienda.')\n"
   ]
  },
  {
   "attachments": {},
   "cell_type": "markdown",
   "id": "lonely-article",
   "metadata": {},
   "source": [
    "#### Ejercicio 10. ¿Son los promedios de precio por metro cuadrado (price/m2) de \"Valdemorillo\" y \"Galapagar\" los mismos? (★★☆)\n",
    "\n",
    "Imprime ambos promedios de precio y escribe una conclusion acerca de ellos.\n",
    "\n",
    "Pista: Crea una nueva columna llamada `pps` (price per square) y luego analiza los valore.s"
   ]
  },
  {
   "cell_type": "code",
   "execution_count": 79,
   "id": "hourly-globe",
   "metadata": {},
   "outputs": [],
   "source": [
    "# TODO"
   ]
  },
  {
   "attachments": {},
   "cell_type": "markdown",
   "id": "pleasant-invite",
   "metadata": {},
   "source": [
    "#### Ejercicio 11. Analiza la relación entre la superficie y el precio de las casas. (★★☆)\n",
    "\n",
    "Pista: Puedes hacer un `scatter plot` y luego escribir una conclusion al respecto."
   ]
  },
  {
   "cell_type": "code",
   "execution_count": 80,
   "id": "common-drilling",
   "metadata": {},
   "outputs": [],
   "source": [
    "# TODO: Código"
   ]
  },
  {
   "attachments": {},
   "cell_type": "markdown",
   "id": "ahead-liquid",
   "metadata": {},
   "source": [
    "**TODO: Markdown**. Escribe aquí, haz doble click en este celda y elimina este contenido y reemplázalo por el texto que quires escribir. Luego ejecuta la celda."
   ]
  },
  {
   "attachments": {},
   "cell_type": "markdown",
   "id": "coordinate-sunrise",
   "metadata": {},
   "source": [
    "#### Ejercicio 12. ¿Cuántas agencia de bienes raíces contiene el dataset? (★★☆)\n",
    "\n",
    "Imprime el valor obtenido."
   ]
  },
  {
   "cell_type": "code",
   "execution_count": 81,
   "id": "valid-honolulu",
   "metadata": {},
   "outputs": [],
   "source": [
    "# TODO"
   ]
  },
  {
   "attachments": {},
   "cell_type": "markdown",
   "id": "binding-ebony",
   "metadata": {},
   "source": [
    "#### Ejercicio 13. ¿Cuál es la población (columna level5) que contiene la mayor cantidad de casas?(★★☆)\n",
    "\n",
    "Imprima la población y el número de casas."
   ]
  },
  {
   "cell_type": "code",
   "execution_count": 82,
   "id": "static-perry",
   "metadata": {},
   "outputs": [],
   "source": [
    "# TODO"
   ]
  },
  {
   "attachments": {},
   "cell_type": "markdown",
   "id": "entire-classification",
   "metadata": {},
   "source": [
    "#### Ejercicio 14. Ahora vamos a trabajar con el \"cinturón sur\" de Madrid. Has un subconjunto del Dataframe original que contenga las siguientes poblaciones (columna level5): \"Fuenlabrada\",\"Leganés\",\"Getafe\",\"Alcorcón\" (★★☆)\n",
    "\n",
    "Pista: Filtra el Dataframe original usando la columna `level5` y la función `isin`"
   ]
  },
  {
   "cell_type": "code",
   "execution_count": 83,
   "id": "binary-input",
   "metadata": {},
   "outputs": [],
   "source": [
    "# TODO"
   ]
  },
  {
   "attachments": {},
   "cell_type": "markdown",
   "id": "severe-fisher",
   "metadata": {},
   "source": [
    "#### Ejercicio 15. Traza un gráfico de barra de la media de los precios y explica lo que observas (debes usar el subconjunto obtenido de la pregunta 14) (★★★)\n",
    "\n",
    "Imprima un gráfico de barra de la media de precios y escriba en la celda Markdown un breve análisis del sector."
   ]
  },
  {
   "cell_type": "code",
   "execution_count": 84,
   "id": "lyric-bunch",
   "metadata": {},
   "outputs": [],
   "source": [
    "# TODO: Code"
   ]
  },
  {
   "attachments": {},
   "cell_type": "markdown",
   "id": "sublime-newspaper",
   "metadata": {},
   "source": [
    "**TODO: Markdown**. Para escribir aquí, has doble click en esta celda, elimina este contenido y coloca en su lugar el texto que quieres escribir. Luego, ejecuta la celda."
   ]
  },
  {
   "attachments": {},
   "cell_type": "markdown",
   "id": "speaking-diamond",
   "metadata": {},
   "source": [
    "#### Ejercicio 16. Calcula la media y la varianza dela muestra para las siguientes variables: precio, habitaciones, superficie y baños (debes usar el subconjunto obtenido en la pregunta 14) (★★★)\n",
    "\n",
    "Imprime ambos valores por  cada variable."
   ]
  },
  {
   "cell_type": "code",
   "execution_count": 85,
   "id": "random-feeling",
   "metadata": {},
   "outputs": [],
   "source": [
    "# TODO"
   ]
  },
  {
   "attachments": {},
   "cell_type": "markdown",
   "id": "revolutionary-matrix",
   "metadata": {},
   "source": [
    "#### Exercise 17. What is the most expensive house of each population? You must use the subset obtained in the question 14 (★★☆)\n",
    "\n",
    "Print both the address and the price of the selected house of each population. You can print a DataFrame or a single line for each population"
   ]
  },
  {
   "cell_type": "code",
   "execution_count": 86,
   "id": "fifteen-browse",
   "metadata": {},
   "outputs": [],
   "source": [
    "# TODO"
   ]
  },
  {
   "attachments": {},
   "cell_type": "markdown",
   "id": "activated-knight",
   "metadata": {},
   "source": [
    "#### Exercise 18. Normalize the variable of prices for each population and plot the 4 histograms in the same plot (you must use the subset obtained in the question 14) (★★★)\n",
    "\n",
    "For the normalization method you can use the one you consider to, there is not a single correct answer to this question. Print the plot and write in the Markdown cell a brief analysis about the plot\n",
    "\n",
    "Hint: You can help yourself reviewing the multihist demo of Matplotlib"
   ]
  },
  {
   "cell_type": "code",
   "execution_count": 87,
   "id": "civic-meditation",
   "metadata": {},
   "outputs": [],
   "source": [
    "# TODO"
   ]
  },
  {
   "attachments": {},
   "cell_type": "markdown",
   "id": "precise-heavy",
   "metadata": {},
   "source": [
    "**TODO: Markdown**. To write here, double click to this cell and just remove this content and place the text you want to write. Then, execute the cell."
   ]
  },
  {
   "attachments": {},
   "cell_type": "markdown",
   "id": "patent-jonathan",
   "metadata": {},
   "source": [
    "#### Exercise 19. What can you say about the price per square meter (price/m2) between the towns of \"Getafe\" and \"Alcorcón\"? You must use the subset obtained in the question 14 (★★☆)\n",
    "\n",
    "Hint: Create a new column called `pps` (price per square) and then analyse the values"
   ]
  },
  {
   "cell_type": "code",
   "execution_count": 88,
   "id": "initial-liverpool",
   "metadata": {},
   "outputs": [],
   "source": [
    "# TODO"
   ]
  },
  {
   "attachments": {},
   "cell_type": "markdown",
   "id": "enhanced-moscow",
   "metadata": {},
   "source": [
    "#### Exercise 20. Make the same plot for 4 different populations (level5 column) and rearrange them on the same graph? You must use the subset obtained in the question 14 (★★☆) \n",
    "Hint: make a scatter plot of each population using subplots."
   ]
  },
  {
   "cell_type": "code",
   "execution_count": 89,
   "id": "accepting-airfare",
   "metadata": {},
   "outputs": [],
   "source": [
    "# TODO"
   ]
  },
  {
   "attachments": {},
   "cell_type": "markdown",
   "id": "blocked-effects",
   "metadata": {},
   "source": [
    "#### Ejercicio 21. Realiza un trazado de las coordenadas (columnas latitud y longitud) del cinturón ur de Madrid por color d cada población (debes usar el subconjunto obtenido en la pregunta 14) (★★★★)\n",
    "\n",
    "Ejecuta la siguiente celda y luego comienza a codear en la siguiente. Debes implementar u código simple que transforme las columnas de coordenadas en un diccionario de python (agrega más información si es necesario) y agrégala al mapa."
   ]
  },
  {
   "cell_type": "code",
   "execution_count": 90,
   "id": "headed-privacy",
   "metadata": {},
   "outputs": [
    {
     "ename": "AttributeError",
     "evalue": "Stamen",
     "output_type": "error",
     "traceback": [
      "\u001b[0;31m---------------------------------------------------------------------------\u001b[0m",
      "\u001b[0;31mKeyError\u001b[0m                                  Traceback (most recent call last)",
      "File \u001b[0;32m~/.local/lib/python3.11/site-packages/xyzservices/lib.py:44\u001b[0m, in \u001b[0;36mBunch.__getattr__\u001b[0;34m(self, key)\u001b[0m\n\u001b[1;32m     43\u001b[0m \u001b[38;5;28;01mtry\u001b[39;00m:\n\u001b[0;32m---> 44\u001b[0m     \u001b[38;5;28;01mreturn\u001b[39;00m \u001b[38;5;28;43mself\u001b[39;49m\u001b[38;5;241;43m.\u001b[39;49m\u001b[38;5;21;43m__getitem__\u001b[39;49m\u001b[43m(\u001b[49m\u001b[43mkey\u001b[49m\u001b[43m)\u001b[49m\n\u001b[1;32m     45\u001b[0m \u001b[38;5;28;01mexcept\u001b[39;00m \u001b[38;5;167;01mKeyError\u001b[39;00m \u001b[38;5;28;01mas\u001b[39;00m err:\n",
      "\u001b[0;31mKeyError\u001b[0m: 'Stamen'",
      "\nThe above exception was the direct cause of the following exception:\n",
      "\u001b[0;31mAttributeError\u001b[0m                            Traceback (most recent call last)",
      "Cell \u001b[0;32mIn[90], line 6\u001b[0m\n\u001b[1;32m      1\u001b[0m \u001b[38;5;28;01mfrom\u001b[39;00m \u001b[38;5;21;01mipyleaflet\u001b[39;00m \u001b[38;5;28;01mimport\u001b[39;00m Map, basemaps\n\u001b[1;32m      3\u001b[0m \u001b[38;5;66;03m# Mapa centrado en (60 grados latitud et -2.2 grados longitud)\u001b[39;00m\n\u001b[1;32m      4\u001b[0m \u001b[38;5;66;03m# Latitud, longitud\u001b[39;00m\n\u001b[1;32m      5\u001b[0m \u001b[38;5;28mmap\u001b[39m \u001b[38;5;241m=\u001b[39m Map(center \u001b[38;5;241m=\u001b[39m (\u001b[38;5;241m60\u001b[39m, \u001b[38;5;241m-\u001b[39m\u001b[38;5;241m2.2\u001b[39m), zoom \u001b[38;5;241m=\u001b[39m \u001b[38;5;241m2\u001b[39m, min_zoom \u001b[38;5;241m=\u001b[39m \u001b[38;5;241m1\u001b[39m, max_zoom \u001b[38;5;241m=\u001b[39m \u001b[38;5;241m20\u001b[39m, \n\u001b[0;32m----> 6\u001b[0m     basemap\u001b[38;5;241m=\u001b[39m\u001b[43mbasemaps\u001b[49m\u001b[38;5;241;43m.\u001b[39;49m\u001b[43mStamen\u001b[49m\u001b[38;5;241m.\u001b[39mTerrain)\n\u001b[1;32m      7\u001b[0m \u001b[38;5;28mmap\u001b[39m\n",
      "File \u001b[0;32m~/.local/lib/python3.11/site-packages/xyzservices/lib.py:46\u001b[0m, in \u001b[0;36mBunch.__getattr__\u001b[0;34m(self, key)\u001b[0m\n\u001b[1;32m     44\u001b[0m     \u001b[38;5;28;01mreturn\u001b[39;00m \u001b[38;5;28mself\u001b[39m\u001b[38;5;241m.\u001b[39m\u001b[38;5;21m__getitem__\u001b[39m(key)\n\u001b[1;32m     45\u001b[0m \u001b[38;5;28;01mexcept\u001b[39;00m \u001b[38;5;167;01mKeyError\u001b[39;00m \u001b[38;5;28;01mas\u001b[39;00m err:\n\u001b[0;32m---> 46\u001b[0m     \u001b[38;5;28;01mraise\u001b[39;00m \u001b[38;5;167;01mAttributeError\u001b[39;00m(key) \u001b[38;5;28;01mfrom\u001b[39;00m \u001b[38;5;21;01merr\u001b[39;00m\n",
      "\u001b[0;31mAttributeError\u001b[0m: Stamen"
     ]
    }
   ],
   "source": [
    "from ipyleaflet import Map, basemaps\n",
    "\n",
    "# Mapa centrado en (60 grados latitud et -2.2 grados longitud)\n",
    "# Latitud, longitud\n",
    "map = Map(center = (60, -2.2), zoom = 2, min_zoom = 1, max_zoom = 20, \n",
    "    basemap=basemaps.Stamen.Terrain)\n",
    "map"
   ]
  },
  {
   "cell_type": "code",
   "execution_count": null,
   "id": "present-mistress",
   "metadata": {},
   "outputs": [],
   "source": [
    "## Aquí: traza la coordenadas de los estados\n",
    "\n",
    "## PON TU CÓDIGO AQUÍ:\n"
   ]
  }
 ],
 "metadata": {
  "kernelspec": {
   "display_name": "Python 3",
   "language": "python",
   "name": "python3"
  },
  "language_info": {
   "codemirror_mode": {
    "name": "ipython",
    "version": 3
   },
   "file_extension": ".py",
   "mimetype": "text/x-python",
   "name": "python",
   "nbconvert_exporter": "python",
   "pygments_lexer": "ipython3",
   "version": "3.11.4"
  }
 },
 "nbformat": 4,
 "nbformat_minor": 5
}
